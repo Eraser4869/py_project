{
 "cells": [
  {
   "cell_type": "code",
   "execution_count": null,
   "id": "1ae0a396",
   "metadata": {},
   "outputs": [
    {
     "name": "stdout",
     "output_type": "stream",
     "text": [
      "hi hello how r u\n",
      "100\n"
     ]
    }
   ],
   "source": [
    "print('hi hello how r u')\n",
    "print(100)"
   ]
  },
  {
   "cell_type": "code",
   "execution_count": 7,
   "id": "57f29484",
   "metadata": {},
   "outputs": [
    {
     "name": "stdout",
     "output_type": "stream",
     "text": [
      "10\n"
     ]
    }
   ],
   "source": [
    "#변수 => 데이터를 저장(플래시 메모리) 하는 방식\n",
    "#변수 이름(식별자) = 값(데이터: 숫자, 문자열, 논리값(True,False), 객체)\n",
    "#변수에는 데이터를 저장하고 있는 메모리의 주소값(레퍼런스)을 저장\n",
    "num=10\n",
    "\n",
    "print(num)"
   ]
  },
  {
   "cell_type": "code",
   "execution_count": 10,
   "id": "2b634bdf",
   "metadata": {},
   "outputs": [
    {
     "name": "stdout",
     "output_type": "stream",
     "text": [
      "140704834536648\n"
     ]
    }
   ],
   "source": [
    "print(id(num))\n"
   ]
  },
  {
   "cell_type": "code",
   "execution_count": 12,
   "id": "ffa94a8b",
   "metadata": {},
   "outputs": [
    {
     "data": {
      "text/plain": [
       "110"
      ]
     },
     "execution_count": 12,
     "metadata": {},
     "output_type": "execute_result"
    }
   ],
   "source": [
    "num+100"
   ]
  },
  {
   "cell_type": "code",
   "execution_count": 13,
   "id": "05aefe5c",
   "metadata": {},
   "outputs": [],
   "source": [
    "# 변수 = 데이터\n",
    "# 데이터 => 숫자, 문자, 논리값\n",
    "# 숫자 => 정수, 실수\n",
    "num1=10\n",
    "num2=3.14\n"
   ]
  },
  {
   "cell_type": "code",
   "execution_count": 17,
   "id": "8ee76c54",
   "metadata": {},
   "outputs": [
    {
     "name": "stdout",
     "output_type": "stream",
     "text": [
      "<class 'int'>\n",
      "<class 'float'>\n"
     ]
    }
   ],
   "source": [
    "print(type(num1))\n",
    "print(type(num2))"
   ]
  },
  {
   "cell_type": "code",
   "execution_count": 19,
   "id": "0fdd2ac7",
   "metadata": {},
   "outputs": [
    {
     "name": "stdout",
     "output_type": "stream",
     "text": [
      "hello\n",
      "<class 'str'>\n"
     ]
    }
   ],
   "source": [
    "num3='hello'\n",
    "print(num3)\n",
    "print(type(num3))"
   ]
  },
  {
   "cell_type": "code",
   "execution_count": 21,
   "id": "17f1dad0",
   "metadata": {},
   "outputs": [
    {
     "name": "stdout",
     "output_type": "stream",
     "text": [
      "True\n",
      "False\n"
     ]
    }
   ],
   "source": [
    "#논리값: True, False\n",
    "check1=True\n",
    "check2=False\n",
    "\n",
    "print(check1)\n",
    "print(check2)"
   ]
  },
  {
   "cell_type": "code",
   "execution_count": 23,
   "id": "9c6df33a",
   "metadata": {},
   "outputs": [
    {
     "name": "stdout",
     "output_type": "stream",
     "text": [
      "<class 'bool'> <class 'bool'>\n"
     ]
    }
   ],
   "source": [
    "print(type(check1), type(check2))\n"
   ]
  },
  {
   "cell_type": "code",
   "execution_count": null,
   "id": "3efe3cf0",
   "metadata": {},
   "outputs": [],
   "source": [
    "a='python'\n",
    "a.upper()\n",
    "# 주소값.메서드()"
   ]
  },
  {
   "cell_type": "code",
   "execution_count": 25,
   "id": "600ae605",
   "metadata": {},
   "outputs": [],
   "source": [
    "# 문자열 생성\n",
    "#'',\"\",''' ''', \"\"\" \"\"\"\n",
    "a='hello'\n",
    "b=\"hi\"\n",
    "c='''1st line\n",
    "hi\n",
    "nice to meet u\n",
    "'''\n",
    "d=\"\"\" \n",
    "selsect *\n",
    "from emp\n",
    "where empno=10\n",
    "\"\"\"\n"
   ]
  },
  {
   "cell_type": "code",
   "execution_count": 26,
   "id": "81bb059d",
   "metadata": {},
   "outputs": [
    {
     "name": "stdout",
     "output_type": "stream",
     "text": [
      "hello <class 'str'>\n",
      "hi <class 'str'>\n",
      "1st line\n",
      "hi\n",
      "nice to meet u\n",
      " <class 'str'>\n",
      " \n",
      "selsect *\n",
      "from emp\n",
      "where empno=10\n",
      " <class 'str'>\n"
     ]
    }
   ],
   "source": [
    "print(a, type(a))\n",
    "print(b, type(b))\n",
    "print(c, type(c))\n",
    "print(d, type(d))"
   ]
  },
  {
   "cell_type": "code",
   "execution_count": 29,
   "id": "9d91ad06",
   "metadata": {},
   "outputs": [
    {
     "name": "stdout",
     "output_type": "stream",
     "text": [
      "hello world\n",
      "==========\n"
     ]
    }
   ],
   "source": [
    "# 문자열의 연산 =>\n",
    "# 사칙연산 X => +(연결), *(반복)\n",
    "\n",
    "print('hello'+' world')\n",
    "print('='*10)"
   ]
  },
  {
   "cell_type": "code",
   "execution_count": 33,
   "id": "4a03c877",
   "metadata": {},
   "outputs": [
    {
     "name": "stdout",
     "output_type": "stream",
     "text": [
      "3\n"
     ]
    }
   ],
   "source": [
    "# 함수: 데이터 전달시 처리(연산) => 값 반환]\n",
    "# 문자열의 길이 반환 함수 : len(변수: 시퀀스 데이터)\n",
    "a='100'\n",
    "print(len(a))"
   ]
  },
  {
   "cell_type": "code",
   "execution_count": null,
   "id": "d25fa3c1",
   "metadata": {},
   "outputs": [
    {
     "name": "stdout",
     "output_type": "stream",
     "text": [
      "hello~\n"
     ]
    }
   ],
   "source": [
    "# 문자열: 시퀀스 데이터 =>  순서 존재\n",
    "# 시퀀스 데이터들의 구분은 index 값으로 한다.\n",
    "# hello => ['h', 'e', 'l', 'l', 'o']\n",
    "# index =>   0 ,  1 ,  2 ,  3 ,  4   => 0 ~ n-1\n",
    "\n",
    "# 문자열의 슬라이싱\n",
    "# s[시작 index : 종료 index] => 종료 index 값 비포함함 추출\n",
    "a= 'hello~ python!!'\n",
    "print(a[0:6])"
   ]
  },
  {
   "cell_type": "code",
   "execution_count": 39,
   "id": "6cdf4396",
   "metadata": {},
   "outputs": [
    {
     "name": "stdout",
     "output_type": "stream",
     "text": [
      "hi I am world class sonny, 30 years old\n"
     ]
    }
   ],
   "source": [
    "# 문자열 포맷팅\n",
    "# 파이썬 3.6 이후 접두사 f 붙이거 포매팅 ex) f''\n",
    "\n",
    "user_name ='sonny'\n",
    "user_age = 30\n",
    "print(f'hi I am world class {user_name}, {user_age} years old')"
   ]
  },
  {
   "cell_type": "code",
   "execution_count": 40,
   "id": "8bac8d41",
   "metadata": {},
   "outputs": [
    {
     "name": "stdout",
     "output_type": "stream",
     "text": [
      "내년에는 31세... 은퇴해야죠\n"
     ]
    }
   ],
   "source": [
    "print(f'내년에는 {user_age+1}세... 은퇴해야죠')"
   ]
  },
  {
   "cell_type": "code",
   "execution_count": 43,
   "id": "c21b7267",
   "metadata": {},
   "outputs": [
    {
     "name": "stdout",
     "output_type": "stream",
     "text": [
      "2\n"
     ]
    }
   ],
   "source": [
    "# 복합 연산자\n",
    "num=1\n",
    "num += 1 #num=num+1\n",
    "print(num)"
   ]
  },
  {
   "cell_type": "markdown",
   "id": "253dd4a2",
   "metadata": {},
   "source": [
    "### 연습문제1\n",
    "과목별 점수, 총점, 평균 출력\n",
    "\n",
    "과목: 국어, 영어, 수학"
   ]
  },
  {
   "cell_type": "code",
   "execution_count": 51,
   "id": "5fce7ac6",
   "metadata": {},
   "outputs": [
    {
     "name": "stdout",
     "output_type": "stream",
     "text": [
      "성적은 다음과 같습니다. \n",
      "      국어: 80, 영어: 90, 수학: 85\n",
      "      총점: 255, 평균: 85.0\n",
      "\n"
     ]
    }
   ],
   "source": [
    "kor_score=80\n",
    "eng_score=90\n",
    "math_score=85\n",
    "\n",
    "sum=kor_score+eng_score+math_score\n",
    "avg=sum/3\n",
    "\n",
    "print(f'''성적은 다음과 같습니다. \n",
    "      국어: {kor_score}, 영어: {eng_score}, 수학: {math_score}\n",
    "      총점: {sum}, 평균: {avg}\n",
    "''')"
   ]
  },
  {
   "cell_type": "markdown",
   "id": "d0209abc",
   "metadata": {},
   "source": [
    "### 연습문제 2\n",
    "성별이 남성이고,성인(18세 이상)인 대상 판별"
   ]
  },
  {
   "cell_type": "code",
   "execution_count": 54,
   "id": "89f26b47",
   "metadata": {},
   "outputs": [
    {
     "name": "stdout",
     "output_type": "stream",
     "text": [
      "성인 남성 체크:  True\n"
     ]
    }
   ],
   "source": [
    "gender='M' #성별 M, F\n",
    "age=20\n",
    "\n",
    "check = gender=='M' and age>=18\n",
    "\n",
    "print('성인 남성 체크: ', check)"
   ]
  },
  {
   "cell_type": "code",
   "execution_count": 1,
   "id": "60830c51",
   "metadata": {},
   "outputs": [
    {
     "name": "stdout",
     "output_type": "stream",
     "text": [
      "[1, 2, 3] <class 'list'>\n"
     ]
    }
   ],
   "source": [
    "# list: [] => 순서를 가지는 가변성 데이터 묶음\n",
    "# index 값으로 요소 참조 \n",
    "\n",
    "list_a=[1,2,3]\n",
    "# index 0,1,2\n",
    "# 요소의 갯수: 3개\n",
    "\n",
    "print(list_a, type(list_a))"
   ]
  },
  {
   "cell_type": "code",
   "execution_count": 2,
   "id": "e04647b4",
   "metadata": {},
   "outputs": [
    {
     "name": "stdout",
     "output_type": "stream",
     "text": [
      "1 2\n",
      "[1, 2, 4]\n"
     ]
    }
   ],
   "source": [
    "# 요소 참조\n",
    "print(list_a[0], list_a[1])\n",
    "\n",
    "list_a[2]=4\n",
    "\n",
    "print(list_a)"
   ]
  },
  {
   "cell_type": "code",
   "execution_count": 3,
   "id": "a26379a9",
   "metadata": {},
   "outputs": [
    {
     "name": "stdout",
     "output_type": "stream",
     "text": [
      "3\n"
     ]
    }
   ],
   "source": [
    "print(list_a[0] + list_a[1])"
   ]
  },
  {
   "cell_type": "code",
   "execution_count": null,
   "id": "0a760821",
   "metadata": {},
   "outputs": [
    {
     "data": {
      "text/plain": [
       "4"
      ]
     },
     "execution_count": 6,
     "metadata": {},
     "output_type": "execute_result"
    }
   ],
   "source": [
    "list_a[-2]\n",
    "\n",
    "list_a[len(list_a)-1] #마지막 index 찾기기\n"
   ]
  },
  {
   "cell_type": "code",
   "execution_count": 7,
   "id": "00c73160",
   "metadata": {},
   "outputs": [
    {
     "name": "stdout",
     "output_type": "stream",
     "text": [
      "b\n"
     ]
    }
   ],
   "source": [
    "list_b = [1,2,3,['a','b','c']]\n",
    "print(list_b[3][1])"
   ]
  },
  {
   "cell_type": "code",
   "execution_count": 11,
   "id": "fd1b3e44",
   "metadata": {},
   "outputs": [
    {
     "data": {
      "text/plain": [
       "[1, 2, 3, 4, 5]"
      ]
     },
     "execution_count": 11,
     "metadata": {},
     "output_type": "execute_result"
    }
   ],
   "source": [
    "list_c=[1,2,3,4,5]\n",
    "\n",
    "list_c[1:4]\n",
    "list_c[:4]\n",
    "list_c[1:]\n",
    "list_c[:] #list_c"
   ]
  },
  {
   "cell_type": "code",
   "execution_count": 14,
   "id": "247fd8be",
   "metadata": {},
   "outputs": [
    {
     "data": {
      "text/plain": [
       "[100, 200, 300, 1, 2, 3, 4, 5]"
      ]
     },
     "execution_count": 14,
     "metadata": {},
     "output_type": "execute_result"
    }
   ],
   "source": [
    "#list의 연산: +, *\n",
    "list_d = [100,200,300]\n",
    "list_c+list_d #새로운 리스트\n",
    "list_d+list_c #새로운 리스트트"
   ]
  },
  {
   "cell_type": "code",
   "execution_count": 16,
   "id": "b524ef8b",
   "metadata": {},
   "outputs": [
    {
     "data": {
      "text/plain": [
       "[100, 200, 300, 100, 200, 300, 100, 200, 300]"
      ]
     },
     "execution_count": 16,
     "metadata": {},
     "output_type": "execute_result"
    }
   ],
   "source": [
    "# *:리스트의 요소를 n번 반복하여 새로운 리스트 생성\n",
    "list_d*3"
   ]
  },
  {
   "cell_type": "code",
   "execution_count": 19,
   "id": "bcfa37e7",
   "metadata": {},
   "outputs": [
    {
     "name": "stdout",
     "output_type": "stream",
     "text": [
      "[2, 3, 100]\n"
     ]
    }
   ],
   "source": [
    "#리스트에 요소(데이터) 추가: 순서 => 마지막 인덱스 다음에 추가\n",
    "#append(): 리스트의 마지막에 데이터를 추가하는 메서드\n",
    "#객체안에 있는 함수는 method라고 부른다.\n",
    "\n",
    "list_a =[1,2,3]\n",
    "\n",
    "list_a.append(100)\n",
    "\n",
    "\n",
    "#pop(): 입력한 인덱스의 요소 축출. 기본값 -1 (마지막 요소) => 삭제 및 반환\n",
    "list_a.pop(0)\n",
    "\n",
    "print(list_a)"
   ]
  },
  {
   "cell_type": "code",
   "execution_count": null,
   "id": "4d797ce9",
   "metadata": {},
   "outputs": [
    {
     "name": "stdout",
     "output_type": "stream",
     "text": [
      "[10, 9, 4, 2, 1]\n"
     ]
    }
   ],
   "source": [
    "list_a=[1,4,9,2,10]\n",
    "\n",
    "list_a.sort()#오름차순 정렬\n",
    "\n",
    "list_a.reverse()#역정렬렬\n",
    "\n",
    "print(list_a)"
   ]
  },
  {
   "cell_type": "code",
   "execution_count": 23,
   "id": "af10b756",
   "metadata": {},
   "outputs": [],
   "source": [
    "list_a.index(1) #인덱스 값 확인\n",
    "list_a.insert(1,100) #n 인덱스 좌측에 값 삽입"
   ]
  },
  {
   "cell_type": "code",
   "execution_count": null,
   "id": "7200b5ec",
   "metadata": {},
   "outputs": [
    {
     "name": "stdout",
     "output_type": "stream",
     "text": [
      "[10, 100, 9, 4, 2, 1, 100, 200, 300, 100, 200, 300, 100, 200, 300]\n"
     ]
    }
   ],
   "source": [
    "list_a.extend(list_d)\n",
    "\n",
    "#덧셈과 비슷해 보이지만, extend() 메서드는 list_a의 값 자체를 가공\n",
    "\n",
    "\n",
    "print(list_a)"
   ]
  },
  {
   "cell_type": "code",
   "execution_count": 33,
   "id": "ccd7744c",
   "metadata": {},
   "outputs": [
    {
     "name": "stdout",
     "output_type": "stream",
     "text": [
      "<class 'tuple'>\n",
      "(2, 3)\n"
     ]
    }
   ],
   "source": [
    "#tuple : list와 동일하나, 데이터 수정 불가능 (데이터 유지)\n",
    "t1=()\n",
    "print(type(t1))\n",
    "\n",
    "t2=(1,2,3,4)\n",
    "t3=10,20,30,40\n",
    "\n",
    "\n",
    "print(t2[1:3])\n",
    "\n"
   ]
  },
  {
   "cell_type": "code",
   "execution_count": 34,
   "id": "27f13ec6",
   "metadata": {},
   "outputs": [
    {
     "name": "stdout",
     "output_type": "stream",
     "text": [
      "{1: 'a'}\n",
      "<class 'dict'>\n"
     ]
    }
   ],
   "source": [
    "dict2 = {1: 'a'}\n",
    "print(dict2)\n",
    "print(type(dict2))"
   ]
  },
  {
   "cell_type": "code",
   "execution_count": 39,
   "id": "a785635f",
   "metadata": {},
   "outputs": [
    {
     "name": "stdout",
     "output_type": "stream",
     "text": [
      "{1: 'a', 2: 'b', 3: (1, 2, 3)}\n",
      "{1: 'a', 2: 'b'}\n"
     ]
    }
   ],
   "source": [
    "#dict 요소값 추가 => key와 요소값을 추가\n",
    "\n",
    "dict2[2] = 'b'\n",
    "dict2[3] = (1,2,3)\n",
    "\n",
    "print(dict2)\n",
    "\n",
    "del dict2[3]\n",
    "\n",
    "print(dict2)\n"
   ]
  },
  {
   "cell_type": "code",
   "execution_count": 42,
   "id": "abfa0c2f",
   "metadata": {},
   "outputs": [
    {
     "name": "stdout",
     "output_type": "stream",
     "text": [
      "{0: {'s_no': 1111, 's_name': 'king', 'grade': 4, 'major': 'IT'}, 1: {'s_no': 2222, 's_name': 'queen', 'grade': 3, 'major': 'BA'}}\n"
     ]
    }
   ],
   "source": [
    "# 학생: 학번, 이름, 학년, 학과\n",
    "\n",
    "dict_student = {}\n",
    "\n",
    "student1={\n",
    "    's_no' : 1111,\n",
    "    's_name': 'king',\n",
    "    'grade': 4,\n",
    "    'major': 'IT'\n",
    "}\n",
    "\n",
    "dict_student[0]=student1\n",
    "\n",
    "\n",
    "student2={\n",
    "    's_no' : 2222,\n",
    "    's_name': 'queen',\n",
    "    'grade': 3,\n",
    "    'major': 'BA'\n",
    "}\n",
    "\n",
    "dict_student[1]=student2\n",
    "\n",
    "print(dict_student)"
   ]
  },
  {
   "cell_type": "code",
   "execution_count": null,
   "id": "42880775",
   "metadata": {},
   "outputs": [
    {
     "data": {
      "text/plain": [
       "True"
      ]
     },
     "execution_count": 45,
     "metadata": {},
     "output_type": "execute_result"
    }
   ],
   "source": [
    "player = {\n",
    "'team': 'TO',\n",
    "'name':'Son',\n",
    "'number':3\n",
    "}\n",
    "\n",
    "list(player.keys())\n",
    "\n",
    "'name' in player\n",
    "\n",
    "'age' in player\n"
   ]
  },
  {
   "cell_type": "code",
   "execution_count": 47,
   "id": "701f8941",
   "metadata": {},
   "outputs": [
    {
     "data": {
      "text/plain": [
       "'Son'"
      ]
     },
     "execution_count": 47,
     "metadata": {},
     "output_type": "execute_result"
    }
   ],
   "source": [
    "player.get('name')"
   ]
  },
  {
   "cell_type": "code",
   "execution_count": 49,
   "id": "71c3c4ed",
   "metadata": {},
   "outputs": [],
   "source": [
    "player.get('pos')\n",
    "#부른 값이 없더라도 에러를 생성하지 않는다.\n",
    "\n",
    "pos=player.get('pos')\n",
    "#이 식으로 빈 값을 확인하면 None이 할당 되는 것을 알 수 있다.\n",
    "\n"
   ]
  },
  {
   "cell_type": "code",
   "execution_count": null,
   "id": "9036939a",
   "metadata": {},
   "outputs": [
    {
     "name": "stdout",
     "output_type": "stream",
     "text": [
      "no pos\n"
     ]
    }
   ],
   "source": [
    "pos1=player.get('pos', 'no pos')\n",
    "\n",
    "#값이 없을 때 기본값으로 no pos 같이 원하는 것을 할당 가능능\n",
    "\n",
    "print(pos1)\n"
   ]
  },
  {
   "cell_type": "code",
   "execution_count": 52,
   "id": "6f156bdd",
   "metadata": {},
   "outputs": [
    {
     "name": "stdout",
     "output_type": "stream",
     "text": [
      "[1, 2, 3, 4, 5]\n"
     ]
    }
   ],
   "source": [
    "#set : 집합 => 중복x 순서x 집합 연산 사용\n",
    "s1 = set([1,2,3,4,1,2,5])\n",
    "s2= set('hello')\n",
    "\n",
    "list1=list(s1)\n",
    "\n",
    "print(list1)\n",
    "\n",
    "\n"
   ]
  },
  {
   "cell_type": "code",
   "execution_count": 62,
   "id": "cc336c75",
   "metadata": {},
   "outputs": [
    {
     "name": "stdout",
     "output_type": "stream",
     "text": [
      "{4, 5, 6}\n",
      "{1, 2, 3, 4, 5, 6, 7, 8, 9}\n",
      "{1, 2, 3}\n"
     ]
    }
   ],
   "source": [
    "set2=set([1,2,3,4,5,6])\n",
    "set3=set([4,5,6,7,8,9])\n",
    "\n",
    "print(set2&set3)\n",
    "#교집합\n",
    "\n",
    "print(set2|set3)\n",
    "#합집합\n",
    "\n",
    "print(set2-set3)\n",
    "#차집합"
   ]
  },
  {
   "cell_type": "code",
   "execution_count": 65,
   "id": "194c0b0f",
   "metadata": {},
   "outputs": [
    {
     "name": "stdout",
     "output_type": "stream",
     "text": [
      "{1, 2, 3, 4, 5, 6, 7, 8}\n"
     ]
    }
   ],
   "source": [
    "#set에서 데이터 추가 (중복x) 삭제\n",
    "\n",
    "set2.add(7)\n",
    "print(set2)\n"
   ]
  },
  {
   "cell_type": "code",
   "execution_count": 67,
   "id": "50e54ff8",
   "metadata": {},
   "outputs": [
    {
     "name": "stdout",
     "output_type": "stream",
     "text": [
      "{1, 2, 3, 4, 5, 6, 8}\n",
      "{1, 2, 3, 4, 5, 6, 7, 8}\n"
     ]
    }
   ],
   "source": [
    "set2.remove(7)\n",
    "\n",
    "\n",
    "print(set2)\n",
    "\n",
    "set2.update([1,1,3,4,7,8])\n",
    "\n",
    "print(set2)\n",
    "\n"
   ]
  },
  {
   "cell_type": "code",
   "execution_count": 72,
   "id": "b91b2a46",
   "metadata": {},
   "outputs": [
    {
     "name": "stdout",
     "output_type": "stream",
     "text": [
      "welcome\n",
      "lets start the game\n"
     ]
    }
   ],
   "source": [
    "#if\n",
    "age=20\n",
    "\n",
    "if age>=18:\n",
    "    print('welcome')\n",
    "    print('lets start the game')\n",
    "else:\n",
    "    print('bye A minor')\n",
    "\n"
   ]
  },
  {
   "cell_type": "code",
   "execution_count": 81,
   "id": "854fab5b",
   "metadata": {},
   "outputs": [
    {
     "name": "stdout",
     "output_type": "stream",
     "text": [
      "even number\n"
     ]
    }
   ],
   "source": [
    "#홀짝 판단\n",
    "num=10\n",
    "\n",
    "if num%2==0:\n",
    "    print('even number')\n",
    "else:\n",
    "    print('odd number')\n"
   ]
  },
  {
   "cell_type": "code",
   "execution_count": 86,
   "id": "33b64729",
   "metadata": {},
   "outputs": [
    {
     "name": "stdout",
     "output_type": "stream",
     "text": [
      "positive number\n"
     ]
    }
   ],
   "source": [
    "#음수 양수 판단\n",
    "num1=20\n",
    "\n",
    "if num1>0:\n",
    "    print('positive number')\n",
    "elif num1<0:\n",
    "    print('negative number')\n",
    "else:\n",
    "    print('0')"
   ]
  },
  {
   "cell_type": "code",
   "execution_count": 88,
   "id": "ec551bfd",
   "metadata": {},
   "outputs": [
    {
     "name": "stdout",
     "output_type": "stream",
     "text": [
      "Fale\n"
     ]
    }
   ],
   "source": [
    "#운전면허 시험\n",
    "score=79\n",
    "check_msg='PASS' if score>=80 else 'Fale'\n",
    "\n",
    "print(check_msg)"
   ]
  },
  {
   "cell_type": "code",
   "execution_count": null,
   "id": "44ce3381",
   "metadata": {},
   "outputs": [
    {
     "name": "stdout",
     "output_type": "stream",
     "text": [
      "Fail\n"
     ]
    }
   ],
   "source": [
    "check_msg = 'PASS'\n",
    "\n",
    "if score <80:\n",
    "    check_msg='FAIL'\n",
    "\n",
    "print(check_msg)"
   ]
  },
  {
   "cell_type": "code",
   "execution_count": null,
   "id": "02b793cc",
   "metadata": {},
   "outputs": [
    {
     "name": "stdout",
     "output_type": "stream",
     "text": [
      "SON <class 'str'>\n"
     ]
    }
   ],
   "source": [
    "# 표준 출력 함수 print()\n",
    "# 표준 입력 함수 input()\n",
    "\n",
    "usrName=input('Name:')\n",
    "\n",
    "print(usrName, type(usrName))\n"
   ]
  },
  {
   "cell_type": "code",
   "execution_count": 96,
   "id": "33c77b83",
   "metadata": {},
   "outputs": [
    {
     "name": "stdout",
     "output_type": "stream",
     "text": [
      "2000 <class 'str'> 25\n"
     ]
    }
   ],
   "source": [
    "age=input('age:')\n",
    "\n",
    "\n",
    "print(age, type(age), 2025-int(age))"
   ]
  },
  {
   "cell_type": "code",
   "execution_count": 98,
   "id": "b1fff109",
   "metadata": {},
   "outputs": [
    {
     "name": "stdout",
     "output_type": "stream",
     "text": [
      "can not\n"
     ]
    }
   ],
   "source": [
    "age=input('age: ')\n",
    "\n",
    "age=int(age)\n",
    "vac_msg='can get the vaccine.' if age<15 or age>65 else 'can not'\n",
    "\n",
    "\n",
    "print(vac_msg)\n"
   ]
  },
  {
   "cell_type": "code",
   "execution_count": 103,
   "id": "acb779aa",
   "metadata": {},
   "outputs": [
    {
     "name": "stdout",
     "output_type": "stream",
     "text": [
      "1\n",
      "2\n",
      "3\n",
      "4\n",
      "5\n"
     ]
    }
   ],
   "source": [
    "#반복문: while condition (True/False):\n",
    "#조건식을 통해서 반복 -> 탈출이 가능해야한다.\n",
    "\n",
    "count=0\n",
    "while count<5:\n",
    "    count+=1\n",
    "    print(count)\n",
    "    "
   ]
  },
  {
   "cell_type": "code",
   "execution_count": 107,
   "id": "af5e7bac",
   "metadata": {},
   "outputs": [
    {
     "name": "stdout",
     "output_type": "stream",
     "text": [
      "1\n",
      "3\n",
      "5\n",
      "7\n",
      "9\n",
      "1\n",
      "3\n",
      "5\n",
      "7\n",
      "9\n"
     ]
    }
   ],
   "source": [
    "#1~10 까지 홀수만 출력\n",
    "cnt=0\n",
    "while cnt<10:\n",
    "    cnt+=1\n",
    "\n",
    "    if cnt%2==1:\n",
    "        print(cnt)\n",
    "\n",
    "\n",
    "cnt=0\n",
    "while cnt<10:\n",
    "    cnt+=1\n",
    "\n",
    "    if cnt%2==0:\n",
    "        continue\n",
    "\n",
    "    print(cnt)\n",
    "\n"
   ]
  },
  {
   "cell_type": "code",
   "execution_count": 109,
   "id": "a2e80d6e",
   "metadata": {},
   "outputs": [
    {
     "name": "stdout",
     "output_type": "stream",
     "text": [
      "1\n",
      "2\n",
      "3\n",
      "4\n",
      "5\n",
      "100\n",
      "200\n",
      "300\n"
     ]
    }
   ],
   "source": [
    "list_a=[1,2,3,4,5,100,200,300]\n",
    "\n",
    "for i in list_a:\n",
    "    print(i)"
   ]
  },
  {
   "cell_type": "code",
   "execution_count": 112,
   "id": "f6288f95",
   "metadata": {},
   "outputs": [
    {
     "name": "stdout",
     "output_type": "stream",
     "text": [
      "1 2\n",
      "3 4\n",
      "5 6\n"
     ]
    }
   ],
   "source": [
    "list_b = [(1,2),(3,4),(5,6)]\n",
    "\n",
    "for n1, n2 in list_b:\n",
    "    print(n1,n2)"
   ]
  },
  {
   "cell_type": "code",
   "execution_count": 117,
   "id": "2c091efa",
   "metadata": {},
   "outputs": [
    {
     "name": "stdout",
     "output_type": "stream",
     "text": [
      "1 80 PASS\n",
      "2 50 FAIL\n",
      "3 70 PASS\n",
      "4 100 PASS\n",
      "5 55 FAIL\n",
      "총점:  355\n",
      "평균:  71.0\n"
     ]
    }
   ],
   "source": [
    "# 5명의 학생이 영어시험=> 60점 이상 pass\n",
    "# average and sum of 5 students\n",
    "\n",
    "scores = [80, 50,70, 100, 55]\n",
    "\n",
    "num=0 # student number\n",
    "sum=0\n",
    "\n",
    "\n",
    "for score in scores:\n",
    "\n",
    "    num+=1\n",
    "    sum=sum+score\n",
    "    \n",
    "\n",
    "    if score >=60:\n",
    "        print(num, score,'PASS')\n",
    "    else:\n",
    "        print(num, score,'FAIL')\n",
    "\n",
    "\n",
    "\n",
    "print('총점: ', sum)\n",
    "print('평균: ', sum/len(scores))\n"
   ]
  },
  {
   "cell_type": "code",
   "execution_count": 121,
   "id": "1ebf1425",
   "metadata": {},
   "outputs": [
    {
     "name": "stdout",
     "output_type": "stream",
     "text": [
      "range(0, 10)\n",
      "0,<class 'int'>\n",
      "1,<class 'int'>\n",
      "2,<class 'int'>\n",
      "3,<class 'int'>\n",
      "4,<class 'int'>\n",
      "5,<class 'int'>\n",
      "6,<class 'int'>\n",
      "7,<class 'int'>\n",
      "8,<class 'int'>\n",
      "9,<class 'int'>\n"
     ]
    }
   ],
   "source": [
    "#range 함수: 일련번호 생성\n",
    "\n",
    "nums_1=range(10)\n",
    "\n",
    "print(nums_1)\n",
    "\n",
    "for num in nums_1:\n",
    "    print(num, end=',')\n",
    "    print(type(num))"
   ]
  },
  {
   "cell_type": "code",
   "execution_count": 123,
   "id": "0999143d",
   "metadata": {},
   "outputs": [
    {
     "name": "stdout",
     "output_type": "stream",
     "text": [
      "3 4 5 6 7 "
     ]
    }
   ],
   "source": [
    "for num in range(3,8):\n",
    "    print(num, end=' ')\n"
   ]
  },
  {
   "cell_type": "code",
   "execution_count": 125,
   "id": "1b7ae00c",
   "metadata": {},
   "outputs": [
    {
     "name": "stdout",
     "output_type": "stream",
     "text": [
      "13579"
     ]
    }
   ],
   "source": [
    "\n",
    "num=[]\n",
    "for num in range (1,11,2):\n",
    "    print(num, end='')"
   ]
  },
  {
   "cell_type": "code",
   "execution_count": 132,
   "id": "9deb0b2e",
   "metadata": {},
   "outputs": [
    {
     "name": "stdout",
     "output_type": "stream",
     "text": [
      "2단\n",
      "2x1=2 2x2=4 2x3=6 2x4=8 2x5=10 2x6=12 2x7=14 2x8=16 2x9=18 \n",
      "3단\n",
      "3x1=3 3x2=6 3x3=9 3x4=12 3x5=15 3x6=18 3x7=21 3x8=24 3x9=27 \n",
      "4단\n",
      "4x1=4 4x2=8 4x3=12 4x4=16 4x5=20 4x6=24 4x7=28 4x8=32 4x9=36 \n",
      "5단\n",
      "5x1=5 5x2=10 5x3=15 5x4=20 5x5=25 5x6=30 5x7=35 5x8=40 5x9=45 \n",
      "6단\n",
      "6x1=6 6x2=12 6x3=18 6x4=24 6x5=30 6x6=36 6x7=42 6x8=48 6x9=54 \n",
      "7단\n",
      "7x1=7 7x2=14 7x3=21 7x4=28 7x5=35 7x6=42 7x7=49 7x8=56 7x9=63 \n",
      "8단\n",
      "8x1=8 8x2=16 8x3=24 8x4=32 8x5=40 8x6=48 8x7=56 8x8=64 8x9=72 \n",
      "9단\n",
      "9x1=9 9x2=18 9x3=27 9x4=36 9x5=45 9x6=54 9x7=63 9x8=72 9x9=81 \n"
     ]
    }
   ],
   "source": [
    "#구구단\n",
    "\n",
    "for dan in range(2,10):\n",
    "    print(f'{dan}단')\n",
    "    for i in range(1,10):\n",
    "        print(f'{dan}x{i}={dan*i}', end=' ')\n",
    "    print()"
   ]
  },
  {
   "cell_type": "code",
   "execution_count": 137,
   "id": "eca91408",
   "metadata": {},
   "outputs": [
    {
     "name": "stdout",
     "output_type": "stream",
     "text": [
      "[3, 6, 9, 12]\n"
     ]
    }
   ],
   "source": [
    "#리스트의 컴프리헨션\n",
    "#[표현신 for 변수 in list if 조건식(변수)]\n",
    "\n",
    "list_2 = [1,2,3,4]\n",
    "\n",
    "# 결과 리스트\n",
    "list_result= []\n",
    "for num in list_2:\n",
    "    list_result.append(num*3)\n",
    "\n",
    "print(list_result)\n"
   ]
  },
  {
   "cell_type": "code",
   "execution_count": null,
   "id": "1c156e48",
   "metadata": {},
   "outputs": [],
   "source": []
  },
  {
   "cell_type": "code",
   "execution_count": 136,
   "id": "e1bcee04",
   "metadata": {},
   "outputs": [
    {
     "name": "stdout",
     "output_type": "stream",
     "text": [
      "[3, 9]\n"
     ]
    }
   ],
   "source": [
    "list_result_2=[num*3 for num in list_2 if num%2==1]\n",
    "print(list_result_2)\n",
    "\n"
   ]
  },
  {
   "cell_type": "code",
   "execution_count": 140,
   "id": "08c5bde5",
   "metadata": {},
   "outputs": [
    {
     "name": "stdout",
     "output_type": "stream",
     "text": [
      "5050\n"
     ]
    }
   ],
   "source": [
    "#1부터 100까지 합\n",
    "sum=0\n",
    "for i in range(1,101):\n",
    "    sum+=i\n",
    "\n",
    "print(sum)"
   ]
  },
  {
   "cell_type": "code",
   "execution_count": 142,
   "id": "4b4d7499",
   "metadata": {},
   "outputs": [
    {
     "name": "stdout",
     "output_type": "stream",
     "text": [
      "3628800\n"
     ]
    }
   ],
   "source": [
    "# for loop로 1 부터 10까지 곱한 결과 출력\n",
    "num=1\n",
    "for i in range(1,11):\n",
    "    num*=i\n",
    "\n",
    "print(num)"
   ]
  },
  {
   "cell_type": "code",
   "execution_count": 5,
   "id": "59c70a94",
   "metadata": {},
   "outputs": [
    {
     "name": "stdout",
     "output_type": "stream",
     "text": [
      "2단\n",
      "2x1=2\n",
      "2x2=4\n",
      "4단\n",
      "4x1=4\n",
      "4x2=8\n",
      "4x3=12\n",
      "4x4=16\n",
      "6단\n",
      "6x1=6\n",
      "6x2=12\n",
      "6x3=18\n",
      "6x4=24\n",
      "6x5=30\n",
      "6x6=36\n",
      "8단\n",
      "8x1=8\n",
      "8x2=16\n",
      "8x3=24\n",
      "8x4=32\n",
      "8x5=40\n",
      "8x6=48\n",
      "8x7=56\n",
      "8x8=64\n",
      "\n"
     ]
    }
   ],
   "source": [
    "#구구단의 짝수 단만 출력하는 프로그램\n",
    "#단 2단은 2x2, 4단은 4x4...\n",
    "for i in range(2,9,2):\n",
    "    print(f'{i}단')\n",
    "    for i2 in range(1,i+1):\n",
    "        print(f'{i}x{i2}={i*i2}')\n",
    "print()"
   ]
  },
  {
   "cell_type": "code",
   "execution_count": null,
   "id": "9d3b943f",
   "metadata": {},
   "outputs": [
    {
     "name": "stdout",
     "output_type": "stream",
     "text": [
      "1 부터 56까지의 짝수와 3의 배수를 더했을 때, 1055이 되며 1000을 넘는다.\n"
     ]
    }
   ],
   "source": [
    "# while무한 루프로 구성하여 나오는 예제\n",
    "# 1부터 시작해서 모든 짝수와 3의 배수를 더해서 그 합이 언제제 1000을 넘어서는지.\n",
    "# 그리고 1000이 넘어선 값은 얼마인지\n",
    "\n",
    "sum=0\n",
    "num=0\n",
    "while sum<=1000:\n",
    "    num+=1\n",
    "    if num%2==0 or num%3==0:\n",
    "        sum = sum+num\n",
    "    \n",
    "print(f'1 부터 {num}까지의 짝수와 3의 배수를 더했을 때, {sum}이 되며 1000을 넘는다.')\n",
    "\n",
    "\n",
    "#무한 루프가 아니긴 하네,, While True: break로 컨트롤\n"
   ]
  },
  {
   "cell_type": "code",
   "execution_count": null,
   "id": "e8436887",
   "metadata": {},
   "outputs": [
    {
     "name": "stdout",
     "output_type": "stream",
     "text": [
      "실핼 횟수: 55번, 결과1055\n"
     ]
    }
   ],
   "source": [
    "cnt=1\n",
    "sum=0\n",
    "loop_count=0\n",
    "\n",
    "while sum<1000:\n",
    "    cnt+=1\n",
    "    loop_count+=1\n",
    "    if cnt%2==0 or cnt%3==0:\n",
    "        sum=sum+cnt\n",
    "\n",
    "\n",
    "print(f'실행 횟수: {loop_count}번, 결과{sum}')"
   ]
  },
  {
   "cell_type": "code",
   "execution_count": null,
   "id": "f57df178",
   "metadata": {},
   "outputs": [],
   "source": [
    "\n",
    "\n"
   ]
  }
 ],
 "metadata": {
  "kernelspec": {
   "display_name": ".venv",
   "language": "python",
   "name": "python3"
  },
  "language_info": {
   "codemirror_mode": {
    "name": "ipython",
    "version": 3
   },
   "file_extension": ".py",
   "mimetype": "text/x-python",
   "name": "python",
   "nbconvert_exporter": "python",
   "pygments_lexer": "ipython3",
   "version": "3.13.4"
  }
 },
 "nbformat": 4,
 "nbformat_minor": 5
}
