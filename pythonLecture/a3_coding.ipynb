{
 "cells": [
  {
   "cell_type": "code",
   "execution_count": null,
   "id": "e9692474",
   "metadata": {},
   "outputs": [],
   "source": [
    "# 함수: 데이터를 받고 처리하고 결과를 반환하는 코드들의 묶음.\n",
    "# 호출을 통해 코드 실행\n",
    "# 중복 코드를 줄여 유지 보수, 관리 수월\n",
    "# def 함수이름 (매개변수, 매개변수, 매개변수,,,):\n",
    "#   처리 코드\n",
    "#   return 값\n"
   ]
  },
  {
   "cell_type": "code",
   "execution_count": null,
   "id": "f72ef942",
   "metadata": {},
   "outputs": [
    {
     "name": "stdout",
     "output_type": "stream",
     "text": [
      "30 <class 'function'>\n"
     ]
    }
   ],
   "source": [
    "# 함수 정의\n",
    "# 숫자 2개를 받아 -> 매개 변수 (선택사항항)\n",
    "# 덧셈 연산 -> 내부 처리 작업\n",
    "# 결과 값 반환 -> 값 (선택사항)\n",
    "\n",
    "def add(n1,n2): #함수 정의: 이름, 매개 변수\n",
    "    result = n1+n2 # 연산, 처리, 작업\n",
    "    return result # 결과 값 반환\n",
    "\n",
    "\n",
    "print(add(10,20), type(add))\n",
    "# 함수를 객체로 취급해서 요소로 사용 가능\n",
    "# 함수 호출은 이름과 () 안에 매개변수가 받을 수 있는 데이터 전달"
   ]
  },
  {
   "cell_type": "code",
   "execution_count": 6,
   "id": "b87c2358",
   "metadata": {},
   "outputs": [
    {
     "name": "stdout",
     "output_type": "stream",
     "text": [
      "크롸롸롸롸 투명 드래곤이 울부짓엇따\n"
     ]
    }
   ],
   "source": [
    "# 매개변수가 없는 함수\n",
    "def alert_msg():\n",
    "    return'크롸롸롸롸 투명 드래곤이 울부짓엇따'\n",
    "\n",
    "print(alert_msg())"
   ]
  },
  {
   "cell_type": "code",
   "execution_count": 11,
   "id": "94086ed3",
   "metadata": {},
   "outputs": [
    {
     "name": "stdout",
     "output_type": "stream",
     "text": [
      "100+20=120\n",
      "None\n",
      "100+20=120\n",
      "None\n"
     ]
    }
   ],
   "source": [
    "# 매개 변수는 있고 반환값이 없는 함수\n",
    "# 숫자 두개를 받아 덧셈 연산 결과 출력\n",
    "\n",
    "def add_print(n1, n2):\n",
    "    result=n1+n2\n",
    "    print(f'{n1}+{n2}={result}')\n",
    "\n",
    "\n",
    "print(add_print(100,20))\n",
    "\n",
    "result_add_print=add_print(100,20)\n",
    "\n",
    "print(result_add_print)\n",
    "# 리턴 값이 없으면 None으로 반환"
   ]
  },
  {
   "cell_type": "code",
   "execution_count": 15,
   "id": "99ba8c32",
   "metadata": {},
   "outputs": [
    {
     "name": "stdout",
     "output_type": "stream",
     "text": [
      "\n",
      "    1. 아메리카노\n",
      "    2. 라뗴\n",
      "    3. 에스프레소\n",
      "    4. 카푸치노\n",
      "    \n"
     ]
    }
   ],
   "source": [
    "# 매개변수도 없고 반환도 없는 함수\n",
    "\n",
    "def display_menu():\n",
    "    menu='''\n",
    "    1. 아메리카노\n",
    "    2. 라뗴\n",
    "    3. 에스프레소\n",
    "    4. 카푸치노\n",
    "    '''\n",
    "\n",
    "    print(menu)\n",
    "\n",
    "display_menu()\n"
   ]
  },
  {
   "cell_type": "code",
   "execution_count": null,
   "id": "6c795c58",
   "metadata": {},
   "outputs": [
    {
     "data": {
      "text/plain": [
       "7"
      ]
     },
     "execution_count": 17,
     "metadata": {},
     "output_type": "execute_result"
    }
   ],
   "source": [
    "# 순서가 바뀌어도 매개변수를 지정 대입 가능\n",
    "def sub(n1, n2):\n",
    "    return n1-n2\n",
    "\n",
    "sub(n2=3, n1=10)    \n",
    "\n"
   ]
  },
  {
   "cell_type": "code",
   "execution_count": null,
   "id": "fe2b580e",
   "metadata": {},
   "outputs": [
    {
     "name": "stdout",
     "output_type": "stream",
     "text": [
      "king\tqueen\thi~!!\n"
     ]
    }
   ],
   "source": [
    "# 프린트 함수에서 매개변수 에딧\n",
    "print('king','queen', sep='\\t', end='\\t')\n",
    "print('hi~!!')\n"
   ]
  },
  {
   "cell_type": "code",
   "execution_count": null,
   "id": "f193f8ce",
   "metadata": {},
   "outputs": [
    {
     "name": "stdout",
     "output_type": "stream",
     "text": [
      "king\n",
      "1 2 3 4 5\n",
      "<class 'tuple'>\n",
      "(1, 2, 3, 4, 5, 6)\n"
     ]
    },
    {
     "data": {
      "text/plain": [
       "21"
      ]
     },
     "execution_count": 25,
     "metadata": {},
     "output_type": "execute_result"
    }
   ],
   "source": [
    "# 매개변수가 여러개인데 몇개인지 모를 경우\n",
    "print('king')\n",
    "print(1,2,3,4,5)\n",
    "\n",
    "\n",
    "# 매개 변수에서 전달되는 숫자들을(불특정다수수)\n",
    "# 모두 더한 값을 \n",
    "# 반환하는 함수\n",
    "# 가변 매개 변수 *변수 사용용\n",
    "\n",
    "def add_sum(*args):\n",
    "    print(type(args))\n",
    "    print(args)\n",
    "    sum=0\n",
    "    for num in args:\n",
    "        sum+=num\n",
    "    \n",
    "    return sum\n",
    "\n",
    "add_sum(1,2,3,4,5,6)\n"
   ]
  },
  {
   "cell_type": "code",
   "execution_count": 33,
   "id": "99c73a3d",
   "metadata": {},
   "outputs": [
    {
     "name": "stdout",
     "output_type": "stream",
     "text": [
      "plz enter available type\n",
      "45 None 120\n"
     ]
    }
   ],
   "source": [
    "# 연산의 타입을 전달 받고 전달되는 숫자들을 \n",
    "# 연산한 결과를 \n",
    "# 반환하는 함수\n",
    "\n",
    "# 가변 매개 변수가 몇개가 올지 모르기 떄문에 가변 매개 변수는 뒤에 보내는게 좋다.\n",
    "def add_type(type, *args):\n",
    "\n",
    "    #add, mul\n",
    "    if type=='add':\n",
    "        result=0\n",
    "        for num in args:\n",
    "            result +=num\n",
    "        return result\n",
    "    elif type=='mul':\n",
    "        result=1\n",
    "        for num in args:\n",
    "            result *=num\n",
    "        return result\n",
    "    else:\n",
    "        print('plz enter available type')\n",
    "        \n",
    "\n",
    "print(add_type('add', 1,2,3,4,5,6,7,8,9), \n",
    "      add_type('sub',1,2,3,4), \n",
    "      add_type('mul',1,2,3,4,5)\n",
    "      )\n"
   ]
  },
  {
   "cell_type": "code",
   "execution_count": 137,
   "id": "f23b747c",
   "metadata": {},
   "outputs": [
    {
     "name": "stdout",
     "output_type": "stream",
     "text": [
      "{'name': 'ronaldo', 'age': 40}\n",
      "<class 'dict'>\n",
      "{'name': 'son', 'age': 20} {'name': 'ronaldo', 'age': 40}\n"
     ]
    }
   ],
   "source": [
    "# 키워드 매개변수\n",
    "\n",
    "def print_args(**args):\n",
    "    print(args)\n",
    "    print(type(args))\n",
    "    return args\n",
    "\n",
    "\n",
    "\n",
    "# 키워드 매개변수 응용\n",
    "\n",
    "player = {\n",
    "    'name' : 'son',\n",
    "    'age' : 20\n",
    "}\n",
    "\n",
    "player2 = print_args(name='ronaldo', age=40)\n",
    "\n",
    "print(player, player2)\n",
    "\n",
    "\n"
   ]
  },
  {
   "cell_type": "code",
   "execution_count": 44,
   "id": "91b1e9d0",
   "metadata": {},
   "outputs": [
    {
     "name": "stdout",
     "output_type": "stream",
     "text": [
      "30 200\n"
     ]
    }
   ],
   "source": [
    "# 리턴 값은 하나만 반환\n",
    "def add_mul_return(n1, n2):\n",
    "    add_result=n1+n2\n",
    "    mul_result=n1*n2\n",
    "    return(add_result,mul_result)\n",
    "\n",
    "result1, result2 = add_mul_return(10,20)\n",
    "print(result1, result2)\n"
   ]
  },
  {
   "cell_type": "code",
   "execution_count": 49,
   "id": "44d31ecc",
   "metadata": {},
   "outputs": [
    {
     "name": "stdout",
     "output_type": "stream",
     "text": [
      "0\n",
      "1\n"
     ]
    }
   ],
   "source": [
    "# 함수 매개변수의 기본값 설정\n",
    "def add2(n1=0, n2=0):\n",
    "    return n1+n2\n",
    "\n",
    "print(add2(0))\n",
    "print(add2(1))"
   ]
  },
  {
   "cell_type": "code",
   "execution_count": 139,
   "id": "1349b35e",
   "metadata": {},
   "outputs": [
    {
     "name": "stdout",
     "output_type": "stream",
     "text": [
      "안녕 나는 king이고, 20살 ㅇㅇ\n",
      "Male\n"
     ]
    }
   ],
   "source": [
    "# 이름, 나이, 성별 받아서 출력 함수\n",
    "def say_hi(name, age, gender=True):\n",
    "    print(f'안녕 나는 {name}이고, {age}살 ㅇㅇ')\n",
    "    if gender:\n",
    "        print('Female')\n",
    "    else:\n",
    "        print('Male')\n",
    "\n",
    "say_hi('king', 20, False)\n"
   ]
  },
  {
   "cell_type": "code",
   "execution_count": 57,
   "id": "500d20aa",
   "metadata": {},
   "outputs": [
    {
     "name": "stdout",
     "output_type": "stream",
     "text": [
      "함수 내부의 a:  10\n",
      "10\n",
      "1\n"
     ]
    }
   ],
   "source": [
    "# 변수의 사용 범위\n",
    "\n",
    "a=1\n",
    "\n",
    "def var_test(a):\n",
    "    print('함수 내부의 a: ', a)\n",
    "    return a\n",
    "\n",
    "print(var_test(10))\n",
    "\n",
    "print(a)\n",
    "\n",
    "#외부와 함수 안에서 같은 식별자를 써도 다르게 구분\n"
   ]
  },
  {
   "cell_type": "code",
   "execution_count": 61,
   "id": "02a10d56",
   "metadata": {},
   "outputs": [
    {
     "name": "stdout",
     "output_type": "stream",
     "text": [
      "2\n",
      "None\n"
     ]
    }
   ],
   "source": [
    "# 다만 함수 외부에 있는 변수를 참조 뿐 아니라 연산하려면 global의 사용 필요\n",
    "\n",
    "a=1\n",
    "\n",
    "def var_test2():\n",
    "    global a\n",
    "    a=a+1\n",
    "    print(a)\n",
    "\n",
    "print(var_test2())\n",
    "\n"
   ]
  },
  {
   "cell_type": "code",
   "execution_count": 65,
   "id": "2d9df003",
   "metadata": {},
   "outputs": [
    {
     "name": "stdout",
     "output_type": "stream",
     "text": [
      "110 <class 'function'>\n"
     ]
    }
   ],
   "source": [
    "# lambda 함수 => 한줄 함수 표현식\n",
    "# 함수 이름= lamda 배개변수, 매개변수: 연산\n",
    "add3= lambda n1,n2: n1+n2\n",
    "\n",
    "print(add3(100,10), type(add3))"
   ]
  },
  {
   "cell_type": "code",
   "execution_count": null,
   "id": "4e7dc634",
   "metadata": {},
   "outputs": [
    {
     "name": "stdout",
     "output_type": "stream",
     "text": [
      "0 king\n",
      "1 queen\n",
      "2 cool\n",
      "3 hot\n",
      "1 king\n",
      "2 queen\n",
      "3 cool\n",
      "4 hot\n"
     ]
    }
   ],
   "source": [
    "# 내장(bulit-in)함수\n",
    "# 파이썬 설치시 기본 제공 함수\n",
    "\n",
    "st_names = ['king', 'queen', 'cool', 'hot']\n",
    "\n",
    "# 학생들의 index 값 함께 출력\n",
    "num=0\n",
    "for name in st_names:\n",
    "    print(num, name)\n",
    "    num+=1\n",
    "\n",
    "# 내장함수 enumerate 사용으로 대체 가능\n",
    "# iterable 객체를 인덱스 값과 함꼐 반환환\n",
    "for index, name in enumerate(st_names, start=1):\n",
    "    print(index, name)\n",
    "    "
   ]
  },
  {
   "cell_type": "code",
   "execution_count": null,
   "id": "2c237d43",
   "metadata": {},
   "outputs": [
    {
     "data": {
      "text/plain": [
       "[3, 1, 9, 10, 4]"
      ]
     },
     "execution_count": 73,
     "metadata": {},
     "output_type": "execute_result"
    }
   ],
   "source": [
    "# filter: 필터링(매개변수로 전달되는 함수: 요소값을 판단해서 논리값 반환)을 통해 새로운 리스트 생성 변환\n",
    "# filter(fn, itr)\n",
    "# 잘못된 데이터를 걷어낼 때 사용\n",
    "def positive(l):\n",
    "    result=[]\n",
    "    for n in l:\n",
    "        if n>0:\n",
    "            result.append(n)\n",
    "    return result\n",
    "\n",
    "positive([3, 1, -1, -3, 0, 9, 10, 4])\n",
    "\n",
    "\n",
    "\n"
   ]
  },
  {
   "cell_type": "code",
   "execution_count": 78,
   "id": "1c3a265c",
   "metadata": {},
   "outputs": [
    {
     "data": {
      "text/plain": [
       "[3, 1, -1, -3, 9]"
      ]
     },
     "execution_count": 78,
     "metadata": {},
     "output_type": "execute_result"
    }
   ],
   "source": [
    "# filter 판별함수\n",
    "\n",
    "# 양수 판별별\n",
    "def positive_fn(x):\n",
    "    return x>0\n",
    "\n",
    "list(filter(positive_fn,[3, 1, -1, -3, 0, 9, 10, 4]))\n",
    "\n",
    "\n",
    "\n",
    "# 음수 판별\n",
    "def pos_fn2(x):\n",
    "    return x%2==1\n",
    "\n",
    "list(filter(pos_fn2,[3, 1, -1, -3, 0, 9, 10, 4]))\n",
    "list(filter(lambda x : x%2==1,[3, 1, -1, -3, 0, 9, 10, 4]))"
   ]
  },
  {
   "cell_type": "code",
   "execution_count": 80,
   "id": "53d4a9a3",
   "metadata": {},
   "outputs": [
    {
     "data": {
      "text/plain": [
       "[2, 4, 6, 8, 10]"
      ]
     },
     "execution_count": 80,
     "metadata": {},
     "output_type": "execute_result"
    }
   ],
   "source": [
    "# 반복 가능(iterable) 객체의 각 요소에 함수를 적용하고, 그 결과를 새로운 map 객체로 반환\n",
    "\n",
    "list(map(lambda x: x*2, [1,2,3,4,5]))\n"
   ]
  },
  {
   "cell_type": "code",
   "execution_count": 87,
   "id": "63004488",
   "metadata": {},
   "outputs": [],
   "source": [
    "# 파이썬의 입출력 (자원)\n",
    "# 표준 입출력 -> input, print\n",
    "# 텍스트 파일(자원) : 입출력 I/O\n",
    "# 파일 단위 입출력: open(자원의 경로, mode)\n",
    "# 모드: r(read), w(write), a(append)\n",
    "# r모드 읽기\n",
    "# w모드 기존 파일이 없으면 새로 셍성, 있으면 덧씌우기\n",
    "# a모드 추가\n",
    "\n",
    "f=open('new_text.txt', 'w')\n",
    "f.close()\n",
    "\n",
    "# 파일 오픈: w, 텍스트 쓰기\n",
    "f=open('new_text.txt', 'w')\n",
    "f.write('hi')\n",
    "f.close()\n",
    "\n",
    "# 파일 오픈: w, 텍스트 여러줄 쓰기기\n",
    "f=open('new_text.txt', 'w')\n",
    "for i in range(1,11):\n",
    "    f.write(f'enter {i}th line \\n')\n",
    "f.close()\n"
   ]
  },
  {
   "cell_type": "code",
   "execution_count": 89,
   "id": "693b5a54",
   "metadata": {},
   "outputs": [
    {
     "name": "stdout",
     "output_type": "stream",
     "text": [
      "enter 1th line \n",
      "\n",
      "enter 2th line \n",
      "\n"
     ]
    }
   ],
   "source": [
    "# 파일 내용 읽기\n",
    "f=open('new_text.txt', 'r')\n",
    "line1=f.readline()\n",
    "print(line1)\n",
    "\n",
    "line2=f.readline()\n",
    "print(line2)\n",
    "f.close()\n",
    "\n",
    "\n"
   ]
  },
  {
   "cell_type": "code",
   "execution_count": 91,
   "id": "13159f02",
   "metadata": {},
   "outputs": [
    {
     "name": "stdout",
     "output_type": "stream",
     "text": [
      "enter 1th line \n",
      " enter 2th line \n",
      " enter 3th line \n",
      " enter 4th line \n",
      " enter 5th line \n",
      " enter 6th line \n",
      " enter 7th line \n",
      " enter 8th line \n",
      " enter 9th line \n",
      " enter 10th line \n",
      " "
     ]
    }
   ],
   "source": [
    "# 파일 내용 읽기\n",
    "f=open('new_text.txt', 'r')\n",
    "\n",
    "while 1:\n",
    "    line = f.readline()\n",
    "    if not line: \n",
    "        break\n",
    "    print(line, end=' ')\n",
    "\n",
    "f.close()\n"
   ]
  },
  {
   "cell_type": "code",
   "execution_count": 108,
   "id": "75bfa475",
   "metadata": {},
   "outputs": [
    {
     "name": "stdout",
     "output_type": "stream",
     "text": [
      "['enter 1th line \\n', 'enter 2th line \\n', 'enter 3th line \\n', 'enter 4th line \\n', 'enter 5th line \\n', 'enter 6th line \\n', 'enter 7th line \\n', 'enter 8th line \\n', 'enter 9th line \\n', 'enter 10th line \\n', 'add new lineadd new lineadd new 16lineadd new 17lineadd new 18lineadd new 19lineadd new 20lineadd new 16line \\n', 'add new 17line \\n', 'add new 18line \\n', 'add new 19line \\n', 'add new 20line \\n', 'add new 16line \\n', 'add new 17line \\n', 'add new 18line \\n', 'add new 19line \\n', 'add new 20line \\n', 'add new 16th line \\n', 'add new 17th line \\n', 'add new 18th line \\n', 'add new 19th line \\n', 'add new 20th line \\n']\n",
      "enter 1th line \n",
      "enter 2th line \n",
      "enter 3th line \n",
      "enter 4th line \n",
      "enter 5th line \n",
      "enter 6th line \n",
      "enter 7th line \n",
      "enter 8th line \n",
      "enter 9th line \n",
      "enter 10th line \n",
      "add new lineadd new lineadd new 16lineadd new 17lineadd new 18lineadd new 19lineadd new 20lineadd new 16line \n",
      "add new 17line \n",
      "add new 18line \n",
      "add new 19line \n",
      "add new 20line \n",
      "add new 16line \n",
      "add new 17line \n",
      "add new 18line \n",
      "add new 19line \n",
      "add new 20line \n",
      "add new 16th line \n",
      "add new 17th line \n",
      "add new 18th line \n",
      "add new 19th line \n",
      "add new 20th line \n"
     ]
    }
   ],
   "source": [
    "f=open('new_text.txt', 'r')\n",
    "lines = f.readlines()\n",
    "print(lines)\n",
    "for line in lines:\n",
    "    print(line,end='')\n",
    "\n",
    "f.close()"
   ]
  },
  {
   "cell_type": "code",
   "execution_count": 99,
   "id": "9bce466d",
   "metadata": {},
   "outputs": [],
   "source": [
    "# apppend: 데이터 추가\n",
    "f = open('new_text.txt', 'a')\n",
    "\n",
    "f.write('add new line')\n",
    "f.close()\n"
   ]
  },
  {
   "cell_type": "code",
   "execution_count": 109,
   "id": "3100e7ed",
   "metadata": {},
   "outputs": [],
   "source": [
    "# apppend: 데이터 여러행 추가\n",
    "f = open('new_text.txt', 'a')\n",
    "\n",
    "for i in range(16,21):\n",
    "    f.write(f'add new {i}th line \\n')\n",
    "f.close()\n"
   ]
  },
  {
   "cell_type": "code",
   "execution_count": null,
   "id": "bbba0ba4",
   "metadata": {},
   "outputs": [
    {
     "name": "stdout",
     "output_type": "stream",
     "text": [
      "['enter 1th line \\n', 'enter 2th line \\n', 'enter 3th line \\n', 'enter 4th line \\n', 'enter 5th line \\n', 'enter 6th line \\n', 'enter 7th line \\n', 'enter 8th line \\n', 'enter 9th line \\n', 'enter 10th line \\n', 'add new lineadd new lineadd new 16lineadd new 17lineadd new 18lineadd new 19lineadd new 20lineadd new 16line \\n', 'add new 17line \\n', 'add new 18line \\n', 'add new 19line \\n', 'add new 20line \\n', 'add new 16line \\n', 'add new 17line \\n', 'add new 18line \\n', 'add new 19line \\n', 'add new 20line \\n', 'add new 16th line \\n', 'add new 17th line \\n', 'add new 18th line \\n', 'add new 19th line \\n', 'add new 20th line \\n', 'add new 16th line \\n', 'add new 17th line \\n', 'add new 18th line \\n', 'add new 19th line \\n', 'add new 20th line \\n']\n"
     ]
    }
   ],
   "source": [
    "# close 생략 가능한 구현 => with\n",
    "with open ('new_text.txt', 'r') as file :\n",
    "    lines= file.readlines()\n",
    "    print(lines)"
   ]
  },
  {
   "cell_type": "code",
   "execution_count": 117,
   "id": "1901aca7",
   "metadata": {},
   "outputs": [
    {
     "data": {
      "text/plain": [
       "\"\\n# zero division error\\nprint(10/0)\\nprint('stop the program')\\n\\n#index error\\nlist_t=[1,2,3]\\nprint(list_t[3])\\n\\n#username error\\nuserName\\n\\n#key error\\ndict_t[age]\\n\\n#file not fount error\\nf=open('new_text1.txt', 'r')\\n\\n#type error\\nadd()\\n\\n#etc\\n\\n\""
      ]
     },
     "execution_count": 117,
     "metadata": {},
     "output_type": "execute_result"
    }
   ],
   "source": [
    "# 예외처리: 에러 발생시에 비정상적인 종료를 막기 위한 처리\n",
    "\n",
    "'''\n",
    "# zero division error\n",
    "print(10/0)\n",
    "print('stop the program')\n",
    "\n",
    "#index error\n",
    "list_t=[1,2,3]\n",
    "print(list_t[3])\n",
    "\n",
    "#username error\n",
    "userName\n",
    "\n",
    "#key error\n",
    "dict_t[age]\n",
    "\n",
    "#file not fount error\n",
    "f=open('new_text1.txt', 'r')\n",
    "\n",
    "#type error\n",
    "add()\n",
    "\n",
    "#etc\n",
    "\n",
    "'''"
   ]
  },
  {
   "cell_type": "code",
   "execution_count": null,
   "id": "768ed58c",
   "metadata": {},
   "outputs": [
    {
     "name": "stdout",
     "output_type": "stream",
     "text": [
      "error has occurred\n",
      "stop the program\n"
     ]
    }
   ],
   "source": [
    "# try except 문\n",
    "# zero division error\n",
    "\n",
    "try:\n",
    "    print(10/0) # 에러 예상 위치\n",
    "except:\n",
    "    print('error has occurred')\n",
    "\n",
    "print('stop the program')\n"
   ]
  },
  {
   "cell_type": "code",
   "execution_count": 123,
   "id": "c683843e",
   "metadata": {},
   "outputs": [
    {
     "name": "stdout",
     "output_type": "stream",
     "text": [
      "5.0\n",
      "2\n",
      "error occured!\n",
      "name 'uname' is not defined\n"
     ]
    }
   ],
   "source": [
    "try:\n",
    "    print(10/2) \n",
    "\n",
    "    list_t=[1,2,3]\n",
    "    print(list_t[1]) # 에러 예상 위치\n",
    "\n",
    "    print(uname)\n",
    "\n",
    "except ZeroDivisionError as e:\n",
    "    print('can not divide by 0')\n",
    "    print(e)\n",
    "except (NameError, IndexError) as e:\n",
    "    print('error occured!')\n",
    "    print(e)\n",
    "#except IndexError as e:\n",
    "#    print('list index out of bound')\n",
    "#    print(e)\n",
    "except:\n",
    "    print('error occurred')"
   ]
  },
  {
   "cell_type": "code",
   "execution_count": 127,
   "id": "6773b3ff",
   "metadata": {},
   "outputs": [
    {
     "name": "stdout",
     "output_type": "stream",
     "text": [
      "hello\n",
      "error\n",
      "!\n"
     ]
    }
   ],
   "source": [
    "# try: except: finally:\n",
    "# finally: 에러 발생 여부와 상관 없이 실행\n",
    "\n",
    "try:\n",
    "    print('hello')\n",
    "    print(10/0)\n",
    "except:\n",
    "    print('error')\n",
    "finally:\n",
    "    print('!')"
   ]
  },
  {
   "cell_type": "code",
   "execution_count": 130,
   "id": "476eb4fe",
   "metadata": {},
   "outputs": [
    {
     "name": "stdout",
     "output_type": "stream",
     "text": [
      "get out\n"
     ]
    }
   ],
   "source": [
    "# 형변환 에러 처리리\n",
    "\n",
    "try:\n",
    "    age=int(input('나이 낸나: '))\n",
    "except:\n",
    "    print('numbers only')\n",
    "else:\n",
    "    if age>18:\n",
    "        print('come in')\n",
    "    else:\n",
    "        print('get out')"
   ]
  },
  {
   "cell_type": "code",
   "execution_count": 136,
   "id": "93d8b42f",
   "metadata": {},
   "outputs": [
    {
     "name": "stdout",
     "output_type": "stream",
     "text": [
      "나이는 1부터 200까지. \n",
      "다시 입력 ㄱ\n"
     ]
    }
   ],
   "source": [
    "# 사용자 정의 예외\n",
    "# 논리적인 오류 발생시 사용\n",
    "# age = 음수, 500: 논리적 오류\n",
    "\n",
    "class MyError(Exception):\n",
    "    pass\n",
    "\n",
    "\n",
    "# raise 에러 강제 발생\n",
    "try:\n",
    "    age=int(input('나이 낸나: '))\n",
    "\n",
    "    if age<1 or age>200:\n",
    "        raise MyError()\n",
    "    \n",
    "except MyError:\n",
    "    print('나이는 1부터 200까지. \\n다시 입력 ㄱ')\n",
    "except:\n",
    "    print('디시 입력 ㄱㄱ')\n",
    "else:\n",
    "    print(age)"
   ]
  }
 ],
 "metadata": {
  "kernelspec": {
   "display_name": ".venv",
   "language": "python",
   "name": "python3"
  },
  "language_info": {
   "codemirror_mode": {
    "name": "ipython",
    "version": 3
   },
   "file_extension": ".py",
   "mimetype": "text/x-python",
   "name": "python",
   "nbconvert_exporter": "python",
   "pygments_lexer": "ipython3",
   "version": "3.13.4"
  }
 },
 "nbformat": 4,
 "nbformat_minor": 5
}
