{
 "cells": [
  {
   "cell_type": "code",
   "execution_count": null,
   "id": "2c11f6c5",
   "metadata": {},
   "outputs": [
    {
     "name": "stdout",
     "output_type": "stream",
     "text": [
      "2390594436608 <class '__main__.Cookie'>\n",
      "2390594134864 <class '__main__.Cookie'>\n"
     ]
    }
   ],
   "source": [
    "# 객체지향 프로그래밍: 객체의 개념을 프로그래밍에 도입\n",
    "# 객체: 변수, 함수도 구성 -> 메모리에 올라간 상태\n",
    "# 클래스: 변수들과 함수들이 어떻게 구성되는지의 설계도 -> 변수들을 정의, 함수들을 정의\n",
    "# -> 클래스만 정의 -> 사용 불가, 클래스를 이용해서 객체로 만들어야 사용 가능\n",
    "\n",
    "# class 클래스이름:\n",
    "#   변수들과 함수들을 정의\n",
    "#   변수 = 클래스이름() => 객체 생성\n",
    "# 객체 활용: 변수.객체이름, 변수.객체함수(), 메서드\n",
    "\n",
    "# 클래스 생성성\n",
    "class Cookie():\n",
    "    pass\n",
    "\n",
    "# 객체 생성\n",
    "c1=Cookie()\n",
    "# 새로운 객체 생성\n",
    "c2=Cookie()\n",
    "\n",
    "print(id(c1), type(c1))\n",
    "print(id(c2), type(c2))\n"
   ]
  },
  {
   "cell_type": "code",
   "execution_count": null,
   "id": "058827d1",
   "metadata": {},
   "outputs": [],
   "source": [
    "# 사칙연산을 하는 클래스 정의: 클래스 이름, 변수, 함수\n",
    "# 변수는 두개, 함수(메서드 4개)\n",
    "\n",
    "class FourCal:\n",
    "\n",
    "    # 초기화(변수 선언 -> 최초 데이터 할당) 메서드\n",
    "    # 필요 변수 생성, 값 초기화\n",
    "    def __init__(self,first, second):\n",
    "        self.first = first\n",
    "        self.second = second\n",
    "\n",
    "    # 클래스에서 함수 정의시 반드시 self 매개변수 받아야한다\n",
    "    # self = 객체 자신을 가르키는 변수 (객체의 주소)\n",
    "    def setdata(self, first, second):\n",
    "        self.first = first\n",
    "        self.second = second\n",
    "\n",
    "    # 사칙연산 함수\n",
    "    def add(self):\n",
    "        return self.first+self.second\n",
    "    \n",
    "    def sub(self):\n",
    "        return self.first-self.second\n",
    "    \n",
    "    def mul(self):\n",
    "        return self.first*self.second\n",
    "    \n",
    "    def div(self):\n",
    "        return self.first/self.second\n",
    "\n",
    "\n",
    "\n"
   ]
  },
  {
   "cell_type": "code",
   "execution_count": null,
   "id": "674fb1a3",
   "metadata": {},
   "outputs": [],
   "source": [
    "cal_1 = FourCal()\n",
    "type(cal_1)\n",
    "\n",
    "cal_1.setdata(10,20)\n",
    "\n",
    "\n",
    "print(cal_1.first, cal_1.second)\n",
    "\n",
    "\n",
    "# 그냥 정하면 안된다\n",
    "cal_2 = FourCal()\n",
    "cal_2.first\n",
    "\n",
    "\n",
    "cal_3 = FourCal()"
   ]
  },
  {
   "cell_type": "code",
   "execution_count": 19,
   "id": "0b4e0b27",
   "metadata": {},
   "outputs": [
    {
     "data": {
      "text/plain": [
       "100"
      ]
     },
     "execution_count": 19,
     "metadata": {},
     "output_type": "execute_result"
    }
   ],
   "source": [
    "\n",
    "cal_4 = FourCal(100, 200)\n",
    "cal_4.first"
   ]
  },
  {
   "cell_type": "code",
   "execution_count": 20,
   "id": "4b799bde",
   "metadata": {},
   "outputs": [
    {
     "name": "stdout",
     "output_type": "stream",
     "text": [
      "10 7\n",
      "17\n",
      "3\n",
      "70\n",
      "1.4285714285714286\n"
     ]
    }
   ],
   "source": [
    "cal_5=FourCal(10,7)\n",
    "\n",
    "print(cal_5.first, cal_5.second)\n",
    "print(cal_5.add())\n",
    "print(cal_5.sub())\n",
    "print(cal_5.mul())\n",
    "print(cal_5.div())"
   ]
  },
  {
   "cell_type": "code",
   "execution_count": 25,
   "id": "1c93216f",
   "metadata": {},
   "outputs": [
    {
     "name": "stdout",
     "output_type": "stream",
     "text": [
      "학생 번호: 0001\n",
      "학생 이름: Kim\n",
      "학생 총점: 255\n",
      "학생 평균: 85.0\n"
     ]
    }
   ],
   "source": [
    "# 학생 class 생성 -> 객체 생성\n",
    "# 학생변수: 학번, 이름, 국어점수, 영어점수, 수학점수\n",
    "# 기능: 전체 데이터 출력 메서드 (이름, 학번, 총점, 평균)\n",
    "#       총점 계산\n",
    "#       평균 계산\n",
    "# 시뮬레이션: 테스트 학생 데이터 생성 -> 결과 출력\n",
    "\n",
    "\n",
    "class Student:\n",
    "\n",
    "    # 초기화(변수 선언 -> 최초 데이터 할당) 메서드\n",
    "    # 필요 변수 생성, 값 초기화\n",
    "    def __init__(self, stNum, stName, k_score, e_score, m_score):\n",
    "        self.stNum = stNum\n",
    "        self.stName = stName\n",
    "        self.k_score = k_score\n",
    "        self.e_score = e_score\n",
    "        self.m_score = m_score\n",
    "\n",
    "\n",
    "    def scoreSum(self):\n",
    "        sum = self.k_score+self.e_score+self.m_score\n",
    "        return sum\n",
    "    \n",
    "    def scoreAvg(self):\n",
    "        avg = self.scoreSum()/3\n",
    "        return avg\n",
    "\n",
    "\n",
    "\n",
    "    def printData(self):\n",
    "        print('학생 번호: '+self.stNum)\n",
    "        print('학생 이름: '+self.stName)\n",
    "        print('학생 총점: '+str(self.scoreSum()))\n",
    "        print('학생 평균: '+str(self.scoreAvg()))\n",
    "\n",
    "st_1=Student('0001', 'Kim', 80,90,85)\n",
    "\n",
    "st_1.printData()\n",
    "\n"
   ]
  },
  {
   "cell_type": "code",
   "execution_count": 27,
   "id": "e0acf48b",
   "metadata": {},
   "outputs": [
    {
     "name": "stdout",
     "output_type": "stream",
     "text": [
      "학생 번호: 0001\n",
      "학생 이름: Kim\n",
      "학생 총점: 255\n",
      "학생 평균: 85.0\n",
      "학생 번호: 0002\n",
      "학생 이름: Lee\n",
      "학생 총점: 255\n",
      "학생 평균: 85.0\n",
      "학생 번호: 0003\n",
      "학생 이름: Choi\n",
      "학생 총점: 255\n",
      "학생 평균: 85.0\n",
      "학생 번호: 0004\n",
      "학생 이름: Park\n",
      "학생 총점: 255\n",
      "학생 평균: 85.0\n",
      "학생 번호: 0005\n",
      "학생 이름: Ha\n",
      "학생 총점: 255\n",
      "학생 평균: 85.0\n"
     ]
    }
   ],
   "source": [
    "# 리스트로 다중 입력력\n",
    "\n",
    "students = [\n",
    "    Student('0001', 'Kim', 80,90,85),\n",
    "    Student('0002', 'Lee', 80,90,85),\n",
    "    Student('0003', 'Choi', 80,90,85),\n",
    "    Student('0004', 'Park', 80,90,85),\n",
    "    Student('0005', 'Ha', 80,90,85),\n",
    "]\n",
    "\n",
    "\n",
    "for s in students:\n",
    "    s.printData()"
   ]
  },
  {
   "cell_type": "code",
   "execution_count": null,
   "id": "8aee7967",
   "metadata": {},
   "outputs": [
    {
     "name": "stdout",
     "output_type": "stream",
     "text": [
      "100\n",
      "0\n",
      "100\n",
      "0\n",
      "1\n"
     ]
    }
   ],
   "source": [
    "# 클래스의 상속: 새로운 클래스를 만들 때 기존의 클래스 멤버를 받아서 생성하는 방법\n",
    "# class 이름 (부모 클래스)\n",
    "\n",
    "class MoreFourCal(FourCal):\n",
    "    def pow(self):\n",
    "        return self.first**self.second\n",
    "    \n",
    "    def div(self):\n",
    "        if self.second==0:\n",
    "            return 0\n",
    "        else:\n",
    "            return self.first/self.second\n",
    "\n",
    "\n",
    "# 상속으로 추가 함수 컨트롤\n",
    "mcal_2=MoreFourCal(100,0)\n",
    "print(mcal_2.add())\n",
    "print(mcal_2.mul())\n",
    "print(mcal_2.sub())\n",
    "print(mcal_2.div())\n",
    "print(mcal_2.pow())"
   ]
  },
  {
   "cell_type": "markdown",
   "id": "479f0b8b",
   "metadata": {},
   "source": []
  },
  {
   "cell_type": "markdown",
   "id": "dba17e73",
   "metadata": {},
   "source": [
    "### 표준 모듈"
   ]
  },
  {
   "cell_type": "code",
   "execution_count": null,
   "id": "938570b3",
   "metadata": {},
   "outputs": [
    {
     "name": "stdout",
     "output_type": "stream",
     "text": [
      "2025-06-12\n",
      "162 days, 0:00:00\n"
     ]
    }
   ],
   "source": [
    "# 표준 모듈: datetime\n",
    "\n",
    "import datetime\n",
    "\n",
    "day1 = datetime.date(2025, 6, 12)\n",
    "\n",
    "print(day1)\n",
    "\n",
    "\n",
    "# date 빼기 연산\n",
    "day2 = datetime.date(2025, 1, 1)\n",
    "\n",
    "print(day1-day2)"
   ]
  },
  {
   "cell_type": "code",
   "execution_count": null,
   "id": "eb2911c0",
   "metadata": {},
   "outputs": [
    {
     "data": {
      "text/plain": [
       "'Thu Jun 12 15:58:52 2025'"
      ]
     },
     "execution_count": 5,
     "metadata": {},
     "output_type": "execute_result"
    }
   ],
   "source": [
    "# 표준 모듈: time\n",
    "\n",
    "import time\n",
    "\n",
    "# float 형태\n",
    "time.time()\n",
    "\n",
    "# 현재 컴퓨터가 가진 로컬 시간\n",
    "time.localtime()\n",
    "\n",
    "# 미국 시간?\n",
    "time.ctime()\n",
    "\n"
   ]
  },
  {
   "cell_type": "code",
   "execution_count": null,
   "id": "5590f9c0",
   "metadata": {},
   "outputs": [
    {
     "name": "stdout",
     "output_type": "stream",
     "text": [
      "[65, 98, 85, 80, 63, 65, 100, 67, 65, 100]\n",
      "2\n",
      "[5, 4, 9]\n"
     ]
    }
   ],
   "source": [
    "# 표준 모듈: random\n",
    "\n",
    "import random\n",
    "\n",
    "# 0.000000 <= R < 1\n",
    "random.random()\n",
    "\n",
    "# 특정 값 사이의 랜덤 정수 값\n",
    "# random.randint(60, 100) -> 60 에서 100사이 정수수\n",
    "\n",
    "\n",
    "list_score =[]\n",
    "\n",
    "for s in range(0,10):\n",
    "    list_score.append(random.randint(60, 100))\n",
    "\n",
    "print(list_score)\n",
    "\n",
    "\n",
    "\n",
    "\n",
    "# 리스트 안에서 요소 하나를 랜덤으로 선택\n",
    "print(random.choice([1,2,3,4,5,6,7,8]))\n",
    "\n",
    "\n",
    "# 리스트 안에서 지정 갯수의 요소들을 랜덤으로 선택\n",
    "print(random.sample([1,2,3,4,5,6,7,8,9], 3))\n",
    "\n",
    "\n"
   ]
  },
  {
   "cell_type": "code",
   "execution_count": 52,
   "id": "b0945537",
   "metadata": {},
   "outputs": [
    {
     "name": "stdout",
     "output_type": "stream",
     "text": [
      "C:\\project\\py_project\n"
     ]
    }
   ],
   "source": [
    "# 표준 모듈: OS\n",
    "\n",
    "import os\n",
    "\n",
    "# 환경 정보\n",
    "os.environ\n",
    "\n",
    "# 디렉토리 이동\n",
    "os.chdir('C:\\\\project\\\\py_project')\n",
    "\n",
    "# 현재 위치 확인\n",
    "print(os.getcwd())\n",
    "\n",
    "# 디렉토리 생성\n",
    "os.mkdir('a4_test')\n",
    "\n",
    "# 디렉토리 삭제\n",
    "os.rmdir('a4_test')"
   ]
  },
  {
   "cell_type": "code",
   "execution_count": null,
   "id": "6f6be378",
   "metadata": {},
   "outputs": [
    {
     "name": "stdout",
     "output_type": "stream",
     "text": [
      "{'name': 'Son', 'age': 30, 'number': 7} <class 'dict'>\n",
      "{\"name\": \"Son\", \"age\": 30, \"number\": 7} <class 'str'>\n"
     ]
    }
   ],
   "source": [
    "# 표준 모듈: json\n",
    "\n",
    "import json\n",
    "\n",
    "\n",
    "#  json 파일 열고 읽기\n",
    "with open('a4_data.json', 'r', encoding='utf-8') as f:\n",
    "          data = json.load(f)\n",
    "\n",
    "print(data, type(data))\n",
    "\n",
    "\n",
    "# 문자열로 변환\n",
    "json_str_data = json.dumps(data)\n",
    "\n",
    "print(json_str_data, type(json_str_data))"
   ]
  },
  {
   "cell_type": "markdown",
   "id": "603ca746",
   "metadata": {},
   "source": [
    "### 외부 모듈"
   ]
  },
  {
   "cell_type": "code",
   "execution_count": null,
   "id": "a1cc7e1c",
   "metadata": {},
   "outputs": [
    {
     "name": "stdout",
     "output_type": "stream",
     "text": [
      "[1 2 3 4 5] <class 'numpy.ndarray'>\n"
     ]
    },
    {
     "data": {
      "text/plain": [
       "array([11, 12, 13, 14, 15])"
      ]
     },
     "execution_count": 60,
     "metadata": {},
     "output_type": "execute_result"
    }
   ],
   "source": [
    "import numpy as np\n",
    "\n",
    "\n",
    "# 배열 연산\n",
    "arr=np.array([1,2,3,4,5])\n",
    "print(arr, type(arr))\n",
    "arr+10"
   ]
  },
  {
   "cell_type": "code",
   "execution_count": null,
   "id": "8336943e",
   "metadata": {},
   "outputs": [
    {
     "name": "stdout",
     "output_type": "stream",
     "text": [
      "[[0. 0. 0.]]\n",
      "\n",
      "[[1. 1. 1. 1. 1.]\n",
      " [1. 1. 1. 1. 1.]\n",
      " [1. 1. 1. 1. 1.]\n",
      " [1. 1. 1. 1. 1.]\n",
      " [1. 1. 1. 1. 1.]]\n",
      "\n",
      "[0 2 4 6 8]\n",
      "\n",
      "[ 1.    3.25  5.5   7.75 10.  ]\n",
      "\n",
      "<class 'numpy.ndarray'>\n",
      "(2, 3)\n",
      "2\n",
      "6\n",
      "int64\n"
     ]
    }
   ],
   "source": [
    "# 배열의 생성\n",
    "# 0으로 채워지는 배열 생성\n",
    "zeros = np.zeros((1,3))\n",
    "print(zeros)\n",
    "print()\n",
    "\n",
    "# 1로 채우는 배열\n",
    "ones = np.ones((5,5))\n",
    "print(ones)\n",
    "print()\n",
    "\n",
    "\n",
    "# 일련번호 생성 배열\n",
    "# 0~10 사이의 숫자를 2 간격으로 생성\n",
    "seq_1 = np.arange(0, 10, 2)\n",
    "print(seq_1)\n",
    "print()\n",
    "\n",
    "\n",
    "# 지정 범위 안에서 동일 간격으로 숫자 생성\n",
    "# 0~1 5개로 구분\n",
    "linspace = np.linspace(1, 10, 5)\n",
    "print(linspace)\n",
    "print()\n",
    "\n",
    "\n",
    "# 배열의 속성 확인\n",
    "print('배열의 속성 확인')\n",
    "\n",
    "arr1= np.array([[1,2,3], [4,5,6]])\n",
    "print(type(arr1))\n",
    "print(arr1.shape)   # 배열의 크기 (행, 열)\n",
    "print(arr1.ndim)    # 배열의 차원\n",
    "print(arr1.size)    # 요소의 갯수\n",
    "print(arr1.dtype)   # 데이터 타입\n"
   ]
  },
  {
   "cell_type": "code",
   "execution_count": null,
   "id": "84199a28",
   "metadata": {},
   "outputs": [],
   "source": []
  }
 ],
 "metadata": {
  "kernelspec": {
   "display_name": ".venv",
   "language": "python",
   "name": "python3"
  },
  "language_info": {
   "codemirror_mode": {
    "name": "ipython",
    "version": 3
   },
   "file_extension": ".py",
   "mimetype": "text/x-python",
   "name": "python",
   "nbconvert_exporter": "python",
   "pygments_lexer": "ipython3",
   "version": "3.13.4"
  }
 },
 "nbformat": 4,
 "nbformat_minor": 5
}
