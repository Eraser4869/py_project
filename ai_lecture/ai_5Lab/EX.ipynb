{
 "cells": [
  {
   "cell_type": "markdown",
   "id": "9cfbd435",
   "metadata": {},
   "source": [
    "## 데이터 전처리 EX-1: 결측치 처리"
   ]
  },
  {
   "cell_type": "code",
   "execution_count": 19,
   "id": "643ffb70",
   "metadata": {},
   "outputs": [],
   "source": [
    "import pandas as pd"
   ]
  },
  {
   "cell_type": "code",
   "execution_count": 20,
   "id": "1ea2d114",
   "metadata": {},
   "outputs": [
    {
     "name": "stdout",
     "output_type": "stream",
     "text": [
      "\n",
      "결측값 확인: \n",
      " PassengerId      0\n",
      "Survived         0\n",
      "Pclass           0\n",
      "Name             0\n",
      "Sex              0\n",
      "Age            177\n",
      "SibSp            0\n",
      "Parch            0\n",
      "Ticket           0\n",
      "Fare             0\n",
      "Cabin          687\n",
      "Embarked         2\n",
      "dtype: int64\n"
     ]
    }
   ],
   "source": [
    "# 데이터 파일 불러오기\n",
    "data1 = pd.read_csv('data/train.csv', encoding='cp949', low_memory=False)\n",
    "\n",
    "print('\\n결측값 확인: \\n', data1.isnull().sum()) "
   ]
  },
  {
   "cell_type": "code",
   "execution_count": 22,
   "id": "99c827dc",
   "metadata": {},
   "outputs": [
    {
     "name": "stdout",
     "output_type": "stream",
     "text": [
      "\n",
      "결측값 확인: \n",
      " PassengerId      0\n",
      "Survived         0\n",
      "Pclass           0\n",
      "Name             0\n",
      "Sex              0\n",
      "Age              0\n",
      "SibSp            0\n",
      "Parch            0\n",
      "Ticket           0\n",
      "Fare             0\n",
      "Cabin          687\n",
      "Embarked         2\n",
      "dtype: int64\n",
      "\n",
      "결측값 확인: \n",
      " PassengerId      0\n",
      "Survived         0\n",
      "Pclass           0\n",
      "Name             0\n",
      "Sex              0\n",
      "Age              0\n",
      "SibSp            0\n",
      "Parch            0\n",
      "Ticket           0\n",
      "Fare             0\n",
      "Cabin          687\n",
      "Embarked         0\n",
      "dtype: int64\n",
      "\n",
      "결측값 확인: \n",
      " PassengerId    0\n",
      "Survived       0\n",
      "Pclass         0\n",
      "Name           0\n",
      "Sex            0\n",
      "Age            0\n",
      "SibSp          0\n",
      "Parch          0\n",
      "Ticket         0\n",
      "Fare           0\n",
      "Cabin          0\n",
      "Embarked       0\n",
      "dtype: int64\n"
     ]
    }
   ],
   "source": [
    "data1_fixed = data1.copy()    # 원본 보존\n",
    "\n",
    "# Age의 결측치 평균값으로 대체\n",
    "Age_mean = data1_fixed['Age'].mean()   # Age 평균값\n",
    "data1_fixed['Age'] = data1_fixed['Age'].fillna(Age_mean)\n",
    "\n",
    "# Age 결측값 확인\n",
    "print('\\n결측값 확인: \\n', data1_fixed.isnull().sum()) \n",
    "\n",
    "\n",
    "# Embarked의 결측치 최빈값으로 대체\n",
    "Embarked_mode = data1_fixed['Embarked'].mode()[0] # 최빈값이 다수일 경우 첫번째 최빈값 반환\n",
    "data1_fixed['Embarked'] = data1_fixed['Embarked'].fillna(Embarked_mode)\n",
    "\n",
    "# Age와 Embarked 결측값 확인\n",
    "print('\\n결측값 확인: \\n', data1_fixed.isnull().sum()) \n",
    "\n",
    "\n",
    "# Cabin의 결측치 제거\n",
    "data1_fixed = data1_fixed.dropna(subset=['Cabin'])    # 결측값이 있는 행 전체 삭제\n",
    "\n",
    "# Age와 Embarked와 Cabin 결측값 확인\n",
    "print('\\n결측값 확인: \\n', data1_fixed.isnull().sum()) "
   ]
  },
  {
   "cell_type": "markdown",
   "id": "ffc936af",
   "metadata": {},
   "source": [
    "## 데이터 전처리 EX-2: 중복 데이터 제거"
   ]
  },
  {
   "cell_type": "code",
   "execution_count": 18,
   "id": "e4bc1f46",
   "metadata": {},
   "outputs": [],
   "source": [
    "import pandas as pd"
   ]
  },
  {
   "cell_type": "code",
   "execution_count": 25,
   "id": "468ecadd",
   "metadata": {},
   "outputs": [
    {
     "name": "stdout",
     "output_type": "stream",
     "text": [
      "\n",
      "중복값 확인: 8\n"
     ]
    }
   ],
   "source": [
    "data2 = pd.read_csv('data/sales.csv', encoding='cp949', low_memory=False)\n",
    "\n",
    "print('\\n중복값 확인:', data2.duplicated().sum()) # 중복값 확인"
   ]
  },
  {
   "cell_type": "code",
   "execution_count": 27,
   "id": "e4bd4bbb",
   "metadata": {},
   "outputs": [
    {
     "name": "stdout",
     "output_type": "stream",
     "text": [
      "   ProductID ProductName  Price  Quantity\n",
      "0        101           A    100         1\n",
      "1        102           B    200         2\n",
      "2        103           C    300         3\n",
      "3        104           D    400         4\n",
      "7        105           E    500         5\n",
      "8        106           F    600         6\n"
     ]
    }
   ],
   "source": [
    "data2_fixed = data2.copy()    # 원본 보존\n",
    "\n",
    "# 고유한 값이어야 하는 ProductID를 기준으로 중복 행 삭제\n",
    "data2_fixed = data2.drop_duplicates(subset=['ProductID'], keep='first')\n",
    "\n",
    "print(data2_fixed)\n",
    "\n",
    "\n",
    "# 4. CSV 파일로 내보내기\n",
    "# data2_fixed.to_csv('sales.csv', index=False)"
   ]
  },
  {
   "cell_type": "markdown",
   "id": "dc437d5b",
   "metadata": {},
   "source": [
    "## 데이터 전처리 EX-3: 이상치 제거 (IQR 이용)"
   ]
  },
  {
   "cell_type": "code",
   "execution_count": 28,
   "id": "0f2d264c",
   "metadata": {},
   "outputs": [],
   "source": [
    "import pandas as pd"
   ]
  },
  {
   "cell_type": "code",
   "execution_count": 44,
   "id": "b245c5df",
   "metadata": {},
   "outputs": [
    {
     "name": "stdout",
     "output_type": "stream",
     "text": [
      "원본 데이터 수: 53940\n",
      "         Unnamed: 0         carat         depth         table         price  \\\n",
      "count  53940.000000  53940.000000  53940.000000  53940.000000  53940.000000   \n",
      "mean   26970.500000      0.797940     61.749405     57.457184   3932.799722   \n",
      "std    15571.281097      0.474011      1.432621      2.234491   3989.439738   \n",
      "min        1.000000      0.200000     43.000000     43.000000    326.000000   \n",
      "25%    13485.750000      0.400000     61.000000     56.000000    950.000000   \n",
      "50%    26970.500000      0.700000     61.800000     57.000000   2401.000000   \n",
      "75%    40455.250000      1.040000     62.500000     59.000000   5324.250000   \n",
      "max    53940.000000      5.010000     79.000000     95.000000  18823.000000   \n",
      "\n",
      "                  x             y             z  \n",
      "count  53940.000000  53940.000000  53940.000000  \n",
      "mean       5.731157      5.734526      3.538734  \n",
      "std        1.121761      1.142135      0.705699  \n",
      "min        0.000000      0.000000      0.000000  \n",
      "25%        4.710000      4.720000      2.910000  \n",
      "50%        5.700000      5.710000      3.530000  \n",
      "75%        6.540000      6.540000      4.040000  \n",
      "max       10.740000     58.900000     31.800000  \n"
     ]
    }
   ],
   "source": [
    "data3 = pd.read_csv('data/diamonds.csv', encoding='cp949', low_memory=False)\n",
    "\n",
    "print(f'원본 데이터 수: {len(data3)}')\n",
    "print(data3.describe())"
   ]
  },
  {
   "cell_type": "code",
   "execution_count": null,
   "id": "b7a293e7",
   "metadata": {},
   "outputs": [
    {
     "name": "stdout",
     "output_type": "stream",
     "text": [
      "하한값: -0.56 / 상한값: 2.00\n",
      "이상치 제거 후 데이터 수: 52051\n",
      "         Unnamed: 0         carat         depth         table         price  \\\n",
      "count  52051.000000  52051.000000  52051.000000  52051.000000  52051.000000   \n",
      "mean   27020.741830      0.748738     61.748679     57.426274   3532.925496   \n",
      "std    15843.897556      0.402096      1.418252      2.223445   3414.985354   \n",
      "min        1.000000      0.200000     43.000000     43.000000    326.000000   \n",
      "25%    13015.500000      0.390000     61.100000     56.000000    928.000000   \n",
      "50%    27915.000000      0.700000     61.800000     57.000000   2289.000000   \n",
      "75%    40927.500000      1.020000     62.500000     59.000000   4958.000000   \n",
      "max    53940.000000      2.000000     79.000000     79.000000  18818.000000   \n",
      "\n",
      "                  x             y             z  \n",
      "count  52051.000000  52051.000000  52051.000000  \n",
      "mean       5.639300      5.643634      3.482717  \n",
      "std        1.028895      1.054333      0.649709  \n",
      "min        0.000000      0.000000      0.000000  \n",
      "25%        4.690000      4.700000      2.890000  \n",
      "50%        5.650000      5.660000      3.490000  \n",
      "75%        6.480000      6.470000      4.010000  \n",
      "max        8.420000     58.900000     31.800000  \n"
     ]
    }
   ],
   "source": [
    "data3_fixed = data3.copy()    # 원본 보존\n",
    "\n",
    "# IQR로 이상치 제거\n",
    "Q1 = data3['carat'].quantile(0.25)  # 1 사분위수\n",
    "Q3 = data3['carat'].quantile(0.75)  # 3 사분위수\n",
    "IQR = Q3-Q1\n",
    "\n",
    "# 이상치 경계\n",
    "lower_bound = Q1-1.5*IQR    # 하한\n",
    "upper_bound = Q3+1.5*IQR    # 상한\n",
    "\n",
    "# 이상치 제거\n",
    "data3_fixed = data3_fixed[(data3_fixed['carat'] >= lower_bound) & (data3_fixed['carat'] <= upper_bound)]\n",
    "\n",
    "# 출력\n",
    "print(f'하한값: {lower_bound:.2f} / 상한값: {upper_bound:.2f}')\n",
    "print(f'이상치 제거 후 데이터 수: {len(data3_fixed)}')\n",
    "print(data3_fixed.describe())"
   ]
  },
  {
   "cell_type": "markdown",
   "id": "67eca98c",
   "metadata": {},
   "source": [
    "## 데이터 전처리 EX-4: 범주형 데이터 인코딩"
   ]
  },
  {
   "cell_type": "code",
   "execution_count": 65,
   "id": "ac1eba54",
   "metadata": {},
   "outputs": [],
   "source": [
    "import pandas as pd\n",
    "from sklearn.preprocessing import LabelEncoder"
   ]
  },
  {
   "cell_type": "code",
   "execution_count": 66,
   "id": "d6fc0e0d",
   "metadata": {},
   "outputs": [
    {
     "name": "stdout",
     "output_type": "stream",
     "text": [
      "원본 데이터 수: 48842\n",
      "                age        fnlwgt  educational-num  capital-gain  \\\n",
      "count  48842.000000  4.884200e+04     48842.000000  48842.000000   \n",
      "mean      38.643585  1.896641e+05        10.078089   1079.067626   \n",
      "std       13.710510  1.056040e+05         2.570973   7452.019058   \n",
      "min       17.000000  1.228500e+04         1.000000      0.000000   \n",
      "25%       28.000000  1.175505e+05         9.000000      0.000000   \n",
      "50%       37.000000  1.781445e+05        10.000000      0.000000   \n",
      "75%       48.000000  2.376420e+05        12.000000      0.000000   \n",
      "max       90.000000  1.490400e+06        16.000000  99999.000000   \n",
      "\n",
      "       capital-loss  hours-per-week  \n",
      "count  48842.000000    48842.000000  \n",
      "mean      87.502314       40.422382  \n",
      "std      403.004552       12.391444  \n",
      "min        0.000000        1.000000  \n",
      "25%        0.000000       40.000000  \n",
      "50%        0.000000       40.000000  \n",
      "75%        0.000000       45.000000  \n",
      "max     4356.000000       99.000000  \n"
     ]
    }
   ],
   "source": [
    "data4 = pd.read_csv('data/adult.csv', encoding='cp949', low_memory=False)\n",
    "\n",
    "print(f'원본 데이터 수: {len(data4)}')\n",
    "print(data4.describe())"
   ]
  },
  {
   "cell_type": "code",
   "execution_count": 67,
   "id": "a5b0de0a",
   "metadata": {},
   "outputs": [
    {
     "name": "stdout",
     "output_type": "stream",
     "text": [
      "\n",
      "결측값 확인: \n",
      " age                0\n",
      "workclass          0\n",
      "fnlwgt             0\n",
      "education          0\n",
      "educational-num    0\n",
      "marital-status     0\n",
      "occupation         0\n",
      "relationship       0\n",
      "race               0\n",
      "gender             0\n",
      "capital-gain       0\n",
      "capital-loss       0\n",
      "hours-per-week     0\n",
      "native-country     0\n",
      "income             0\n",
      "dtype: int64\n"
     ]
    }
   ],
   "source": [
    "data4_fixed = data4.copy()    # 원본 보존\n",
    "\n",
    "print('\\n결측값 확인: \\n', data4_fixed.isnull().sum())"
   ]
  },
  {
   "cell_type": "code",
   "execution_count": null,
   "id": "9e8ae625",
   "metadata": {},
   "outputs": [
    {
     "name": "stdout",
     "output_type": "stream",
     "text": [
      "   age  workclass  fnlwgt  education  educational-num  marital-status  \\\n",
      "0   25          4  226802          1                7               4   \n",
      "1   38          4   89814         11                9               2   \n",
      "2   28          2  336951          7               12               2   \n",
      "3   44          4  160323         15               10               2   \n",
      "4   18          0  103497         15               10               4   \n",
      "\n",
      "   occupation  relationship  race  gender  capital-gain  capital-loss  \\\n",
      "0           7             3     2       1             0             0   \n",
      "1           5             0     4       1             0             0   \n",
      "2          11             0     4       1             0             0   \n",
      "3           7             0     2       1          7688             0   \n",
      "4           0             3     4       0             0             0   \n",
      "\n",
      "   hours-per-week  native-country income  \n",
      "0              40              39  <=50K  \n",
      "1              50              39  <=50K  \n",
      "2              40              39   >50K  \n",
      "3              40              39   >50K  \n",
      "4              30              39  <=50K  \n"
     ]
    }
   ],
   "source": [
    "# 인코딩 할 콜럼 지정\n",
    "ctgry_cols_encode = [\n",
    "    'workclass', 'education', 'marital-status', 'occupation', 'relationship', 'race', 'gender', 'native-country'\n",
    "]\n",
    "\n",
    "# 각 열의 LabelEncoder 객체를 저장할 딕셔너리\n",
    "# 나중에 인코딩된 데이터를 원래 상태로 되돌리거나 인코딩 매핑을 확인할 때 필요\n",
    "label_encoders = {}\n",
    "\n",
    "\n",
    "\n",
    "\n",
    "# 인코딩\n",
    "# EX-5의 StandardScaler는 한 번에 여러 열을 처리할 수 있지만, LabelEncoder는 일반적으로 한 번에 한 열만 처리하여 루프 필요\n",
    "for col in ctgry_cols_encode:\n",
    "    if col in data4_fixed.columns: # 데이터프레임에 해당 콜럼이 있는지 확인\n",
    "        le = LabelEncoder()\n",
    "        # fit_transform()으로 변환하고 결과를 원래 열에 할당\n",
    "        data4_fixed[col] = le.fit_transform(data4_fixed[col])\n",
    "        # 인코더 객체 저장\n",
    "        label_encoders[col] = le\n",
    "    else:\n",
    "        print(f\"경고: 열 '{col}'이 데이터 프레임에 없습니다.\")\n",
    "\n",
    "\n",
    "print(data4_fixed.head())\n"
   ]
  },
  {
   "cell_type": "markdown",
   "id": "6268dc7a",
   "metadata": {},
   "source": [
    "## 데이터 전처리 EX-5: 데이터 스케일링"
   ]
  },
  {
   "cell_type": "code",
   "execution_count": null,
   "id": "7a6aa288",
   "metadata": {},
   "outputs": [],
   "source": [
    "import pandas as pd\n",
    "from sklearn.preprocessing import StandardScaler"
   ]
  },
  {
   "cell_type": "code",
   "execution_count": 71,
   "id": "b38703db",
   "metadata": {},
   "outputs": [
    {
     "name": "stdout",
     "output_type": "stream",
     "text": [
      "원본 데이터 수: 1599\n",
      "       fixed acidity  volatile acidity  citric acid  residual sugar  \\\n",
      "count    1599.000000       1599.000000  1599.000000     1599.000000   \n",
      "mean        8.319637          0.527821     0.270976        2.538806   \n",
      "std         1.741096          0.179060     0.194801        1.409928   \n",
      "min         4.600000          0.120000     0.000000        0.900000   \n",
      "25%         7.100000          0.390000     0.090000        1.900000   \n",
      "50%         7.900000          0.520000     0.260000        2.200000   \n",
      "75%         9.200000          0.640000     0.420000        2.600000   \n",
      "max        15.900000          1.580000     1.000000       15.500000   \n",
      "\n",
      "         chlorides  free sulfur dioxide  total sulfur dioxide      density  \\\n",
      "count  1599.000000          1599.000000           1599.000000  1599.000000   \n",
      "mean      0.087467            15.874922             46.467792     0.996747   \n",
      "std       0.047065            10.460157             32.895324     0.001887   \n",
      "min       0.012000             1.000000              6.000000     0.990070   \n",
      "25%       0.070000             7.000000             22.000000     0.995600   \n",
      "50%       0.079000            14.000000             38.000000     0.996750   \n",
      "75%       0.090000            21.000000             62.000000     0.997835   \n",
      "max       0.611000            72.000000            289.000000     1.003690   \n",
      "\n",
      "                pH    sulphates      alcohol      quality  \n",
      "count  1599.000000  1599.000000  1599.000000  1599.000000  \n",
      "mean      3.311113     0.658149    10.422983     5.636023  \n",
      "std       0.154386     0.169507     1.065668     0.807569  \n",
      "min       2.740000     0.330000     8.400000     3.000000  \n",
      "25%       3.210000     0.550000     9.500000     5.000000  \n",
      "50%       3.310000     0.620000    10.200000     6.000000  \n",
      "75%       3.400000     0.730000    11.100000     6.000000  \n",
      "max       4.010000     2.000000    14.900000     8.000000  \n"
     ]
    }
   ],
   "source": [
    "data5 = pd.read_csv('data/wineQuality-red.csv', encoding='cp949', low_memory=False)\n",
    "\n",
    "print(f'원본 데이터 수: {len(data5)}')\n",
    "print(data5.describe())"
   ]
  },
  {
   "cell_type": "code",
   "execution_count": 72,
   "id": "900fc15e",
   "metadata": {},
   "outputs": [
    {
     "name": "stdout",
     "output_type": "stream",
     "text": [
      "\n",
      "결측값 확인: \n",
      " fixed acidity           0\n",
      "volatile acidity        0\n",
      "citric acid             0\n",
      "residual sugar          0\n",
      "chlorides               0\n",
      "free sulfur dioxide     0\n",
      "total sulfur dioxide    0\n",
      "density                 0\n",
      "pH                      0\n",
      "sulphates               0\n",
      "alcohol                 0\n",
      "quality                 0\n",
      "dtype: int64\n"
     ]
    }
   ],
   "source": [
    "data5_fixed = data5.copy()    # 원본 보존\n",
    "\n",
    "print('\\n결측값 확인: \\n', data5_fixed.isnull().sum())"
   ]
  },
  {
   "cell_type": "code",
   "execution_count": null,
   "id": "a966a807",
   "metadata": {},
   "outputs": [
    {
     "name": "stdout",
     "output_type": "stream",
     "text": [
      "   fixed acidity  volatile acidity  citric acid  residual sugar  chlorides  \\\n",
      "0      -0.528360          0.961877    -1.391472       -0.453218  -0.243707   \n",
      "1      -0.298547          1.967442    -1.391472        0.043416   0.223875   \n",
      "2      -0.298547          1.297065    -1.186070       -0.169427   0.096353   \n",
      "3       1.654856         -1.384443     1.484154       -0.453218  -0.264960   \n",
      "4      -0.528360          0.961877    -1.391472       -0.453218  -0.243707   \n",
      "\n",
      "   free sulfur dioxide  total sulfur dioxide  density    pH  sulphates  \\\n",
      "0                 11.0                  34.0   0.9978  3.51       0.56   \n",
      "1                 25.0                  67.0   0.9968  3.20       0.68   \n",
      "2                 15.0                  54.0   0.9970  3.26       0.65   \n",
      "3                 17.0                  60.0   0.9980  3.16       0.58   \n",
      "4                 11.0                  34.0   0.9978  3.51       0.56   \n",
      "\n",
      "   alcohol  quality  \n",
      "0      9.4        5  \n",
      "1      9.8        5  \n",
      "2      9.8        5  \n",
      "3      9.8        6  \n",
      "4      9.4        5  \n"
     ]
    }
   ],
   "source": [
    "# 스케일 대상 정의\n",
    "columns_to_scale = [\n",
    "    'fixed acidity',\n",
    "    'volatile acidity',\n",
    "    'citric acid',\n",
    "    'residual sugar',\n",
    "    'chlorides'\n",
    "]\n",
    "\n",
    "\n",
    "# 스케일러 정의\n",
    "# StandardScaler는 평균을 0, 표준편차를 1로 만들어 데이터 표준화\n",
    "s = StandardScaler()\n",
    "data5_fixed[columns_to_scale] = s.fit_transform(data5_fixed[columns_to_scale])\n",
    "\n",
    "print(data5_fixed.head())"
   ]
  },
  {
   "cell_type": "code",
   "execution_count": 74,
   "id": "293c6078",
   "metadata": {},
   "outputs": [
    {
     "name": "stdout",
     "output_type": "stream",
     "text": [
      "       fixed acidity  volatile acidity   citric acid  residual sugar  \\\n",
      "count   1.599000e+03      1.599000e+03  1.599000e+03    1.599000e+03   \n",
      "mean    3.554936e-16      1.733031e-16 -8.887339e-17   -1.244227e-16   \n",
      "std     1.000313e+00      1.000313e+00  1.000313e+00    1.000313e+00   \n",
      "min    -2.137045e+00     -2.278280e+00 -1.391472e+00   -1.162696e+00   \n",
      "25%    -7.007187e-01     -7.699311e-01 -9.293181e-01   -4.532184e-01   \n",
      "50%    -2.410944e-01     -4.368911e-02 -5.636026e-02   -2.403750e-01   \n",
      "75%     5.057952e-01      6.266881e-01  7.652471e-01    4.341614e-02   \n",
      "max     4.355149e+00      5.877976e+00  3.743574e+00    9.195681e+00   \n",
      "\n",
      "          chlorides  \n",
      "count  1.599000e+03  \n",
      "mean   2.132961e-16  \n",
      "std    1.000313e+00  \n",
      "min   -1.603945e+00  \n",
      "25%   -3.712290e-01  \n",
      "50%   -1.799455e-01  \n",
      "75%    5.384542e-02  \n",
      "max    1.112703e+01  \n"
     ]
    }
   ],
   "source": [
    "print(data5_fixed[columns_to_scale].describe())"
   ]
  }
 ],
 "metadata": {
  "kernelspec": {
   "display_name": ".venv",
   "language": "python",
   "name": "python3"
  },
  "language_info": {
   "codemirror_mode": {
    "name": "ipython",
    "version": 3
   },
   "file_extension": ".py",
   "mimetype": "text/x-python",
   "name": "python",
   "nbconvert_exporter": "python",
   "pygments_lexer": "ipython3",
   "version": "3.13.4"
  }
 },
 "nbformat": 4,
 "nbformat_minor": 5
}
