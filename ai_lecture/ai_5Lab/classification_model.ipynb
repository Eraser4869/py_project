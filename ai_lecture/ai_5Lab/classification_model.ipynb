{
 "cells": [
  {
   "cell_type": "markdown",
   "id": "26c76072",
   "metadata": {},
   "source": [
    "## 분류 모델 1번"
   ]
  },
  {
   "cell_type": "code",
   "execution_count": 1,
   "id": "edd4e0ae",
   "metadata": {},
   "outputs": [],
   "source": [
    "import pandas as pd\n",
    "from sklearn.model_selection import train_test_split\n",
    "from sklearn.preprocessing import StandardScaler\n",
    "from sklearn.linear_model import LogisticRegression\n",
    "from sklearn.metrics import accuracy_score, precision_score, recall_score, f1_score, confusion_matrix\n",
    "import matplotlib.pyplot as plt\n",
    "import seaborn as sns\n",
    "import numpy as np"
   ]
  },
  {
   "cell_type": "code",
   "execution_count": 2,
   "id": "3f49632b",
   "metadata": {},
   "outputs": [
    {
     "name": "stdout",
     "output_type": "stream",
     "text": [
      "데이터 로드 성공!\n",
      "원본 데이터 크기: (284807, 31)\n",
      "\n",
      "데이터셋 미리보기:\n",
      "   Time        V1        V2        V3        V4        V5        V6        V7  \\\n",
      "0   0.0 -1.359807 -0.072781  2.536347  1.378155 -0.338321  0.462388  0.239599   \n",
      "1   0.0  1.191857  0.266151  0.166480  0.448154  0.060018 -0.082361 -0.078803   \n",
      "2   1.0 -1.358354 -1.340163  1.773209  0.379780 -0.503198  1.800499  0.791461   \n",
      "3   1.0 -0.966272 -0.185226  1.792993 -0.863291 -0.010309  1.247203  0.237609   \n",
      "4   2.0 -1.158233  0.877737  1.548718  0.403034 -0.407193  0.095921  0.592941   \n",
      "\n",
      "         V8        V9  ...       V21       V22       V23       V24       V25  \\\n",
      "0  0.098698  0.363787  ... -0.018307  0.277838 -0.110474  0.066928  0.128539   \n",
      "1  0.085102 -0.255425  ... -0.225775 -0.638672  0.101288 -0.339846  0.167170   \n",
      "2  0.247676 -1.514654  ...  0.247998  0.771679  0.909412 -0.689281 -0.327642   \n",
      "3  0.377436 -1.387024  ... -0.108300  0.005274 -0.190321 -1.175575  0.647376   \n",
      "4 -0.270533  0.817739  ... -0.009431  0.798278 -0.137458  0.141267 -0.206010   \n",
      "\n",
      "        V26       V27       V28  Amount  Class  \n",
      "0 -0.189115  0.133558 -0.021053  149.62      0  \n",
      "1  0.125895 -0.008983  0.014724    2.69      0  \n",
      "2 -0.139097 -0.055353 -0.059752  378.66      0  \n",
      "3 -0.221929  0.062723  0.061458  123.50      0  \n",
      "4  0.502292  0.219422  0.215153   69.99      0  \n",
      "\n",
      "[5 rows x 31 columns]\n",
      "\n",
      "클래스(Class) 분포:\n",
      "Class\n",
      "0    284315\n",
      "1       492\n",
      "Name: count, dtype: int64\n",
      "정상 거래 비율: 99.83%\n",
      "사기 거래 비율: 0.17%\n"
     ]
    },
    {
     "data": {
      "image/png": "[encoded data removed]",
      "text/plain": [
       "<Figure size 600x400 with 1 Axes>"
      ]
     },
     "metadata": {},
     "output_type": "display_data"
    }
   ],
   "source": [
    "# 데이터 로드\n",
    "try:\n",
    "    df = pd.read_csv('data/creditcard.csv')\n",
    "    print(\"데이터 로드 성공!\")\n",
    "except FileNotFoundError:\n",
    "    print(\"Error: 'data/creditcard.csv' 파일을 찾을 수 없습니다. 파일 경로를 확인해주세요.\")\n",
    "    exit()\n",
    "\n",
    "print(f\"원본 데이터 크기: {df.shape}\")\n",
    "print(\"\\n데이터셋 미리보기:\")\n",
    "print(df.head())\n",
    "\n",
    "print(\"\\n클래스(Class) 분포:\")\n",
    "print(df['Class'].value_counts())\n",
    "print(f\"정상 거래 비율: {df['Class'].value_counts()[0] / len(df) * 100:.2f}%\")\n",
    "print(f\"사기 거래 비율: {df['Class'].value_counts()[1] / len(df) * 100:.2f}%\")\n",
    "\n",
    "# 불균형 시각화\n",
    "plt.figure(figsize=(6, 4))\n",
    "sns.countplot(x='Class', data=df)\n",
    "plt.title('Class Distribution (0: Normal, 1: Fraud)')\n",
    "plt.show()"
   ]
  },
  {
   "cell_type": "code",
   "execution_count": 3,
   "id": "bfed0fda",
   "metadata": {},
   "outputs": [
    {
     "name": "stdout",
     "output_type": "stream",
     "text": [
      "\n",
      "특성 데이터(X) 크기: (284807, 30)\n",
      "레이블 데이터(y) 크기: (284807,)\n"
     ]
    }
   ],
   "source": [
    "# 특성(X)과 레이블(y) 분리\n",
    "X = df.drop('Class', axis=1)\n",
    "y = df['Class']\n",
    "\n",
    "print(f\"\\n특성 데이터(X) 크기: {X.shape}\")\n",
    "print(f\"레이블 데이터(y) 크기: {y.shape}\")"
   ]
  },
  {
   "cell_type": "code",
   "execution_count": 4,
   "id": "152079ea",
   "metadata": {},
   "outputs": [
    {
     "name": "stdout",
     "output_type": "stream",
     "text": [
      "\n",
      "학습 세트 크기 (X_train, y_train): (199364, 30), (199364,)\n",
      "테스트 세트 크기 (X_test, y_test): (85443, 30), (85443,)\n",
      "\n",
      "학습 세트 Class 분포:\n",
      "Class\n",
      "0    0.998275\n",
      "1    0.001725\n",
      "Name: proportion, dtype: float64\n",
      "\n",
      "테스트 세트 Class 분포:\n",
      "Class\n",
      "0    0.998268\n",
      "1    0.001732\n",
      "Name: proportion, dtype: float64\n"
     ]
    }
   ],
   "source": [
    "# 데이터를 학습 세트와 테스트 세트로 분할\n",
    "X_train, X_test, y_train, y_test = train_test_split(X, y, test_size=0.3, random_state=42, stratify=y)\n",
    "\n",
    "print(f\"\\n학습 세트 크기 (X_train, y_train): {X_train.shape}, {y_train.shape}\")\n",
    "print(f\"테스트 세트 크기 (X_test, y_test): {X_test.shape}, {y_test.shape}\")\n",
    "\n",
    "print(\"\\n학습 세트 Class 분포:\")\n",
    "print(y_train.value_counts(normalize=True))\n",
    "print(\"\\n테스트 세트 Class 분포:\")\n",
    "print(y_test.value_counts(normalize=True))"
   ]
  },
  {
   "cell_type": "code",
   "execution_count": null,
   "id": "6c0cf669",
   "metadata": {},
   "outputs": [
    {
     "name": "stdout",
     "output_type": "stream",
     "text": [
      "\n",
      "스케일링 후 X_train_scaled head():\n",
      "       Time        V1        V2        V3        V4        V5        V6  \\\n",
      "0  1.257992 -0.005578  0.427819  0.108347 -0.534196  0.425864 -0.489116   \n",
      "1  0.939713  0.904109 -0.110138 -1.449361  0.840920  0.442776 -0.760782   \n",
      "2 -0.528960 -0.550544 -2.676901 -0.919977  0.331363 -1.496917 -0.573444   \n",
      "3 -0.977583 -0.263360  0.619460 -0.403529 -0.551463  1.783666  2.495035   \n",
      "4  0.725456 -0.325205  0.129183  0.187309 -1.261520  1.885635  3.011145   \n",
      "\n",
      "         V7        V8        V9  ...       V20       V21       V22       V23  \\\n",
      "0  0.676802 -0.000318 -0.169658  ... -0.048050 -0.313204 -0.788791  0.067073   \n",
      "1  0.736596 -0.322162 -0.291515  ... -0.037888  0.379249  0.729482 -0.372721   \n",
      "2  1.283049 -0.590546 -1.174846  ...  2.820226  0.467427 -1.973705 -1.756150   \n",
      "3  0.037183  0.663671 -0.295311  ...  0.292249 -0.261482 -0.975989  0.231863   \n",
      "4 -0.159076  0.782832  0.430014  ...  0.199993  0.226255  1.045051 -0.515334   \n",
      "\n",
      "        V24       V25       V26       V27       V28    Amount  \n",
      "0 -0.596329 -0.947613  0.295700  0.579623  0.252462 -0.321082  \n",
      "1 -0.565282  0.945219 -0.887094 -0.183513 -0.173725  0.243475  \n",
      "2  0.836216 -0.267770  1.804491 -0.776446  0.689448  4.797594  \n",
      "3  1.560567 -1.510087  0.082795  0.027490  0.769753 -0.331514  \n",
      "4  1.269290 -0.160452  1.270985  0.182557 -0.102717 -0.331514  \n",
      "\n",
      "[5 rows x 30 columns]\n",
      "\n",
      "스케일링 후 X_test_scaled head():\n",
      "       Time        V1        V2        V3        V4        V5        V6  \\\n",
      "0  0.682163 -1.290166  1.141618 -0.552186 -0.778605 -1.518013  0.274967   \n",
      "1  0.478709 -0.127024  0.667119  0.136478  0.294348  0.867790 -0.262612   \n",
      "2  1.125121  0.290019 -1.518865 -0.732197  1.179013 -0.813922  0.298169   \n",
      "3 -0.571074  0.676588  0.138071 -0.202415  0.269254  0.171765 -0.211924   \n",
      "4 -1.865457  0.572798 -0.098709  0.880624  0.726830 -0.642488  0.151601   \n",
      "\n",
      "         V7        V8        V9  ...       V20       V21       V22       V23  \\\n",
      "0 -2.192850 -2.954897 -0.441581  ... -2.521921  5.846428 -2.985208  1.634639   \n",
      "1  1.097473 -0.110323 -0.872978  ... -0.163666  0.179119  0.687386 -0.629170   \n",
      "2  0.152764  0.135801  0.763303  ...  1.339504  0.429026 -1.048129 -0.291248   \n",
      "3  0.023844 -0.065631  0.204960  ... -0.064279 -0.512987 -1.582772 -0.077001   \n",
      "4 -0.660679  0.137291  2.093317  ... -0.252313 -0.293112 -0.269874  0.115265   \n",
      "\n",
      "        V24       V25       V26       V27       V28    Amount  \n",
      "0 -0.398441 -2.098553 -0.986111 -0.433508 -0.252388 -0.201469  \n",
      "1 -0.650012  0.448547 -1.017819  0.353919  0.413372 -0.312626  \n",
      "2  0.984858 -1.458124 -2.175460 -0.236839  0.267408  2.416826  \n",
      "3 -1.775644  0.721484  0.377385 -0.076836  0.051500 -0.290023  \n",
      "4  0.075491  0.260306  0.639875  0.003794  0.052020 -0.281092  \n",
      "\n",
      "[5 rows x 30 columns]\n"
     ]
    }
   ],
   "source": [
    "# 데이터 스케일링\n",
    "scaler = StandardScaler()\n",
    "\n",
    "# 학습 세트에 fit_transform 적용\n",
    "X_train_scaled = scaler.fit_transform(X_train)\n",
    "# 테스트 세트에는 transform만 적용 (학습 세트의 평균과 표준편차를 사용)\n",
    "X_test_scaled = scaler.transform(X_test)\n",
    "\n",
    "# 스케일링된 데이터를 다시 DataFrame으로 변환 (선택 사항)\n",
    "X_train_scaled = pd.DataFrame(X_train_scaled, columns=X_train.columns)\n",
    "X_test_scaled = pd.DataFrame(X_test_scaled, columns=X_test.columns)\n",
    "\n",
    "print(\"\\n스케일링 후 X_train_scaled head():\")\n",
    "print(X_train_scaled.head())\n",
    "print(\"\\n스케일링 후 X_test_scaled head():\")\n",
    "print(X_test_scaled.head())"
   ]
  },
  {
   "cell_type": "code",
   "execution_count": 6,
   "id": "f52c4f37",
   "metadata": {},
   "outputs": [
    {
     "name": "stderr",
     "output_type": "stream",
     "text": [
      "c:\\project\\py_project\\.venv\\Lib\\site-packages\\sklearn\\linear_model\\_logistic.py:1297: UserWarning: 'n_jobs' > 1 does not have any effect when 'solver' is set to 'liblinear'. Got 'n_jobs' = 12.\n",
      "  warnings.warn(\n"
     ]
    },
    {
     "name": "stdout",
     "output_type": "stream",
     "text": [
      "\n",
      "Logistic Regression 모델 학습 완료!\n"
     ]
    }
   ],
   "source": [
    "# Logistic Regression 모델 초기화 및 학습\n",
    "log_reg_model = LogisticRegression(solver='liblinear', random_state=42, n_jobs=-1) # n_jobs=-1은 모든 코어 사용\n",
    "log_reg_model.fit(X_train_scaled, y_train)\n",
    "\n",
    "print(\"\\nLogistic Regression 모델 학습 완료!\")"
   ]
  },
  {
   "cell_type": "code",
   "execution_count": 7,
   "id": "fdf2b138",
   "metadata": {},
   "outputs": [
    {
     "name": "stdout",
     "output_type": "stream",
     "text": [
      "\n",
      "--- 모델 평가 ---\n",
      "정확도 (Accuracy): 0.9992\n",
      "정밀도 (Precision): 0.8611\n",
      "재현율 (Recall): 0.6284\n",
      "F1-Score: 0.7266\n"
     ]
    },
    {
     "data": {
      "image/png": "[encoded data removed]",
      "text/plain": [
       "<Figure size 600x500 with 2 Axes>"
      ]
     },
     "metadata": {},
     "output_type": "display_data"
    },
    {
     "name": "stdout",
     "output_type": "stream",
     "text": [
      "\n",
      "혼동 행렬:\n",
      "TN (실제 정상, 예측 정상): 85280\n",
      "FP (실제 정상, 예측 사기): 15\n",
      "FN (실제 사기, 예측 정상): 55\n",
      "TP (실제 사기, 예측 사기): 93\n"
     ]
    }
   ],
   "source": [
    "# 테스트 세트에 대한 예측 수행\n",
    "y_pred = log_reg_model.predict(X_test_scaled)\n",
    "y_proba = log_reg_model.predict_proba(X_test_scaled)[:, 1] # 사기(1)일 확률\n",
    "\n",
    "# 평가 지표 출력\n",
    "print(\"\\n--- 모델 평가 ---\")\n",
    "print(f\"정확도 (Accuracy): {accuracy_score(y_test, y_pred):.4f}\")\n",
    "print(f\"정밀도 (Precision): {precision_score(y_test, y_pred):.4f}\")\n",
    "print(f\"재현율 (Recall): {recall_score(y_test, y_pred):.4f}\")\n",
    "print(f\"F1-Score: {f1_score(y_test, y_pred):.4f}\")\n",
    "\n",
    "# 혼동 행렬 시각화\n",
    "cm = confusion_matrix(y_test, y_pred)\n",
    "plt.figure(figsize=(6, 5))\n",
    "sns.heatmap(cm, annot=True, fmt='d', cmap='Blues',\n",
    "            xticklabels=['Normal (0)', 'Fraud (1)'],\n",
    "            yticklabels=['Normal (0)', 'Fraud (1)'])\n",
    "plt.xlabel('Predicted Label')\n",
    "plt.ylabel('True Label')\n",
    "plt.title('Confusion Matrix')\n",
    "plt.show()\n",
    "\n",
    "print(\"\\n혼동 행렬:\")\n",
    "print(f\"TN (실제 정상, 예측 정상): {cm[0, 0]}\")\n",
    "print(f\"FP (실제 정상, 예측 사기): {cm[0, 1]}\")\n",
    "print(f\"FN (실제 사기, 예측 정상): {cm[1, 0]}\")\n",
    "print(f\"TP (실제 사기, 예측 사기): {cm[1, 1]}\")"
   ]
  },
  {
   "cell_type": "markdown",
   "id": "93fcd064",
   "metadata": {},
   "source": [
    "### 결과 분석 및 고려사항\n",
    "\n",
    "- 클래스 불균형: 초기 데이터 탐색에서 볼 수 있듯이, 사기 거래(Class=1)의 비율이 극히 낮다. (0.17% 정도)\n",
    "\n",
    "- 정확도(Accuracy): 정확도는 전체 예측 중 올바르게 예측한 비율. 불균형 데이터에서는 정확도가 높게 나올 수 있지만, 이는 단순히 다수의 클래스(정상 거래)만 잘 맞춰도 높게 나올 수 있으므로 주의. 예를 들어, 모든 거래를 '정상'으로만 예측해도 99% 이상의 정확도.\n",
    "\n",
    "- 정밀도(Precision): 모델이 '사기'라고 예측한 것들 중에서 실제로 사기인 비율입니다. 오탐(False Positive) 감소에 중요. (정상 거래를 사기로 잘못 판단하는 경우)\n",
    "\n",
    "- 재현율(Recall): 실제 사기 거래 중에서 모델이 '사기'라고 올바르게 탐지한 비율. 미탐(False Negative)을 감소에 중요. (실제 사기 거래를 놓치는 경우)\n",
    "\n",
    "- F1-Score: 정밀도와 재현율의 조화 평균. 둘 중 하나만 높고 다른 하나는 낮은 경우를 보정.\n",
    "\n",
    "- 혼동 행렬(Confusion Matrix): 모델의 예측 결과를 2x2 테이블로 시각화하여 제시. 이를 통해 모델이 어떤 유형의 오류(False Positive, False Negative)를 범하는지 직관적으로 파악 가능. 특히 사기 탐지에서는 FN(실제 사기를 놓치는 것)의 비용이 매우 크므로, 재현율을 높이는 것이 중요한 경우가 다수.\n",
    "    1. TN (True Negative): 실제 정상 거래를 정상으로 올바르게 예측한 수\n",
    "    2. FP (False Positive): 실제 정상 거래를 사기로 잘못 예측한 수 (오탐)\n",
    "    3. FN (False Negative): 실제 사기 거래를 정상으로 잘못 예측한 수 (미탐)\n",
    "    4. TP (True Positive): 실제 사기 거래를 사기로 올바르게 예측한 수 (정탐)\n",
    "\n",
    "<br><br><br>"
   ]
  },
  {
   "cell_type": "markdown",
   "id": "0c95ff86",
   "metadata": {},
   "source": [
    "## 분류 모델 2번"
   ]
  },
  {
   "cell_type": "code",
   "execution_count": 8,
   "id": "dc2d0157",
   "metadata": {},
   "outputs": [],
   "source": [
    "import pandas as pd\n",
    "from sklearn.model_selection import train_test_split\n",
    "from sklearn.preprocessing import StandardScaler\n",
    "from sklearn.neighbors import KNeighborsClassifier\n",
    "from sklearn.metrics import accuracy_score, classification_report, confusion_matrix\n",
    "import matplotlib.pyplot as plt\n",
    "import seaborn as sns\n",
    "import numpy as np"
   ]
  },
  {
   "cell_type": "code",
   "execution_count": null,
   "id": "811c755b",
   "metadata": {},
   "outputs": [
    {
     "name": "stdout",
     "output_type": "stream",
     "text": [
      "데이터 로드 성공!\n",
      "원본 데이터 크기: (284807, 31)\n",
      "\n",
      "데이터셋 미리보기:\n",
      "   Time        V1        V2        V3        V4        V5        V6        V7  \\\n",
      "0   0.0 -1.359807 -0.072781  2.536347  1.378155 -0.338321  0.462388  0.239599   \n",
      "1   0.0  1.191857  0.266151  0.166480  0.448154  0.060018 -0.082361 -0.078803   \n",
      "2   1.0 -1.358354 -1.340163  1.773209  0.379780 -0.503198  1.800499  0.791461   \n",
      "3   1.0 -0.966272 -0.185226  1.792993 -0.863291 -0.010309  1.247203  0.237609   \n",
      "4   2.0 -1.158233  0.877737  1.548718  0.403034 -0.407193  0.095921  0.592941   \n",
      "\n",
      "         V8        V9  ...       V21       V22       V23       V24       V25  \\\n",
      "0  0.098698  0.363787  ... -0.018307  0.277838 -0.110474  0.066928  0.128539   \n",
      "1  0.085102 -0.255425  ... -0.225775 -0.638672  0.101288 -0.339846  0.167170   \n",
      "2  0.247676 -1.514654  ...  0.247998  0.771679  0.909412 -0.689281 -0.327642   \n",
      "3  0.377436 -1.387024  ... -0.108300  0.005274 -0.190321 -1.175575  0.647376   \n",
      "4 -0.270533  0.817739  ... -0.009431  0.798278 -0.137458  0.141267 -0.206010   \n",
      "\n",
      "        V26       V27       V28  Amount  Class  \n",
      "0 -0.189115  0.133558 -0.021053  149.62      0  \n",
      "1  0.125895 -0.008983  0.014724    2.69      0  \n",
      "2 -0.139097 -0.055353 -0.059752  378.66      0  \n",
      "3 -0.221929  0.062723  0.061458  123.50      0  \n",
      "4  0.502292  0.219422  0.215153   69.99      0  \n",
      "\n",
      "[5 rows x 31 columns]\n",
      "\n",
      "클래스(Class) 분포:\n",
      "Class\n",
      "0    284315\n",
      "1       492\n",
      "Name: count, dtype: int64\n",
      "정상 거래 비율: 99.83%\n",
      "사기 거래 비율: 0.17%\n"
     ]
    },
    {
     "data": {
      "image/png": "[encoded data removed]",
      "text/plain": [
       "<Figure size 600x400 with 1 Axes>"
      ]
     },
     "metadata": {},
     "output_type": "display_data"
    }
   ],
   "source": [
    "# 데이터 로드 (위와 동일)\n",
    "try:\n",
    "    df = pd.read_csv('data/creditcard.csv')\n",
    "    print(\"데이터 로드 성공!\")\n",
    "except FileNotFoundError:\n",
    "    print(\"Error: 'data/creditcard.csv' 파일을 찾을 수 없습니다. 파일 경로를 확인해주세요.\")\n",
    "    exit()\n",
    "\n",
    "print(f\"원본 데이터 크기: {df.shape}\")\n",
    "print(\"\\n데이터셋 미리보기:\")\n",
    "print(df.head())\n",
    "\n",
    "print(\"\\n클래스(Class) 분포:\")\n",
    "print(df['Class'].value_counts())\n",
    "print(f\"정상 거래 비율: {df['Class'].value_counts()[0] / len(df) * 100:.2f}%\")\n",
    "print(f\"사기 거래 비율: {df['Class'].value_counts()[1] / len(df) * 100:.2f}%\")\n",
    "\n",
    "# 불균형 시각화\n",
    "plt.figure(figsize=(6, 4))\n",
    "sns.countplot(x='Class', data=df)\n",
    "plt.title('Class Distribution (0: Normal, 1: Fraud)')\n",
    "plt.show()\n"
   ]
  },
  {
   "cell_type": "code",
   "execution_count": 10,
   "id": "a316493b",
   "metadata": {},
   "outputs": [
    {
     "name": "stdout",
     "output_type": "stream",
     "text": [
      "\n",
      "특성 데이터(X) 크기: (284807, 30)\n",
      "레이블 데이터(y) 크기: (284807,)\n",
      "\n",
      "학습 세트 크기 (X_train, y_train): (227845, 30), (227845,)\n",
      "테스트 세트 크기 (X_test, y_test): (56962, 30), (56962,)\n",
      "\n",
      "학습 세트 Class 분포:\n",
      "Class\n",
      "0    0.998271\n",
      "1    0.001729\n",
      "Name: proportion, dtype: float64\n",
      "\n",
      "테스트 세트 Class 분포:\n",
      "Class\n",
      "0    0.99828\n",
      "1    0.00172\n",
      "Name: proportion, dtype: float64\n"
     ]
    }
   ],
   "source": [
    "# 특성(X)과 레이블(y) 분리\n",
    "X = df.drop('Class', axis=1)\n",
    "y = df['Class']\n",
    "\n",
    "print(f\"\\n특성 데이터(X) 크기: {X.shape}\")\n",
    "print(f\"레이블 데이터(y) 크기: {y.shape}\")\n",
    "\n",
    "# 데이터를 학습 세트(80%)와 테스트 세트(20%)로 분할\n",
    "X_train, X_test, y_train, y_test = train_test_split(X, y, test_size=0.2, random_state=42, stratify=y)\n",
    "\n",
    "print(f\"\\n학습 세트 크기 (X_train, y_train): {X_train.shape}, {y_train.shape}\")\n",
    "print(f\"테스트 세트 크기 (X_test, y_test): {X_test.shape}, {y_test.shape}\")\n",
    "\n",
    "print(\"\\n학습 세트 Class 분포:\")\n",
    "print(y_train.value_counts(normalize=True))\n",
    "print(\"\\n테스트 세트 Class 분포:\")\n",
    "print(y_test.value_counts(normalize=True))"
   ]
  },
  {
   "cell_type": "code",
   "execution_count": 11,
   "id": "f41db37f",
   "metadata": {},
   "outputs": [
    {
     "name": "stdout",
     "output_type": "stream",
     "text": [
      "\n",
      "스케일링 후 X_train_scaled_df head():\n",
      "       Time        V1        V2        V3        V4        V5        V6  \\\n",
      "0  1.411588  0.993379 -0.456037 -0.894052 -0.467284  1.089217  3.024383   \n",
      "1  0.623141  1.038507 -0.029349 -2.018302  0.175133  2.133506  2.478840   \n",
      "2 -1.130680 -0.506766  0.366065  0.470114 -0.700918 -0.598748  1.470411   \n",
      "3  0.794699  1.166419 -0.909447 -0.493095 -1.178149 -1.010692 -0.262292   \n",
      "4 -0.748102 -0.229485 -0.613041  0.076742 -2.440089  0.518711 -0.109914   \n",
      "\n",
      "         V7        V8        V9  ...       V20       V21       V22       V23  \\\n",
      "0 -1.194852  0.957057  1.281376  ... -0.173112  0.103171  0.409563  0.490685   \n",
      "1 -0.001832  0.566704  0.041121  ... -0.293564  0.052055  0.314019  0.056568   \n",
      "2 -1.786684 -4.227592  0.000064  ...  1.663010 -3.807987  0.150500 -0.695838   \n",
      "3 -1.153123  0.008765 -1.019866  ... -0.635236 -0.190540  0.105701  0.331932   \n",
      "4  0.407186 -0.095161 -0.041449  ... -0.355860 -0.331467 -0.239208 -0.010747   \n",
      "\n",
      "        V24       V25       V26       V27       V28    Amount  \n",
      "0  1.141970 -0.670832 -0.807227  0.191912 -0.099106 -0.322494  \n",
      "1  1.168583  0.985238 -0.977976  0.006397 -0.211524 -0.339764  \n",
      "2 -1.540549  1.587269  1.895777  0.094137  0.566426  0.346693  \n",
      "3 -0.888718 -0.532153 -0.336546  0.044738 -0.193183 -0.327360  \n",
      "4 -2.250223 -0.559400 -0.300345 -0.080285 -0.196818 -0.008281  \n",
      "\n",
      "[5 rows x 30 columns]\n",
      "\n",
      "스케일링 후 X_test_scaled_df head():\n",
      "       Time        V1        V2        V3        V4        V5        V6  \\\n",
      "0  1.387182 -0.344711  0.854160 -0.732691 -0.938188  1.006709 -0.982011   \n",
      "1 -1.580138 -1.444985 -1.676482  1.675044 -0.758943  2.060346 -1.616843   \n",
      "2 -0.138120 -1.826153  1.406172  0.862785  2.305083  0.817390  2.153234   \n",
      "3  0.986536  1.051390 -0.009036 -0.714162  0.272652 -0.017764 -0.806605   \n",
      "4 -1.182272  0.617263  0.839727 -0.886397  1.245639  0.479989 -1.586680   \n",
      "\n",
      "         V7        V8        V9  ...       V20       V21       V22       V23  \\\n",
      "0  1.522739 -0.515157  0.283365  ...  0.512868  0.108461  1.115741 -0.357621   \n",
      "1 -1.449899 -0.209476  2.800206  ... -0.667829 -0.402639  0.150196 -1.296302   \n",
      "2  1.166033 -0.603022  1.707154  ...  2.641118 -1.442963  0.022825 -0.210559   \n",
      "3  0.167725 -0.283434  0.414079  ... -0.247826 -0.383767 -0.881492  0.528783   \n",
      "4  0.689553 -0.399109 -0.574439  ...  0.013080 -0.223665 -0.452778 -0.246537   \n",
      "\n",
      "        V24       V25       V26       V27       V28    Amount  \n",
      "0  1.169920 -0.259349  0.093323  1.318509  0.890582 -0.259954  \n",
      "1  0.071488 -0.051808 -1.888984  0.273804 -1.566325 -0.304426  \n",
      "2 -2.451129 -0.566646  0.130092  1.364378  1.558733 -0.048286  \n",
      "3 -0.111191 -0.542979  0.422051 -0.156942 -0.184227 -0.347741  \n",
      "4  1.023799  1.572523 -0.686087  0.115955  0.319244 -0.345707  \n",
      "\n",
      "[5 rows x 30 columns]\n"
     ]
    }
   ],
   "source": [
    "# 데이터 스케일링\n",
    "scaler = StandardScaler()\n",
    "\n",
    "# 학습 세트에 fit_transform 적용하여 스케일러 학습 및 변환\n",
    "X_train_scaled = scaler.fit_transform(X_train)\n",
    "# 테스트 세트에는 transform만 적용 (학습 세트에서 학습된 평균과 표준편차 사용)\n",
    "X_test_scaled = scaler.transform(X_test)\n",
    "\n",
    "# 스케일링된 데이터를 다시 DataFrame으로 변환 (선택 사항이지만, 이해를 돕기 위함)\n",
    "X_train_scaled_df = pd.DataFrame(X_train_scaled, columns=X_train.columns)\n",
    "X_test_scaled_df = pd.DataFrame(X_test_scaled, columns=X_test.columns)\n",
    "\n",
    "print(\"\\n스케일링 후 X_train_scaled_df head():\")\n",
    "print(X_train_scaled_df.head())\n",
    "print(\"\\n스케일링 후 X_test_scaled_df head():\")\n",
    "print(X_test_scaled_df.head())"
   ]
  },
  {
   "cell_type": "code",
   "execution_count": 12,
   "id": "33859cbd",
   "metadata": {},
   "outputs": [
    {
     "name": "stdout",
     "output_type": "stream",
     "text": [
      "\n",
      "KNeighborsClassifier 모델 학습 완료!\n"
     ]
    }
   ],
   "source": [
    "# KNN 모델 초기화 및 학습\n",
    "# n_neighbors=5는 가장 가까운 5개의 이웃을 기준으로 분류\n",
    "knn_model = KNeighborsClassifier(n_neighbors=5, n_jobs=-1) # n_jobs=-1은 모든 CPU 코어 사용\n",
    "knn_model.fit(X_train_scaled, y_train)\n",
    "\n",
    "print(\"\\nKNeighborsClassifier 모델 학습 완료!\")"
   ]
  },
  {
   "cell_type": "code",
   "execution_count": 13,
   "id": "e992205b",
   "metadata": {},
   "outputs": [
    {
     "name": "stdout",
     "output_type": "stream",
     "text": [
      "\n",
      "--- 모델 성능 평가 ---\n",
      "정확도 (Accuracy): 0.9995\n",
      "\n",
      "Classification Report:\n",
      "              precision    recall  f1-score   support\n",
      "\n",
      "           0       1.00      1.00      1.00     56864\n",
      "           1       0.92      0.81      0.86        98\n",
      "\n",
      "    accuracy                           1.00     56962\n",
      "   macro avg       0.96      0.90      0.93     56962\n",
      "weighted avg       1.00      1.00      1.00     56962\n",
      "\n"
     ]
    },
    {
     "data": {
      "image/png": "[encoded data removed]",
      "text/plain": [
       "<Figure size 600x500 with 2 Axes>"
      ]
     },
     "metadata": {},
     "output_type": "display_data"
    },
    {
     "name": "stdout",
     "output_type": "stream",
     "text": [
      "\n",
      "혼동 행렬:\n",
      "TN (실제 정상, 예측 정상): 56857\n",
      "FP (실제 정상, 예측 사기): 7\n",
      "FN (실제 사기, 예측 정상): 19\n",
      "TP (실제 사기, 예측 사기): 79\n"
     ]
    }
   ],
   "source": [
    "# 테스트 데이터에 대한 예측 수행\n",
    "y_pred = knn_model.predict(X_test_scaled)\n",
    "\n",
    "# 정확도 출력\n",
    "print(\"\\n--- 모델 성능 평가 ---\")\n",
    "print(f\"정확도 (Accuracy): {accuracy_score(y_test, y_pred):.4f}\")\n",
    "\n",
    "# classification_report 출력 (정밀도, 재현율, F1-스코어 포함)\n",
    "print(\"\\nClassification Report:\")\n",
    "print(classification_report(y_test, y_pred))\n",
    "\n",
    "# 혼동 행렬 시각화\n",
    "cm = confusion_matrix(y_test, y_pred)\n",
    "plt.figure(figsize=(6, 5))\n",
    "sns.heatmap(cm, annot=True, fmt='d', cmap='Blues',\n",
    "            xticklabels=['Normal (0)', 'Fraud (1)'],\n",
    "            yticklabels=['Normal (0)', 'Fraud (1)'])\n",
    "plt.xlabel('Predicted Label')\n",
    "plt.ylabel('True Label')\n",
    "plt.title('Confusion Matrix for KNN Classifier')\n",
    "plt.show()\n",
    "\n",
    "print(\"\\n혼동 행렬:\")\n",
    "print(f\"TN (실제 정상, 예측 정상): {cm[0, 0]}\")\n",
    "print(f\"FP (실제 정상, 예측 사기): {cm[0, 1]}\")\n",
    "print(f\"FN (실제 사기, 예측 정상): {cm[1, 0]}\")\n",
    "print(f\"TP (실제 사기, 예측 사기): {cm[1, 1]}\")"
   ]
  },
  {
   "cell_type": "code",
   "execution_count": null,
   "id": "c06c7826",
   "metadata": {},
   "outputs": [],
   "source": []
  }
 ],
 "metadata": {
  "kernelspec": {
   "display_name": ".venv",
   "language": "python",
   "name": "python3"
  },
  "language_info": {
   "codemirror_mode": {
    "name": "ipython",
    "version": 3
   },
   "file_extension": ".py",
   "mimetype": "text/x-python",
   "name": "python",
   "nbconvert_exporter": "python",
   "pygments_lexer": "ipython3",
   "version": "3.13.4"
  }
 },
 "nbformat": 4,
 "nbformat_minor": 5
}
