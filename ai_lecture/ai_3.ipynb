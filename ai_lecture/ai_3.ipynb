{
 "cells": [
  {
   "cell_type": "code",
   "execution_count": 4,
   "id": "807a70ae",
   "metadata": {},
   "outputs": [],
   "source": [
    "import pandas as pd"
   ]
  },
  {
   "cell_type": "code",
   "execution_count": 5,
   "id": "74ba9c4b",
   "metadata": {},
   "outputs": [],
   "source": [
    "# 예제 데이터\n",
    "data = pd.DataFrame({'Original': [1, 4, 16, 36, 100, 1000, 10000]})"
   ]
  },
  {
   "cell_type": "code",
   "execution_count": 6,
   "id": "fee88cd9",
   "metadata": {},
   "outputs": [],
   "source": [
    "import numpy as np"
   ]
  },
  {
   "cell_type": "code",
   "execution_count": 7,
   "id": "e53c87fc",
   "metadata": {},
   "outputs": [],
   "source": [
    "data['Log Trans'] = np.log1p(data['Original'])\n",
    "\n",
    "data['sqr Trans'] = np.sqrt(data['Original'])"
   ]
  },
  {
   "cell_type": "code",
   "execution_count": 8,
   "id": "b2f54148",
   "metadata": {},
   "outputs": [],
   "source": [
    "# pip install scikit-learn"
   ]
  },
  {
   "cell_type": "code",
   "execution_count": 9,
   "id": "6a4dde21",
   "metadata": {},
   "outputs": [],
   "source": [
    "from sklearn.preprocessing import StandardScaler, MinMaxScaler, LabelEncoder, OneHotEncoder"
   ]
  },
  {
   "cell_type": "code",
   "execution_count": 10,
   "id": "c0295a1c",
   "metadata": {},
   "outputs": [],
   "source": [
    "# 데이터 생성\n",
    "data1 = pd.DataFrame({'Original': [50,80,90,200,160]})\n",
    "\n",
    "data2 = pd.DataFrame({'Fruits': ['사과', '배', '포도', '사과', '포도']})\n",
    "\n",
    "\n",
    "# 표준화\n",
    "scaler_1 = StandardScaler()\n",
    "data1['scale'] = scaler_1.fit_transform(data1[['Original']])\n",
    "\n",
    "# 정규화\n",
    "scaler_2 = MinMaxScaler()\n",
    "data1['scale_2']= scaler_2.fit_transform(data1[['Original']])\n"
   ]
  },
  {
   "cell_type": "code",
   "execution_count": 11,
   "id": "ea1b824f",
   "metadata": {},
   "outputs": [
    {
     "name": "stdout",
     "output_type": "stream",
     "text": [
      "   Original     scale   scale_2\n",
      "0        50 -1.192338  0.000000\n",
      "1        80 -0.650366  0.200000\n",
      "2        90 -0.469709  0.266667\n",
      "3       200  1.517522  1.000000\n",
      "4       160  0.794892  0.733333\n"
     ]
    }
   ],
   "source": [
    "print(data1)"
   ]
  },
  {
   "cell_type": "code",
   "execution_count": 14,
   "id": "907b4f63",
   "metadata": {},
   "outputs": [
    {
     "name": "stdout",
     "output_type": "stream",
     "text": [
      "0    1\n",
      "1    0\n",
      "2    2\n",
      "3    1\n",
      "4    2\n",
      "Name: Label Encoding, dtype: int64\n"
     ]
    }
   ],
   "source": [
    "# 레이블의 인코딩\n",
    "\n",
    "encoder_1=LabelEncoder()\n",
    "data2['Label Encoding'] = encoder_1.fit_transform(data2['Fruits'])\n",
    "\n",
    "print(data2['Label Encoding'])\n",
    "\n"
   ]
  },
  {
   "cell_type": "code",
   "execution_count": null,
   "id": "be50dbff",
   "metadata": {},
   "outputs": [
    {
     "data": {
      "text/html": [
       "<div>\n",
       "<style scoped>\n",
       "    .dataframe tbody tr th:only-of-type {\n",
       "        vertical-align: middle;\n",
       "    }\n",
       "\n",
       "    .dataframe tbody tr th {\n",
       "        vertical-align: top;\n",
       "    }\n",
       "\n",
       "    .dataframe thead th {\n",
       "        text-align: right;\n",
       "    }\n",
       "</style>\n",
       "<table border=\"1\" class=\"dataframe\">\n",
       "  <thead>\n",
       "    <tr style=\"text-align: right;\">\n",
       "      <th></th>\n",
       "      <th>Label Encoding_0</th>\n",
       "      <th>Label Encoding_1</th>\n",
       "      <th>Label Encoding_2</th>\n",
       "    </tr>\n",
       "  </thead>\n",
       "  <tbody>\n",
       "    <tr>\n",
       "      <th>0</th>\n",
       "      <td>0.0</td>\n",
       "      <td>1.0</td>\n",
       "      <td>0.0</td>\n",
       "    </tr>\n",
       "    <tr>\n",
       "      <th>1</th>\n",
       "      <td>1.0</td>\n",
       "      <td>0.0</td>\n",
       "      <td>0.0</td>\n",
       "    </tr>\n",
       "    <tr>\n",
       "      <th>2</th>\n",
       "      <td>0.0</td>\n",
       "      <td>0.0</td>\n",
       "      <td>1.0</td>\n",
       "    </tr>\n",
       "    <tr>\n",
       "      <th>3</th>\n",
       "      <td>0.0</td>\n",
       "      <td>1.0</td>\n",
       "      <td>0.0</td>\n",
       "    </tr>\n",
       "    <tr>\n",
       "      <th>4</th>\n",
       "      <td>0.0</td>\n",
       "      <td>0.0</td>\n",
       "      <td>1.0</td>\n",
       "    </tr>\n",
       "  </tbody>\n",
       "</table>\n",
       "</div>"
      ],
      "text/plain": [
       "   Label Encoding_0  Label Encoding_1  Label Encoding_2\n",
       "0               0.0               1.0               0.0\n",
       "1               1.0               0.0               0.0\n",
       "2               0.0               0.0               1.0\n",
       "3               0.0               1.0               0.0\n",
       "4               0.0               0.0               1.0"
      ]
     },
     "execution_count": 24,
     "metadata": {},
     "output_type": "execute_result"
    }
   ],
   "source": [
    "encoder_2=OneHotEncoder(sparse_output=False)\n",
    "\n",
    "onhot_encoded = encoder_2.fit_transform(data2[['Label Encoding']])\n",
    "\n",
    "onhot_col = encoder_2.get_feature_names_out()\n",
    "\n",
    "onehot_df = pd.DataFrame(onhot_encoded, columns=onhot_col)\n",
    "\n",
    "onehot_df"
   ]
  },
  {
   "cell_type": "code",
   "execution_count": 25,
   "id": "1c696457",
   "metadata": {},
   "outputs": [],
   "source": [
    "data2=pd.concat([data2, onehot_df], axis=1)"
   ]
  },
  {
   "cell_type": "code",
   "execution_count": 26,
   "id": "6be40df8",
   "metadata": {},
   "outputs": [
    {
     "name": "stdout",
     "output_type": "stream",
     "text": [
      "  Fruits  Label Encoding  Label Encoding_0  Label Encoding_1  Label Encoding_2\n",
      "0     사과               1               0.0               1.0               0.0\n",
      "1      배               0               1.0               0.0               0.0\n",
      "2     포도               2               0.0               0.0               1.0\n",
      "3     사과               1               0.0               1.0               0.0\n",
      "4     포도               2               0.0               0.0               1.0\n"
     ]
    }
   ],
   "source": [
    "print(data2)"
   ]
  },
  {
   "cell_type": "code",
   "execution_count": null,
   "id": "2382c208",
   "metadata": {},
   "outputs": [],
   "source": [
    "import numpy as np\n",
    "import pandas as pd\n",
    "import matplotlib.pyplot as plt\n",
    "import matplotlib as mpl\n",
    "from scipy.stats import skew, kurtosis"
   ]
  },
  {
   "cell_type": "code",
   "execution_count": 28,
   "id": "caca7aa7",
   "metadata": {},
   "outputs": [
    {
     "data": {
      "image/png": "[encoded data removed]",
      "text/plain": [
       "<Figure size 640x480 with 1 Axes>"
      ]
     },
     "metadata": {},
     "output_type": "display_data"
    },
    {
     "name": "stdout",
     "output_type": "stream",
     "text": [
      "왜도 (Skewness): -0.0558\n",
      "첨도 (Kurtosis): -0.1856\n"
     ]
    }
   ],
   "source": [
    "\n",
    "\n",
    "# 정규분포 데이터 생성 (평균=0, 표준편차=1, 1000개 샘플)\n",
    "data = np.random.normal(loc=0, scale=1, size=1000)\n",
    "\n",
    "# 데이터프레임으로 변환 (선택사항)\n",
    "df = pd.DataFrame(data, columns=['값'])\n",
    "\n",
    "# 한글 폰트 설정\n",
    "plt.rcParams['font.family'] = 'Malgun Gothic'\n",
    "\n",
    "# 정규분포 히스토그램 시각화\n",
    "plt.hist(df['값'], bins=30, edgecolor='black', alpha=0.7)\n",
    "plt.title('정규분포 히스토그램')\n",
    "plt.xlabel('값')\n",
    "plt.ylabel('빈도수')\n",
    "plt.grid(True)\n",
    "plt.show()\n",
    "\n",
    "\n",
    "# 왜도(Skewness) 계산\n",
    "skewness = skew(df['값'])\n",
    "print(f\"왜도 (Skewness): {skewness:.4f}\")\n",
    "\n",
    "# 첨도(Kurtosis) 계산\n",
    "kurt = kurtosis(df['값']) # Fisher 방식 (정규분포면 0이 나옴)\n",
    "print(f\"첨도 (Kurtosis): {kurt:.4f}\")"
   ]
  },
  {
   "cell_type": "code",
   "execution_count": 29,
   "id": "0d090308",
   "metadata": {},
   "outputs": [
    {
     "name": "stdout",
     "output_type": "stream",
     "text": [
      "   customer_id     name\n",
      "0            1    Alice\n",
      "1            2      Bob\n",
      "2            3  Charlie\n",
      "   order_id  customer_id     product\n",
      "0       101            1      Laptop\n",
      "1       102            2      Tablet\n",
      "2       103            4  Smartphone\n"
     ]
    }
   ],
   "source": [
    "import pandas as pd\n",
    "\n",
    "# 고객 정보 데이터프레임\n",
    "customers = pd.DataFrame({\n",
    "    'customer_id': [1, 2, 3],\n",
    "    'name': ['Alice', 'Bob', 'Charlie']\n",
    "    })\n",
    "\n",
    "# 주문 정보 데이터프레임\n",
    "orders = pd.DataFrame({\n",
    "    'order_id': [101, 102, 103],\n",
    "    'customer_id': [1, 2, 4],\n",
    "    'product': ['Laptop', 'Tablet', 'Smartphone']\n",
    "    })\n",
    "\n",
    "\n",
    "print(customers)\n",
    "print(orders)\n"
   ]
  },
  {
   "cell_type": "code",
   "execution_count": 32,
   "id": "6141baac",
   "metadata": {},
   "outputs": [
    {
     "name": "stdout",
     "output_type": "stream",
     "text": [
      "Inner Join:\n",
      "    customer_id   name  order_id product\n",
      "0            1  Alice       101  Laptop\n",
      "1            2    Bob       102  Tablet\n"
     ]
    }
   ],
   "source": [
    "# Inner Join (공통된 customer_id로만 합침)\n",
    "result_inner = pd.merge(customers, orders, on='customer_id', how='inner')\n",
    "print(\"Inner Join:\\n\", result_inner)"
   ]
  },
  {
   "cell_type": "code",
   "execution_count": 31,
   "id": "896a6ad2",
   "metadata": {},
   "outputs": [
    {
     "name": "stdout",
     "output_type": "stream",
     "text": [
      "\n",
      "Left Join:\n",
      "    customer_id     name  order_id product\n",
      "0            1    Alice     101.0  Laptop\n",
      "1            2      Bob     102.0  Tablet\n",
      "2            3  Charlie       NaN     NaN\n"
     ]
    }
   ],
   "source": [
    "# Left Join (customers 데이터프레임의 모든 값 유지)\n",
    "result_left = pd.merge(customers, orders, on='customer_id', how='left')\n",
    "print(\"\\nLeft Join:\\n\", result_left)"
   ]
  },
  {
   "cell_type": "code",
   "execution_count": 33,
   "id": "d10a5aaf",
   "metadata": {},
   "outputs": [
    {
     "name": "stdout",
     "output_type": "stream",
     "text": [
      "\n",
      "Left Join:\n",
      "    customer_id   name  order_id     product\n",
      "0            1  Alice       101      Laptop\n",
      "1            2    Bob       102      Tablet\n",
      "2            4    NaN       103  Smartphone\n"
     ]
    }
   ],
   "source": [
    "# Right Join (orders 데이터프레임의 모든 값 유지)\n",
    "result_right = pd.merge(customers, orders, on='customer_id', how='right')\n",
    "print(\"\\nLeft Join:\\n\", result_right)"
   ]
  },
  {
   "cell_type": "code",
   "execution_count": null,
   "id": "1d5df75e",
   "metadata": {},
   "outputs": [],
   "source": []
  }
 ],
 "metadata": {
  "kernelspec": {
   "display_name": ".venv",
   "language": "python",
   "name": "python3"
  },
  "language_info": {
   "codemirror_mode": {
    "name": "ipython",
    "version": 3
   },
   "file_extension": ".py",
   "mimetype": "text/x-python",
   "name": "python",
   "nbconvert_exporter": "python",
   "pygments_lexer": "ipython3",
   "version": "3.13.4"
  }
 },
 "nbformat": 4,
 "nbformat_minor": 5
}
