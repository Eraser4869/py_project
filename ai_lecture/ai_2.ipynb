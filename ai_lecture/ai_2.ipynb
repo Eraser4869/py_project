{
 "cells": [
  {
   "cell_type": "code",
   "execution_count": 100,
   "id": "38bbaaba",
   "metadata": {},
   "outputs": [],
   "source": [
    "# 로그 파일 ( 비정형) -> 정형\n",
    "import re\n",
    "import csv\n",
    "# 로그 파일 경로\n",
    "log_file_path = 'sample_logs.log'   # 로그나 텍스트 둘다 가능\n",
    "output_csv_path = 'parsed_logs.csv'\n",
    "\n",
    "# 정규 표현식 패턴 정의\n",
    "log_pattern = re.compile(\n",
    "r'(?P<ip>\\d+\\.\\d+\\.\\d+\\.\\d+)\\s' # IP 주소\n",
    " r'- - \\[(?P<datetime>[^\\]]+)\\] ' # 날짜 및 시간\n",
    " r'\"(?P<method>GET|POST|PUT|DELETE|HEAD) ' # HTTP 메서드\n",
    " r'(?P<path>[^ ]+).*?\"\\s' # 요청 경로\n",
    " r'(?P<status>\\d{3})\\s' # 상태 코드\n",
    " r'(?P<size>\\d+)' # 응답 크기\n",
    ")\n",
    "# (?P<이름>패턴) 형태는 \"이름이 있는 그룹\" 으로, 추출 결과를 딕셔너리처럼 groupdict()로 관리할 수 있게 해줍니다."
   ]
  },
  {
   "cell_type": "code",
   "execution_count": 101,
   "id": "0ec8c29e",
   "metadata": {},
   "outputs": [],
   "source": [
    "# 파싱된 결과 저장 리스트\n",
    "parsed_logs = []\n",
    "# 로그 파일 읽기 및 정규식 적용\n",
    "with open(log_file_path, 'r') as f:\n",
    "    for line in f:\n",
    "        match = log_pattern.search(line)\n",
    "        if match:\n",
    "            parsed_logs.append(match.groupdict()) #"
   ]
  },
  {
   "cell_type": "code",
   "execution_count": 102,
   "id": "7e0b4f65",
   "metadata": {},
   "outputs": [
    {
     "name": "stdout",
     "output_type": "stream",
     "text": [
      "[{'ip': '172.29.117.82', 'datetime': '14/Jun/2025:10:59:11 +0900', 'method': 'GET', 'path': '/home.php', 'status': '200', 'size': '189'}, {'ip': '10.248.203.131', 'datetime': '14/Jun/2025:11:21:30 +0900', 'method': 'GET', 'path': '/admin/login.php', 'status': '403', 'size': '1024'}, {'ip': '172.25.180.188', 'datetime': '14/Jun/2025:11:55:08 +0900', 'method': 'GET', 'path': '/admin/login.php', 'status': '404', 'size': '2048'}, {'ip': '172.22.253.123', 'datetime': '14/Jun/2025:11:18:27 +0900', 'method': 'GET', 'path': '/dashboard', 'status': '403', 'size': '512'}, {'ip': '192.168.71.140', 'datetime': '14/Jun/2025:10:38:19 +0900', 'method': 'GET', 'path': '/admin/login.php', 'status': '404', 'size': '512'}, {'ip': '10.128.66.93', 'datetime': '14/Jun/2025:10:35:59 +0900', 'method': 'GET', 'path': '/home.php', 'status': '404', 'size': '1024'}, {'ip': '192.168.75.62', 'datetime': '14/Jun/2025:10:38:37 +0900', 'method': 'GET', 'path': '/logout', 'status': '404', 'size': '1024'}, {'ip': '172.18.92.25', 'datetime': '14/Jun/2025:11:36:44 +0900', 'method': 'POST', 'path': '/upload.php', 'status': '500', 'size': '2048'}, {'ip': '192.168.51.143', 'datetime': '14/Jun/2025:11:13:21 +0900', 'method': 'POST', 'path': '/submit', 'status': '200', 'size': '1024'}, {'ip': '172.22.139.20', 'datetime': '14/Jun/2025:11:58:29 +0900', 'method': 'POST', 'path': '/submit', 'status': '404', 'size': '2048'}, {'ip': '192.168.133.95', 'datetime': '14/Jun/2025:10:35:49 +0900', 'method': 'POST', 'path': '/api/data', 'status': '403', 'size': '189'}, {'ip': '10.7.48.121', 'datetime': '14/Jun/2025:11:00:31 +0900', 'method': 'GET', 'path': '/dashboard', 'status': '404', 'size': '532'}, {'ip': '10.204.50.153', 'datetime': '14/Jun/2025:11:52:48 +0900', 'method': 'GET', 'path': '/logout', 'status': '500', 'size': '512'}, {'ip': '192.168.0.149', 'datetime': '14/Jun/2025:11:25:50 +0900', 'method': 'POST', 'path': '/api/data', 'status': '500', 'size': '512'}, {'ip': '192.168.170.144', 'datetime': '14/Jun/2025:11:34:26 +0900', 'method': 'GET', 'path': '/index.html', 'status': '404', 'size': '768'}, {'ip': '10.32.63.121', 'datetime': '14/Jun/2025:11:24:03 +0900', 'method': 'GET', 'path': '/admin/login.php', 'status': '404', 'size': '768'}, {'ip': '10.113.131.44', 'datetime': '14/Jun/2025:10:17:49 +0900', 'method': 'GET', 'path': '/home.php', 'status': '500', 'size': '768'}, {'ip': '10.72.245.6', 'datetime': '14/Jun/2025:11:09:56 +0900', 'method': 'GET', 'path': '/dashboard', 'status': '403', 'size': '532'}, {'ip': '192.168.41.48', 'datetime': '14/Jun/2025:11:37:38 +0900', 'method': 'POST', 'path': '/api/data', 'status': '403', 'size': '189'}, {'ip': '172.31.168.60', 'datetime': '14/Jun/2025:10:49:07 +0900', 'method': 'GET', 'path': '/home.php', 'status': '403', 'size': '512'}, {'ip': '10.149.9.214', 'datetime': '14/Jun/2025:10:29:47 +0900', 'method': 'POST', 'path': '/submit', 'status': '500', 'size': '512'}, {'ip': '192.168.170.94', 'datetime': '14/Jun/2025:10:06:53 +0900', 'method': 'POST', 'path': '/submit', 'status': '200', 'size': '512'}, {'ip': '192.168.147.71', 'datetime': '14/Jun/2025:11:59:37 +0900', 'method': 'GET', 'path': '/dashboard', 'status': '404', 'size': '512'}, {'ip': '172.28.81.28', 'datetime': '14/Jun/2025:10:31:26 +0900', 'method': 'GET', 'path': '/dashboard', 'status': '403', 'size': '2048'}, {'ip': '172.25.74.97', 'datetime': '14/Jun/2025:11:06:58 +0900', 'method': 'GET', 'path': '/home.php', 'status': '404', 'size': '768'}, {'ip': '10.95.155.3', 'datetime': '14/Jun/2025:10:24:58 +0900', 'method': 'GET', 'path': '/home.php', 'status': '200', 'size': '512'}, {'ip': '10.133.38.22', 'datetime': '14/Jun/2025:10:48:01 +0900', 'method': 'POST', 'path': '/api/data', 'status': '200', 'size': '1024'}, {'ip': '172.20.42.204', 'datetime': '14/Jun/2025:10:06:31 +0900', 'method': 'GET', 'path': '/logout', 'status': '404', 'size': '2048'}, {'ip': '10.41.22.78', 'datetime': '14/Jun/2025:10:59:14 +0900', 'method': 'GET', 'path': '/admin/login.php', 'status': '200', 'size': '2048'}, {'ip': '192.168.200.87', 'datetime': '14/Jun/2025:10:37:59 +0900', 'method': 'GET', 'path': '/logout', 'status': '404', 'size': '512'}, {'ip': '192.168.120.147', 'datetime': '14/Jun/2025:11:27:00 +0900', 'method': 'POST', 'path': '/api/data', 'status': '500', 'size': '2048'}, {'ip': '10.214.190.164', 'datetime': '14/Jun/2025:10:03:08 +0900', 'method': 'POST', 'path': '/submit', 'status': '500', 'size': '532'}, {'ip': '192.168.252.61', 'datetime': '14/Jun/2025:11:12:37 +0900', 'method': 'GET', 'path': '/admin/login.php', 'status': '403', 'size': '1024'}, {'ip': '192.168.182.248', 'datetime': '14/Jun/2025:11:36:26 +0900', 'method': 'POST', 'path': '/api/data', 'status': '500', 'size': '1024'}, {'ip': '10.59.15.31', 'datetime': '14/Jun/2025:11:30:20 +0900', 'method': 'POST', 'path': '/upload.php', 'status': '403', 'size': '2048'}, {'ip': '172.26.186.137', 'datetime': '14/Jun/2025:11:22:57 +0900', 'method': 'POST', 'path': '/submit', 'status': '404', 'size': '768'}, {'ip': '10.138.197.124', 'datetime': '14/Jun/2025:10:50:49 +0900', 'method': 'GET', 'path': '/dashboard', 'status': '200', 'size': '512'}, {'ip': '10.190.126.172', 'datetime': '14/Jun/2025:11:09:49 +0900', 'method': 'GET', 'path': '/index.html', 'status': '500', 'size': '189'}, {'ip': '10.31.215.176', 'datetime': '14/Jun/2025:10:56:05 +0900', 'method': 'GET', 'path': '/logout', 'status': '500', 'size': '532'}, {'ip': '10.112.3.22', 'datetime': '14/Jun/2025:11:40:57 +0900', 'method': 'POST', 'path': '/api/data', 'status': '403', 'size': '512'}, {'ip': '10.37.226.235', 'datetime': '14/Jun/2025:11:47:24 +0900', 'method': 'POST', 'path': '/upload.php', 'status': '403', 'size': '532'}, {'ip': '10.96.133.198', 'datetime': '14/Jun/2025:10:22:29 +0900', 'method': 'POST', 'path': '/upload.php', 'status': '200', 'size': '1024'}, {'ip': '192.168.61.72', 'datetime': '14/Jun/2025:10:00:59 +0900', 'method': 'POST', 'path': '/api/data', 'status': '200', 'size': '532'}, {'ip': '172.19.182.166', 'datetime': '14/Jun/2025:11:35:04 +0900', 'method': 'POST', 'path': '/submit', 'status': '200', 'size': '2048'}, {'ip': '10.99.161.108', 'datetime': '14/Jun/2025:10:24:47 +0900', 'method': 'GET', 'path': '/index.html', 'status': '404', 'size': '1024'}, {'ip': '10.245.94.29', 'datetime': '14/Jun/2025:11:42:25 +0900', 'method': 'POST', 'path': '/api/data', 'status': '404', 'size': '768'}, {'ip': '10.31.70.132', 'datetime': '14/Jun/2025:10:29:51 +0900', 'method': 'GET', 'path': '/dashboard', 'status': '500', 'size': '2048'}, {'ip': '192.168.217.234', 'datetime': '14/Jun/2025:11:05:19 +0900', 'method': 'POST', 'path': '/upload.php', 'status': '403', 'size': '1024'}, {'ip': '192.168.133.20', 'datetime': '14/Jun/2025:11:21:28 +0900', 'method': 'GET', 'path': '/home.php', 'status': '403', 'size': '1024'}, {'ip': '10.154.36.188', 'datetime': '14/Jun/2025:10:05:51 +0900', 'method': 'GET', 'path': '/admin/login.php', 'status': '403', 'size': '2048'}, {'ip': '172.17.244.15', 'datetime': '14/Jun/2025:10:36:28 +0900', 'method': 'POST', 'path': '/submit', 'status': '500', 'size': '2048'}, {'ip': '192.168.51.171', 'datetime': '14/Jun/2025:10:33:00 +0900', 'method': 'GET', 'path': '/dashboard', 'status': '500', 'size': '2048'}, {'ip': '192.168.102.17', 'datetime': '14/Jun/2025:10:32:27 +0900', 'method': 'GET', 'path': '/home.php', 'status': '403', 'size': '1024'}, {'ip': '172.31.12.2', 'datetime': '14/Jun/2025:11:16:46 +0900', 'method': 'GET', 'path': '/home.php', 'status': '404', 'size': '512'}, {'ip': '192.168.104.37', 'datetime': '14/Jun/2025:10:06:40 +0900', 'method': 'POST', 'path': '/api/data', 'status': '404', 'size': '532'}, {'ip': '10.81.0.184', 'datetime': '14/Jun/2025:10:30:12 +0900', 'method': 'POST', 'path': '/api/data', 'status': '500', 'size': '512'}, {'ip': '10.128.90.23', 'datetime': '14/Jun/2025:11:35:20 +0900', 'method': 'GET', 'path': '/home.php', 'status': '403', 'size': '532'}, {'ip': '10.226.118.252', 'datetime': '14/Jun/2025:10:56:23 +0900', 'method': 'GET', 'path': '/home.php', 'status': '403', 'size': '768'}, {'ip': '192.168.241.120', 'datetime': '14/Jun/2025:10:29:51 +0900', 'method': 'GET', 'path': '/admin/login.php', 'status': '200', 'size': '1024'}, {'ip': '192.168.159.117', 'datetime': '14/Jun/2025:11:09:22 +0900', 'method': 'GET', 'path': '/dashboard', 'status': '404', 'size': '189'}, {'ip': '192.168.128.122', 'datetime': '14/Jun/2025:10:23:24 +0900', 'method': 'POST', 'path': '/upload.php', 'status': '403', 'size': '768'}, {'ip': '10.6.94.13', 'datetime': '14/Jun/2025:10:33:00 +0900', 'method': 'GET', 'path': '/home.php', 'status': '500', 'size': '1024'}, {'ip': '172.26.191.212', 'datetime': '14/Jun/2025:10:54:21 +0900', 'method': 'GET', 'path': '/dashboard', 'status': '200', 'size': '2048'}, {'ip': '192.168.143.207', 'datetime': '14/Jun/2025:11:29:36 +0900', 'method': 'POST', 'path': '/api/data', 'status': '200', 'size': '189'}, {'ip': '10.246.178.10', 'datetime': '14/Jun/2025:10:04:01 +0900', 'method': 'GET', 'path': '/admin/login.php', 'status': '403', 'size': '768'}, {'ip': '172.27.126.147', 'datetime': '14/Jun/2025:11:46:23 +0900', 'method': 'GET', 'path': '/admin/login.php', 'status': '403', 'size': '532'}, {'ip': '192.168.67.194', 'datetime': '14/Jun/2025:10:42:28 +0900', 'method': 'POST', 'path': '/upload.php', 'status': '404', 'size': '768'}, {'ip': '192.168.212.46', 'datetime': '14/Jun/2025:11:25:28 +0900', 'method': 'GET', 'path': '/admin/login.php', 'status': '500', 'size': '532'}, {'ip': '192.168.98.118', 'datetime': '14/Jun/2025:10:48:22 +0900', 'method': 'GET', 'path': '/logout', 'status': '500', 'size': '2048'}, {'ip': '192.168.122.148', 'datetime': '14/Jun/2025:11:57:09 +0900', 'method': 'GET', 'path': '/home.php', 'status': '500', 'size': '1024'}, {'ip': '10.193.222.40', 'datetime': '14/Jun/2025:11:57:41 +0900', 'method': 'POST', 'path': '/api/data', 'status': '500', 'size': '189'}, {'ip': '192.168.212.45', 'datetime': '14/Jun/2025:11:31:32 +0900', 'method': 'GET', 'path': '/index.html', 'status': '404', 'size': '768'}, {'ip': '10.214.33.202', 'datetime': '14/Jun/2025:10:39:13 +0900', 'method': 'POST', 'path': '/submit', 'status': '403', 'size': '1024'}, {'ip': '192.168.84.211', 'datetime': '14/Jun/2025:11:43:49 +0900', 'method': 'GET', 'path': '/logout', 'status': '403', 'size': '768'}, {'ip': '172.21.11.196', 'datetime': '14/Jun/2025:11:53:20 +0900', 'method': 'GET', 'path': '/home.php', 'status': '404', 'size': '532'}, {'ip': '172.31.151.174', 'datetime': '14/Jun/2025:11:08:37 +0900', 'method': 'POST', 'path': '/submit', 'status': '403', 'size': '1024'}, {'ip': '192.168.0.9', 'datetime': '14/Jun/2025:11:14:41 +0900', 'method': 'GET', 'path': '/admin/login.php', 'status': '403', 'size': '768'}, {'ip': '10.159.198.25', 'datetime': '14/Jun/2025:10:21:02 +0900', 'method': 'GET', 'path': '/admin/login.php', 'status': '200', 'size': '189'}, {'ip': '172.29.72.206', 'datetime': '14/Jun/2025:11:11:32 +0900', 'method': 'GET', 'path': '/home.php', 'status': '200', 'size': '768'}, {'ip': '10.42.188.49', 'datetime': '14/Jun/2025:11:45:08 +0900', 'method': 'GET', 'path': '/index.html', 'status': '500', 'size': '1024'}, {'ip': '192.168.7.138', 'datetime': '14/Jun/2025:10:19:55 +0900', 'method': 'POST', 'path': '/upload.php', 'status': '200', 'size': '768'}, {'ip': '172.29.92.9', 'datetime': '14/Jun/2025:11:55:58 +0900', 'method': 'GET', 'path': '/admin/login.php', 'status': '403', 'size': '1024'}, {'ip': '172.16.117.19', 'datetime': '14/Jun/2025:11:58:46 +0900', 'method': 'GET', 'path': '/home.php', 'status': '200', 'size': '189'}, {'ip': '192.168.50.16', 'datetime': '14/Jun/2025:10:50:35 +0900', 'method': 'GET', 'path': '/home.php', 'status': '200', 'size': '532'}, {'ip': '10.101.163.240', 'datetime': '14/Jun/2025:10:41:59 +0900', 'method': 'GET', 'path': '/admin/login.php', 'status': '500', 'size': '2048'}, {'ip': '172.21.212.193', 'datetime': '14/Jun/2025:11:07:51 +0900', 'method': 'GET', 'path': '/dashboard', 'status': '500', 'size': '768'}, {'ip': '10.203.27.194', 'datetime': '14/Jun/2025:11:40:18 +0900', 'method': 'GET', 'path': '/home.php', 'status': '403', 'size': '532'}, {'ip': '192.168.140.167', 'datetime': '14/Jun/2025:10:46:50 +0900', 'method': 'GET', 'path': '/dashboard', 'status': '500', 'size': '532'}, {'ip': '172.19.180.118', 'datetime': '14/Jun/2025:10:45:34 +0900', 'method': 'POST', 'path': '/upload.php', 'status': '500', 'size': '1024'}, {'ip': '172.27.27.14', 'datetime': '14/Jun/2025:10:49:22 +0900', 'method': 'POST', 'path': '/upload.php', 'status': '200', 'size': '532'}, {'ip': '10.142.139.187', 'datetime': '14/Jun/2025:11:54:29 +0900', 'method': 'GET', 'path': '/home.php', 'status': '500', 'size': '512'}, {'ip': '10.105.86.49', 'datetime': '14/Jun/2025:10:59:14 +0900', 'method': 'GET', 'path': '/dashboard', 'status': '404', 'size': '512'}, {'ip': '192.168.161.34', 'datetime': '14/Jun/2025:10:19:53 +0900', 'method': 'GET', 'path': '/dashboard', 'status': '403', 'size': '512'}, {'ip': '172.17.88.25', 'datetime': '14/Jun/2025:11:35:30 +0900', 'method': 'GET', 'path': '/index.html', 'status': '200', 'size': '189'}, {'ip': '192.168.253.45', 'datetime': '14/Jun/2025:10:32:07 +0900', 'method': 'POST', 'path': '/api/data', 'status': '404', 'size': '2048'}, {'ip': '192.168.234.214', 'datetime': '14/Jun/2025:11:45:08 +0900', 'method': 'GET', 'path': '/admin/login.php', 'status': '500', 'size': '189'}, {'ip': '192.168.91.72', 'datetime': '14/Jun/2025:10:16:00 +0900', 'method': 'GET', 'path': '/logout', 'status': '403', 'size': '189'}, {'ip': '10.149.2.154', 'datetime': '14/Jun/2025:10:26:13 +0900', 'method': 'GET', 'path': '/admin/login.php', 'status': '500', 'size': '2048'}, {'ip': '10.138.241.117', 'datetime': '14/Jun/2025:11:52:00 +0900', 'method': 'GET', 'path': '/admin/login.php', 'status': '200', 'size': '532'}, {'ip': '172.27.192.29', 'datetime': '14/Jun/2025:10:24:57 +0900', 'method': 'GET', 'path': '/admin/login.php', 'status': '404', 'size': '1024'}, {'ip': '192.168.18.66', 'datetime': '14/Jun/2025:11:19:23 +0900', 'method': 'GET', 'path': '/admin/login.php', 'status': '200', 'size': '512'}, {'ip': '10.76.128.66', 'datetime': '14/Jun/2025:11:06:16 +0900', 'method': 'POST', 'path': '/upload.php', 'status': '403', 'size': '512'}, {'ip': '192.168.202.34', 'datetime': '14/Jun/2025:10:36:07 +0900', 'method': 'POST', 'path': '/api/data', 'status': '500', 'size': '2048'}, {'ip': '192.168.58.211', 'datetime': '14/Jun/2025:11:31:37 +0900', 'method': 'GET', 'path': '/home.php', 'status': '500', 'size': '532'}, {'ip': '172.17.139.80', 'datetime': '14/Jun/2025:10:14:56 +0900', 'method': 'GET', 'path': '/dashboard', 'status': '500', 'size': '512'}, {'ip': '172.18.68.130', 'datetime': '14/Jun/2025:11:23:37 +0900', 'method': 'GET', 'path': '/home.php', 'status': '500', 'size': '1024'}, {'ip': '172.26.131.61', 'datetime': '14/Jun/2025:10:18:20 +0900', 'method': 'POST', 'path': '/api/data', 'status': '403', 'size': '2048'}, {'ip': '172.19.46.73', 'datetime': '14/Jun/2025:11:50:24 +0900', 'method': 'GET', 'path': '/home.php', 'status': '200', 'size': '2048'}, {'ip': '192.168.242.176', 'datetime': '14/Jun/2025:10:05:35 +0900', 'method': 'GET', 'path': '/dashboard', 'status': '404', 'size': '1024'}, {'ip': '172.26.255.49', 'datetime': '14/Jun/2025:10:33:37 +0900', 'method': 'POST', 'path': '/upload.php', 'status': '403', 'size': '189'}, {'ip': '10.254.215.15', 'datetime': '14/Jun/2025:11:06:16 +0900', 'method': 'POST', 'path': '/submit', 'status': '500', 'size': '2048'}, {'ip': '172.26.184.253', 'datetime': '14/Jun/2025:10:43:40 +0900', 'method': 'POST', 'path': '/upload.php', 'status': '404', 'size': '2048'}, {'ip': '192.168.79.179', 'datetime': '14/Jun/2025:10:14:27 +0900', 'method': 'GET', 'path': '/index.html', 'status': '403', 'size': '189'}, {'ip': '10.192.74.227', 'datetime': '14/Jun/2025:11:07:25 +0900', 'method': 'POST', 'path': '/upload.php', 'status': '404', 'size': '1024'}, {'ip': '192.168.43.89', 'datetime': '14/Jun/2025:10:45:18 +0900', 'method': 'GET', 'path': '/home.php', 'status': '404', 'size': '768'}, {'ip': '10.31.79.220', 'datetime': '14/Jun/2025:10:40:54 +0900', 'method': 'GET', 'path': '/logout', 'status': '404', 'size': '2048'}, {'ip': '172.28.154.19', 'datetime': '14/Jun/2025:11:46:36 +0900', 'method': 'GET', 'path': '/dashboard', 'status': '403', 'size': '189'}, {'ip': '192.168.229.167', 'datetime': '14/Jun/2025:10:48:13 +0900', 'method': 'POST', 'path': '/api/data', 'status': '404', 'size': '512'}, {'ip': '172.22.243.189', 'datetime': '14/Jun/2025:11:08:48 +0900', 'method': 'GET', 'path': '/dashboard', 'status': '403', 'size': '532'}, {'ip': '172.23.11.94', 'datetime': '14/Jun/2025:10:04:35 +0900', 'method': 'GET', 'path': '/dashboard', 'status': '403', 'size': '2048'}, {'ip': '172.21.84.161', 'datetime': '14/Jun/2025:10:08:59 +0900', 'method': 'GET', 'path': '/index.html', 'status': '404', 'size': '768'}, {'ip': '172.19.174.46', 'datetime': '14/Jun/2025:11:54:31 +0900', 'method': 'GET', 'path': '/logout', 'status': '404', 'size': '532'}, {'ip': '10.14.36.18', 'datetime': '14/Jun/2025:10:33:37 +0900', 'method': 'POST', 'path': '/upload.php', 'status': '403', 'size': '768'}, {'ip': '192.168.103.67', 'datetime': '14/Jun/2025:10:12:14 +0900', 'method': 'GET', 'path': '/logout', 'status': '500', 'size': '512'}, {'ip': '10.131.81.77', 'datetime': '14/Jun/2025:11:40:27 +0900', 'method': 'GET', 'path': '/index.html', 'status': '500', 'size': '189'}, {'ip': '10.110.137.180', 'datetime': '14/Jun/2025:10:52:59 +0900', 'method': 'POST', 'path': '/upload.php', 'status': '200', 'size': '768'}, {'ip': '192.168.101.92', 'datetime': '14/Jun/2025:10:14:42 +0900', 'method': 'GET', 'path': '/dashboard', 'status': '404', 'size': '1024'}, {'ip': '172.20.215.187', 'datetime': '14/Jun/2025:10:47:28 +0900', 'method': 'GET', 'path': '/dashboard', 'status': '200', 'size': '768'}, {'ip': '10.249.206.54', 'datetime': '14/Jun/2025:11:50:17 +0900', 'method': 'GET', 'path': '/home.php', 'status': '404', 'size': '768'}, {'ip': '10.216.178.196', 'datetime': '14/Jun/2025:10:16:08 +0900', 'method': 'GET', 'path': '/admin/login.php', 'status': '200', 'size': '768'}, {'ip': '192.168.165.25', 'datetime': '14/Jun/2025:11:00:41 +0900', 'method': 'GET', 'path': '/admin/login.php', 'status': '200', 'size': '532'}, {'ip': '172.22.118.182', 'datetime': '14/Jun/2025:10:35:07 +0900', 'method': 'POST', 'path': '/upload.php', 'status': '404', 'size': '768'}, {'ip': '192.168.112.3', 'datetime': '14/Jun/2025:10:22:13 +0900', 'method': 'GET', 'path': '/admin/login.php', 'status': '404', 'size': '1024'}, {'ip': '10.162.242.230', 'datetime': '14/Jun/2025:10:15:51 +0900', 'method': 'GET', 'path': '/home.php', 'status': '403', 'size': '512'}, {'ip': '172.20.191.107', 'datetime': '14/Jun/2025:10:29:51 +0900', 'method': 'GET', 'path': '/admin/login.php', 'status': '404', 'size': '1024'}, {'ip': '172.20.253.45', 'datetime': '14/Jun/2025:11:58:22 +0900', 'method': 'GET', 'path': '/admin/login.php', 'status': '500', 'size': '532'}, {'ip': '172.31.13.198', 'datetime': '14/Jun/2025:10:25:34 +0900', 'method': 'GET', 'path': '/home.php', 'status': '200', 'size': '532'}, {'ip': '10.20.46.79', 'datetime': '14/Jun/2025:11:59:07 +0900', 'method': 'POST', 'path': '/submit', 'status': '500', 'size': '512'}, {'ip': '10.20.205.184', 'datetime': '14/Jun/2025:10:34:22 +0900', 'method': 'POST', 'path': '/submit', 'status': '403', 'size': '532'}, {'ip': '172.30.90.215', 'datetime': '14/Jun/2025:11:28:29 +0900', 'method': 'GET', 'path': '/admin/login.php', 'status': '403', 'size': '532'}, {'ip': '172.20.195.33', 'datetime': '14/Jun/2025:10:41:02 +0900', 'method': 'GET', 'path': '/home.php', 'status': '403', 'size': '1024'}, {'ip': '192.168.190.29', 'datetime': '14/Jun/2025:11:48:57 +0900', 'method': 'POST', 'path': '/upload.php', 'status': '500', 'size': '532'}, {'ip': '192.168.17.54', 'datetime': '14/Jun/2025:10:06:25 +0900', 'method': 'GET', 'path': '/home.php', 'status': '404', 'size': '532'}, {'ip': '192.168.39.24', 'datetime': '14/Jun/2025:11:12:54 +0900', 'method': 'POST', 'path': '/api/data', 'status': '404', 'size': '1024'}, {'ip': '192.168.105.134', 'datetime': '14/Jun/2025:11:36:40 +0900', 'method': 'POST', 'path': '/submit', 'status': '200', 'size': '1024'}, {'ip': '172.29.94.243', 'datetime': '14/Jun/2025:11:19:57 +0900', 'method': 'GET', 'path': '/logout', 'status': '403', 'size': '2048'}, {'ip': '172.28.111.40', 'datetime': '14/Jun/2025:11:12:34 +0900', 'method': 'GET', 'path': '/dashboard', 'status': '404', 'size': '1024'}, {'ip': '192.168.10.124', 'datetime': '14/Jun/2025:10:33:57 +0900', 'method': 'GET', 'path': '/dashboard', 'status': '500', 'size': '2048'}, {'ip': '192.168.93.43', 'datetime': '14/Jun/2025:11:07:09 +0900', 'method': 'POST', 'path': '/upload.php', 'status': '500', 'size': '532'}, {'ip': '172.24.36.136', 'datetime': '14/Jun/2025:11:29:56 +0900', 'method': 'GET', 'path': '/logout', 'status': '404', 'size': '189'}, {'ip': '172.24.98.93', 'datetime': '14/Jun/2025:11:10:14 +0900', 'method': 'GET', 'path': '/home.php', 'status': '200', 'size': '512'}, {'ip': '172.28.75.9', 'datetime': '14/Jun/2025:11:23:11 +0900', 'method': 'GET', 'path': '/admin/login.php', 'status': '200', 'size': '532'}, {'ip': '172.20.19.3', 'datetime': '14/Jun/2025:10:48:18 +0900', 'method': 'GET', 'path': '/index.html', 'status': '403', 'size': '1024'}, {'ip': '10.171.5.71', 'datetime': '14/Jun/2025:11:33:41 +0900', 'method': 'GET', 'path': '/home.php', 'status': '403', 'size': '1024'}, {'ip': '10.246.112.240', 'datetime': '14/Jun/2025:11:28:02 +0900', 'method': 'POST', 'path': '/upload.php', 'status': '200', 'size': '768'}, {'ip': '172.18.156.160', 'datetime': '14/Jun/2025:11:46:47 +0900', 'method': 'GET', 'path': '/admin/login.php', 'status': '500', 'size': '1024'}, {'ip': '192.168.180.158', 'datetime': '14/Jun/2025:11:25:45 +0900', 'method': 'POST', 'path': '/upload.php', 'status': '500', 'size': '512'}, {'ip': '172.30.235.193', 'datetime': '14/Jun/2025:11:51:40 +0900', 'method': 'GET', 'path': '/admin/login.php', 'status': '200', 'size': '768'}, {'ip': '172.19.63.84', 'datetime': '14/Jun/2025:10:27:18 +0900', 'method': 'GET', 'path': '/home.php', 'status': '403', 'size': '189'}, {'ip': '172.16.165.181', 'datetime': '14/Jun/2025:10:46:30 +0900', 'method': 'POST', 'path': '/upload.php', 'status': '500', 'size': '532'}, {'ip': '10.67.241.130', 'datetime': '14/Jun/2025:11:20:15 +0900', 'method': 'POST', 'path': '/api/data', 'status': '404', 'size': '512'}, {'ip': '192.168.177.126', 'datetime': '14/Jun/2025:10:43:07 +0900', 'method': 'POST', 'path': '/upload.php', 'status': '500', 'size': '532'}, {'ip': '10.251.11.46', 'datetime': '14/Jun/2025:10:04:38 +0900', 'method': 'GET', 'path': '/home.php', 'status': '404', 'size': '532'}, {'ip': '10.239.51.81', 'datetime': '14/Jun/2025:10:16:32 +0900', 'method': 'GET', 'path': '/home.php', 'status': '404', 'size': '512'}, {'ip': '192.168.172.252', 'datetime': '14/Jun/2025:11:15:48 +0900', 'method': 'GET', 'path': '/dashboard', 'status': '404', 'size': '512'}, {'ip': '192.168.151.191', 'datetime': '14/Jun/2025:11:07:31 +0900', 'method': 'GET', 'path': '/index.html', 'status': '500', 'size': '189'}, {'ip': '10.198.121.126', 'datetime': '14/Jun/2025:11:19:14 +0900', 'method': 'POST', 'path': '/api/data', 'status': '403', 'size': '189'}, {'ip': '172.19.227.193', 'datetime': '14/Jun/2025:10:40:39 +0900', 'method': 'POST', 'path': '/submit', 'status': '404', 'size': '512'}, {'ip': '192.168.96.213', 'datetime': '14/Jun/2025:11:26:50 +0900', 'method': 'POST', 'path': '/submit', 'status': '200', 'size': '189'}, {'ip': '10.227.159.240', 'datetime': '14/Jun/2025:10:31:10 +0900', 'method': 'POST', 'path': '/upload.php', 'status': '403', 'size': '189'}, {'ip': '172.30.147.54', 'datetime': '14/Jun/2025:10:10:27 +0900', 'method': 'GET', 'path': '/index.html', 'status': '500', 'size': '2048'}, {'ip': '172.18.105.46', 'datetime': '14/Jun/2025:11:18:30 +0900', 'method': 'GET', 'path': '/admin/login.php', 'status': '404', 'size': '512'}, {'ip': '10.20.120.88', 'datetime': '14/Jun/2025:11:42:52 +0900', 'method': 'POST', 'path': '/submit', 'status': '500', 'size': '768'}, {'ip': '172.16.218.93', 'datetime': '14/Jun/2025:11:29:48 +0900', 'method': 'GET', 'path': '/home.php', 'status': '200', 'size': '189'}, {'ip': '192.168.110.148', 'datetime': '14/Jun/2025:11:29:42 +0900', 'method': 'GET', 'path': '/home.php', 'status': '404', 'size': '768'}, {'ip': '10.215.24.205', 'datetime': '14/Jun/2025:11:48:13 +0900', 'method': 'POST', 'path': '/submit', 'status': '403', 'size': '2048'}, {'ip': '192.168.58.21', 'datetime': '14/Jun/2025:11:05:11 +0900', 'method': 'GET', 'path': '/dashboard', 'status': '200', 'size': '768'}, {'ip': '10.216.23.202', 'datetime': '14/Jun/2025:10:25:51 +0900', 'method': 'GET', 'path': '/admin/login.php', 'status': '403', 'size': '768'}, {'ip': '10.212.206.236', 'datetime': '14/Jun/2025:10:05:34 +0900', 'method': 'POST', 'path': '/api/data', 'status': '500', 'size': '768'}, {'ip': '10.79.243.206', 'datetime': '14/Jun/2025:11:54:28 +0900', 'method': 'GET', 'path': '/logout', 'status': '403', 'size': '768'}, {'ip': '192.168.228.184', 'datetime': '14/Jun/2025:10:18:14 +0900', 'method': 'GET', 'path': '/dashboard', 'status': '403', 'size': '512'}, {'ip': '172.16.246.220', 'datetime': '14/Jun/2025:10:07:03 +0900', 'method': 'GET', 'path': '/logout', 'status': '404', 'size': '512'}, {'ip': '172.26.98.75', 'datetime': '14/Jun/2025:10:39:07 +0900', 'method': 'POST', 'path': '/submit', 'status': '500', 'size': '768'}, {'ip': '192.168.180.123', 'datetime': '14/Jun/2025:11:13:11 +0900', 'method': 'GET', 'path': '/index.html', 'status': '500', 'size': '189'}, {'ip': '10.15.10.145', 'datetime': '14/Jun/2025:11:43:14 +0900', 'method': 'GET', 'path': '/index.html', 'status': '500', 'size': '532'}, {'ip': '172.16.81.160', 'datetime': '14/Jun/2025:11:54:27 +0900', 'method': 'GET', 'path': '/home.php', 'status': '500', 'size': '189'}, {'ip': '10.36.26.226', 'datetime': '14/Jun/2025:10:56:21 +0900', 'method': 'GET', 'path': '/index.html', 'status': '404', 'size': '189'}, {'ip': '192.168.106.124', 'datetime': '14/Jun/2025:10:23:33 +0900', 'method': 'GET', 'path': '/dashboard', 'status': '500', 'size': '189'}, {'ip': '10.63.18.131', 'datetime': '14/Jun/2025:11:04:37 +0900', 'method': 'POST', 'path': '/submit', 'status': '500', 'size': '768'}, {'ip': '192.168.188.254', 'datetime': '14/Jun/2025:10:29:37 +0900', 'method': 'GET', 'path': '/logout', 'status': '200', 'size': '189'}, {'ip': '192.168.119.57', 'datetime': '14/Jun/2025:10:50:20 +0900', 'method': 'POST', 'path': '/api/data', 'status': '200', 'size': '512'}, {'ip': '10.57.139.81', 'datetime': '14/Jun/2025:10:48:40 +0900', 'method': 'GET', 'path': '/dashboard', 'status': '200', 'size': '2048'}, {'ip': '172.24.67.84', 'datetime': '14/Jun/2025:10:43:11 +0900', 'method': 'POST', 'path': '/submit', 'status': '200', 'size': '2048'}, {'ip': '10.106.142.184', 'datetime': '14/Jun/2025:11:39:39 +0900', 'method': 'GET', 'path': '/logout', 'status': '404', 'size': '532'}, {'ip': '172.25.93.61', 'datetime': '14/Jun/2025:11:36:19 +0900', 'method': 'GET', 'path': '/index.html', 'status': '500', 'size': '2048'}, {'ip': '172.26.118.167', 'datetime': '14/Jun/2025:11:53:53 +0900', 'method': 'POST', 'path': '/api/data', 'status': '200', 'size': '189'}, {'ip': '10.41.95.204', 'datetime': '14/Jun/2025:10:54:51 +0900', 'method': 'GET', 'path': '/logout', 'status': '404', 'size': '512'}, {'ip': '10.157.147.11', 'datetime': '14/Jun/2025:11:53:32 +0900', 'method': 'GET', 'path': '/admin/login.php', 'status': '500', 'size': '768'}, {'ip': '10.75.57.255', 'datetime': '14/Jun/2025:11:48:36 +0900', 'method': 'GET', 'path': '/home.php', 'status': '500', 'size': '532'}, {'ip': '10.161.188.133', 'datetime': '14/Jun/2025:10:02:09 +0900', 'method': 'GET', 'path': '/index.html', 'status': '200', 'size': '2048'}, {'ip': '192.168.94.45', 'datetime': '14/Jun/2025:11:27:02 +0900', 'method': 'GET', 'path': '/logout', 'status': '500', 'size': '2048'}, {'ip': '172.17.122.237', 'datetime': '14/Jun/2025:11:48:19 +0900', 'method': 'GET', 'path': '/home.php', 'status': '500', 'size': '1024'}, {'ip': '10.201.160.78', 'datetime': '14/Jun/2025:11:54:09 +0900', 'method': 'GET', 'path': '/dashboard', 'status': '403', 'size': '512'}, {'ip': '10.67.152.41', 'datetime': '14/Jun/2025:11:28:30 +0900', 'method': 'GET', 'path': '/admin/login.php', 'status': '500', 'size': '532'}, {'ip': '172.29.86.2', 'datetime': '14/Jun/2025:10:56:38 +0900', 'method': 'GET', 'path': '/logout', 'status': '404', 'size': '512'}, {'ip': '192.168.216.41', 'datetime': '14/Jun/2025:10:13:33 +0900', 'method': 'POST', 'path': '/api/data', 'status': '404', 'size': '1024'}, {'ip': '172.18.180.174', 'datetime': '14/Jun/2025:11:01:39 +0900', 'method': 'GET', 'path': '/logout', 'status': '200', 'size': '2048'}, {'ip': '10.189.15.32', 'datetime': '14/Jun/2025:11:29:25 +0900', 'method': 'GET', 'path': '/dashboard', 'status': '200', 'size': '1024'}, {'ip': '192.168.29.159', 'datetime': '14/Jun/2025:11:31:20 +0900', 'method': 'POST', 'path': '/upload.php', 'status': '200', 'size': '2048'}, {'ip': '172.29.89.233', 'datetime': '14/Jun/2025:10:32:38 +0900', 'method': 'GET', 'path': '/dashboard', 'status': '403', 'size': '1024'}, {'ip': '192.168.225.241', 'datetime': '14/Jun/2025:10:04:37 +0900', 'method': 'GET', 'path': '/index.html', 'status': '200', 'size': '189'}, {'ip': '10.241.24.44', 'datetime': '14/Jun/2025:11:34:23 +0900', 'method': 'GET', 'path': '/home.php', 'status': '404', 'size': '512'}, {'ip': '10.55.156.107', 'datetime': '14/Jun/2025:10:10:23 +0900', 'method': 'POST', 'path': '/upload.php', 'status': '500', 'size': '768'}, {'ip': '172.20.236.147', 'datetime': '14/Jun/2025:10:38:52 +0900', 'method': 'GET', 'path': '/logout', 'status': '403', 'size': '1024'}, {'ip': '192.168.204.44', 'datetime': '14/Jun/2025:10:23:44 +0900', 'method': 'GET', 'path': '/dashboard', 'status': '500', 'size': '532'}, {'ip': '10.221.9.241', 'datetime': '14/Jun/2025:11:37:57 +0900', 'method': 'POST', 'path': '/submit', 'status': '200', 'size': '189'}, {'ip': '10.232.42.53', 'datetime': '14/Jun/2025:10:28:08 +0900', 'method': 'POST', 'path': '/api/data', 'status': '500', 'size': '512'}, {'ip': '172.20.143.233', 'datetime': '14/Jun/2025:10:07:45 +0900', 'method': 'GET', 'path': '/admin/login.php', 'status': '500', 'size': '768'}, {'ip': '172.18.196.154', 'datetime': '14/Jun/2025:10:50:48 +0900', 'method': 'GET', 'path': '/home.php', 'status': '200', 'size': '1024'}, {'ip': '172.25.110.106', 'datetime': '14/Jun/2025:10:04:32 +0900', 'method': 'POST', 'path': '/submit', 'status': '404', 'size': '532'}, {'ip': '10.229.238.233', 'datetime': '14/Jun/2025:11:26:24 +0900', 'method': 'GET', 'path': '/home.php', 'status': '200', 'size': '2048'}, {'ip': '192.168.111.253', 'datetime': '14/Jun/2025:11:15:54 +0900', 'method': 'GET', 'path': '/home.php', 'status': '404', 'size': '1024'}, {'ip': '172.25.163.24', 'datetime': '14/Jun/2025:11:37:21 +0900', 'method': 'GET', 'path': '/home.php', 'status': '500', 'size': '2048'}, {'ip': '192.168.217.49', 'datetime': '14/Jun/2025:10:41:01 +0900', 'method': 'POST', 'path': '/submit', 'status': '403', 'size': '768'}, {'ip': '192.168.47.99', 'datetime': '14/Jun/2025:10:38:18 +0900', 'method': 'POST', 'path': '/api/data', 'status': '500', 'size': '1024'}, {'ip': '192.168.118.248', 'datetime': '14/Jun/2025:11:05:31 +0900', 'method': 'POST', 'path': '/submit', 'status': '403', 'size': '532'}, {'ip': '192.168.143.103', 'datetime': '14/Jun/2025:11:29:20 +0900', 'method': 'POST', 'path': '/submit', 'status': '404', 'size': '512'}, {'ip': '192.168.61.221', 'datetime': '14/Jun/2025:11:48:48 +0900', 'method': 'GET', 'path': '/index.html', 'status': '404', 'size': '189'}, {'ip': '172.17.76.41', 'datetime': '14/Jun/2025:11:23:23 +0900', 'method': 'GET', 'path': '/home.php', 'status': '200', 'size': '189'}, {'ip': '10.202.223.79', 'datetime': '14/Jun/2025:11:13:15 +0900', 'method': 'GET', 'path': '/index.html', 'status': '404', 'size': '1024'}, {'ip': '172.24.21.93', 'datetime': '14/Jun/2025:11:30:25 +0900', 'method': 'GET', 'path': '/index.html', 'status': '404', 'size': '532'}, {'ip': '172.22.69.226', 'datetime': '14/Jun/2025:11:38:09 +0900', 'method': 'POST', 'path': '/submit', 'status': '404', 'size': '2048'}, {'ip': '192.168.36.18', 'datetime': '14/Jun/2025:10:04:35 +0900', 'method': 'GET', 'path': '/admin/login.php', 'status': '500', 'size': '532'}, {'ip': '172.26.224.97', 'datetime': '14/Jun/2025:11:17:43 +0900', 'method': 'POST', 'path': '/submit', 'status': '404', 'size': '768'}, {'ip': '10.127.131.24', 'datetime': '14/Jun/2025:11:14:42 +0900', 'method': 'GET', 'path': '/home.php', 'status': '500', 'size': '2048'}, {'ip': '10.148.82.128', 'datetime': '14/Jun/2025:11:30:57 +0900', 'method': 'POST', 'path': '/api/data', 'status': '500', 'size': '189'}, {'ip': '172.22.186.153', 'datetime': '14/Jun/2025:11:29:11 +0900', 'method': 'GET', 'path': '/dashboard', 'status': '200', 'size': '768'}, {'ip': '192.168.206.140', 'datetime': '14/Jun/2025:10:48:42 +0900', 'method': 'POST', 'path': '/upload.php', 'status': '403', 'size': '1024'}, {'ip': '192.168.142.166', 'datetime': '14/Jun/2025:11:21:14 +0900', 'method': 'GET', 'path': '/index.html', 'status': '403', 'size': '768'}, {'ip': '172.20.104.246', 'datetime': '14/Jun/2025:10:09:29 +0900', 'method': 'GET', 'path': '/admin/login.php', 'status': '404', 'size': '1024'}, {'ip': '10.61.180.132', 'datetime': '14/Jun/2025:11:17:01 +0900', 'method': 'GET', 'path': '/dashboard', 'status': '404', 'size': '512'}, {'ip': '172.30.249.99', 'datetime': '14/Jun/2025:11:54:24 +0900', 'method': 'GET', 'path': '/logout', 'status': '403', 'size': '2048'}, {'ip': '10.153.17.115', 'datetime': '14/Jun/2025:10:33:19 +0900', 'method': 'GET', 'path': '/logout', 'status': '500', 'size': '768'}, {'ip': '172.29.72.143', 'datetime': '14/Jun/2025:11:49:42 +0900', 'method': 'GET', 'path': '/dashboard', 'status': '404', 'size': '768'}, {'ip': '10.162.240.96', 'datetime': '14/Jun/2025:11:31:14 +0900', 'method': 'POST', 'path': '/api/data', 'status': '403', 'size': '189'}, {'ip': '172.17.237.86', 'datetime': '14/Jun/2025:10:51:50 +0900', 'method': 'GET', 'path': '/index.html', 'status': '403', 'size': '532'}, {'ip': '172.31.219.83', 'datetime': '14/Jun/2025:10:49:17 +0900', 'method': 'POST', 'path': '/api/data', 'status': '404', 'size': '532'}, {'ip': '10.110.114.14', 'datetime': '14/Jun/2025:11:58:47 +0900', 'method': 'GET', 'path': '/logout', 'status': '500', 'size': '768'}, {'ip': '10.200.44.179', 'datetime': '14/Jun/2025:11:21:11 +0900', 'method': 'POST', 'path': '/upload.php', 'status': '500', 'size': '189'}, {'ip': '10.34.6.161', 'datetime': '14/Jun/2025:10:26:44 +0900', 'method': 'POST', 'path': '/submit', 'status': '500', 'size': '768'}, {'ip': '192.168.202.76', 'datetime': '14/Jun/2025:10:15:04 +0900', 'method': 'POST', 'path': '/upload.php', 'status': '200', 'size': '512'}, {'ip': '10.59.120.73', 'datetime': '14/Jun/2025:10:56:51 +0900', 'method': 'POST', 'path': '/submit', 'status': '500', 'size': '1024'}, {'ip': '192.168.138.104', 'datetime': '14/Jun/2025:11:40:21 +0900', 'method': 'POST', 'path': '/upload.php', 'status': '200', 'size': '532'}, {'ip': '192.168.116.16', 'datetime': '14/Jun/2025:11:41:27 +0900', 'method': 'GET', 'path': '/index.html', 'status': '200', 'size': '532'}, {'ip': '10.147.106.201', 'datetime': '14/Jun/2025:10:54:09 +0900', 'method': 'GET', 'path': '/home.php', 'status': '200', 'size': '768'}, {'ip': '10.235.250.106', 'datetime': '14/Jun/2025:10:27:11 +0900', 'method': 'GET', 'path': '/index.html', 'status': '404', 'size': '768'}, {'ip': '192.168.86.37', 'datetime': '14/Jun/2025:10:59:29 +0900', 'method': 'POST', 'path': '/upload.php', 'status': '404', 'size': '532'}, {'ip': '172.29.237.187', 'datetime': '14/Jun/2025:10:26:33 +0900', 'method': 'GET', 'path': '/index.html', 'status': '200', 'size': '2048'}, {'ip': '10.75.133.54', 'datetime': '14/Jun/2025:10:30:39 +0900', 'method': 'GET', 'path': '/dashboard', 'status': '500', 'size': '1024'}, {'ip': '192.168.106.240', 'datetime': '14/Jun/2025:10:46:16 +0900', 'method': 'POST', 'path': '/api/data', 'status': '500', 'size': '532'}, {'ip': '10.199.26.164', 'datetime': '14/Jun/2025:10:54:51 +0900', 'method': 'GET', 'path': '/admin/login.php', 'status': '200', 'size': '768'}, {'ip': '172.28.119.21', 'datetime': '14/Jun/2025:11:57:06 +0900', 'method': 'GET', 'path': '/logout', 'status': '403', 'size': '512'}, {'ip': '192.168.100.115', 'datetime': '14/Jun/2025:11:42:09 +0900', 'method': 'GET', 'path': '/dashboard', 'status': '200', 'size': '189'}, {'ip': '172.17.151.232', 'datetime': '14/Jun/2025:11:58:24 +0900', 'method': 'POST', 'path': '/submit', 'status': '500', 'size': '1024'}, {'ip': '172.18.181.130', 'datetime': '14/Jun/2025:11:42:10 +0900', 'method': 'GET', 'path': '/home.php', 'status': '403', 'size': '532'}, {'ip': '10.88.196.117', 'datetime': '14/Jun/2025:10:28:41 +0900', 'method': 'POST', 'path': '/upload.php', 'status': '404', 'size': '1024'}, {'ip': '10.44.90.184', 'datetime': '14/Jun/2025:11:00:36 +0900', 'method': 'POST', 'path': '/api/data', 'status': '404', 'size': '1024'}, {'ip': '192.168.145.160', 'datetime': '14/Jun/2025:10:32:36 +0900', 'method': 'GET', 'path': '/dashboard', 'status': '200', 'size': '189'}, {'ip': '172.17.185.224', 'datetime': '14/Jun/2025:11:09:02 +0900', 'method': 'POST', 'path': '/api/data', 'status': '200', 'size': '189'}, {'ip': '192.168.220.120', 'datetime': '14/Jun/2025:11:45:49 +0900', 'method': 'POST', 'path': '/submit', 'status': '200', 'size': '2048'}, {'ip': '192.168.130.110', 'datetime': '14/Jun/2025:10:34:21 +0900', 'method': 'GET', 'path': '/admin/login.php', 'status': '403', 'size': '768'}, {'ip': '192.168.172.164', 'datetime': '14/Jun/2025:10:32:43 +0900', 'method': 'GET', 'path': '/dashboard', 'status': '404', 'size': '532'}, {'ip': '172.17.174.132', 'datetime': '14/Jun/2025:10:29:28 +0900', 'method': 'POST', 'path': '/api/data', 'status': '500', 'size': '2048'}, {'ip': '10.148.97.239', 'datetime': '14/Jun/2025:10:38:15 +0900', 'method': 'POST', 'path': '/submit', 'status': '200', 'size': '532'}, {'ip': '192.168.32.155', 'datetime': '14/Jun/2025:11:37:34 +0900', 'method': 'POST', 'path': '/api/data', 'status': '404', 'size': '532'}, {'ip': '172.28.176.63', 'datetime': '14/Jun/2025:10:14:10 +0900', 'method': 'GET', 'path': '/home.php', 'status': '200', 'size': '768'}, {'ip': '192.168.232.75', 'datetime': '14/Jun/2025:11:05:19 +0900', 'method': 'GET', 'path': '/index.html', 'status': '200', 'size': '189'}, {'ip': '10.52.101.194', 'datetime': '14/Jun/2025:10:39:27 +0900', 'method': 'GET', 'path': '/logout', 'status': '404', 'size': '1024'}, {'ip': '192.168.163.87', 'datetime': '14/Jun/2025:11:15:49 +0900', 'method': 'GET', 'path': '/dashboard', 'status': '200', 'size': '532'}, {'ip': '172.26.103.147', 'datetime': '14/Jun/2025:11:22:15 +0900', 'method': 'POST', 'path': '/upload.php', 'status': '500', 'size': '512'}, {'ip': '172.17.107.85', 'datetime': '14/Jun/2025:10:32:40 +0900', 'method': 'POST', 'path': '/upload.php', 'status': '500', 'size': '1024'}, {'ip': '10.107.79.141', 'datetime': '14/Jun/2025:10:17:39 +0900', 'method': 'POST', 'path': '/api/data', 'status': '404', 'size': '512'}, {'ip': '192.168.103.58', 'datetime': '14/Jun/2025:10:20:15 +0900', 'method': 'GET', 'path': '/dashboard', 'status': '403', 'size': '1024'}, {'ip': '172.25.164.108', 'datetime': '14/Jun/2025:11:24:28 +0900', 'method': 'POST', 'path': '/upload.php', 'status': '403', 'size': '189'}, {'ip': '172.28.79.59', 'datetime': '14/Jun/2025:11:11:34 +0900', 'method': 'POST', 'path': '/submit', 'status': '200', 'size': '512'}, {'ip': '172.23.173.196', 'datetime': '14/Jun/2025:11:24:10 +0900', 'method': 'GET', 'path': '/dashboard', 'status': '200', 'size': '189'}, {'ip': '10.37.9.115', 'datetime': '14/Jun/2025:11:21:51 +0900', 'method': 'GET', 'path': '/index.html', 'status': '200', 'size': '1024'}, {'ip': '10.224.91.145', 'datetime': '14/Jun/2025:10:27:54 +0900', 'method': 'GET', 'path': '/logout', 'status': '500', 'size': '1024'}, {'ip': '10.211.1.106', 'datetime': '14/Jun/2025:10:54:41 +0900', 'method': 'GET', 'path': '/dashboard', 'status': '403', 'size': '532'}, {'ip': '172.19.199.171', 'datetime': '14/Jun/2025:11:13:31 +0900', 'method': 'GET', 'path': '/index.html', 'status': '404', 'size': '768'}, {'ip': '10.50.140.203', 'datetime': '14/Jun/2025:11:39:13 +0900', 'method': 'GET', 'path': '/dashboard', 'status': '403', 'size': '768'}, {'ip': '10.109.75.124', 'datetime': '14/Jun/2025:10:28:01 +0900', 'method': 'GET', 'path': '/index.html', 'status': '404', 'size': '2048'}, {'ip': '172.29.169.116', 'datetime': '14/Jun/2025:10:12:50 +0900', 'method': 'GET', 'path': '/admin/login.php', 'status': '403', 'size': '2048'}, {'ip': '192.168.201.248', 'datetime': '14/Jun/2025:10:17:37 +0900', 'method': 'POST', 'path': '/upload.php', 'status': '404', 'size': '768'}, {'ip': '10.127.220.95', 'datetime': '14/Jun/2025:10:31:16 +0900', 'method': 'GET', 'path': '/dashboard', 'status': '200', 'size': '189'}, {'ip': '172.24.237.137', 'datetime': '14/Jun/2025:10:25:39 +0900', 'method': 'POST', 'path': '/api/data', 'status': '500', 'size': '768'}, {'ip': '172.29.234.61', 'datetime': '14/Jun/2025:11:51:45 +0900', 'method': 'GET', 'path': '/logout', 'status': '404', 'size': '2048'}, {'ip': '10.146.45.208', 'datetime': '14/Jun/2025:10:42:14 +0900', 'method': 'GET', 'path': '/logout', 'status': '200', 'size': '512'}, {'ip': '192.168.103.1', 'datetime': '14/Jun/2025:10:32:49 +0900', 'method': 'GET', 'path': '/admin/login.php', 'status': '500', 'size': '532'}, {'ip': '192.168.226.49', 'datetime': '14/Jun/2025:11:37:00 +0900', 'method': 'GET', 'path': '/logout', 'status': '200', 'size': '1024'}, {'ip': '192.168.133.160', 'datetime': '14/Jun/2025:11:39:30 +0900', 'method': 'GET', 'path': '/index.html', 'status': '404', 'size': '512'}, {'ip': '172.19.204.163', 'datetime': '14/Jun/2025:11:20:44 +0900', 'method': 'POST', 'path': '/submit', 'status': '404', 'size': '189'}, {'ip': '192.168.50.163', 'datetime': '14/Jun/2025:10:44:32 +0900', 'method': 'POST', 'path': '/submit', 'status': '500', 'size': '768'}, {'ip': '10.127.95.68', 'datetime': '14/Jun/2025:11:39:59 +0900', 'method': 'POST', 'path': '/submit', 'status': '403', 'size': '2048'}, {'ip': '10.3.76.1', 'datetime': '14/Jun/2025:11:49:34 +0900', 'method': 'GET', 'path': '/admin/login.php', 'status': '404', 'size': '1024'}, {'ip': '192.168.219.70', 'datetime': '14/Jun/2025:11:59:40 +0900', 'method': 'POST', 'path': '/upload.php', 'status': '200', 'size': '768'}, {'ip': '10.139.131.33', 'datetime': '14/Jun/2025:10:51:34 +0900', 'method': 'GET', 'path': '/logout', 'status': '200', 'size': '532'}, {'ip': '10.183.194.90', 'datetime': '14/Jun/2025:10:16:24 +0900', 'method': 'GET', 'path': '/admin/login.php', 'status': '404', 'size': '2048'}, {'ip': '10.144.120.52', 'datetime': '14/Jun/2025:11:28:58 +0900', 'method': 'POST', 'path': '/upload.php', 'status': '200', 'size': '2048'}, {'ip': '10.122.243.30', 'datetime': '14/Jun/2025:11:30:47 +0900', 'method': 'GET', 'path': '/home.php', 'status': '500', 'size': '1024'}, {'ip': '10.167.149.24', 'datetime': '14/Jun/2025:11:50:59 +0900', 'method': 'GET', 'path': '/admin/login.php', 'status': '500', 'size': '532'}, {'ip': '10.245.229.232', 'datetime': '14/Jun/2025:10:04:42 +0900', 'method': 'POST', 'path': '/submit', 'status': '500', 'size': '512'}, {'ip': '172.20.100.169', 'datetime': '14/Jun/2025:11:08:06 +0900', 'method': 'GET', 'path': '/logout', 'status': '200', 'size': '512'}, {'ip': '10.167.224.129', 'datetime': '14/Jun/2025:11:53:17 +0900', 'method': 'GET', 'path': '/admin/login.php', 'status': '500', 'size': '2048'}, {'ip': '172.16.207.37', 'datetime': '14/Jun/2025:10:51:00 +0900', 'method': 'GET', 'path': '/admin/login.php', 'status': '500', 'size': '1024'}, {'ip': '10.79.124.7', 'datetime': '14/Jun/2025:10:25:37 +0900', 'method': 'GET', 'path': '/logout', 'status': '404', 'size': '189'}, {'ip': '10.39.37.68', 'datetime': '14/Jun/2025:11:56:56 +0900', 'method': 'GET', 'path': '/admin/login.php', 'status': '403', 'size': '1024'}, {'ip': '10.254.84.92', 'datetime': '14/Jun/2025:11:50:14 +0900', 'method': 'POST', 'path': '/submit', 'status': '500', 'size': '1024'}, {'ip': '192.168.109.74', 'datetime': '14/Jun/2025:11:31:10 +0900', 'method': 'POST', 'path': '/upload.php', 'status': '500', 'size': '2048'}, {'ip': '10.119.166.40', 'datetime': '14/Jun/2025:10:51:30 +0900', 'method': 'GET', 'path': '/index.html', 'status': '403', 'size': '768'}, {'ip': '172.20.61.198', 'datetime': '14/Jun/2025:10:36:29 +0900', 'method': 'POST', 'path': '/upload.php', 'status': '404', 'size': '768'}, {'ip': '192.168.55.77', 'datetime': '14/Jun/2025:10:31:13 +0900', 'method': 'GET', 'path': '/home.php', 'status': '403', 'size': '768'}, {'ip': '192.168.183.156', 'datetime': '14/Jun/2025:11:54:43 +0900', 'method': 'GET', 'path': '/home.php', 'status': '403', 'size': '512'}, {'ip': '172.16.103.130', 'datetime': '14/Jun/2025:10:52:38 +0900', 'method': 'GET', 'path': '/home.php', 'status': '404', 'size': '189'}, {'ip': '10.83.121.157', 'datetime': '14/Jun/2025:10:46:32 +0900', 'method': 'POST', 'path': '/api/data', 'status': '404', 'size': '1024'}, {'ip': '192.168.246.58', 'datetime': '14/Jun/2025:11:23:36 +0900', 'method': 'POST', 'path': '/submit', 'status': '403', 'size': '512'}, {'ip': '192.168.40.84', 'datetime': '14/Jun/2025:10:04:09 +0900', 'method': 'GET', 'path': '/home.php', 'status': '404', 'size': '1024'}, {'ip': '172.28.219.253', 'datetime': '14/Jun/2025:11:30:21 +0900', 'method': 'POST', 'path': '/api/data', 'status': '500', 'size': '512'}, {'ip': '192.168.162.1', 'datetime': '14/Jun/2025:11:11:32 +0900', 'method': 'GET', 'path': '/dashboard', 'status': '200', 'size': '532'}, {'ip': '172.17.228.206', 'datetime': '14/Jun/2025:10:09:46 +0900', 'method': 'POST', 'path': '/upload.php', 'status': '403', 'size': '1024'}, {'ip': '10.127.204.191', 'datetime': '14/Jun/2025:10:50:31 +0900', 'method': 'GET', 'path': '/dashboard', 'status': '403', 'size': '2048'}, {'ip': '172.23.58.182', 'datetime': '14/Jun/2025:10:08:07 +0900', 'method': 'POST', 'path': '/upload.php', 'status': '200', 'size': '2048'}, {'ip': '172.21.49.211', 'datetime': '14/Jun/2025:10:58:19 +0900', 'method': 'GET', 'path': '/index.html', 'status': '500', 'size': '512'}, {'ip': '172.17.220.162', 'datetime': '14/Jun/2025:11:27:52 +0900', 'method': 'GET', 'path': '/dashboard', 'status': '404', 'size': '1024'}, {'ip': '192.168.180.243', 'datetime': '14/Jun/2025:10:25:44 +0900', 'method': 'GET', 'path': '/logout', 'status': '404', 'size': '512'}, {'ip': '10.31.101.188', 'datetime': '14/Jun/2025:11:34:35 +0900', 'method': 'GET', 'path': '/index.html', 'status': '404', 'size': '532'}, {'ip': '10.6.94.178', 'datetime': '14/Jun/2025:10:05:24 +0900', 'method': 'POST', 'path': '/api/data', 'status': '200', 'size': '189'}, {'ip': '10.167.65.3', 'datetime': '14/Jun/2025:11:15:39 +0900', 'method': 'GET', 'path': '/home.php', 'status': '403', 'size': '1024'}, {'ip': '10.176.154.120', 'datetime': '14/Jun/2025:11:43:38 +0900', 'method': 'POST', 'path': '/upload.php', 'status': '404', 'size': '532'}, {'ip': '192.168.110.220', 'datetime': '14/Jun/2025:10:24:53 +0900', 'method': 'POST', 'path': '/submit', 'status': '404', 'size': '512'}, {'ip': '172.27.117.6', 'datetime': '14/Jun/2025:11:25:58 +0900', 'method': 'GET', 'path': '/admin/login.php', 'status': '404', 'size': '768'}, {'ip': '172.26.133.163', 'datetime': '14/Jun/2025:10:39:40 +0900', 'method': 'POST', 'path': '/api/data', 'status': '403', 'size': '2048'}, {'ip': '192.168.209.56', 'datetime': '14/Jun/2025:10:07:15 +0900', 'method': 'GET', 'path': '/dashboard', 'status': '200', 'size': '768'}, {'ip': '172.24.112.144', 'datetime': '14/Jun/2025:11:44:32 +0900', 'method': 'GET', 'path': '/logout', 'status': '404', 'size': '768'}, {'ip': '192.168.236.224', 'datetime': '14/Jun/2025:10:26:21 +0900', 'method': 'GET', 'path': '/admin/login.php', 'status': '403', 'size': '1024'}, {'ip': '10.62.196.213', 'datetime': '14/Jun/2025:10:10:40 +0900', 'method': 'POST', 'path': '/submit', 'status': '403', 'size': '512'}, {'ip': '172.21.123.106', 'datetime': '14/Jun/2025:10:22:59 +0900', 'method': 'POST', 'path': '/upload.php', 'status': '404', 'size': '768'}, {'ip': '10.75.220.169', 'datetime': '14/Jun/2025:11:57:32 +0900', 'method': 'GET', 'path': '/logout', 'status': '500', 'size': '1024'}, {'ip': '10.90.64.144', 'datetime': '14/Jun/2025:11:34:35 +0900', 'method': 'GET', 'path': '/admin/login.php', 'status': '500', 'size': '768'}, {'ip': '10.86.114.184', 'datetime': '14/Jun/2025:10:50:00 +0900', 'method': 'POST', 'path': '/submit', 'status': '404', 'size': '1024'}, {'ip': '192.168.86.45', 'datetime': '14/Jun/2025:10:10:10 +0900', 'method': 'GET', 'path': '/index.html', 'status': '403', 'size': '532'}, {'ip': '192.168.53.18', 'datetime': '14/Jun/2025:10:28:02 +0900', 'method': 'GET', 'path': '/dashboard', 'status': '403', 'size': '512'}, {'ip': '192.168.76.214', 'datetime': '14/Jun/2025:10:05:35 +0900', 'method': 'GET', 'path': '/dashboard', 'status': '200', 'size': '532'}, {'ip': '192.168.129.68', 'datetime': '14/Jun/2025:10:26:38 +0900', 'method': 'POST', 'path': '/submit', 'status': '200', 'size': '189'}, {'ip': '172.28.12.110', 'datetime': '14/Jun/2025:10:39:32 +0900', 'method': 'GET', 'path': '/dashboard', 'status': '500', 'size': '532'}, {'ip': '10.18.152.4', 'datetime': '14/Jun/2025:10:46:50 +0900', 'method': 'GET', 'path': '/logout', 'status': '200', 'size': '768'}, {'ip': '172.25.94.20', 'datetime': '14/Jun/2025:11:28:15 +0900', 'method': 'GET', 'path': '/admin/login.php', 'status': '404', 'size': '2048'}, {'ip': '192.168.120.232', 'datetime': '14/Jun/2025:11:49:24 +0900', 'method': 'GET', 'path': '/home.php', 'status': '500', 'size': '768'}, {'ip': '192.168.207.54', 'datetime': '14/Jun/2025:11:54:39 +0900', 'method': 'POST', 'path': '/submit', 'status': '403', 'size': '1024'}, {'ip': '172.31.193.7', 'datetime': '14/Jun/2025:11:39:57 +0900', 'method': 'GET', 'path': '/index.html', 'status': '200', 'size': '189'}, {'ip': '172.25.57.41', 'datetime': '14/Jun/2025:11:43:23 +0900', 'method': 'GET', 'path': '/logout', 'status': '500', 'size': '532'}, {'ip': '192.168.17.226', 'datetime': '14/Jun/2025:11:48:24 +0900', 'method': 'GET', 'path': '/dashboard', 'status': '200', 'size': '512'}, {'ip': '192.168.134.95', 'datetime': '14/Jun/2025:10:09:21 +0900', 'method': 'POST', 'path': '/upload.php', 'status': '404', 'size': '1024'}, {'ip': '192.168.202.69', 'datetime': '14/Jun/2025:11:01:52 +0900', 'method': 'POST', 'path': '/submit', 'status': '403', 'size': '512'}, {'ip': '192.168.177.116', 'datetime': '14/Jun/2025:10:04:43 +0900', 'method': 'GET', 'path': '/index.html', 'status': '200', 'size': '1024'}, {'ip': '172.24.188.210', 'datetime': '14/Jun/2025:11:33:24 +0900', 'method': 'POST', 'path': '/api/data', 'status': '500', 'size': '2048'}, {'ip': '192.168.130.1', 'datetime': '14/Jun/2025:10:01:26 +0900', 'method': 'GET', 'path': '/index.html', 'status': '404', 'size': '768'}, {'ip': '192.168.148.93', 'datetime': '14/Jun/2025:11:54:47 +0900', 'method': 'GET', 'path': '/dashboard', 'status': '404', 'size': '768'}, {'ip': '192.168.174.57', 'datetime': '14/Jun/2025:10:41:51 +0900', 'method': 'GET', 'path': '/admin/login.php', 'status': '500', 'size': '2048'}, {'ip': '172.24.5.49', 'datetime': '14/Jun/2025:11:34:33 +0900', 'method': 'GET', 'path': '/index.html', 'status': '200', 'size': '2048'}, {'ip': '10.168.172.182', 'datetime': '14/Jun/2025:11:38:51 +0900', 'method': 'GET', 'path': '/index.html', 'status': '403', 'size': '1024'}, {'ip': '10.180.235.7', 'datetime': '14/Jun/2025:11:45:19 +0900', 'method': 'GET', 'path': '/home.php', 'status': '200', 'size': '512'}, {'ip': '10.78.93.84', 'datetime': '14/Jun/2025:11:28:12 +0900', 'method': 'POST', 'path': '/upload.php', 'status': '200', 'size': '1024'}, {'ip': '172.16.74.123', 'datetime': '14/Jun/2025:10:24:43 +0900', 'method': 'GET', 'path': '/logout', 'status': '404', 'size': '532'}, {'ip': '192.168.79.245', 'datetime': '14/Jun/2025:10:15:43 +0900', 'method': 'GET', 'path': '/admin/login.php', 'status': '403', 'size': '768'}, {'ip': '172.25.99.187', 'datetime': '14/Jun/2025:11:26:49 +0900', 'method': 'POST', 'path': '/upload.php', 'status': '403', 'size': '768'}, {'ip': '172.28.234.196', 'datetime': '14/Jun/2025:10:28:05 +0900', 'method': 'POST', 'path': '/upload.php', 'status': '403', 'size': '512'}, {'ip': '192.168.87.14', 'datetime': '14/Jun/2025:10:16:52 +0900', 'method': 'GET', 'path': '/logout', 'status': '200', 'size': '532'}, {'ip': '10.22.82.235', 'datetime': '14/Jun/2025:11:56:48 +0900', 'method': 'POST', 'path': '/submit', 'status': '404', 'size': '189'}, {'ip': '172.16.76.84', 'datetime': '14/Jun/2025:11:58:26 +0900', 'method': 'POST', 'path': '/upload.php', 'status': '404', 'size': '532'}, {'ip': '192.168.131.228', 'datetime': '14/Jun/2025:10:30:08 +0900', 'method': 'POST', 'path': '/api/data', 'status': '404', 'size': '2048'}, {'ip': '192.168.35.247', 'datetime': '14/Jun/2025:10:01:35 +0900', 'method': 'POST', 'path': '/submit', 'status': '404', 'size': '2048'}, {'ip': '192.168.142.178', 'datetime': '14/Jun/2025:11:31:22 +0900', 'method': 'POST', 'path': '/submit', 'status': '404', 'size': '532'}, {'ip': '10.32.103.38', 'datetime': '14/Jun/2025:11:43:10 +0900', 'method': 'GET', 'path': '/home.php', 'status': '200', 'size': '512'}, {'ip': '192.168.56.88', 'datetime': '14/Jun/2025:10:57:01 +0900', 'method': 'GET', 'path': '/logout', 'status': '500', 'size': '532'}, {'ip': '192.168.196.247', 'datetime': '14/Jun/2025:11:03:28 +0900', 'method': 'POST', 'path': '/submit', 'status': '403', 'size': '532'}, {'ip': '172.25.30.106', 'datetime': '14/Jun/2025:10:33:04 +0900', 'method': 'POST', 'path': '/api/data', 'status': '500', 'size': '1024'}, {'ip': '10.143.149.238', 'datetime': '14/Jun/2025:11:35:27 +0900', 'method': 'POST', 'path': '/submit', 'status': '200', 'size': '2048'}, {'ip': '172.26.44.123', 'datetime': '14/Jun/2025:11:18:36 +0900', 'method': 'GET', 'path': '/dashboard', 'status': '404', 'size': '1024'}, {'ip': '172.29.208.116', 'datetime': '14/Jun/2025:10:06:34 +0900', 'method': 'POST', 'path': '/api/data', 'status': '200', 'size': '2048'}, {'ip': '10.79.135.207', 'datetime': '14/Jun/2025:11:47:15 +0900', 'method': 'GET', 'path': '/index.html', 'status': '500', 'size': '512'}, {'ip': '192.168.196.174', 'datetime': '14/Jun/2025:11:49:53 +0900', 'method': 'POST', 'path': '/submit', 'status': '200', 'size': '532'}, {'ip': '172.17.41.239', 'datetime': '14/Jun/2025:10:01:37 +0900', 'method': 'POST', 'path': '/upload.php', 'status': '500', 'size': '2048'}, {'ip': '192.168.116.228', 'datetime': '14/Jun/2025:11:20:30 +0900', 'method': 'POST', 'path': '/upload.php', 'status': '404', 'size': '512'}, {'ip': '10.81.41.22', 'datetime': '14/Jun/2025:11:28:47 +0900', 'method': 'POST', 'path': '/api/data', 'status': '500', 'size': '512'}, {'ip': '192.168.181.125', 'datetime': '14/Jun/2025:10:40:46 +0900', 'method': 'GET', 'path': '/admin/login.php', 'status': '200', 'size': '532'}, {'ip': '192.168.9.204', 'datetime': '14/Jun/2025:11:51:56 +0900', 'method': 'GET', 'path': '/admin/login.php', 'status': '404', 'size': '189'}, {'ip': '192.168.123.241', 'datetime': '14/Jun/2025:10:37:23 +0900', 'method': 'POST', 'path': '/upload.php', 'status': '200', 'size': '512'}, {'ip': '172.29.112.126', 'datetime': '14/Jun/2025:11:06:38 +0900', 'method': 'POST', 'path': '/submit', 'status': '404', 'size': '532'}, {'ip': '10.121.53.36', 'datetime': '14/Jun/2025:11:50:32 +0900', 'method': 'POST', 'path': '/upload.php', 'status': '403', 'size': '189'}, {'ip': '192.168.51.106', 'datetime': '14/Jun/2025:10:57:31 +0900', 'method': 'POST', 'path': '/submit', 'status': '403', 'size': '189'}, {'ip': '10.33.101.205', 'datetime': '14/Jun/2025:11:17:35 +0900', 'method': 'POST', 'path': '/upload.php', 'status': '403', 'size': '189'}, {'ip': '172.24.179.4', 'datetime': '14/Jun/2025:11:57:18 +0900', 'method': 'GET', 'path': '/logout', 'status': '403', 'size': '768'}, {'ip': '172.27.101.176', 'datetime': '14/Jun/2025:11:05:50 +0900', 'method': 'GET', 'path': '/dashboard', 'status': '200', 'size': '532'}, {'ip': '192.168.157.49', 'datetime': '14/Jun/2025:10:41:23 +0900', 'method': 'GET', 'path': '/home.php', 'status': '404', 'size': '2048'}, {'ip': '10.128.73.37', 'datetime': '14/Jun/2025:11:49:37 +0900', 'method': 'POST', 'path': '/upload.php', 'status': '404', 'size': '532'}, {'ip': '10.197.243.183', 'datetime': '14/Jun/2025:11:40:51 +0900', 'method': 'GET', 'path': '/home.php', 'status': '404', 'size': '1024'}, {'ip': '172.28.116.213', 'datetime': '14/Jun/2025:11:07:55 +0900', 'method': 'POST', 'path': '/upload.php', 'status': '403', 'size': '189'}, {'ip': '192.168.19.171', 'datetime': '14/Jun/2025:11:43:12 +0900', 'method': 'GET', 'path': '/home.php', 'status': '200', 'size': '768'}, {'ip': '192.168.64.237', 'datetime': '14/Jun/2025:10:22:00 +0900', 'method': 'POST', 'path': '/api/data', 'status': '200', 'size': '1024'}, {'ip': '192.168.167.254', 'datetime': '14/Jun/2025:10:55:05 +0900', 'method': 'GET', 'path': '/index.html', 'status': '403', 'size': '1024'}, {'ip': '10.69.75.72', 'datetime': '14/Jun/2025:11:45:18 +0900', 'method': 'POST', 'path': '/submit', 'status': '500', 'size': '2048'}, {'ip': '10.177.226.217', 'datetime': '14/Jun/2025:10:55:41 +0900', 'method': 'GET', 'path': '/home.php', 'status': '200', 'size': '2048'}, {'ip': '172.22.26.208', 'datetime': '14/Jun/2025:10:47:13 +0900', 'method': 'POST', 'path': '/submit', 'status': '500', 'size': '189'}, {'ip': '192.168.241.52', 'datetime': '14/Jun/2025:10:33:00 +0900', 'method': 'GET', 'path': '/admin/login.php', 'status': '404', 'size': '532'}, {'ip': '10.12.255.217', 'datetime': '14/Jun/2025:10:23:39 +0900', 'method': 'POST', 'path': '/submit', 'status': '200', 'size': '768'}, {'ip': '172.20.2.55', 'datetime': '14/Jun/2025:11:50:44 +0900', 'method': 'POST', 'path': '/upload.php', 'status': '200', 'size': '512'}, {'ip': '192.168.72.197', 'datetime': '14/Jun/2025:11:20:40 +0900', 'method': 'GET', 'path': '/index.html', 'status': '500', 'size': '512'}, {'ip': '192.168.156.184', 'datetime': '14/Jun/2025:10:17:08 +0900', 'method': 'GET', 'path': '/index.html', 'status': '200', 'size': '512'}, {'ip': '192.168.64.50', 'datetime': '14/Jun/2025:11:24:13 +0900', 'method': 'GET', 'path': '/dashboard', 'status': '200', 'size': '189'}, {'ip': '10.23.234.221', 'datetime': '14/Jun/2025:10:45:16 +0900', 'method': 'GET', 'path': '/dashboard', 'status': '200', 'size': '512'}, {'ip': '192.168.22.65', 'datetime': '14/Jun/2025:10:17:53 +0900', 'method': 'POST', 'path': '/submit', 'status': '403', 'size': '532'}, {'ip': '192.168.198.71', 'datetime': '14/Jun/2025:11:56:37 +0900', 'method': 'POST', 'path': '/submit', 'status': '404', 'size': '532'}, {'ip': '10.42.100.163', 'datetime': '14/Jun/2025:11:56:30 +0900', 'method': 'POST', 'path': '/upload.php', 'status': '404', 'size': '512'}, {'ip': '10.135.250.141', 'datetime': '14/Jun/2025:10:36:44 +0900', 'method': 'GET', 'path': '/dashboard', 'status': '404', 'size': '768'}, {'ip': '10.167.231.130', 'datetime': '14/Jun/2025:10:26:56 +0900', 'method': 'GET', 'path': '/index.html', 'status': '200', 'size': '532'}, {'ip': '192.168.132.187', 'datetime': '14/Jun/2025:10:21:34 +0900', 'method': 'GET', 'path': '/logout', 'status': '403', 'size': '532'}, {'ip': '192.168.79.118', 'datetime': '14/Jun/2025:11:07:23 +0900', 'method': 'GET', 'path': '/home.php', 'status': '404', 'size': '512'}, {'ip': '172.17.60.56', 'datetime': '14/Jun/2025:11:55:54 +0900', 'method': 'POST', 'path': '/api/data', 'status': '403', 'size': '512'}, {'ip': '192.168.17.77', 'datetime': '14/Jun/2025:11:22:37 +0900', 'method': 'POST', 'path': '/upload.php', 'status': '404', 'size': '2048'}, {'ip': '172.18.74.230', 'datetime': '14/Jun/2025:11:00:11 +0900', 'method': 'GET', 'path': '/home.php', 'status': '403', 'size': '2048'}, {'ip': '10.233.192.151', 'datetime': '14/Jun/2025:11:55:58 +0900', 'method': 'POST', 'path': '/upload.php', 'status': '200', 'size': '532'}, {'ip': '192.168.234.214', 'datetime': '14/Jun/2025:10:14:29 +0900', 'method': 'GET', 'path': '/index.html', 'status': '404', 'size': '2048'}, {'ip': '192.168.170.214', 'datetime': '14/Jun/2025:10:51:24 +0900', 'method': 'POST', 'path': '/api/data', 'status': '200', 'size': '512'}, {'ip': '192.168.29.68', 'datetime': '14/Jun/2025:10:23:19 +0900', 'method': 'POST', 'path': '/submit', 'status': '403', 'size': '189'}, {'ip': '192.168.175.207', 'datetime': '14/Jun/2025:10:52:41 +0900', 'method': 'POST', 'path': '/api/data', 'status': '403', 'size': '2048'}, {'ip': '10.40.244.17', 'datetime': '14/Jun/2025:10:32:41 +0900', 'method': 'GET', 'path': '/index.html', 'status': '500', 'size': '2048'}, {'ip': '10.180.99.77', 'datetime': '14/Jun/2025:11:44:10 +0900', 'method': 'GET', 'path': '/home.php', 'status': '403', 'size': '512'}, {'ip': '192.168.193.145', 'datetime': '14/Jun/2025:11:25:32 +0900', 'method': 'POST', 'path': '/api/data', 'status': '404', 'size': '512'}, {'ip': '192.168.60.217', 'datetime': '14/Jun/2025:11:21:57 +0900', 'method': 'POST', 'path': '/submit', 'status': '403', 'size': '512'}, {'ip': '10.11.162.173', 'datetime': '14/Jun/2025:11:29:54 +0900', 'method': 'POST', 'path': '/upload.php', 'status': '403', 'size': '768'}, {'ip': '10.9.212.176', 'datetime': '14/Jun/2025:11:13:45 +0900', 'method': 'GET', 'path': '/dashboard', 'status': '500', 'size': '2048'}, {'ip': '172.22.47.221', 'datetime': '14/Jun/2025:11:15:04 +0900', 'method': 'POST', 'path': '/api/data', 'status': '404', 'size': '512'}, {'ip': '10.31.195.157', 'datetime': '14/Jun/2025:10:36:14 +0900', 'method': 'POST', 'path': '/submit', 'status': '403', 'size': '1024'}, {'ip': '192.168.199.110', 'datetime': '14/Jun/2025:11:31:45 +0900', 'method': 'GET', 'path': '/admin/login.php', 'status': '200', 'size': '1024'}, {'ip': '10.86.25.63', 'datetime': '14/Jun/2025:10:20:54 +0900', 'method': 'GET', 'path': '/home.php', 'status': '403', 'size': '768'}, {'ip': '172.18.122.61', 'datetime': '14/Jun/2025:10:27:21 +0900', 'method': 'GET', 'path': '/admin/login.php', 'status': '500', 'size': '512'}, {'ip': '172.27.91.255', 'datetime': '14/Jun/2025:11:12:34 +0900', 'method': 'POST', 'path': '/submit', 'status': '200', 'size': '532'}, {'ip': '192.168.130.251', 'datetime': '14/Jun/2025:10:06:41 +0900', 'method': 'GET', 'path': '/logout', 'status': '500', 'size': '768'}, {'ip': '192.168.232.67', 'datetime': '14/Jun/2025:10:02:35 +0900', 'method': 'GET', 'path': '/home.php', 'status': '404', 'size': '2048'}, {'ip': '172.30.132.242', 'datetime': '14/Jun/2025:10:59:57 +0900', 'method': 'GET', 'path': '/index.html', 'status': '500', 'size': '532'}, {'ip': '172.28.103.179', 'datetime': '14/Jun/2025:10:42:49 +0900', 'method': 'GET', 'path': '/home.php', 'status': '403', 'size': '512'}, {'ip': '10.63.41.199', 'datetime': '14/Jun/2025:10:45:49 +0900', 'method': 'GET', 'path': '/admin/login.php', 'status': '404', 'size': '1024'}, {'ip': '10.90.171.33', 'datetime': '14/Jun/2025:10:56:56 +0900', 'method': 'POST', 'path': '/api/data', 'status': '500', 'size': '512'}, {'ip': '172.16.111.202', 'datetime': '14/Jun/2025:11:04:25 +0900', 'method': 'GET', 'path': '/logout', 'status': '404', 'size': '189'}, {'ip': '172.31.223.125', 'datetime': '14/Jun/2025:10:47:41 +0900', 'method': 'GET', 'path': '/dashboard', 'status': '404', 'size': '1024'}, {'ip': '172.17.167.184', 'datetime': '14/Jun/2025:11:51:32 +0900', 'method': 'POST', 'path': '/api/data', 'status': '500', 'size': '532'}, {'ip': '192.168.134.68', 'datetime': '14/Jun/2025:11:28:24 +0900', 'method': 'POST', 'path': '/upload.php', 'status': '200', 'size': '2048'}, {'ip': '10.49.1.244', 'datetime': '14/Jun/2025:10:06:23 +0900', 'method': 'GET', 'path': '/admin/login.php', 'status': '500', 'size': '532'}, {'ip': '10.50.108.190', 'datetime': '14/Jun/2025:10:18:37 +0900', 'method': 'GET', 'path': '/index.html', 'status': '500', 'size': '189'}, {'ip': '172.20.239.203', 'datetime': '14/Jun/2025:10:37:05 +0900', 'method': 'GET', 'path': '/logout', 'status': '500', 'size': '532'}, {'ip': '192.168.146.252', 'datetime': '14/Jun/2025:11:23:43 +0900', 'method': 'GET', 'path': '/home.php', 'status': '500', 'size': '1024'}, {'ip': '10.172.229.215', 'datetime': '14/Jun/2025:10:35:40 +0900', 'method': 'GET', 'path': '/admin/login.php', 'status': '200', 'size': '768'}, {'ip': '10.75.52.86', 'datetime': '14/Jun/2025:11:03:10 +0900', 'method': 'GET', 'path': '/home.php', 'status': '500', 'size': '1024'}, {'ip': '10.81.101.51', 'datetime': '14/Jun/2025:10:21:42 +0900', 'method': 'GET', 'path': '/dashboard', 'status': '404', 'size': '189'}, {'ip': '192.168.168.19', 'datetime': '14/Jun/2025:10:24:53 +0900', 'method': 'POST', 'path': '/upload.php', 'status': '403', 'size': '532'}, {'ip': '10.203.212.83', 'datetime': '14/Jun/2025:10:13:32 +0900', 'method': 'POST', 'path': '/submit', 'status': '200', 'size': '512'}, {'ip': '10.144.42.200', 'datetime': '14/Jun/2025:11:21:54 +0900', 'method': 'GET', 'path': '/index.html', 'status': '500', 'size': '512'}, {'ip': '172.23.159.58', 'datetime': '14/Jun/2025:10:06:04 +0900', 'method': 'POST', 'path': '/upload.php', 'status': '500', 'size': '189'}, {'ip': '172.29.118.196', 'datetime': '14/Jun/2025:11:36:35 +0900', 'method': 'POST', 'path': '/api/data', 'status': '403', 'size': '1024'}, {'ip': '172.20.106.122', 'datetime': '14/Jun/2025:10:36:37 +0900', 'method': 'GET', 'path': '/home.php', 'status': '500', 'size': '1024'}, {'ip': '172.16.110.83', 'datetime': '14/Jun/2025:10:25:52 +0900', 'method': 'GET', 'path': '/index.html', 'status': '500', 'size': '2048'}, {'ip': '10.2.226.222', 'datetime': '14/Jun/2025:10:16:45 +0900', 'method': 'POST', 'path': '/submit', 'status': '404', 'size': '189'}, {'ip': '192.168.88.11', 'datetime': '14/Jun/2025:11:36:15 +0900', 'method': 'GET', 'path': '/index.html', 'status': '200', 'size': '768'}, {'ip': '10.165.138.167', 'datetime': '14/Jun/2025:10:33:52 +0900', 'method': 'POST', 'path': '/api/data', 'status': '200', 'size': '532'}, {'ip': '192.168.24.43', 'datetime': '14/Jun/2025:11:24:23 +0900', 'method': 'GET', 'path': '/logout', 'status': '200', 'size': '512'}, {'ip': '10.75.158.163', 'datetime': '14/Jun/2025:11:11:37 +0900', 'method': 'GET', 'path': '/index.html', 'status': '200', 'size': '512'}, {'ip': '10.194.126.227', 'datetime': '14/Jun/2025:11:15:07 +0900', 'method': 'POST', 'path': '/upload.php', 'status': '500', 'size': '532'}, {'ip': '10.170.116.238', 'datetime': '14/Jun/2025:11:45:43 +0900', 'method': 'POST', 'path': '/upload.php', 'status': '403', 'size': '512'}, {'ip': '192.168.70.145', 'datetime': '14/Jun/2025:10:51:06 +0900', 'method': 'GET', 'path': '/dashboard', 'status': '200', 'size': '512'}, {'ip': '172.28.207.249', 'datetime': '14/Jun/2025:10:51:43 +0900', 'method': 'GET', 'path': '/admin/login.php', 'status': '404', 'size': '189'}, {'ip': '10.179.128.232', 'datetime': '14/Jun/2025:11:56:30 +0900', 'method': 'GET', 'path': '/home.php', 'status': '500', 'size': '532'}, {'ip': '10.223.64.6', 'datetime': '14/Jun/2025:10:46:13 +0900', 'method': 'GET', 'path': '/home.php', 'status': '403', 'size': '512'}, {'ip': '10.115.55.150', 'datetime': '14/Jun/2025:11:38:00 +0900', 'method': 'GET', 'path': '/home.php', 'status': '404', 'size': '512'}, {'ip': '172.31.101.217', 'datetime': '14/Jun/2025:11:45:15 +0900', 'method': 'POST', 'path': '/submit', 'status': '200', 'size': '512'}, {'ip': '172.18.53.100', 'datetime': '14/Jun/2025:11:09:57 +0900', 'method': 'POST', 'path': '/upload.php', 'status': '200', 'size': '2048'}, {'ip': '172.27.229.194', 'datetime': '14/Jun/2025:11:04:21 +0900', 'method': 'GET', 'path': '/home.php', 'status': '404', 'size': '1024'}, {'ip': '192.168.242.248', 'datetime': '14/Jun/2025:10:34:46 +0900', 'method': 'POST', 'path': '/submit', 'status': '404', 'size': '768'}, {'ip': '10.164.164.218', 'datetime': '14/Jun/2025:10:58:29 +0900', 'method': 'GET', 'path': '/dashboard', 'status': '404', 'size': '768'}, {'ip': '172.19.105.194', 'datetime': '14/Jun/2025:10:32:26 +0900', 'method': 'POST', 'path': '/upload.php', 'status': '404', 'size': '768'}, {'ip': '192.168.24.241', 'datetime': '14/Jun/2025:10:30:29 +0900', 'method': 'GET', 'path': '/home.php', 'status': '403', 'size': '2048'}, {'ip': '10.13.184.42', 'datetime': '14/Jun/2025:11:45:45 +0900', 'method': 'GET', 'path': '/dashboard', 'status': '200', 'size': '189'}, {'ip': '172.28.148.87', 'datetime': '14/Jun/2025:11:21:33 +0900', 'method': 'GET', 'path': '/logout', 'status': '500', 'size': '532'}, {'ip': '172.30.189.241', 'datetime': '14/Jun/2025:11:41:44 +0900', 'method': 'POST', 'path': '/api/data', 'status': '500', 'size': '1024'}, {'ip': '192.168.86.214', 'datetime': '14/Jun/2025:10:38:34 +0900', 'method': 'GET', 'path': '/admin/login.php', 'status': '200', 'size': '189'}, {'ip': '172.21.22.154', 'datetime': '14/Jun/2025:10:59:51 +0900', 'method': 'GET', 'path': '/index.html', 'status': '404', 'size': '1024'}, {'ip': '192.168.145.66', 'datetime': '14/Jun/2025:11:55:58 +0900', 'method': 'GET', 'path': '/logout', 'status': '404', 'size': '1024'}, {'ip': '192.168.188.143', 'datetime': '14/Jun/2025:11:42:06 +0900', 'method': 'GET', 'path': '/dashboard', 'status': '200', 'size': '768'}, {'ip': '172.27.113.162', 'datetime': '14/Jun/2025:10:02:40 +0900', 'method': 'POST', 'path': '/submit', 'status': '403', 'size': '1024'}, {'ip': '172.17.185.151', 'datetime': '14/Jun/2025:11:25:39 +0900', 'method': 'POST', 'path': '/submit', 'status': '404', 'size': '189'}]\n"
     ]
    }
   ],
   "source": [
    "print(parsed_logs)"
   ]
  },
  {
   "cell_type": "code",
   "execution_count": 103,
   "id": "e5734874",
   "metadata": {},
   "outputs": [
    {
     "name": "stdout",
     "output_type": "stream",
     "text": [
      "보안 로그가 CSV로 저장되었습니다: parsed_logs.csv\n"
     ]
    }
   ],
   "source": [
    "# CSV로 저장\n",
    "with open(output_csv_path, 'w', newline='') as csvfile:\n",
    "    fieldnames = ['ip', 'datetime', 'method', 'path', 'status', 'size']\n",
    "    writer = csv.DictWriter(csvfile, fieldnames=fieldnames)\n",
    "    writer.writeheader()\n",
    "    for entry in parsed_logs:\n",
    "        writer.writerow(entry)\n",
    "print(\"보안 로그가 CSV로 저장되었습니다:\", output_csv_path)"
   ]
  },
  {
   "cell_type": "code",
   "execution_count": 104,
   "id": "fb236ba4",
   "metadata": {},
   "outputs": [],
   "source": [
    "# csv -> pd DataFrame\n",
    "\n",
    "import pandas as pd"
   ]
  },
  {
   "cell_type": "code",
   "execution_count": 105,
   "id": "3902e361",
   "metadata": {},
   "outputs": [],
   "source": [
    "df=pd.read_csv('parsed_logs.csv')"
   ]
  },
  {
   "cell_type": "code",
   "execution_count": 106,
   "id": "821acd00",
   "metadata": {},
   "outputs": [
    {
     "name": "stdout",
     "output_type": "stream",
     "text": [
      "                 ip                    datetime method              path  \\\n",
      "1    10.248.203.131  14/Jun/2025:11:21:30 +0900    GET  /admin/login.php   \n",
      "3    172.22.253.123  14/Jun/2025:11:18:27 +0900    GET        /dashboard   \n",
      "10   192.168.133.95  14/Jun/2025:10:35:49 +0900   POST         /api/data   \n",
      "17      10.72.245.6  14/Jun/2025:11:09:56 +0900    GET        /dashboard   \n",
      "18    192.168.41.48  14/Jun/2025:11:37:38 +0900   POST         /api/data   \n",
      "..              ...                         ...    ...               ...   \n",
      "469  172.29.118.196  14/Jun/2025:11:36:35 +0900   POST         /api/data   \n",
      "478  10.170.116.238  14/Jun/2025:11:45:43 +0900   POST       /upload.php   \n",
      "482     10.223.64.6  14/Jun/2025:10:46:13 +0900    GET         /home.php   \n",
      "490  192.168.24.241  14/Jun/2025:10:30:29 +0900    GET         /home.php   \n",
      "498  172.27.113.162  14/Jun/2025:10:02:40 +0900   POST           /submit   \n",
      "\n",
      "     status  size  \n",
      "1       403  1024  \n",
      "3       403   512  \n",
      "10      403   189  \n",
      "17      403   532  \n",
      "18      403   189  \n",
      "..      ...   ...  \n",
      "469     403  1024  \n",
      "478     403   512  \n",
      "482     403   512  \n",
      "490     403  2048  \n",
      "498     403  1024  \n",
      "\n",
      "[113 rows x 6 columns]\n"
     ]
    }
   ],
   "source": [
    "# 403\n",
    "df_1=df[df['status']==403]\n",
    "print(df_1)"
   ]
  },
  {
   "cell_type": "code",
   "execution_count": 107,
   "id": "d530e8e1",
   "metadata": {},
   "outputs": [
    {
     "name": "stdout",
     "output_type": "stream",
     "text": [
      "                 ip                    datetime method              path  \\\n",
      "1    10.248.203.131  14/Jun/2025:11:21:30 +0900    GET  /admin/login.php   \n",
      "2    172.25.180.188  14/Jun/2025:11:55:08 +0900    GET  /admin/login.php   \n",
      "4    192.168.71.140  14/Jun/2025:10:38:19 +0900    GET  /admin/login.php   \n",
      "15     10.32.63.121  14/Jun/2025:11:24:03 +0900    GET  /admin/login.php   \n",
      "28      10.41.22.78  14/Jun/2025:10:59:14 +0900    GET  /admin/login.php   \n",
      "..              ...                         ...    ...               ...   \n",
      "452    10.63.41.199  14/Jun/2025:10:45:49 +0900    GET  /admin/login.php   \n",
      "458     10.49.1.244  14/Jun/2025:10:06:23 +0900    GET  /admin/login.php   \n",
      "462  10.172.229.215  14/Jun/2025:10:35:40 +0900    GET  /admin/login.php   \n",
      "480  172.28.207.249  14/Jun/2025:10:51:43 +0900    GET  /admin/login.php   \n",
      "494  192.168.86.214  14/Jun/2025:10:38:34 +0900    GET  /admin/login.php   \n",
      "\n",
      "     status  size  \n",
      "1       403  1024  \n",
      "2       404  2048  \n",
      "4       404   512  \n",
      "15      404   768  \n",
      "28      200  2048  \n",
      "..      ...   ...  \n",
      "452     404  1024  \n",
      "458     500   532  \n",
      "462     200   768  \n",
      "480     404   189  \n",
      "494     200   189  \n",
      "\n",
      "[62 rows x 6 columns]\n"
     ]
    }
   ],
   "source": [
    "# 경로 확인 /admin/..\n",
    "acc_admin_df=df[df['path'].str.contains(r'^/admin')]\n",
    "print(acc_admin_df)"
   ]
  },
  {
   "cell_type": "code",
   "execution_count": 108,
   "id": "b2f50947",
   "metadata": {},
   "outputs": [
    {
     "name": "stdout",
     "output_type": "stream",
     "text": [
      "                  ip  count\n",
      "496    192.168.94.45      1\n",
      "441  192.168.234.214      2\n"
     ]
    }
   ],
   "source": [
    "# ip top5\n",
    "top_ips = df.groupby('ip').size().reset_index(name='count').sort_values(by='count')\n",
    "print(top_ips.tail(2))\n"
   ]
  },
  {
   "cell_type": "code",
   "execution_count": 109,
   "id": "9992d3c4",
   "metadata": {},
   "outputs": [],
   "source": [
    "# 서울시에 위치한 스타벅스 데이터\n",
    "\n",
    "import pandas as pd\n",
    "\n"
   ]
  },
  {
   "cell_type": "code",
   "execution_count": 110,
   "id": "df9f8577",
   "metadata": {},
   "outputs": [
    {
     "data": {
      "text/html": [
       "<div>\n",
       "<style scoped>\n",
       "    .dataframe tbody tr th:only-of-type {\n",
       "        vertical-align: middle;\n",
       "    }\n",
       "\n",
       "    .dataframe tbody tr th {\n",
       "        vertical-align: top;\n",
       "    }\n",
       "\n",
       "    .dataframe thead th {\n",
       "        text-align: right;\n",
       "    }\n",
       "</style>\n",
       "<table border=\"1\" class=\"dataframe\">\n",
       "  <thead>\n",
       "    <tr style=\"text-align: right;\">\n",
       "      <th></th>\n",
       "      <th>번호</th>\n",
       "      <th>개방서비스명</th>\n",
       "      <th>개방서비스아이디</th>\n",
       "      <th>개방자치단체코드</th>\n",
       "      <th>관리번호</th>\n",
       "      <th>인허가일자</th>\n",
       "      <th>인허가취소일자</th>\n",
       "      <th>영업상태구분코드</th>\n",
       "      <th>영업상태명</th>\n",
       "      <th>상세영업상태코드</th>\n",
       "      <th>...</th>\n",
       "      <th>공장생산직직원수</th>\n",
       "      <th>건물소유구분명</th>\n",
       "      <th>보증액</th>\n",
       "      <th>월세액</th>\n",
       "      <th>다중이용업소여부</th>\n",
       "      <th>시설총규모</th>\n",
       "      <th>전통업소지정번호</th>\n",
       "      <th>전통업소주된음식</th>\n",
       "      <th>홈페이지</th>\n",
       "      <th>Unnamed: 47</th>\n",
       "    </tr>\n",
       "  </thead>\n",
       "  <tbody>\n",
       "    <tr>\n",
       "      <th>0</th>\n",
       "      <td>1</td>\n",
       "      <td>휴게음식점</td>\n",
       "      <td>07_24_05_P</td>\n",
       "      <td>3490000</td>\n",
       "      <td>3490000-104-2024-00154</td>\n",
       "      <td>2024-12-02</td>\n",
       "      <td>NaN</td>\n",
       "      <td>3</td>\n",
       "      <td>폐업</td>\n",
       "      <td>2</td>\n",
       "      <td>...</td>\n",
       "      <td>0.0</td>\n",
       "      <td>NaN</td>\n",
       "      <td>0.0</td>\n",
       "      <td>0.0</td>\n",
       "      <td>N</td>\n",
       "      <td>0.00</td>\n",
       "      <td>NaN</td>\n",
       "      <td>NaN</td>\n",
       "      <td>NaN</td>\n",
       "      <td>NaN</td>\n",
       "    </tr>\n",
       "    <tr>\n",
       "      <th>1</th>\n",
       "      <td>2</td>\n",
       "      <td>휴게음식점</td>\n",
       "      <td>07_24_05_P</td>\n",
       "      <td>3170000</td>\n",
       "      <td>3170000-104-2025-00001</td>\n",
       "      <td>2025-01-06</td>\n",
       "      <td>NaN</td>\n",
       "      <td>3</td>\n",
       "      <td>폐업</td>\n",
       "      <td>2</td>\n",
       "      <td>...</td>\n",
       "      <td>0.0</td>\n",
       "      <td>NaN</td>\n",
       "      <td>0.0</td>\n",
       "      <td>0.0</td>\n",
       "      <td>N</td>\n",
       "      <td>74.25</td>\n",
       "      <td>NaN</td>\n",
       "      <td>NaN</td>\n",
       "      <td>NaN</td>\n",
       "      <td>NaN</td>\n",
       "    </tr>\n",
       "    <tr>\n",
       "      <th>2</th>\n",
       "      <td>3</td>\n",
       "      <td>휴게음식점</td>\n",
       "      <td>07_24_05_P</td>\n",
       "      <td>3410000</td>\n",
       "      <td>3410000-104-2025-00021</td>\n",
       "      <td>2025-01-21</td>\n",
       "      <td>NaN</td>\n",
       "      <td>3</td>\n",
       "      <td>폐업</td>\n",
       "      <td>2</td>\n",
       "      <td>...</td>\n",
       "      <td>0.0</td>\n",
       "      <td>NaN</td>\n",
       "      <td>0.0</td>\n",
       "      <td>0.0</td>\n",
       "      <td>N</td>\n",
       "      <td>0.00</td>\n",
       "      <td>NaN</td>\n",
       "      <td>NaN</td>\n",
       "      <td>NaN</td>\n",
       "      <td>NaN</td>\n",
       "    </tr>\n",
       "    <tr>\n",
       "      <th>3</th>\n",
       "      <td>4</td>\n",
       "      <td>휴게음식점</td>\n",
       "      <td>07_24_05_P</td>\n",
       "      <td>4040000</td>\n",
       "      <td>4040000-104-2025-00011</td>\n",
       "      <td>2025-01-21</td>\n",
       "      <td>NaN</td>\n",
       "      <td>3</td>\n",
       "      <td>폐업</td>\n",
       "      <td>2</td>\n",
       "      <td>...</td>\n",
       "      <td>0.0</td>\n",
       "      <td>NaN</td>\n",
       "      <td>0.0</td>\n",
       "      <td>0.0</td>\n",
       "      <td>N</td>\n",
       "      <td>0.00</td>\n",
       "      <td>NaN</td>\n",
       "      <td>NaN</td>\n",
       "      <td>NaN</td>\n",
       "      <td>NaN</td>\n",
       "    </tr>\n",
       "    <tr>\n",
       "      <th>4</th>\n",
       "      <td>5</td>\n",
       "      <td>휴게음식점</td>\n",
       "      <td>07_24_05_P</td>\n",
       "      <td>4040000</td>\n",
       "      <td>4040000-104-2025-00010</td>\n",
       "      <td>2025-01-21</td>\n",
       "      <td>NaN</td>\n",
       "      <td>3</td>\n",
       "      <td>폐업</td>\n",
       "      <td>2</td>\n",
       "      <td>...</td>\n",
       "      <td>0.0</td>\n",
       "      <td>NaN</td>\n",
       "      <td>0.0</td>\n",
       "      <td>0.0</td>\n",
       "      <td>N</td>\n",
       "      <td>0.00</td>\n",
       "      <td>NaN</td>\n",
       "      <td>NaN</td>\n",
       "      <td>NaN</td>\n",
       "      <td>NaN</td>\n",
       "    </tr>\n",
       "  </tbody>\n",
       "</table>\n",
       "<p>5 rows × 48 columns</p>\n",
       "</div>"
      ],
      "text/plain": [
       "   번호 개방서비스명    개방서비스아이디  개방자치단체코드                    관리번호       인허가일자  \\\n",
       "0   1  휴게음식점  07_24_05_P   3490000  3490000-104-2024-00154  2024-12-02   \n",
       "1   2  휴게음식점  07_24_05_P   3170000  3170000-104-2025-00001  2025-01-06   \n",
       "2   3  휴게음식점  07_24_05_P   3410000  3410000-104-2025-00021  2025-01-21   \n",
       "3   4  휴게음식점  07_24_05_P   4040000  4040000-104-2025-00011  2025-01-21   \n",
       "4   5  휴게음식점  07_24_05_P   4040000  4040000-104-2025-00010  2025-01-21   \n",
       "\n",
       "   인허가취소일자  영업상태구분코드 영업상태명  상세영업상태코드  ... 공장생산직직원수 건물소유구분명  보증액  월세액  \\\n",
       "0      NaN         3    폐업         2  ...      0.0     NaN  0.0  0.0   \n",
       "1      NaN         3    폐업         2  ...      0.0     NaN  0.0  0.0   \n",
       "2      NaN         3    폐업         2  ...      0.0     NaN  0.0  0.0   \n",
       "3      NaN         3    폐업         2  ...      0.0     NaN  0.0  0.0   \n",
       "4      NaN         3    폐업         2  ...      0.0     NaN  0.0  0.0   \n",
       "\n",
       "   다중이용업소여부  시설총규모  전통업소지정번호 전통업소주된음식 홈페이지 Unnamed: 47  \n",
       "0         N   0.00       NaN      NaN  NaN         NaN  \n",
       "1         N  74.25       NaN      NaN  NaN         NaN  \n",
       "2         N   0.00       NaN      NaN  NaN         NaN  \n",
       "3         N   0.00       NaN      NaN  NaN         NaN  \n",
       "4         N   0.00       NaN      NaN  NaN         NaN  \n",
       "\n",
       "[5 rows x 48 columns]"
      ]
     },
     "execution_count": 110,
     "metadata": {},
     "output_type": "execute_result"
    }
   ],
   "source": [
    "data = pd.read_csv('fulldata_.csv', encoding='cp949', low_memory=False)\n",
    "\n",
    "data.head()"
   ]
  },
  {
   "cell_type": "code",
   "execution_count": 111,
   "id": "9e556d8c",
   "metadata": {},
   "outputs": [
    {
     "name": "stdout",
     "output_type": "stream",
     "text": [
      "<class 'pandas.core.frame.DataFrame'>\n",
      "RangeIndex: 602907 entries, 0 to 602906\n",
      "Data columns (total 48 columns):\n",
      " #   Column           Non-Null Count   Dtype  \n",
      "---  ------           --------------   -----  \n",
      " 0   번호               602907 non-null  int64  \n",
      " 1   개방서비스명           602907 non-null  object \n",
      " 2   개방서비스아이디         602907 non-null  object \n",
      " 3   개방자치단체코드         602907 non-null  int64  \n",
      " 4   관리번호             602907 non-null  object \n",
      " 5   인허가일자            602888 non-null  object \n",
      " 6   인허가취소일자          0 non-null       float64\n",
      " 7   영업상태구분코드         602907 non-null  int64  \n",
      " 8   영업상태명            602907 non-null  object \n",
      " 9   상세영업상태코드         602907 non-null  int64  \n",
      " 10  상세영업상태명          602907 non-null  object \n",
      " 11  폐업일자             402497 non-null  object \n",
      " 12  휴업시작일자           0 non-null       float64\n",
      " 13  휴업종료일자           0 non-null       float64\n",
      " 14  재개업일자            0 non-null       float64\n",
      " 15  소재지전화            250307 non-null  object \n",
      " 16  소재지면적            553700 non-null  float64\n",
      " 17  소재지우편번호          538491 non-null  object \n",
      " 18  소재지전체주소          601073 non-null  object \n",
      " 19  도로명전체주소          459407 non-null  object \n",
      " 20  도로명우편번호          449585 non-null  float64\n",
      " 21  사업장명             602907 non-null  object \n",
      " 22  최종수정시점           602907 non-null  object \n",
      " 23  데이터갱신구분          602907 non-null  object \n",
      " 24  데이터갱신일자          602907 non-null  object \n",
      " 25  업태구분명            602890 non-null  object \n",
      " 26  좌표정보x(epsg5174)  577987 non-null  float64\n",
      " 27  좌표정보y(epsg5174)  577987 non-null  float64\n",
      " 28  위생업태명            601002 non-null  object \n",
      " 29  남성종사자수           371708 non-null  float64\n",
      " 30  여성종사자수           375403 non-null  float64\n",
      " 31  영업장주변구분명         145365 non-null  object \n",
      " 32  등급구분명            70829 non-null   object \n",
      " 33  급수시설구분명          332854 non-null  object \n",
      " 34  총직원수             260166 non-null  float64\n",
      " 35  본사직원수            264440 non-null  float64\n",
      " 36  공장사무직직원수         264440 non-null  float64\n",
      " 37  공장판매직직원수         264440 non-null  float64\n",
      " 38  공장생산직직원수         264440 non-null  float64\n",
      " 39  건물소유구분명          16 non-null      object \n",
      " 40  보증액              264440 non-null  float64\n",
      " 41  월세액              264440 non-null  float64\n",
      " 42  다중이용업소여부         601019 non-null  object \n",
      " 43  시설총규모            601019 non-null  float64\n",
      " 44  전통업소지정번호         725 non-null     object \n",
      " 45  전통업소주된음식         7 non-null       object \n",
      " 46  홈페이지             0 non-null       float64\n",
      " 47  Unnamed: 47      0 non-null       float64\n",
      "dtypes: float64(20), int64(4), object(24)\n",
      "memory usage: 220.8+ MB\n"
     ]
    }
   ],
   "source": [
    "data.info()"
   ]
  },
  {
   "cell_type": "code",
   "execution_count": 112,
   "id": "bb5aac79",
   "metadata": {},
   "outputs": [
    {
     "data": {
      "text/html": [
       "<div>\n",
       "<style scoped>\n",
       "    .dataframe tbody tr th:only-of-type {\n",
       "        vertical-align: middle;\n",
       "    }\n",
       "\n",
       "    .dataframe tbody tr th {\n",
       "        vertical-align: top;\n",
       "    }\n",
       "\n",
       "    .dataframe thead th {\n",
       "        text-align: right;\n",
       "    }\n",
       "</style>\n",
       "<table border=\"1\" class=\"dataframe\">\n",
       "  <thead>\n",
       "    <tr style=\"text-align: right;\">\n",
       "      <th></th>\n",
       "      <th>번호</th>\n",
       "      <th>개방자치단체코드</th>\n",
       "      <th>인허가취소일자</th>\n",
       "      <th>영업상태구분코드</th>\n",
       "      <th>상세영업상태코드</th>\n",
       "      <th>휴업시작일자</th>\n",
       "      <th>휴업종료일자</th>\n",
       "      <th>재개업일자</th>\n",
       "      <th>소재지면적</th>\n",
       "      <th>도로명우편번호</th>\n",
       "      <th>...</th>\n",
       "      <th>총직원수</th>\n",
       "      <th>본사직원수</th>\n",
       "      <th>공장사무직직원수</th>\n",
       "      <th>공장판매직직원수</th>\n",
       "      <th>공장생산직직원수</th>\n",
       "      <th>보증액</th>\n",
       "      <th>월세액</th>\n",
       "      <th>시설총규모</th>\n",
       "      <th>홈페이지</th>\n",
       "      <th>Unnamed: 47</th>\n",
       "    </tr>\n",
       "  </thead>\n",
       "  <tbody>\n",
       "    <tr>\n",
       "      <th>count</th>\n",
       "      <td>602907.000000</td>\n",
       "      <td>6.029070e+05</td>\n",
       "      <td>0.0</td>\n",
       "      <td>602907.000000</td>\n",
       "      <td>602907.000000</td>\n",
       "      <td>0.0</td>\n",
       "      <td>0.0</td>\n",
       "      <td>0.0</td>\n",
       "      <td>553700.000000</td>\n",
       "      <td>449585.000000</td>\n",
       "      <td>...</td>\n",
       "      <td>260166.0</td>\n",
       "      <td>264440.0</td>\n",
       "      <td>264440.0</td>\n",
       "      <td>264440.0</td>\n",
       "      <td>264440.0</td>\n",
       "      <td>264440.0</td>\n",
       "      <td>264440.0</td>\n",
       "      <td>601019.000000</td>\n",
       "      <td>0.0</td>\n",
       "      <td>0.0</td>\n",
       "    </tr>\n",
       "    <tr>\n",
       "      <th>mean</th>\n",
       "      <td>301454.000000</td>\n",
       "      <td>4.060419e+06</td>\n",
       "      <td>NaN</td>\n",
       "      <td>2.335191</td>\n",
       "      <td>1.667595</td>\n",
       "      <td>NaN</td>\n",
       "      <td>NaN</td>\n",
       "      <td>NaN</td>\n",
       "      <td>51.949812</td>\n",
       "      <td>28013.466615</td>\n",
       "      <td>...</td>\n",
       "      <td>0.0</td>\n",
       "      <td>0.0</td>\n",
       "      <td>0.0</td>\n",
       "      <td>0.0</td>\n",
       "      <td>0.0</td>\n",
       "      <td>0.0</td>\n",
       "      <td>0.0</td>\n",
       "      <td>48.636721</td>\n",
       "      <td>NaN</td>\n",
       "      <td>NaN</td>\n",
       "    </tr>\n",
       "    <tr>\n",
       "      <th>std</th>\n",
       "      <td>174044.403711</td>\n",
       "      <td>8.822240e+05</td>\n",
       "      <td>NaN</td>\n",
       "      <td>0.942151</td>\n",
       "      <td>0.471075</td>\n",
       "      <td>NaN</td>\n",
       "      <td>NaN</td>\n",
       "      <td>NaN</td>\n",
       "      <td>304.737473</td>\n",
       "      <td>18789.829211</td>\n",
       "      <td>...</td>\n",
       "      <td>0.0</td>\n",
       "      <td>0.0</td>\n",
       "      <td>0.0</td>\n",
       "      <td>0.0</td>\n",
       "      <td>0.0</td>\n",
       "      <td>0.0</td>\n",
       "      <td>0.0</td>\n",
       "      <td>292.872973</td>\n",
       "      <td>NaN</td>\n",
       "      <td>NaN</td>\n",
       "    </tr>\n",
       "    <tr>\n",
       "      <th>min</th>\n",
       "      <td>1.000000</td>\n",
       "      <td>3.000000e+06</td>\n",
       "      <td>NaN</td>\n",
       "      <td>1.000000</td>\n",
       "      <td>1.000000</td>\n",
       "      <td>NaN</td>\n",
       "      <td>NaN</td>\n",
       "      <td>NaN</td>\n",
       "      <td>0.000000</td>\n",
       "      <td>1000.000000</td>\n",
       "      <td>...</td>\n",
       "      <td>0.0</td>\n",
       "      <td>0.0</td>\n",
       "      <td>0.0</td>\n",
       "      <td>0.0</td>\n",
       "      <td>0.0</td>\n",
       "      <td>0.0</td>\n",
       "      <td>0.0</td>\n",
       "      <td>0.000000</td>\n",
       "      <td>NaN</td>\n",
       "      <td>NaN</td>\n",
       "    </tr>\n",
       "    <tr>\n",
       "      <th>25%</th>\n",
       "      <td>150727.500000</td>\n",
       "      <td>3.310000e+06</td>\n",
       "      <td>NaN</td>\n",
       "      <td>1.000000</td>\n",
       "      <td>1.000000</td>\n",
       "      <td>NaN</td>\n",
       "      <td>NaN</td>\n",
       "      <td>NaN</td>\n",
       "      <td>15.000000</td>\n",
       "      <td>10937.000000</td>\n",
       "      <td>...</td>\n",
       "      <td>0.0</td>\n",
       "      <td>0.0</td>\n",
       "      <td>0.0</td>\n",
       "      <td>0.0</td>\n",
       "      <td>0.0</td>\n",
       "      <td>0.0</td>\n",
       "      <td>0.0</td>\n",
       "      <td>10.000000</td>\n",
       "      <td>NaN</td>\n",
       "      <td>NaN</td>\n",
       "    </tr>\n",
       "    <tr>\n",
       "      <th>50%</th>\n",
       "      <td>301454.000000</td>\n",
       "      <td>3.820000e+06</td>\n",
       "      <td>NaN</td>\n",
       "      <td>3.000000</td>\n",
       "      <td>2.000000</td>\n",
       "      <td>NaN</td>\n",
       "      <td>NaN</td>\n",
       "      <td>NaN</td>\n",
       "      <td>33.500000</td>\n",
       "      <td>24835.000000</td>\n",
       "      <td>...</td>\n",
       "      <td>0.0</td>\n",
       "      <td>0.0</td>\n",
       "      <td>0.0</td>\n",
       "      <td>0.0</td>\n",
       "      <td>0.0</td>\n",
       "      <td>0.0</td>\n",
       "      <td>0.0</td>\n",
       "      <td>31.290000</td>\n",
       "      <td>NaN</td>\n",
       "      <td>NaN</td>\n",
       "    </tr>\n",
       "    <tr>\n",
       "      <th>75%</th>\n",
       "      <td>452180.500000</td>\n",
       "      <td>4.681000e+06</td>\n",
       "      <td>NaN</td>\n",
       "      <td>3.000000</td>\n",
       "      <td>2.000000</td>\n",
       "      <td>NaN</td>\n",
       "      <td>NaN</td>\n",
       "      <td>NaN</td>\n",
       "      <td>62.840000</td>\n",
       "      <td>44703.000000</td>\n",
       "      <td>...</td>\n",
       "      <td>0.0</td>\n",
       "      <td>0.0</td>\n",
       "      <td>0.0</td>\n",
       "      <td>0.0</td>\n",
       "      <td>0.0</td>\n",
       "      <td>0.0</td>\n",
       "      <td>0.0</td>\n",
       "      <td>60.000000</td>\n",
       "      <td>NaN</td>\n",
       "      <td>NaN</td>\n",
       "    </tr>\n",
       "    <tr>\n",
       "      <th>max</th>\n",
       "      <td>602907.000000</td>\n",
       "      <td>6.520000e+06</td>\n",
       "      <td>NaN</td>\n",
       "      <td>3.000000</td>\n",
       "      <td>2.000000</td>\n",
       "      <td>NaN</td>\n",
       "      <td>NaN</td>\n",
       "      <td>NaN</td>\n",
       "      <td>111113.520000</td>\n",
       "      <td>63644.000000</td>\n",
       "      <td>...</td>\n",
       "      <td>0.0</td>\n",
       "      <td>0.0</td>\n",
       "      <td>0.0</td>\n",
       "      <td>0.0</td>\n",
       "      <td>0.0</td>\n",
       "      <td>0.0</td>\n",
       "      <td>0.0</td>\n",
       "      <td>111113.520000</td>\n",
       "      <td>NaN</td>\n",
       "      <td>NaN</td>\n",
       "    </tr>\n",
       "  </tbody>\n",
       "</table>\n",
       "<p>8 rows × 24 columns</p>\n",
       "</div>"
      ],
      "text/plain": [
       "                  번호      개방자치단체코드  인허가취소일자       영업상태구분코드       상세영업상태코드  \\\n",
       "count  602907.000000  6.029070e+05      0.0  602907.000000  602907.000000   \n",
       "mean   301454.000000  4.060419e+06      NaN       2.335191       1.667595   \n",
       "std    174044.403711  8.822240e+05      NaN       0.942151       0.471075   \n",
       "min         1.000000  3.000000e+06      NaN       1.000000       1.000000   \n",
       "25%    150727.500000  3.310000e+06      NaN       1.000000       1.000000   \n",
       "50%    301454.000000  3.820000e+06      NaN       3.000000       2.000000   \n",
       "75%    452180.500000  4.681000e+06      NaN       3.000000       2.000000   \n",
       "max    602907.000000  6.520000e+06      NaN       3.000000       2.000000   \n",
       "\n",
       "       휴업시작일자  휴업종료일자  재개업일자          소재지면적        도로명우편번호  ...      총직원수  \\\n",
       "count     0.0     0.0    0.0  553700.000000  449585.000000  ...  260166.0   \n",
       "mean      NaN     NaN    NaN      51.949812   28013.466615  ...       0.0   \n",
       "std       NaN     NaN    NaN     304.737473   18789.829211  ...       0.0   \n",
       "min       NaN     NaN    NaN       0.000000    1000.000000  ...       0.0   \n",
       "25%       NaN     NaN    NaN      15.000000   10937.000000  ...       0.0   \n",
       "50%       NaN     NaN    NaN      33.500000   24835.000000  ...       0.0   \n",
       "75%       NaN     NaN    NaN      62.840000   44703.000000  ...       0.0   \n",
       "max       NaN     NaN    NaN  111113.520000   63644.000000  ...       0.0   \n",
       "\n",
       "          본사직원수  공장사무직직원수  공장판매직직원수  공장생산직직원수       보증액       월세액  \\\n",
       "count  264440.0  264440.0  264440.0  264440.0  264440.0  264440.0   \n",
       "mean        0.0       0.0       0.0       0.0       0.0       0.0   \n",
       "std         0.0       0.0       0.0       0.0       0.0       0.0   \n",
       "min         0.0       0.0       0.0       0.0       0.0       0.0   \n",
       "25%         0.0       0.0       0.0       0.0       0.0       0.0   \n",
       "50%         0.0       0.0       0.0       0.0       0.0       0.0   \n",
       "75%         0.0       0.0       0.0       0.0       0.0       0.0   \n",
       "max         0.0       0.0       0.0       0.0       0.0       0.0   \n",
       "\n",
       "               시설총규모  홈페이지  Unnamed: 47  \n",
       "count  601019.000000   0.0          0.0  \n",
       "mean       48.636721   NaN          NaN  \n",
       "std       292.872973   NaN          NaN  \n",
       "min         0.000000   NaN          NaN  \n",
       "25%        10.000000   NaN          NaN  \n",
       "50%        31.290000   NaN          NaN  \n",
       "75%        60.000000   NaN          NaN  \n",
       "max    111113.520000   NaN          NaN  \n",
       "\n",
       "[8 rows x 24 columns]"
      ]
     },
     "execution_count": 112,
     "metadata": {},
     "output_type": "execute_result"
    }
   ],
   "source": [
    "data.describe()"
   ]
  },
  {
   "cell_type": "code",
   "execution_count": 113,
   "id": "ed18fb85",
   "metadata": {},
   "outputs": [
    {
     "data": {
      "text/plain": [
       "(602907, 48)"
      ]
     },
     "execution_count": 113,
     "metadata": {},
     "output_type": "execute_result"
    }
   ],
   "source": [
    "# (행, 열)\n",
    "data.shape"
   ]
  },
  {
   "cell_type": "code",
   "execution_count": 114,
   "id": "2ee9de84",
   "metadata": {},
   "outputs": [
    {
     "data": {
      "text/plain": [
       "Index(['번호', '개방서비스명', '개방서비스아이디', '개방자치단체코드', '관리번호', '인허가일자', '인허가취소일자',\n",
       "       '영업상태구분코드', '영업상태명', '상세영업상태코드', '상세영업상태명', '폐업일자', '휴업시작일자', '휴업종료일자',\n",
       "       '재개업일자', '소재지전화', '소재지면적', '소재지우편번호', '소재지전체주소', '도로명전체주소', '도로명우편번호',\n",
       "       '사업장명', '최종수정시점', '데이터갱신구분', '데이터갱신일자', '업태구분명', '좌표정보x(epsg5174)',\n",
       "       '좌표정보y(epsg5174)', '위생업태명', '남성종사자수', '여성종사자수', '영업장주변구분명', '등급구분명',\n",
       "       '급수시설구분명', '총직원수', '본사직원수', '공장사무직직원수', '공장판매직직원수', '공장생산직직원수',\n",
       "       '건물소유구분명', '보증액', '월세액', '다중이용업소여부', '시설총규모', '전통업소지정번호', '전통업소주된음식',\n",
       "       '홈페이지', 'Unnamed: 47'],\n",
       "      dtype='object')"
      ]
     },
     "execution_count": 114,
     "metadata": {},
     "output_type": "execute_result"
    }
   ],
   "source": [
    "data.columns"
   ]
  },
  {
   "cell_type": "code",
   "execution_count": 115,
   "id": "ab88dc6a",
   "metadata": {},
   "outputs": [
    {
     "name": "stdout",
     "output_type": "stream",
     "text": [
      "['번호', '개방서비스명', '개방서비스아이디', '개방자치단체코드', '관리번호', '인허가일자', '인허가취소일자', '영업상태구분코드', '영업상태명', '상세영업상태코드', '상세영업상태명', '폐업일자', '휴업시작일자', '휴업종료일자', '재개업일자', '소재지전화', '소재지면적', '소재지우편번호', '소재지전체주소', '도로명전체주소', '도로명우편번호', '사업장명', '최종수정시점', '데이터갱신구분', '데이터갱신일자', '업태구분명', '좌표정보x(epsg5174)', '좌표정보y(epsg5174)', '위생업태명', '남성종사자수', '여성종사자수', '영업장주변구분명', '등급구분명', '급수시설구분명', '총직원수', '본사직원수', '공장사무직직원수', '공장판매직직원수', '공장생산직직원수', '건물소유구분명', '보증액', '월세액', '다중이용업소여부', '시설총규모', '전통업소지정번호', '전통업소주된음식', '홈페이지', 'Unnamed: 47']\n",
      "['번호' '개방서비스명' '개방서비스아이디' '개방자치단체코드' '관리번호' '인허가일자' '인허가취소일자' '영업상태구분코드'\n",
      " '영업상태명' '상세영업상태코드' '상세영업상태명' '폐업일자' '휴업시작일자' '휴업종료일자' '재개업일자' '소재지전화'\n",
      " '소재지면적' '소재지우편번호' '소재지전체주소' '도로명전체주소' '도로명우편번호' '사업장명' '최종수정시점' '데이터갱신구분'\n",
      " '데이터갱신일자' '업태구분명' '좌표정보x(epsg5174)' '좌표정보y(epsg5174)' '위생업태명' '남성종사자수'\n",
      " '여성종사자수' '영업장주변구분명' '등급구분명' '급수시설구분명' '총직원수' '본사직원수' '공장사무직직원수'\n",
      " '공장판매직직원수' '공장생산직직원수' '건물소유구분명' '보증액' '월세액' '다중이용업소여부' '시설총규모' '전통업소지정번호'\n",
      " '전통업소주된음식' '홈페이지' 'Unnamed: 47']\n"
     ]
    }
   ],
   "source": [
    "print(data.columns.tolist())\n",
    "print(data.columns.values)"
   ]
  },
  {
   "cell_type": "code",
   "execution_count": 116,
   "id": "760bbe71",
   "metadata": {},
   "outputs": [
    {
     "name": "stdout",
     "output_type": "stream",
     "text": [
      "            번호  영업상태명  영업상태구분코드         사업장명  \\\n",
      "0            1     폐업         3         팥붕슈붕   \n",
      "1            2     폐업         3   헤이븐(haven)   \n",
      "2            3     폐업         3         리은푸드   \n",
      "3            4     폐업         3      (주)파파밸리   \n",
      "4            5     폐업         3         이안만두   \n",
      "...        ...    ...       ...          ...   \n",
      "602902  602903  영업/정상         1  GS25HR아팰리스점   \n",
      "602903  602904  영업/정상         1         석류나무   \n",
      "602904  602905  영업/정상         1       블랑PC토랑   \n",
      "602905  602906  영업/정상         1       아틀리에pc   \n",
      "602906  602907  영업/정상         1       굿모닝토스트   \n",
      "\n",
      "                                 소재지전체주소  \\\n",
      "0       인천광역시 중구 운서동 2874 파라다이스시티 플라자 1층   \n",
      "1                    서울특별시 금천구 가산동 345-2   \n",
      "2         대구광역시 중구 계산동2가 0200 현대백화점 지하1층   \n",
      "3                경기도 하남시 신장동 616 스타필드 하남   \n",
      "4                경기도 하남시 신장동 616 스타필드 하남   \n",
      "...                                  ...   \n",
      "602902    광주광역시 남구 봉선동 1095 1층 201동 102호   \n",
      "602903          광주광역시 남구 백운동 620-11번지 1층   \n",
      "602904      광주광역시 남구 진월동 294-17 광동빌딩, 2층   \n",
      "602905            광주광역시 남구 월산동 901-30 1층   \n",
      "602906       광주광역시 서구 화정동 334-123번지 (1층)   \n",
      "\n",
      "                                                도로명전체주소  \n",
      "0        인천광역시 중구 영종해안남로321번길 186, 파라다이스시티 플라자 1층 (운서동)  \n",
      "1                  서울특별시 금천구 가산디지털1로 100, 1층 117호 (가산동)  \n",
      "2               대구광역시 중구 달구벌대로 2077, 현대백화점 지하1층 (계산동2가)  \n",
      "3           경기도 하남시 미사대로 750, 신세계백화점 스타필드 하남 지하1층 (신장동)  \n",
      "4       경기도 하남시 미사대로 750, 스타필드 하남 신세계백화점 지하2층 일부호 (신장동)  \n",
      "...                                                 ...  \n",
      "602902             광주광역시 남구 제석로 104, 201동 1층 102호 (봉선동)  \n",
      "602903                      광주광역시 남구 독립로 30-3, 1층 (백운동)  \n",
      "602904                 광주광역시 남구 서문대로 700, 광동빌딩 2층 (진월동)  \n",
      "602905             광주광역시 남구 월산로151번길 10, 땡큐pc방 1층 (월산동)  \n",
      "602906             광주광역시 서구 월드컵4강로112번길 7-14 (화정동,(1층))  \n",
      "\n",
      "[602907 rows x 6 columns]\n"
     ]
    }
   ],
   "source": [
    "data_1 = data[['번호', '영업상태명','영업상태구분코드','사업장명','소재지전체주소','도로명전체주소']]\n",
    "print(data_1)"
   ]
  },
  {
   "cell_type": "code",
   "execution_count": 117,
   "id": "b093f180",
   "metadata": {},
   "outputs": [
    {
     "name": "stdout",
     "output_type": "stream",
     "text": [
      "<class 'pandas.core.frame.DataFrame'>\n",
      "Index: 601073 entries, 0 to 602906\n",
      "Data columns (total 6 columns):\n",
      " #   Column    Non-Null Count   Dtype \n",
      "---  ------    --------------   ----- \n",
      " 0   번호        601073 non-null  int64 \n",
      " 1   영업상태명     601073 non-null  object\n",
      " 2   영업상태구분코드  601073 non-null  int64 \n",
      " 3   사업장명      601073 non-null  object\n",
      " 4   소재지전체주소   601073 non-null  object\n",
      " 5   도로명전체주소   457573 non-null  object\n",
      "dtypes: int64(2), object(4)\n",
      "memory usage: 32.1+ MB\n",
      "None\n"
     ]
    }
   ],
   "source": [
    "# 소재지 기준으로 값이 Na인 행 삭제\n",
    "data_1=data_1.dropna(subset=['소재지전체주소'])\n",
    "print(data_1.info())"
   ]
  },
  {
   "cell_type": "code",
   "execution_count": 118,
   "id": "3672d0d4",
   "metadata": {},
   "outputs": [
    {
     "name": "stdout",
     "output_type": "stream",
     "text": [
      "   번호 영업상태명  영업상태구분코드        사업장명                     소재지전체주소  \\\n",
      "1   2    폐업         3  헤이븐(haven)         서울특별시 금천구 가산동 345-2   \n",
      "7   8    폐업         3  (주)갑성(한시적)  서울특별시 강남구 압구정동 429 현대백화점본점   \n",
      "8   9    폐업         3  더프리미엄(한시적)  서울특별시 강남구 압구정동 429 현대백화점본점   \n",
      "\n",
      "                                          도로명전체주소  \n",
      "1            서울특별시 금천구 가산디지털1로 100, 1층 117호 (가산동)  \n",
      "7  서울특별시 강남구 압구정로 165, 현대백화점 압구정점 지하1층 행사장 (압구정동)  \n",
      "8         서울특별시 강남구 압구정로 165, 현대백화점본점 지하1층 (압구정동)  \n"
     ]
    }
   ],
   "source": [
    "data_2 = data_1[data_1['소재지전체주소'].str.contains('서울특별시')]\n",
    "print(data_2.head(3))"
   ]
  },
  {
   "cell_type": "code",
   "execution_count": 119,
   "id": "aa95550d",
   "metadata": {},
   "outputs": [],
   "source": [
    "data_3=data_2[data_2['사업장명'].str.contains('스타벅스')]"
   ]
  },
  {
   "cell_type": "code",
   "execution_count": 120,
   "id": "ea10338b",
   "metadata": {},
   "outputs": [
    {
     "name": "stdout",
     "output_type": "stream",
     "text": [
      "<class 'pandas.core.frame.DataFrame'>\n",
      "Index: 806 entries, 10601 to 595790\n",
      "Data columns (total 6 columns):\n",
      " #   Column    Non-Null Count  Dtype \n",
      "---  ------    --------------  ----- \n",
      " 0   번호        806 non-null    int64 \n",
      " 1   영업상태명     806 non-null    object\n",
      " 2   영업상태구분코드  806 non-null    int64 \n",
      " 3   사업장명      806 non-null    object\n",
      " 4   소재지전체주소   806 non-null    object\n",
      " 5   도로명전체주소   748 non-null    object\n",
      "dtypes: int64(2), object(4)\n",
      "memory usage: 44.1+ KB\n"
     ]
    }
   ],
   "source": [
    "data_3.info()"
   ]
  },
  {
   "cell_type": "code",
   "execution_count": 122,
   "id": "33fefb58",
   "metadata": {},
   "outputs": [
    {
     "name": "stdout",
     "output_type": "stream",
     "text": [
      "            번호  영업상태명  영업상태구분코드            사업장명  \\\n",
      "402499  402500  영업/정상         1       스타벅스 신촌로점   \n",
      "403301  403302  영업/정상         1  스타벅스 김포공항 국제선점   \n",
      "403590  403591  영업/정상         1    스타벅스 서대문적십자점   \n",
      "403633  403634  영업/정상         1        스타벅스 암사역   \n",
      "404057  404058  영업/정상         1     스타벅스 용산이마트점   \n",
      "...        ...    ...       ...             ...   \n",
      "595764  595765  영업/정상         1   스타벅스 홍대공항철도역점   \n",
      "595774  595775  영업/정상         1    스타벅스 서강광흥창역점   \n",
      "595779  595780  영업/정상         1          스타벅스공덕   \n",
      "595780  595781  영업/정상         1     스타벅스마포경찰서후문   \n",
      "595790  595791  영업/정상         1    스타벅스커피 서강대흥역   \n",
      "\n",
      "                                  소재지전체주소  \\\n",
      "402499    서울특별시 서대문구 창천동 29-81 신촌르메이에르타운5   \n",
      "403301                서울특별시 강서구 방화동 882-1   \n",
      "403590           서울특별시 종로구 평동 164 서울적십자병원   \n",
      "403633                  서울특별시 강동구 암사동 501   \n",
      "404057         서울특별시 용산구 한강로3가 40-999 용산역   \n",
      "...                                   ...   \n",
      "595764       서울특별시 마포구 동교동 166-1 지하1~지상2층   \n",
      "595774             서울특별시 마포구 창전동 130 1,2층   \n",
      "595779           서울특별시 마포구 공덕동 254-8 동방빌딩   \n",
      "595780  서울특별시 마포구 아현동 618-19 마포 센텀 슬로우스퀘어   \n",
      "595790                서울특별시 마포구 대흥동 111-1   \n",
      "\n",
      "                                                  도로명전체주소   시군구  \n",
      "402499  서울특별시 서대문구 신촌로 109, 신촌르메이에르타운5 1층 103-2,103-3호...  서대문구  \n",
      "403301         서울특별시 강서구 하늘길 38, 김포공항 국제선터미널 출국장 3층 (방화동)   강서구  \n",
      "403590            서울특별시 종로구 새문안로 9, 서울적십자병원 별관 1층 B호 (평동)   종로구  \n",
      "403633            서울특별시 강동구 올림픽로 786, 1,2층 101,201호 (암사동)   강동구  \n",
      "404057                 서울특별시 용산구 한강대로23길 55, 지하2층 (한강로3가)   용산구  \n",
      "...                                                   ...   ...  \n",
      "595764                  서울특별시 마포구 양화로 178, 지하1~지상2층 (동교동)   마포구  \n",
      "595774                       서울특별시 마포구 서강로 69, 1,2층 (창전동)   마포구  \n",
      "595779           서울특별시 마포구 마포대로 130, 동방빌딩, 제에이호1층일부 (공덕동)   마포구  \n",
      "595780  서울특별시 마포구 마포대로 173-14, 마포 센텀 슬로우스퀘어 1층 112~116...   마포구  \n",
      "595790                       서울특별시 마포구 백범로 89, 1~3층 (대흥동)   마포구  \n",
      "\n",
      "[630 rows x 7 columns]\n"
     ]
    },
    {
     "name": "stderr",
     "output_type": "stream",
     "text": [
      "C:\\Users\\wd\\AppData\\Local\\Temp\\ipykernel_1100\\3076668679.py:3: SettingWithCopyWarning: \n",
      "A value is trying to be set on a copy of a slice from a DataFrame.\n",
      "Try using .loc[row_indexer,col_indexer] = value instead\n",
      "\n",
      "See the caveats in the documentation: https://pandas.pydata.org/pandas-docs/stable/user_guide/indexing.html#returning-a-view-versus-a-copy\n",
      "  data_4.loc[:, '시군구'] = data_4['소재지전체주소'].str.split().str[1]\n"
     ]
    }
   ],
   "source": [
    "data_4=data_3[data_3['영업상태명'] != '폐업']\n",
    "\n",
    "data_4.loc[:, '시군구'] = data_4['소재지전체주소'].str.split().str[1]\n",
    "\n",
    "print(data_4)\n"
   ]
  },
  {
   "cell_type": "code",
   "execution_count": null,
   "id": "218e5e84",
   "metadata": {},
   "outputs": [
    {
     "name": "stdout",
     "output_type": "stream",
     "text": [
      "     시군구  사업장수\n",
      "0    강남구    92\n",
      "1    강동구    20\n",
      "2    강북구     7\n",
      "3    강서구    32\n",
      "4    관악구    14\n",
      "5    광진구    19\n",
      "6    구로구    14\n",
      "7    금천구    14\n",
      "8    노원구    15\n",
      "9    도봉구     7\n",
      "10  동대문구    14\n",
      "11   동작구    13\n",
      "12   마포구    35\n",
      "13  서대문구    22\n",
      "14   서초구    52\n",
      "15   성동구    13\n",
      "16   성북구    17\n",
      "17   송파구    37\n",
      "18   양천구    17\n",
      "19  영등포구    41\n",
      "20   용산구    24\n",
      "21   은평구    16\n",
      "22   종로구    38\n",
      "23    중구    48\n",
      "24   중랑구     9\n"
     ]
    },
    {
     "name": "stderr",
     "output_type": "stream",
     "text": [
      "C:\\Users\\wd\\AppData\\Local\\Temp\\ipykernel_1100\\1649486374.py:3: SettingWithCopyWarning: \n",
      "A value is trying to be set on a copy of a slice from a DataFrame.\n",
      "Try using .loc[row_indexer,col_indexer] = value instead\n",
      "\n",
      "See the caveats in the documentation: https://pandas.pydata.org/pandas-docs/stable/user_guide/indexing.html#returning-a-view-versus-a-copy\n",
      "  data_4.loc[:, '시군구'] = data_4['소재지전체주소'].str.split().str[1]\n"
     ]
    }
   ],
   "source": [
    "data_5=data_4.groupby('시군구').size().reset_index(name='사업장수')\n",
    "\n",
    "\n",
    "print(data_5)"
   ]
  },
  {
   "cell_type": "code",
   "execution_count": 57,
   "id": "8d960223",
   "metadata": {},
   "outputs": [],
   "source": [
    "import matplotlib.pyplot as plt\n",
    "import matplotlib.font_manager as fm\n",
    "import matplotlib as mpl"
   ]
  },
  {
   "cell_type": "code",
   "execution_count": 63,
   "id": "4d75a0b0",
   "metadata": {},
   "outputs": [
    {
     "data": {
      "image/png": "[encoded data removed]",
      "text/plain": [
       "<Figure size 1200x600 with 1 Axes>"
      ]
     },
     "metadata": {},
     "output_type": "display_data"
    }
   ],
   "source": [
    "# 한글 표시 하는법!!!\n",
    "plt.rcParams['font.family']='Malgun Gothic'\n",
    "\n",
    "plt.figure(figsize=(12,6))\n",
    "\n",
    "# x축 y축 데이터\n",
    "plt.bar(data_5['시군구'], data_5['사업장수'])\n",
    "plt.xticks(rotation=45)\n",
    "plt.title('서울특별시 스타벅스 사업장')\n",
    "plt.xlabel('시군구')\n",
    "plt.ylabel('사업장수')\n",
    "plt.show()\n"
   ]
  },
  {
   "cell_type": "code",
   "execution_count": 79,
   "id": "b6f49869",
   "metadata": {},
   "outputs": [
    {
     "name": "stdout",
     "output_type": "stream",
     "text": [
      "   score\n",
      "0     70\n",
      "1     80\n",
      "2     90\n",
      "3     60\n",
      "4    100\n",
      "5    150\n"
     ]
    }
   ],
   "source": [
    "# data\n",
    "data={'score': [70, 80, 90, 60, 100, 150] }\n",
    "df = pd.DataFrame(data)\n",
    "print(df)"
   ]
  },
  {
   "cell_type": "code",
   "execution_count": 80,
   "id": "68dd7abb",
   "metadata": {},
   "outputs": [
    {
     "name": "stdout",
     "output_type": "stream",
     "text": [
      "25.0\n",
      "이상치의 범위:  35.0보자 작거나 135.0보다 크다\n"
     ]
    }
   ],
   "source": [
    "# IQR\n",
    "Q1=df['score'].quantile(0.25)\n",
    "\n",
    "Q3=df['score'].quantile(0.75)\n",
    "\n",
    "IQR=Q3-Q1\n",
    "\n",
    "print(IQR)\n",
    "\n",
    "\n",
    "# 이상치의 범위\n",
    "low_= Q1-1.5*IQR\n",
    "up_=Q3+1.5*IQR\n",
    "\n",
    "print('이상치의 범위: ', f'{low_}보자 작거나 {up_}보다 크다')"
   ]
  },
  {
   "cell_type": "code",
   "execution_count": 81,
   "id": "9c49b38a",
   "metadata": {},
   "outputs": [
    {
     "name": "stdout",
     "output_type": "stream",
     "text": [
      "제거대상(이상치):    score\n",
      "5    150\n"
     ]
    }
   ],
   "source": [
    "outliers = df[(df['score']< low_)| (df['score']>up_)]\n",
    "\n",
    "print('제거대상(이상치):', outliers)\n",
    "\n"
   ]
  },
  {
   "cell_type": "code",
   "execution_count": 82,
   "id": "4cf80431",
   "metadata": {},
   "outputs": [
    {
     "name": "stdout",
     "output_type": "stream",
     "text": [
      "   score\n",
      "0     70\n",
      "1     80\n",
      "2     90\n",
      "3     60\n",
      "4    100\n"
     ]
    }
   ],
   "source": [
    "# 이상치 제거\n",
    "df_1=df[(df['score']>= low_) & (df['score']<=up_)]\n",
    "print(df_1)"
   ]
  },
  {
   "cell_type": "code",
   "execution_count": 83,
   "id": "e57b001d",
   "metadata": {},
   "outputs": [
    {
     "name": "stdout",
     "output_type": "stream",
     "text": [
      "   score\n",
      "0   70.0\n",
      "1   80.0\n",
      "2   90.0\n",
      "3   60.0\n",
      "4  100.0\n",
      "5  135.0\n"
     ]
    }
   ],
   "source": [
    "# 이상치 변경\n",
    "df['score'] = df['score'].astype(float)\n",
    "df.loc[df['score']<low_, 'score'] = low_\n",
    "df.loc[df['score']>up_, 'score'] = up_\n",
    "\n",
    "print(df)"
   ]
  },
  {
   "cell_type": "code",
   "execution_count": null,
   "id": "3dc6f866",
   "metadata": {},
   "outputs": [
    {
     "name": "stdout",
     "output_type": "stream",
     "text": [
      "원본 데이터프레임:\n",
      "      Name  Age  Score\n",
      "0    Alice   25     85\n",
      "1      Bob   30     90\n",
      "2    Alice   25     85\n",
      "3  Charlie   35     95\n",
      "4      Bob   30     90\n"
     ]
    }
   ],
   "source": [
    "# pandas 중복 데이터 확인 및 제거\n",
    "import pandas as pd\n",
    "\n",
    "# 예제 데이터\n",
    "data = {'Name': ['Alice', 'Bob', 'Alice', 'Charlie', 'Bob'],\n",
    "        'Age': [25, 30, 25, 35, 30],\n",
    "        'Score': [85, 90, 85, 95, 90]}\n",
    "\n",
    "\n",
    "df = pd.DataFrame(data)\n",
    "print('원본 데이터프레임:')\n",
    "print(df)"
   ]
  },
  {
   "cell_type": "code",
   "execution_count": null,
   "id": "507de6e5",
   "metadata": {},
   "outputs": [
    {
     "name": "stdout",
     "output_type": "stream",
     "text": [
      "2. Name 값을 기준으로 행 삭제\n",
      "      Name  Age  Score\n",
      "2    Alice   25     85\n",
      "3  Charlie   35     95\n",
      "4      Bob   30     90\n"
     ]
    }
   ],
   "source": [
    "# 특정 열('name')을 기준으로 중복행 삭제\n",
    "# 부분 중복을 다룰 떄 사용 가능할듯\n",
    "\n",
    "df_2 = df.drop_duplicates(subset=['Name'], keep='last')\n",
    "print('2. Name 값을 기준으로 행 삭제')\n",
    "print(df_2)"
   ]
  },
  {
   "cell_type": "code",
   "execution_count": null,
   "id": "753023d1",
   "metadata": {},
   "outputs": [
    {
     "data": {
      "text/plain": [
       "0    False\n",
       "1    False\n",
       "2     True\n",
       "3    False\n",
       "4     True\n",
       "dtype: bool"
      ]
     },
     "execution_count": 85,
     "metadata": {},
     "output_type": "execute_result"
    }
   ],
   "source": [
    "# 두번쨰 Alice와 두번쨰 Bob을 중복 데이터로 취급\n",
    "df.duplicated()"
   ]
  },
  {
   "cell_type": "code",
   "execution_count": 87,
   "id": "72a7bf7a",
   "metadata": {},
   "outputs": [
    {
     "name": "stdout",
     "output_type": "stream",
     "text": [
      "1. 중복데이터 제거 (첫번째 데이터 유지)\n",
      "      Name  Age  Score\n",
      "0    Alice   25     85\n",
      "1      Bob   30     90\n",
      "3  Charlie   35     95\n"
     ]
    }
   ],
   "source": [
    "# 중복 데이터 제거 (행의 모든 열의 값이 같은 경우)\n",
    "df_1 = df.drop_duplicates(keep='first')\n",
    "print('1. 중복데이터 제거 (첫번째 데이터 유지)')\n",
    "print(df_1)"
   ]
  },
  {
   "cell_type": "code",
   "execution_count": 90,
   "id": "36ee4e15",
   "metadata": {},
   "outputs": [
    {
     "name": "stdout",
     "output_type": "stream",
     "text": [
      "      Name  Age  Score\n",
      "3  Charlie   35     95\n"
     ]
    }
   ],
   "source": [
    "# 중복 모두 삭제\n",
    "df_3=df.drop_duplicates(keep=False)\n",
    "print(df_3)"
   ]
  },
  {
   "cell_type": "markdown",
   "id": "0778357e",
   "metadata": {},
   "source": [
    "## 원하는 데이터로 그래프 뽑기\n"
   ]
  },
  {
   "cell_type": "code",
   "execution_count": 153,
   "id": "32edfe77",
   "metadata": {},
   "outputs": [
    {
     "data": {
      "image/png": "[encoded data removed]",
      "text/plain": [
       "<Figure size 1200x600 with 1 Axes>"
      ]
     },
     "metadata": {},
     "output_type": "display_data"
    }
   ],
   "source": [
    "# 침해 사고 데이터\n",
    "# 침해 사고 시도 상위 10개국\n",
    "\n",
    "import pandas as pd\n",
    "import matplotlib.pyplot as plt\n",
    "import matplotlib.font_manager as fm\n",
    "import matplotlib as mpl\n",
    "\n",
    "\n",
    "data =pd.read_csv('SecurityIncidentIoC.csv', encoding='utf-8', low_memory=False)\n",
    "\n",
    "data_1 =data[['공격 IP 국가']]\n",
    "\n",
    "# 국가 기준으로 값이 Na인 행 삭제\n",
    "data_1=data_1.dropna(subset=['공격 IP 국가'])\n",
    "\n",
    "# 침해 횟수가 높은 10개 국가를 data_2에 저장\n",
    "data_2 = data_1.groupby('공격 IP 국가').size().nlargest(10).reset_index(name='국가별침해횟수')\n",
    "\n",
    "\n",
    "plt.rcParams['font.family']='Malgun Gothic'\n",
    "plt.figure(figsize=(12,6))\n",
    "\n",
    "\n",
    "# x축 y축 데이터\n",
    "plt.bar(data_2['공격 IP 국가'], data_2['국가별침해횟수'])\n",
    "plt.xticks(rotation=45)\n",
    "plt.title('국가별 침해 횟수 TOP 10')\n",
    "plt.xlabel('공격 국가')\n",
    "plt.ylabel('침해 횟수')\n",
    "plt.show()\n",
    "\n"
   ]
  },
  {
   "cell_type": "code",
   "execution_count": null,
   "id": "0a33434d",
   "metadata": {},
   "outputs": [],
   "source": []
  }
 ],
 "metadata": {
  "kernelspec": {
   "display_name": ".venv",
   "language": "python",
   "name": "python3"
  },
  "language_info": {
   "codemirror_mode": {
    "name": "ipython",
    "version": 3
   },
   "file_extension": ".py",
   "mimetype": "text/x-python",
   "name": "python",
   "nbconvert_exporter": "python",
   "pygments_lexer": "ipython3",
   "version": "3.13.4"
  }
 },
 "nbformat": 4,
 "nbformat_minor": 5
}
