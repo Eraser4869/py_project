{
 "cells": [
  {
   "cell_type": "code",
   "execution_count": 23,
   "id": "297488c2",
   "metadata": {},
   "outputs": [
    {
     "name": "stdout",
     "output_type": "stream",
     "text": [
      "   CustomerID   Age  Gender  Satisfaction  PurchaseAmount\n",
      "0           1  25.0    Male           5.0           100.0\n",
      "1           2  30.0  Female           4.0           200.0\n",
      "2           3  29.5  Female           3.0             0.0\n",
      "3           4  35.0    Male           NaN           150.0\n",
      "4           5  28.0    None           2.0             0.0\n"
     ]
    },
    {
     "name": "stderr",
     "output_type": "stream",
     "text": [
      "C:\\Users\\wd\\AppData\\Local\\Temp\\ipykernel_11876\\2276094841.py:12: FutureWarning: A value is trying to be set on a copy of a DataFrame or Series through chained assignment using an inplace method.\n",
      "The behavior will change in pandas 3.0. This inplace method will never work because the intermediate object on which we are setting values always behaves as a copy.\n",
      "\n",
      "For example, when doing 'df[col].method(value, inplace=True)', try using 'df.method({col: value}, inplace=True)' or df[col] = df[col].method(value) instead, to perform the operation inplace on the original object.\n",
      "\n",
      "\n",
      "  df['Age'].fillna(df['Age'].mean(), inplace=True)\n",
      "C:\\Users\\wd\\AppData\\Local\\Temp\\ipykernel_11876\\2276094841.py:13: FutureWarning: A value is trying to be set on a copy of a DataFrame or Series through chained assignment using an inplace method.\n",
      "The behavior will change in pandas 3.0. This inplace method will never work because the intermediate object on which we are setting values always behaves as a copy.\n",
      "\n",
      "For example, when doing 'df[col].method(value, inplace=True)', try using 'df.method({col: value}, inplace=True)' or df[col] = df[col].method(value) instead, to perform the operation inplace on the original object.\n",
      "\n",
      "\n",
      "  df['PurchaseAmount'].fillna(0, inplace=True)\n"
     ]
    }
   ],
   "source": [
    "import pandas as pd\n",
    "# 데이터 예시\n",
    "data = {\n",
    "'CustomerID': [1, 2, 3, 4, 5],\n",
    "'Age': [25, 30, None, 35, 28],\n",
    "'Gender': ['Male', 'Female', 'Female', 'Male', None],\n",
    "'Satisfaction': [5, 4, 3, None, 2],\n",
    "'PurchaseAmount': [100, 200, None, 150, 0]\n",
    "}\n",
    "df = pd.DataFrame(data)\n",
    "# 결측치 처리\n",
    "df['Age'].fillna(df['Age'].mean(), inplace=True)\n",
    "df['PurchaseAmount'].fillna(0, inplace=True)\n",
    "print(df)"
   ]
  },
  {
   "cell_type": "code",
   "execution_count": 24,
   "id": "0ada415f",
   "metadata": {},
   "outputs": [
    {
     "name": "stdout",
     "output_type": "stream",
     "text": [
      "    Age  Gender  PurchaseAmount\n",
      "0  25.0     0.0           100.0\n",
      "1  30.0     1.0           200.0\n",
      "2  29.5     1.0             0.0\n",
      "3  35.0     0.0           150.0\n",
      "4  28.0     NaN             0.0\n",
      "0    5.0\n",
      "1    4.0\n",
      "2    3.0\n",
      "3    NaN\n",
      "4    2.0\n",
      "Name: Satisfaction, dtype: float64\n"
     ]
    }
   ],
   "source": [
    "# Gender는 숫자로 변환 (Label Encoding)\n",
    "df['Gender'] = df['Gender'].map({'Male': 0, 'Female': 1})\n",
    "# 특성과 타겟 분리\n",
    "X = df[['Age', 'Gender', 'PurchaseAmount']] # 입력 데이터\n",
    "y = df['Satisfaction'] # 출력 데이터\n",
    "print(X)\n",
    "print(y)\n"
   ]
  },
  {
   "cell_type": "code",
   "execution_count": 25,
   "id": "861d6303",
   "metadata": {},
   "outputs": [],
   "source": [
    "from sklearn.model_selection import train_test_split\n"
   ]
  },
  {
   "cell_type": "code",
   "execution_count": 26,
   "id": "31b498e2",
   "metadata": {},
   "outputs": [],
   "source": [
    "X_train, X_test, y_train, y_test = train_test_split(\n",
    "    X,\n",
    "    y,\n",
    "    test_size=0.2,\n",
    "    random_state=42\n",
    ")"
   ]
  },
  {
   "cell_type": "code",
   "execution_count": 27,
   "id": "29a26274",
   "metadata": {},
   "outputs": [
    {
     "name": "stdout",
     "output_type": "stream",
     "text": [
      "학습 데이터 크기: (4, 3)\n",
      "테스트 데이터 크기: (1, 3)\n",
      "    Age  Gender  PurchaseAmount\n",
      "4  28.0     NaN             0.0\n",
      "2  29.5     1.0             0.0\n",
      "0  25.0     0.0           100.0\n",
      "3  35.0     0.0           150.0\n",
      "**********\n",
      "4    2.0\n",
      "2    3.0\n",
      "0    5.0\n",
      "3    NaN\n",
      "Name: Satisfaction, dtype: float64\n",
      "**********\n",
      "    Age  Gender  PurchaseAmount\n",
      "1  30.0     1.0           200.0\n",
      "**********\n",
      "1    4.0\n",
      "Name: Satisfaction, dtype: float64\n"
     ]
    }
   ],
   "source": [
    "print(\"학습 데이터 크기:\", X_train.shape)\n",
    "print(\"테스트 데이터 크기:\", X_test.shape)\n",
    "print(X_train) # 학습 데이터의 입력 데이터\n",
    "print('*'*10)\n",
    "print(y_train) # 학습 데이터의 출력 데이터\n",
    "print('*'*10)\n",
    "print(X_test) # 테스트 데이터의 입력 데이터\n",
    "print('*'*10)\n",
    "print(y_test) # 테스트 데이터의 출력 데이터\n"
   ]
  },
  {
   "cell_type": "code",
   "execution_count": 28,
   "id": "41a48520",
   "metadata": {},
   "outputs": [],
   "source": [
    "import numpy as np\n",
    "import matplotlib.pyplot as plt\n",
    "# 입력 데이터 (공부 시간)\n",
    "X = np.array([1, 2, 3, 4, 5])\n",
    "# 출력 데이터 (시험 점수)\n",
    "y = np.array([50, 55, 65, 70, 75])"
   ]
  },
  {
   "cell_type": "code",
   "execution_count": null,
   "id": "da06aa8d",
   "metadata": {},
   "outputs": [],
   "source": [
    "# 2. 초기 값 설정\n",
    "m = 0 # 초기 기울기\n",
    "b = 0 # 초기 y절편\n",
    "learning_rate = 0.01 # 학습 속도\n",
    "epochs = 1000 # 학습 반복 횟수\n",
    "\n",
    "# 경사하강법을 이용한 학습\n",
    "for _ in range(epochs):\n",
    "    # 예측 값 계산\n",
    "    y_pred = m*X+b\n",
    "    # 손실 함수(MSE) 계산\n",
    "    error = y - y_pred\n",
    "    mse = (error ** 2).mean()\n",
    "    # 기울기(m)와 y절편(b)의 변화량 계산\n",
    "    m_gradient = -(2 / len(X)) * sum(X * error)\n",
    "    b_gradient = -(2 / len(X)) * sum(error)\n",
    "    # 기울기와 절편 업데이트\n",
    "    m -= learning_rate * m_gradient\n",
    "    b -= learning_rate * b_gradient"
   ]
  },
  {
   "cell_type": "code",
   "execution_count": 40,
   "id": "44ed6576",
   "metadata": {},
   "outputs": [
    {
     "name": "stdout",
     "output_type": "stream",
     "text": [
      "학습된 기울기(m): 6.50\n",
      "학습된 y절편(b): 43.50\n",
      "MSE: 1.50\n",
      "RMSE: 1.22\n",
      "MAE: 1.00\n",
      "R^2: 0.98\n"
     ]
    },
    {
     "data": {
      "image/png": "[encoded data removed]",
      "text/plain": [
       "<Figure size 640x480 with 1 Axes>"
      ]
     },
     "metadata": {},
     "output_type": "display_data"
    },
    {
     "name": "stdout",
     "output_type": "stream",
     "text": [
      "새로운 공부 시간에 따른 예측 점수: [63.  82.5]\n"
     ]
    }
   ],
   "source": [
    "import numpy as np \n",
    "# 수학적 계산을 위한 핵심 라이브러리인 NumPy를 'np'라는 별칭으로 임포트\n",
    "import matplotlib.pyplot as plt\n",
    "# 데이터 시각화를 위한 라이브러리인 Matplotlib의 pyplot 모듈을 'plt'라는 별칭으로 임포트\n",
    "from sklearn.linear_model import LinearRegression\n",
    "# Scikit-learn 라이브러리의 linear_model 모듈에서 선형 회귀(Linear Regression) 모델을 임포트\n",
    "from sklearn.metrics import mean_squared_error, mean_absolute_error, r2_score \n",
    "# Scikit-learn 라이브러리의 metrics 모듈에서 모델 성능 평가 지표인 MSE, MAE, R-squared를 임포트\n",
    "\n",
    "\n",
    "# 1. 데이터 준비\n",
    "X = np.array([1, 2, 3, 4, 5]).reshape(-1, 1)\n",
    "# 학습데이터: '공부 시간' 데이터를 NumPy 배열로 생성하고, .reshape(-1, 1)을 사용하여 2차원 배열로 변환\n",
    "# -1은 원본 배열의 길이를 자동으로 계산, 1은 열의 개수를 1개로 지정\n",
    "# Scikit-learn 모델의 입력은 보통 2차원 배열 형태\n",
    "y = np.array([50, 55, 65, 70, 75]) \n",
    "# 라벨(결과): '시험 점수' 데이터를 NumPy 배열로 생성\n",
    "# 이는 예측하고자 하는 목표 변수(종속 변수)\n",
    "\n",
    "\n",
    "# 2. 모델 학습\n",
    "model = LinearRegression()\n",
    "# 선형 회귀 모델 객체를 생성 \n",
    "# 이 객체가 실제 학습을 수행\n",
    "model.fit(X, y)\n",
    "# 생성된 LinearRegression 모델 객체에 준비된 데이터 X(독립 변수)와 y(종속 변수)를 사용하여 모델을 학습\n",
    "# 이 과정에서 최적의 기울기와 절편을 탐색\n",
    "\n",
    "\n",
    "# 3. 학습된 모델의 지표: 기울기와 절편 확인\n",
    "m = model.coef_[0]\n",
    "# 학습된 선형 회귀 모델의 기울기(coefficient)\n",
    "# model.coef_는 배열 형태로 반환되므로 첫 번째 값([0])\n",
    "b = model.intercept_\n",
    "# 학습된 선형 회귀 모델의 y절편(intercept)\n",
    "print(f\"학습된 기울기(m): {m:.2f}\")\n",
    "# f-string을 사용하여 학습된 기울기 m을 소수점 둘째 자리까지 출력\n",
    "print(f\"학습된 y절편(b): {b:.2f}\")\n",
    "# f-string을 사용하여 학습된 y절편 b를 소수점 둘째 자리까지 출력\n",
    "\n",
    "\n",
    "# 4. 예측 값 계산\n",
    "y_pred = model.predict(X)\n",
    "# 학습된 모델(model)을 사용하여 학습 데이터 X에 대한 예측 값(y_pred)을 계산\n",
    "# 이 값은 모델이 학습한 직선 위의 점들\n",
    "\n",
    "\n",
    "# 5. 성능 평가\n",
    "mse = mean_squared_error(y, y_pred)\n",
    "# 실제 값(y)과 예측 값(y_pred) 사이의 평균 제곱근 오차(Mean Squared Error)를 계산\n",
    "# 오차의 제곱의 평균으로, 큰 오차에 더 큰 가중치\n",
    "rmse = np.sqrt(mse)\n",
    "# MSE 값에 제곱근을 취하여 평균 제곱근 오차(Root Mean Squared Error)를 계산\n",
    "# 이는 MSE와 달리 원래 데이터의 단위와 동일하여 해석하기 용이\n",
    "mae = mean_absolute_error(y, y_pred)\n",
    "# 실제 값(y)과 예측 값(y_pred) 사이의 평균 절대 오차(Mean Absolute Error)를 계산\n",
    "r2 = r2_score(y, y_pred)\n",
    "# 결정 계수(R-squared)를 계산. 모델이 종속 변수(y)의 분산을 얼마나 잘 설명하는지를 나타내며, 1에 가까울수록 모델의 설명력이 높다.\n",
    "print(f\"MSE: {mse:.2f}\")\n",
    "# 계산된 MSE를 소수점 둘째 자리까지 출력\n",
    "print(f\"RMSE: {rmse:.2f}\")\n",
    "# 계산된 RMSE를 소수점 둘째 자리까지 출력\n",
    "print(f\"MAE: {mae:.2f}\")\n",
    "# 계산된 MAE를 소수점 둘째 자리까지 출력\n",
    "print(f\"R^2: {r2:.2f}\")\n",
    "# 계산된 R-squared 값을 소수점 둘째 자리까지 출력\n",
    "\n",
    "\n",
    "# 6. 학습 결과 시각화\n",
    "plt.rc('font', family='Malgun Gothic')\n",
    "# Matplotlib에서 한글 폰트가 깨지는 것을 방지하기 위해 'Malgun Gothic' 폰트를 설정 (Windows 운영체제 기준)\n",
    "plt.scatter(X, y, color='blue', label='실제 데이터')\n",
    "# 실제 데이터 포인트(X, y)를 파란색 점(scatter)으로 그래프에 추가하고 '실제 데이터'로 라벨을 지정\n",
    "plt.plot(X, y_pred, color='red', label='학습된 모델')\n",
    "# 학습된 모델의 예측 값(X, y_pred)을 빨간색 선(plot)으로 그래프에 추가하고 '학습된 모델'로 라벨을 지정 (회귀선)\n",
    "plt.xlabel('공부 시간 (시간)')\n",
    "plt.ylabel('시험 점수 (점수)')\n",
    "plt.legend()\n",
    "# 범례(label)를 그래프에 표시\n",
    "plt.title('Scikit-learn을 이용한 선형 회귀 학습 결과')\n",
    "plt.show()\n",
    "\n",
    "\n",
    "# 7. 새로운 데이터 예측\n",
    "new_study_hours = np.array([3,6]).reshape(-1, 1)\n",
    "# 모델에 예측을 요청할 새로운 '공부 시간' 데이터를 NumPy 배열로 생성하고 2차원 배열로 변환\n",
    "predicted_scores = model.predict(new_study_hours)\n",
    "# 학습된 모델(model)을 사용하여 새로운 공부 시간(new_study_hours)에 대한 시험 점수를 예측\n",
    "print(\"새로운 공부 시간에 따른 예측 점수:\", predicted_scores)\n",
    "# 예측된 점수들을 출력"
   ]
  },
  {
   "cell_type": "code",
   "execution_count": null,
   "id": "b0aa8e83",
   "metadata": {},
   "outputs": [],
   "source": []
  }
 ],
 "metadata": {
  "kernelspec": {
   "display_name": ".venv",
   "language": "python",
   "name": "python3"
  },
  "language_info": {
   "codemirror_mode": {
    "name": "ipython",
    "version": 3
   },
   "file_extension": ".py",
   "mimetype": "text/x-python",
   "name": "python",
   "nbconvert_exporter": "python",
   "pygments_lexer": "ipython3",
   "version": "3.13.4"
  }
 },
 "nbformat": 4,
 "nbformat_minor": 5
}
