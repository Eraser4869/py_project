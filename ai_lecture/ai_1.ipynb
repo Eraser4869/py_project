{
 "cells": [
  {
   "cell_type": "markdown",
   "id": "9f777e23",
   "metadata": {},
   "source": [
    "### requests"
   ]
  },
  {
   "cell_type": "code",
   "execution_count": null,
   "id": "88f50344",
   "metadata": {},
   "outputs": [
    {
     "name": "stdout",
     "output_type": "stream",
     "text": [
      "Requirement already satisfied: requests in c:\\project\\py_project\\.venv\\lib\\site-packages (2.32.4)\n",
      "Requirement already satisfied: charset_normalizer<4,>=2 in c:\\project\\py_project\\.venv\\lib\\site-packages (from requests) (3.4.2)\n",
      "Requirement already satisfied: idna<4,>=2.5 in c:\\project\\py_project\\.venv\\lib\\site-packages (from requests) (3.10)\n",
      "Requirement already satisfied: urllib3<3,>=1.21.1 in c:\\project\\py_project\\.venv\\lib\\site-packages (from requests) (2.4.0)\n",
      "Requirement already satisfied: certifi>=2017.4.17 in c:\\project\\py_project\\.venv\\lib\\site-packages (from requests) (2025.6.15)\n",
      "Note: you may need to restart the kernel to use updated packages.\n"
     ]
    }
   ],
   "source": [
    "# 웹에 대한 요청\n",
    "pip install requests"
   ]
  },
  {
   "cell_type": "code",
   "execution_count": 1,
   "id": "8a5b5588",
   "metadata": {},
   "outputs": [],
   "source": [
    "import requests"
   ]
  },
  {
   "cell_type": "code",
   "execution_count": null,
   "id": "daddea77",
   "metadata": {},
   "outputs": [],
   "source": [
    "# 원랴는 포트가 포함되어 있다.\n",
    "url = 'https://jsonplaceholder.typicode.com/posts'"
   ]
  },
  {
   "cell_type": "code",
   "execution_count": null,
   "id": "87911aee",
   "metadata": {},
   "outputs": [],
   "source": [
    "response = requests.get(url)\n",
    "# get 메서드: 요청하면 응답 받기. 수집 관점에서는 get만 알아도 된데.\n",
    "# 다른건 post put 같은게 있다.\n",
    "# 이건 json 형식으로 돌려주고 있어"
   ]
  },
  {
   "cell_type": "code",
   "execution_count": null,
   "id": "487de724",
   "metadata": {},
   "outputs": [
    {
     "data": {
      "text/plain": [
       "str"
      ]
     },
     "execution_count": 6,
     "metadata": {},
     "output_type": "execute_result"
    }
   ],
   "source": [
    "type(response.text)"
   ]
  },
  {
   "cell_type": "code",
   "execution_count": null,
   "id": "f65a7c1d",
   "metadata": {},
   "outputs": [
    {
     "name": "stdout",
     "output_type": "stream",
     "text": [
      "200\n"
     ]
    }
   ],
   "source": [
    "print(response.status_code)\n",
    "# 상태 코드"
   ]
  },
  {
   "cell_type": "code",
   "execution_count": null,
   "id": "76d66fdb",
   "metadata": {},
   "outputs": [
    {
     "name": "stdout",
     "output_type": "stream",
     "text": [
      "응답 성공\n",
      "[\n",
      "  {\n",
      "    \"userId\": 1,\n",
      "    \"id\": 1,\n",
      "    \"title\": \"sunt aut facere repellat provident occaecati excepturi optio reprehenderit\",\n",
      "    \"body\": \"quia et suscipit\\nsuscipit recusandae consequuntur expedita et cum\\nreprehenderit molestiae ut ut quas totam\\nnostrum rerum est autem sunt rem eveniet architecto\"\n",
      "  },\n",
      "  {\n",
      "    \"userId\": 1,\n",
      "    \"id\": 2,\n",
      "    \"title\": \"qui est esse\",\n",
      "    \"body\": \"est rerum tempor\n"
     ]
    }
   ],
   "source": [
    "# 기본적으로 200번이 정상이고, 404번이 주소가 없거나 not found 같은걸 처리한다. 500번대는 서버 류를 말한다.\n",
    "if response.status_code == 200 :\n",
    "    print('응답 성공')\n",
    "    print(response.text[:400])\n",
    "else :\n",
    "   print(f'오류 발생 : {response.status_code}') "
   ]
  },
  {
   "cell_type": "code",
   "execution_count": null,
   "id": "b1abdb9b",
   "metadata": {},
   "outputs": [],
   "source": [
    "data_obj = response.json()\n",
    "# 객체 형식으로 반환해주는 json 형식!"
   ]
  },
  {
   "cell_type": "code",
   "execution_count": null,
   "id": "3ae127cb",
   "metadata": {},
   "outputs": [
    {
     "data": {
      "text/plain": [
       "list"
      ]
     },
     "execution_count": 10,
     "metadata": {},
     "output_type": "execute_result"
    }
   ],
   "source": [
    "type(data_obj)\n",
    "# 감싸고 있는 형식에 따라 리스트로도 오고 딕셔너리로도 온다"
   ]
  },
  {
   "cell_type": "code",
   "execution_count": 11,
   "id": "1c24908c",
   "metadata": {},
   "outputs": [
    {
     "name": "stdout",
     "output_type": "stream",
     "text": [
      "title : sunt aut f\n",
      "body : quia et su\n",
      "title : qui est es\n",
      "body : est rerum \n",
      "title : ea molesti\n",
      "body : et iusto s\n",
      "title : eum et est\n",
      "body : ullam et s\n",
      "title : nesciunt q\n",
      "body : repudianda\n",
      "title : dolorem eu\n",
      "body : ut asperna\n",
      "title : magnam fac\n",
      "body : dolore pla\n",
      "title : dolorem do\n",
      "body : dignissimo\n",
      "title : nesciunt i\n",
      "body : consectetu\n",
      "title : optio mole\n",
      "body : quo et exp\n",
      "title : et ea vero\n",
      "body : delectus r\n",
      "title : in quibusd\n",
      "body : itaque id \n",
      "title : dolorum ut\n",
      "body : aut dicta \n",
      "title : voluptatem\n",
      "body : fuga et ac\n",
      "title : eveniet qu\n",
      "body : reprehende\n",
      "title : sint susci\n",
      "body : suscipit n\n",
      "title : fugit volu\n",
      "body : eos volupt\n",
      "title : voluptate \n",
      "body : eveniet qu\n",
      "title : adipisci p\n",
      "body : illum quis\n",
      "title : doloribus \n",
      "body : qui conseq\n",
      "title : asperiores\n",
      "body : repellat a\n",
      "title : dolor sint\n",
      "body : eos qui et\n",
      "title : maxime id \n",
      "body : veritatis \n",
      "title : autem hic \n",
      "body : enim et ex\n",
      "title : rem alias \n",
      "body : ullam cons\n",
      "title : est et qua\n",
      "body : similique \n",
      "title : quasi id e\n",
      "body : eum sed do\n",
      "title : delectus u\n",
      "body : non et qua\n",
      "title : iusto eius\n",
      "body : odit magna\n",
      "title : a quo magn\n",
      "body : alias dolo\n",
      "title : ullam ut q\n",
      "body : debitis ei\n",
      "title : doloremque\n",
      "body : deserunt e\n",
      "title : qui explic\n",
      "body : rerum ut e\n",
      "title : magnam ut \n",
      "body : ea velit p\n",
      "title : id nihil c\n",
      "body : nisi error\n",
      "title : fuga nam a\n",
      "body : ad molliti\n",
      "title : provident \n",
      "body : debitis et\n",
      "title : explicabo \n",
      "body : animi esse\n",
      "title : eos dolore\n",
      "body : corporis r\n",
      "title : enim quo c\n",
      "body : ut volupta\n",
      "title : non est fa\n",
      "body : molestias \n",
      "title : commodi ul\n",
      "body : odio fugit\n",
      "title : eligendi i\n",
      "body : similique \n",
      "title : optio dolo\n",
      "body : temporibus\n",
      "title : ut numquam\n",
      "body : est natus \n",
      "title : aut quo mo\n",
      "body : voluptatem\n",
      "title : quibusdam \n",
      "body : voluptatem\n",
      "title : ut volupta\n",
      "body : voluptates\n",
      "title : laborum no\n",
      "body : inventore \n",
      "title : repellendu\n",
      "body : error susc\n",
      "title : soluta ali\n",
      "body : sunt dolor\n",
      "title : qui enim e\n",
      "body : iusto est \n",
      "title : ut quo aut\n",
      "body : minima har\n",
      "title : sit asperi\n",
      "body : totam corp\n",
      "title : sit vel vo\n",
      "body : debitis ex\n",
      "title : qui et at \n",
      "body : aut est om\n",
      "title : sed ab est\n",
      "body : at pariatu\n",
      "title : voluptatum\n",
      "body : veniam vol\n",
      "title : qui commod\n",
      "body : perspiciat\n",
      "title : consequatu\n",
      "body : asperiores\n",
      "title : voluptatem\n",
      "body : ab nemo op\n",
      "title : beatae eni\n",
      "body : enim asper\n",
      "title : voluptas b\n",
      "body : enim adipi\n",
      "title : et fugit q\n",
      "body : id velit b\n",
      "title : consequatu\n",
      "body : voluptatib\n",
      "title : repudianda\n",
      "body : officia ve\n",
      "title : aliquid eo\n",
      "body : reprehende\n",
      "title : odio quis \n",
      "body : magnam mol\n",
      "title : fugiat quo\n",
      "body : officiis e\n",
      "title : voluptatem\n",
      "body : sunt repel\n",
      "title : et iusto v\n",
      "body : occaecati \n",
      "title : sint hic d\n",
      "body : quam occae\n",
      "title : consequunt\n",
      "body : voluptatem\n",
      "title : enim unde \n",
      "body : odit qui e\n",
      "title : dignissimo\n",
      "body : commodi no\n",
      "title : doloremque\n",
      "body : ut animi f\n",
      "title : necessitat\n",
      "body : modi ut in\n",
      "title : quam volup\n",
      "body : nobis faci\n",
      "title : pariatur c\n",
      "body : libero acc\n",
      "title : labore in \n",
      "body : ex quod do\n",
      "title : tempora re\n",
      "body : facere qui\n",
      "title : laudantium\n",
      "body : ut libero \n",
      "title : odit et vo\n",
      "body : est molest\n",
      "title : optio ipsa\n",
      "body : sint moles\n",
      "title : dolore ver\n",
      "body : similique \n",
      "title : placeat qu\n",
      "body : quasi exce\n",
      "title : nostrum qu\n",
      "body : eos et mol\n",
      "title : sapiente o\n",
      "body : consequatu\n",
      "title : sint solut\n",
      "body : repellat a\n",
      "title : ad iusto o\n",
      "body : minus omni\n",
      "title : aut amet s\n",
      "body : libero vol\n",
      "title : ratione ex\n",
      "body : aut et exc\n",
      "title : beatae sol\n",
      "body : dolorem qu\n",
      "title : qui qui vo\n",
      "body : aspernatur\n",
      "title : id minus l\n",
      "body : earum volu\n",
      "title : quaerat ve\n",
      "body : in non odi\n",
      "title : quas fugia\n",
      "body : eum non bl\n",
      "title : laboriosam\n",
      "body : doloremque\n",
      "title : temporibus\n",
      "body : quo deleni\n",
      "title : at nam con\n",
      "body : cupiditate\n"
     ]
    }
   ],
   "source": [
    "for post in data_obj:\n",
    "    print(f'title : {post['title'][:10]}')\n",
    "    print(f'body : {post['body'][:10]}')"
   ]
  },
  {
   "cell_type": "code",
   "execution_count": 12,
   "metadata": {},
   "outputs": [],
   "source": [
    "url = 'https://jsonplaceholder.typicode.com/posts/1'"
   ]
  },
  {
   "cell_type": "code",
   "execution_count": 13,
   "id": "c6c37521",
   "metadata": {},
   "outputs": [],
   "source": [
    "response = requests.get(url)"
   ]
  },
  {
   "cell_type": "code",
   "execution_count": 14,
   "id": "05f4ba08",
   "metadata": {},
   "outputs": [
    {
     "name": "stdout",
     "output_type": "stream",
     "text": [
      "<class 'dict'>\n",
      "title: sunt aut facere repellat provident occaecati excepturi optio reprehenderit\n",
      "body: quia et suscipit\n",
      "suscipit recusandae consequuntur expedita et cum\n",
      "reprehenderit molestiae ut ut quas totam\n",
      "nostrum rerum est autem sunt rem eveniet architecto\n"
     ]
    }
   ],
   "source": [
    "if response.status_code == 200 :\n",
    "    data = response.json() # dict\n",
    "    print(type(data))\n",
    "    print(f'title: {data['title']}')\n",
    "    print(f'body: {data['body']}')\n",
    "else :\n",
    "    print('에러 발생')"
   ]
  },
  {
   "cell_type": "code",
   "execution_count": null,
   "id": "211e29ca",
   "metadata": {},
   "outputs": [
    {
     "name": "stdout",
     "output_type": "stream",
     "text": [
      "Requirement already satisfied: beautifulsoup4 in c:\\project\\py_project\\.venv\\lib\\site-packages (4.13.4)\n",
      "Requirement already satisfied: soupsieve>1.2 in c:\\project\\py_project\\.venv\\lib\\site-packages (from beautifulsoup4) (2.7)\n",
      "Requirement already satisfied: typing-extensions>=4.0.0 in c:\\project\\py_project\\.venv\\lib\\site-packages (from beautifulsoup4) (4.13.2)\n",
      "Note: you may need to restart the kernel to use updated packages.\n"
     ]
    }
   ],
   "source": [
    "pip install beautifulsoup4\n",
    "# 마크업 언어는 거의 뷰티풀솦을 사용한다,\n",
    "# html과 CSS 언어에 대한 이해가 선행되어야 한다.\n"
   ]
  },
  {
   "cell_type": "code",
   "execution_count": 16,
   "id": "8a4c692d",
   "metadata": {},
   "outputs": [],
   "source": [
    "from bs4 import BeautifulSoup"
   ]
  },
  {
   "cell_type": "code",
   "execution_count": 17,
   "id": "a6818cef",
   "metadata": {},
   "outputs": [],
   "source": [
    "html_doc = \"\"\"\n",
    "<html>\n",
    "    <head>\n",
    "        <title>Example Page</title>\n",
    "    </head>\n",
    "    <body>\n",
    "        <h1>Welcome to Web Scraping</h1>\n",
    "        <p class=\"description\">This is an example paragraph.</p>\n",
    "        <a href=\"https://example.com1\">Visit Example1</a>\n",
    "        <a href=\"https://example.com2\">Visit Example2</a>\n",
    "        <a href=\"https://example.com3\">Visit Example3</a>\n",
    "        <a href=\"https://example.com4\">Visit Example4</a>\n",
    "    </body>\n",
    "</html>\n",
    "\"\"\""
   ]
  },
  {
   "cell_type": "code",
   "execution_count": null,
   "id": "01bc632a",
   "metadata": {},
   "outputs": [],
   "source": [
    "# BeautifulSoup 객체를 생성\n",
    "# 앞에 문서 뒤에 파서 형태가 뷰티풀솦의 기본 공식\n",
    "soup = BeautifulSoup(html_doc, 'html.parser')"
   ]
  },
  {
   "cell_type": "code",
   "execution_count": null,
   "id": "da0415b6",
   "metadata": {},
   "outputs": [
    {
     "name": "stdout",
     "output_type": "stream",
     "text": [
      "Example Page\n",
      "Welcome to Web Scraping\n",
      "https://example.com1\n",
      "<p class=\"description\">This is an example paragraph.</p>\n",
      "['description']\n"
     ]
    }
   ],
   "source": [
    "print(soup.title.string)\n",
    "# h1 태그는 제일 위에 있는걸로 임의 설정 된다.\n",
    "print(soup.h1.string)\n",
    "print(soup.a['href'])\n",
    "print(soup.p)\n",
    "print(soup.p['class'])"
   ]
  },
  {
   "cell_type": "code",
   "execution_count": 20,
   "id": "be73aaaa",
   "metadata": {},
   "outputs": [
    {
     "name": "stdout",
     "output_type": "stream",
     "text": [
      "<a href=\"https://example.com1\">Visit Example1</a>\n",
      "[<a href=\"https://example.com1\">Visit Example1</a>, <a href=\"https://example.com2\">Visit Example2</a>, <a href=\"https://example.com3\">Visit Example3</a>, <a href=\"https://example.com4\">Visit Example4</a>]\n"
     ]
    }
   ],
   "source": [
    "# find(tag), find_all(tag)\n",
    "a_tag = soup.find('a')\n",
    "print(a_tag)\n",
    "a_tags = soup.find_all('a')\n",
    "print(a_tags)"
   ]
  },
  {
   "cell_type": "code",
   "execution_count": 21,
   "id": "94679aa3",
   "metadata": {},
   "outputs": [
    {
     "name": "stdout",
     "output_type": "stream",
     "text": [
      "https://example.com1\n",
      "https://example.com2\n",
      "https://example.com3\n",
      "https://example.com4\n",
      "['https://example.com1', 'https://example.com2', 'https://example.com3', 'https://example.com4']\n"
     ]
    }
   ],
   "source": [
    "links = []\n",
    "for a_tag in a_tags:\n",
    "    print(a_tag['href'])\n",
    "    links.append(a_tag['href'])\n",
    "\n",
    "print(links)"
   ]
  },
  {
   "cell_type": "code",
   "execution_count": 22,
   "id": "6fa18deb",
   "metadata": {},
   "outputs": [],
   "source": [
    "html_doc = \"\"\"\n",
    "<html>\n",
    "  <head><title>Example Page</title></head>\n",
    "  <body>\n",
    "    <h1>Welcome to Web Scraping</h1>\n",
    "    <p class=\"description\">This is an example paragraph.</p>\n",
    "    <a href=\"https://example.com\">Visit Example</a>\n",
    "  </body>\n",
    "</html>\n",
    "\"\"\""
   ]
  },
  {
   "cell_type": "code",
   "execution_count": 23,
   "id": "385b8c2d",
   "metadata": {},
   "outputs": [],
   "source": [
    "soup = BeautifulSoup(html_doc, 'html.parser')"
   ]
  },
  {
   "cell_type": "code",
   "execution_count": 24,
   "id": "c5a6f13c",
   "metadata": {},
   "outputs": [
    {
     "name": "stdout",
     "output_type": "stream",
     "text": [
      "This is an example paragraph.\n"
     ]
    }
   ],
   "source": [
    "# select_one  : class 속성값으로 찾기\n",
    "description = soup.select_one('.description')\n",
    "print(description.string)"
   ]
  },
  {
   "cell_type": "code",
   "execution_count": 25,
   "id": "65db9295",
   "metadata": {},
   "outputs": [],
   "source": [
    "url = \"https://news.ycombinator.com/\""
   ]
  },
  {
   "cell_type": "code",
   "execution_count": 26,
   "id": "8bf23d73",
   "metadata": {},
   "outputs": [],
   "source": [
    "response = requests.get(url)"
   ]
  },
  {
   "cell_type": "code",
   "execution_count": 27,
   "id": "e8345a2e",
   "metadata": {},
   "outputs": [
    {
     "name": "stdout",
     "output_type": "stream",
     "text": [
      "<html lang=\"en\" op=\"news\"><head><meta name=\"referrer\" content=\"origin\"><meta name=\"viewport\" content=\"width=device-width, initial-scale=1.0\"><link rel=\"stylesheet\" type=\"text/css\" href=\"news.css?kc7ZUPIx10J1yMolRDy2\">\n",
      "        <link rel=\"icon\" href=\"y18.svg\">\n",
      "                  <link rel=\"alternate\" type=\"application/rss+xml\" title=\"RSS\" href=\"rss\">\n",
      "        <title>Hacker News</title></head><body><center><table id=\"hnmain\" border=\"0\" cellpadding=\"0\" cellspacing=\"0\" width=\"85%\" bgcolor=\"#f6f6ef\">\n",
      "  \n"
     ]
    }
   ],
   "source": [
    "print(response.text[:500])"
   ]
  },
  {
   "cell_type": "code",
   "execution_count": 28,
   "id": "2a19fa56",
   "metadata": {},
   "outputs": [],
   "source": [
    "soup = BeautifulSoup(response.text, 'html.parser')"
   ]
  },
  {
   "cell_type": "code",
   "execution_count": 29,
   "id": "56825ffa",
   "metadata": {},
   "outputs": [
    {
     "name": "stdout",
     "output_type": "stream",
     "text": [
      "[<a href=\"https://news.ycombinator.com\"><img height=\"18\" src=\"y18.svg\" style=\"border:1px white solid; display:block\" width=\"18\"/></a>, <a href=\"news\">Hacker News</a>, <a href=\"newest\">new</a>, <a href=\"front\">past</a>, <a href=\"newcomments\">comments</a>, <a href=\"ask\">ask</a>, <a href=\"show\">show</a>, <a href=\"jobs\">jobs</a>, <a href=\"submit\" rel=\"nofollow\">submit</a>, <a href=\"login?goto=news\">login</a>, <a href=\"vote?id=44284871&amp;how=up&amp;goto=news\" id=\"up_44284871\"><div class=\"votearrow\" title=\"upvote\"></div></a>, <a href=\"https://github.com/rorosen/zeekstd\">Show HN: Zeekstd – Rust Implementation of the ZSTD Seekable Format</a>, <a href=\"from?site=github.com/rorosen\"><span class=\"sitestr\">github.com/rorosen</span></a>, <a class=\"hnuser\" href=\"user?id=rorosen\">rorosen</a>, <a href=\"item?id=44284871\">2 hours ago</a>, <a href=\"hide?id=44284871&amp;goto=news\">hide</a>, <a href=\"item?id=44284871\">7 comments</a>, <a href=\"vote?id=44287395&amp;how=up&amp;goto=news\" id=\"up_44287395\"><div class=\"votearrow\" title=\"upvote\"></div></a>, <a href=\"https://bowshock.nl/irc/\">Start your own Internet Resiliency Club</a>, <a href=\"from?site=bowshock.nl\"><span class=\"sitestr\">bowshock.nl</span></a>, <a class=\"hnuser\" href=\"user?id=todsacerdoti\">todsacerdoti</a>, <a href=\"item?id=44287395\">5 hours ago</a>, <a href=\"hide?id=44287395&amp;goto=news\">hide</a>, <a href=\"item?id=44287395\">161 comments</a>, <a href=\"vote?id=44288937&amp;how=up&amp;goto=news\" id=\"up_44288937\"><div class=\"votearrow\" title=\"upvote\"></div></a>, <a href=\"https://turso.tech/blog/working-on-databases-from-prison\" rel=\"nofollow\">Working on databases from prison: How I got here pt. 2</a>, <a href=\"from?site=turso.tech\"><span class=\"sitestr\">turso.tech</span></a>, <a class=\"hnuser\" href=\"user?id=dvektor\">dvektor</a>, <a href=\"item?id=44288937\">41 minutes ago</a>, <a href=\"hide?id=44288937&amp;goto=news\">hide</a>, <a href=\"item?id=44288937\">discuss</a>, <a href=\"vote?id=44288643&amp;how=up&amp;goto=news\" id=\"up_44288643\"><div class=\"votearrow\" title=\"upvote\"></div></a>, <a href=\"https://github.com/bperel/socket-call\">Show HN: Socket-call – Call socket.io events like normal JavaScript functions</a>, <a href=\"from?site=github.com/bperel\"><span class=\"sitestr\">github.com/bperel</span></a>, <a class=\"hnuser\" href=\"user?id=bperel\">bperel</a>, <a href=\"item?id=44288643\">1 hour ago</a>, <a href=\"hide?id=44288643&amp;goto=news\">hide</a>, <a href=\"item?id=44288643\">discuss</a>, <a href=\"vote?id=44287043&amp;how=up&amp;goto=news\" id=\"up_44287043\"><div class=\"votearrow\" title=\"upvote\"></div></a>, <a href=\"https://huggingface.co/nanonets/Nanonets-OCR-s\">Nanonets-OCR-s – OCR model that transforms documents into structured markdown</a>, <a href=\"from?site=huggingface.co\"><span class=\"sitestr\">huggingface.co</span></a>, <a class=\"hnuser\" href=\"user?id=PixelPanda\">PixelPanda</a>, <a href=\"item?id=44287043\">6 hours ago</a>, <a href=\"hide?id=44287043&amp;goto=news\">hide</a>, <a href=\"item?id=44287043\">19 comments</a>, <a href=\"vote?id=44275900&amp;how=up&amp;goto=news\" id=\"up_44275900\"><div class=\"votearrow\" title=\"upvote\"></div></a>, <a href=\"https://pitr.ca/2025-06-14-queens\">Solving LinkedIn Queens with APL</a>, <a href=\"from?site=pitr.ca\"><span class=\"sitestr\">pitr.ca</span></a>, <a class=\"hnuser\" href=\"user?id=pitr\">pitr</a>, <a href=\"item?id=44275900\">7 hours ago</a>, <a href=\"hide?id=44275900&amp;goto=news\">hide</a>, <a href=\"item?id=44275900\">6 comments</a>, <a href=\"vote?id=44274237&amp;how=up&amp;goto=news\" id=\"up_44274237\"><div class=\"votearrow\" title=\"upvote\"></div></a>, <a href=\"https://github.com/ccbikai/ssh-ai-chat\">LLM Chat via SSH</a>, <a href=\"from?site=github.com/ccbikai\"><span class=\"sitestr\">github.com/ccbikai</span></a>, <a class=\"hnuser\" href=\"user?id=wey-gu\">wey-gu</a>, <a href=\"item?id=44274237\">3 hours ago</a>, <a href=\"hide?id=44274237&amp;goto=news\">hide</a>, <a href=\"item?id=44274237\">5 comments</a>, <a href=\"https://infracost.io/join-the-team\">Infracost (YC W21) is hiring software engineers (GMT+2 to GMT-6)</a>, <a href=\"from?site=infracost.io\"><span class=\"sitestr\">infracost.io</span></a>, <a href=\"item?id=44288748\">1 hour ago</a>, <a href=\"hide?id=44288748&amp;goto=news\">hide</a>, <a href=\"vote?id=44285781&amp;how=up&amp;goto=news\" id=\"up_44285781\"><div class=\"votearrow\" title=\"upvote\"></div></a>, <a href=\"https://voxelmanip.se/2025/06/14/jokes-and-humour-in-the-public-android-api/\">Jokes and Humour in the Public Android API</a>, <a href=\"from?site=voxelmanip.se\"><span class=\"sitestr\">voxelmanip.se</span></a>, <a class=\"hnuser\" href=\"user?id=todsacerdoti\">todsacerdoti</a>, <a href=\"item?id=44285781\">12 hours ago</a>, <a href=\"hide?id=44285781&amp;goto=news\">hide</a>, <a href=\"item?id=44285781\">89 comments</a>, <a href=\"vote?id=44282378&amp;how=up&amp;goto=news\" id=\"up_44282378\"><div class=\"votearrow\" title=\"upvote\"></div></a>, <a href=\"https://tim.dierks.org/2014/05/security-standards-and-name-changes-in.html\">Why SSL was renamed to TLS in late 90s (2014)</a>, <a href=\"from?site=dierks.org\"><span class=\"sitestr\">dierks.org</span></a>, <a class=\"hnuser\" href=\"user?id=Bogdanp\">Bogdanp</a>, <a href=\"item?id=44282378\">23 hours ago</a>, <a href=\"hide?id=44282378&amp;goto=news\">hide</a>, <a href=\"item?id=44282378\">170 comments</a>, <a href=\"vote?id=44285440&amp;how=up&amp;goto=news\" id=\"up_44285440\"><div class=\"votearrow\" title=\"upvote\"></div></a>, <a href=\"https://www.darpa.mil/news/2025/darpa-program-distance-record-power-beaming\">DARPA program sets distance record for power beaming</a>, <a href=\"from?site=darpa.mil\"><span class=\"sitestr\">darpa.mil</span></a>, <a class=\"hnuser\" href=\"user?id=gnabgib\">gnabgib</a>, <a href=\"item?id=44285440\">14 hours ago</a>, <a href=\"hide?id=44285440&amp;goto=news\">hide</a>, <a href=\"item?id=44285440\">46 comments</a>, <a href=\"vote?id=44275134&amp;how=up&amp;goto=news\" id=\"up_44275134\"><div class=\"votearrow\" title=\"upvote\"></div></a>, <a href=\"https://www.mexicolore.co.uk/maya/home/maya-blue-unlocking-the-mysteries-of-an-ancient-pigment\">Maya Blue: Unlocking the Mysteries of an Ancient Pigment</a>, <a href=\"from?site=mexicolore.co.uk\"><span class=\"sitestr\">mexicolore.co.uk</span></a>, <a class=\"hnuser\" href=\"user?id=DanielKehoe\">DanielKehoe</a>, <a href=\"item?id=44275134\">4 hours ago</a>, <a href=\"hide?id=44275134&amp;goto=news\">hide</a>, <a href=\"item?id=44275134\">discuss</a>, <a href=\"vote?id=44282998&amp;how=up&amp;goto=news\" id=\"up_44282998\"><div class=\"votearrow\" title=\"upvote\"></div></a>, <a href=\"https://www.downtowndougbrown.com/2025/06/modifying-an-hdmi-dummy-plugs-edid-using-a-raspberry-pi/\">Modifying an HDMI dummy plug's EDID using a Raspberry Pi</a>, <a href=\"from?site=downtowndougbrown.com\"><span class=\"sitestr\">downtowndougbrown.com</span></a>, <a class=\"hnuser\" href=\"user?id=zdw\">zdw</a>, <a href=\"item?id=44282998\">21 hours ago</a>, <a href=\"hide?id=44282998&amp;goto=news\">hide</a>, <a href=\"item?id=44282998\">71 comments</a>, <a href=\"vote?id=44282143&amp;how=up&amp;goto=news\" id=\"up_44282143\"><div class=\"votearrow\" title=\"upvote\"></div></a>, <a href=\"https://ourworldindata.org/childhood-leukemia-treatment-history\">Childhood leukemia: how a deadly cancer became treatable</a>, <a href=\"from?site=ourworldindata.org\"><span class=\"sitestr\">ourworldindata.org</span></a>, <a class=\"hnuser\" href=\"user?id=surprisetalk\">surprisetalk</a>, <a href=\"item?id=44282143\">1 day ago</a>, <a href=\"hide?id=44282143&amp;goto=news\">hide</a>, <a href=\"item?id=44282143\">64 comments</a>, <a href=\"vote?id=44285392&amp;how=up&amp;goto=news\" id=\"up_44285392\"><div class=\"votearrow\" title=\"upvote\"></div></a>, <a href=\"https://news.kaist.ac.kr/newsen/html/news/?mode=V&amp;mng_no=47450\">Real-time CO2 monitoring without batteries or external power</a>, <a href=\"from?site=kaist.ac.kr\"><span class=\"sitestr\">kaist.ac.kr</span></a>, <a class=\"hnuser\" href=\"user?id=gnabgib\">gnabgib</a>, <a href=\"item?id=44285392\">14 hours ago</a>, <a href=\"hide?id=44285392&amp;goto=news\">hide</a>, <a href=\"item?id=44285392\">11 comments</a>, <a href=\"vote?id=44284657&amp;how=up&amp;goto=news\" id=\"up_44284657\"><div class=\"votearrow\" title=\"upvote\"></div></a>, <a href=\"https://github.com/cosmos72/twin\">Twin – A Textmode WINdow Environment</a>, <a href=\"from?site=github.com/cosmos72\"><span class=\"sitestr\">github.com/cosmos72</span></a>, <a class=\"hnuser\" href=\"user?id=kim_rutherford\">kim_rutherford</a>, <a href=\"item?id=44284657\">17 hours ago</a>, <a href=\"hide?id=44284657&amp;goto=news\">hide</a>, <a href=\"item?id=44284657\">17 comments</a>, <a href=\"vote?id=44281727&amp;how=up&amp;goto=news\" id=\"up_44281727\"><div class=\"votearrow\" title=\"upvote\"></div></a>, <a href=\"https://github.com/frankmcsherry/blog/blob/master/posts/2025-06-03.md\">Datalog in Rust</a>, <a href=\"from?site=github.com/frankmcsherry\"><span class=\"sitestr\">github.com/frankmcsherry</span></a>, <a class=\"hnuser\" href=\"user?id=brson\">brson</a>, <a href=\"item?id=44281727\">1 day ago</a>, <a href=\"hide?id=44281727&amp;goto=news\">hide</a>, <a href=\"item?id=44281727\">31 comments</a>, <a href=\"vote?id=44275471&amp;how=up&amp;goto=news\" id=\"up_44275471\"><div class=\"votearrow\" title=\"upvote\"></div></a>, <a href=\"https://www.nature.com/articles/s41557-025-01815-x\">Chemical knowledge and reasoning of large language models vs. chemist expertise</a>, <a href=\"from?site=nature.com\"><span class=\"sitestr\">nature.com</span></a>, <a class=\"hnuser\" href=\"user?id=bookofjoe\">bookofjoe</a>, <a href=\"item?id=44275471\">14 hours ago</a>, <a href=\"hide?id=44275471&amp;goto=news\">hide</a>, <a href=\"item?id=44275471\">37 comments</a>, <a href=\"vote?id=44261118&amp;how=up&amp;goto=news\" id=\"up_44261118\"><div class=\"votearrow\" title=\"upvote\"></div></a>, <a href=\"https://www.psu.edu/news/research/story/worlds-first-2d-non-silicon-computer-developed\">First 2D, non-silicon computer developed</a>, <a href=\"from?site=psu.edu\"><span class=\"sitestr\">psu.edu</span></a>, <a class=\"hnuser\" href=\"user?id=giuliomagnifico\">giuliomagnifico</a>, <a href=\"item?id=44261118\">18 hours ago</a>, <a href=\"hide?id=44261118&amp;goto=news\">hide</a>, <a href=\"item?id=44261118\">23 comments</a>, <a href=\"vote?id=44274582&amp;how=up&amp;goto=news\" id=\"up_44274582\"><div class=\"votearrow\" title=\"upvote\"></div></a>, <a href=\"https://thecritic.co.uk/the-long-afterlife-of-a-literary-classic/\" rel=\"nofollow\">The long afterlife of a literary classic</a>, <a href=\"from?site=thecritic.co.uk\"><span class=\"sitestr\">thecritic.co.uk</span></a>, <a class=\"hnuser\" href=\"user?id=pepys\">pepys</a>, <a href=\"item?id=44274582\">5 hours ago</a>, <a href=\"hide?id=44274582&amp;goto=news\">hide</a>, <a href=\"item?id=44274582\">discuss</a>, <a href=\"vote?id=44282017&amp;how=up&amp;goto=news\" id=\"up_44282017\"><div class=\"votearrow\" title=\"upvote\"></div></a>, <a href=\"https://olegkutkov.me/2025/06/15/how-to-modify-starlink-mini-to-run-without-the-built-in-wifi-router/\">How to modify Starlink Mini to run without the built-in WiFi router</a>, <a href=\"from?site=olegkutkov.me\"><span class=\"sitestr\">olegkutkov.me</span></a>, <a class=\"hnuser\" href=\"user?id=LorenDB\">LorenDB</a>, <a href=\"item?id=44282017\">1 day ago</a>, <a href=\"hide?id=44282017&amp;goto=news\">hide</a>, <a href=\"item?id=44282017\">96 comments</a>, <a href=\"vote?id=44259238&amp;how=up&amp;goto=news\" id=\"up_44259238\"><div class=\"votearrow\" title=\"upvote\"></div></a>, <a href=\"https://github.com/rubenwiersma/painting_tools\">Hyperspectral scans of historical pigments and painting reconstructions</a>, <a href=\"from?site=github.com/rubenwiersma\"><span class=\"sitestr\">github.com/rubenwiersma</span></a>, <a class=\"hnuser\" href=\"user?id=yig\">yig</a>, <a href=\"item?id=44259238\">6 hours ago</a>, <a href=\"hide?id=44259238&amp;goto=news\">hide</a>, <a href=\"item?id=44259238\">1 comment</a>, <a href=\"vote?id=44286134&amp;how=up&amp;goto=news\" id=\"up_44286134\"><div class=\"votearrow\" title=\"upvote\"></div></a>, <a href=\"https://hparchive.com\">The Hewlett-Packard Archive</a>, <a href=\"from?site=hparchive.com\"><span class=\"sitestr\">hparchive.com</span></a>, <a class=\"hnuser\" href=\"user?id=joebig\">joebig</a>, <a href=\"item?id=44286134\">11 hours ago</a>, <a href=\"hide?id=44286134&amp;goto=news\">hide</a>, <a href=\"item?id=44286134\">9 comments</a>, <a href=\"vote?id=44283093&amp;how=up&amp;goto=news\" id=\"up_44283093\"><div class=\"votearrow\" title=\"upvote\"></div></a>, <a href=\"https://deosjr.github.io/dynamicland/datalog.html\">Datalog in miniKanren</a>, <a href=\"from?site=deosjr.github.io\"><span class=\"sitestr\">deosjr.github.io</span></a>, <a class=\"hnuser\" href=\"user?id=deosjr\">deosjr</a>, <a href=\"item?id=44283093\">20 hours ago</a>, <a href=\"hide?id=44283093&amp;goto=news\">hide</a>, <a href=\"item?id=44283093\">12 comments</a>, <a href=\"vote?id=44257422&amp;how=up&amp;goto=news\" id=\"up_44257422\"><div class=\"votearrow\" title=\"upvote\"></div></a>, <a href=\"https://www.smithsonianmag.com/smart-news/massive-field-where-native-american-farmers-grew-corn-beans-and-squash-1000-years-ago-discovered-in-michigan-180986758/\">Fields where Native Americans farmed a thousand years ago discovered in Michigan</a>, <a href=\"from?site=smithsonianmag.com\"><span class=\"sitestr\">smithsonianmag.com</span></a>, <a class=\"hnuser\" href=\"user?id=CoopaTroopa\">CoopaTroopa</a>, <a href=\"item?id=44257422\">1 day ago</a>, <a href=\"hide?id=44257422&amp;goto=news\">hide</a>, <a href=\"item?id=44257422\">95 comments</a>, <a href=\"vote?id=44285874&amp;how=up&amp;goto=news\" id=\"up_44285874\"><div class=\"votearrow\" title=\"upvote\"></div></a>, <a href=\"https://www.quantamagazine.org/is-gravity-just-entropy-rising-long-shot-idea-gets-another-look-20250613/\">Is Gravity Just Entropy Rising? Long-Shot Idea Gets Another Look</a>, <a href=\"from?site=quantamagazine.org\"><span class=\"sitestr\">quantamagazine.org</span></a>, <a class=\"hnuser\" href=\"user?id=pseudolus\">pseudolus</a>, <a href=\"item?id=44285874\">12 hours ago</a>, <a href=\"hide?id=44285874&amp;goto=news\">hide</a>, <a href=\"item?id=44285874\">93 comments</a>, <a href=\"vote?id=44281506&amp;how=up&amp;goto=news\" id=\"up_44281506\"><div class=\"votearrow\" title=\"upvote\"></div></a>, <a href=\"https://visionbook.mit.edu\">Foundations of Computer Vision (2024)</a>, <a href=\"from?site=visionbook.mit.edu\"><span class=\"sitestr\">visionbook.mit.edu</span></a>, <a class=\"hnuser\" href=\"user?id=tzury\">tzury</a>, <a href=\"item?id=44281506\">1 day ago</a>, <a href=\"hide?id=44281506&amp;goto=news\">hide</a>, <a href=\"item?id=44281506\">17 comments</a>, <a href=\"vote?id=44283614&amp;how=up&amp;goto=news\" id=\"up_44283614\"><div class=\"votearrow\" title=\"upvote\"></div></a>, <a href=\"https://blog.kowalczyk.info/a-stsj/simplest-c-callback-from-sumatrapdf.html\">Simplest C++ Callback, from SumatraPDF</a>, <a href=\"from?site=kowalczyk.info\"><span class=\"sitestr\">kowalczyk.info</span></a>, <a class=\"hnuser\" href=\"user?id=jandeboevrie\">jandeboevrie</a>, <a href=\"item?id=44283614\">19 hours ago</a>, <a href=\"hide?id=44283614&amp;goto=news\">hide</a>, <a href=\"item?id=44283614\">132 comments</a>, <a href=\"vote?id=44284466&amp;how=up&amp;goto=news\" id=\"up_44284466\"><div class=\"votearrow\" title=\"upvote\"></div></a>, <a href=\"https://telephone-exchanges.org.uk/\">Telephone Exchanges in the UK</a>, <a href=\"from?site=telephone-exchanges.org.uk\"><span class=\"sitestr\">telephone-exchanges.org.uk</span></a>, <a class=\"hnuser\" href=\"user?id=petecooper\">petecooper</a>, <a href=\"item?id=44284466\">17 hours ago</a>, <a href=\"hide?id=44284466&amp;goto=news\">hide</a>, <a href=\"item?id=44284466\">63 comments</a>, <a href=\"vote?id=44285521&amp;how=up&amp;goto=news\" id=\"up_44285521\"><div class=\"votearrow\" title=\"upvote\"></div></a>, <a href=\"https://spectrum.ieee.org/sf6-gas-replacement\">Reinventing circuit breakers with supercritical CO2</a>, <a href=\"from?site=ieee.org\"><span class=\"sitestr\">ieee.org</span></a>, <a class=\"hnuser\" href=\"user?id=rbanffy\">rbanffy</a>, <a href=\"item?id=44285521\">14 hours ago</a>, <a href=\"hide?id=44285521&amp;goto=news\">hide</a>, <a href=\"item?id=44285521\">31 comments</a>, <a class=\"morelink\" href=\"?p=2\" rel=\"next\">More</a>, <a href=\"https://www.ycombinator.com/apply/\">Consider applying for YC's Fall 2025 batch! Applications are open till Aug 4</a>, <a href=\"newsguidelines.html\">Guidelines</a>, <a href=\"newsfaq.html\">FAQ</a>, <a href=\"lists\">Lists</a>, <a href=\"https://github.com/HackerNews/API\">API</a>, <a href=\"security.html\">Security</a>, <a href=\"https://www.ycombinator.com/legal/\">Legal</a>, <a href=\"https://www.ycombinator.com/apply/\">Apply to YC</a>, <a href=\"mailto:hn@ycombinator.com\">Contact</a>]\n"
     ]
    }
   ],
   "source": [
    "print(soup.find_all('a'))"
   ]
  },
  {
   "cell_type": "code",
   "execution_count": 30,
   "id": "fb54ca99",
   "metadata": {},
   "outputs": [
    {
     "name": "stdout",
     "output_type": "stream",
     "text": [
      "\n",
      "https://news.ycombinator.com\n",
      "Hacker News\n",
      "news\n",
      "new\n",
      "newest\n",
      "past\n",
      "front\n",
      "comments\n",
      "newcomments\n",
      "ask\n",
      "ask\n",
      "show\n",
      "show\n",
      "jobs\n",
      "jobs\n",
      "submit\n",
      "submit\n",
      "login\n",
      "login?goto=news\n",
      "\n",
      "vote?id=44284871&how=up&goto=news\n",
      "Show HN: Zeekstd – Rust Implementation of the ZSTD Seekable Format\n",
      "https://github.com/rorosen/zeekstd\n",
      "github.com/rorosen\n",
      "from?site=github.com/rorosen\n",
      "rorosen\n",
      "user?id=rorosen\n",
      "2 hours ago\n",
      "item?id=44284871\n",
      "hide\n",
      "hide?id=44284871&goto=news\n",
      "7 comments\n",
      "item?id=44284871\n",
      "\n",
      "vote?id=44287395&how=up&goto=news\n",
      "Start your own Internet Resiliency Club\n",
      "https://bowshock.nl/irc/\n",
      "bowshock.nl\n",
      "from?site=bowshock.nl\n",
      "todsacerdoti\n",
      "user?id=todsacerdoti\n",
      "5 hours ago\n",
      "item?id=44287395\n",
      "hide\n",
      "hide?id=44287395&goto=news\n",
      "161 comments\n",
      "item?id=44287395\n",
      "\n",
      "vote?id=44288937&how=up&goto=news\n",
      "Working on databases from prison: How I got here pt. 2\n",
      "https://turso.tech/blog/working-on-databases-from-prison\n",
      "turso.tech\n",
      "from?site=turso.tech\n",
      "dvektor\n",
      "user?id=dvektor\n",
      "41 minutes ago\n",
      "item?id=44288937\n",
      "hide\n",
      "hide?id=44288937&goto=news\n",
      "discuss\n",
      "item?id=44288937\n",
      "\n",
      "vote?id=44288643&how=up&goto=news\n",
      "Show HN: Socket-call – Call socket.io events like normal JavaScript functions\n",
      "https://github.com/bperel/socket-call\n",
      "github.com/bperel\n",
      "from?site=github.com/bperel\n",
      "bperel\n",
      "user?id=bperel\n",
      "1 hour ago\n",
      "item?id=44288643\n",
      "hide\n",
      "hide?id=44288643&goto=news\n",
      "discuss\n",
      "item?id=44288643\n",
      "\n",
      "vote?id=44287043&how=up&goto=news\n",
      "Nanonets-OCR-s – OCR model that transforms documents into structured markdown\n",
      "https://huggingface.co/nanonets/Nanonets-OCR-s\n",
      "huggingface.co\n",
      "from?site=huggingface.co\n",
      "PixelPanda\n",
      "user?id=PixelPanda\n",
      "6 hours ago\n",
      "item?id=44287043\n",
      "hide\n",
      "hide?id=44287043&goto=news\n",
      "19 comments\n",
      "item?id=44287043\n",
      "\n",
      "vote?id=44275900&how=up&goto=news\n",
      "Solving LinkedIn Queens with APL\n",
      "https://pitr.ca/2025-06-14-queens\n",
      "pitr.ca\n",
      "from?site=pitr.ca\n",
      "pitr\n",
      "user?id=pitr\n",
      "7 hours ago\n",
      "item?id=44275900\n",
      "hide\n",
      "hide?id=44275900&goto=news\n",
      "6 comments\n",
      "item?id=44275900\n",
      "\n",
      "vote?id=44274237&how=up&goto=news\n",
      "LLM Chat via SSH\n",
      "https://github.com/ccbikai/ssh-ai-chat\n",
      "github.com/ccbikai\n",
      "from?site=github.com/ccbikai\n",
      "wey-gu\n",
      "user?id=wey-gu\n",
      "3 hours ago\n",
      "item?id=44274237\n",
      "hide\n",
      "hide?id=44274237&goto=news\n",
      "5 comments\n",
      "item?id=44274237\n",
      "Infracost (YC W21) is hiring software engineers (GMT+2 to GMT-6)\n",
      "https://infracost.io/join-the-team\n",
      "infracost.io\n",
      "from?site=infracost.io\n",
      "1 hour ago\n",
      "item?id=44288748\n",
      "hide\n",
      "hide?id=44288748&goto=news\n",
      "\n",
      "vote?id=44285781&how=up&goto=news\n",
      "Jokes and Humour in the Public Android API\n",
      "https://voxelmanip.se/2025/06/14/jokes-and-humour-in-the-public-android-api/\n",
      "voxelmanip.se\n",
      "from?site=voxelmanip.se\n",
      "todsacerdoti\n",
      "user?id=todsacerdoti\n",
      "12 hours ago\n",
      "item?id=44285781\n",
      "hide\n",
      "hide?id=44285781&goto=news\n",
      "89 comments\n",
      "item?id=44285781\n",
      "\n",
      "vote?id=44282378&how=up&goto=news\n",
      "Why SSL was renamed to TLS in late 90s (2014)\n",
      "https://tim.dierks.org/2014/05/security-standards-and-name-changes-in.html\n",
      "dierks.org\n",
      "from?site=dierks.org\n",
      "Bogdanp\n",
      "user?id=Bogdanp\n",
      "23 hours ago\n",
      "item?id=44282378\n",
      "hide\n",
      "hide?id=44282378&goto=news\n",
      "170 comments\n",
      "item?id=44282378\n",
      "\n",
      "vote?id=44285440&how=up&goto=news\n",
      "DARPA program sets distance record for power beaming\n",
      "https://www.darpa.mil/news/2025/darpa-program-distance-record-power-beaming\n",
      "darpa.mil\n",
      "from?site=darpa.mil\n",
      "gnabgib\n",
      "user?id=gnabgib\n",
      "14 hours ago\n",
      "item?id=44285440\n",
      "hide\n",
      "hide?id=44285440&goto=news\n",
      "46 comments\n",
      "item?id=44285440\n",
      "\n",
      "vote?id=44275134&how=up&goto=news\n",
      "Maya Blue: Unlocking the Mysteries of an Ancient Pigment\n",
      "https://www.mexicolore.co.uk/maya/home/maya-blue-unlocking-the-mysteries-of-an-ancient-pigment\n",
      "mexicolore.co.uk\n",
      "from?site=mexicolore.co.uk\n",
      "DanielKehoe\n",
      "user?id=DanielKehoe\n",
      "4 hours ago\n",
      "item?id=44275134\n",
      "hide\n",
      "hide?id=44275134&goto=news\n",
      "discuss\n",
      "item?id=44275134\n",
      "\n",
      "vote?id=44282998&how=up&goto=news\n",
      "Modifying an HDMI dummy plug's EDID using a Raspberry Pi\n",
      "https://www.downtowndougbrown.com/2025/06/modifying-an-hdmi-dummy-plugs-edid-using-a-raspberry-pi/\n",
      "downtowndougbrown.com\n",
      "from?site=downtowndougbrown.com\n",
      "zdw\n",
      "user?id=zdw\n",
      "21 hours ago\n",
      "item?id=44282998\n",
      "hide\n",
      "hide?id=44282998&goto=news\n",
      "71 comments\n",
      "item?id=44282998\n",
      "\n",
      "vote?id=44282143&how=up&goto=news\n",
      "Childhood leukemia: how a deadly cancer became treatable\n",
      "https://ourworldindata.org/childhood-leukemia-treatment-history\n",
      "ourworldindata.org\n",
      "from?site=ourworldindata.org\n",
      "surprisetalk\n",
      "user?id=surprisetalk\n",
      "1 day ago\n",
      "item?id=44282143\n",
      "hide\n",
      "hide?id=44282143&goto=news\n",
      "64 comments\n",
      "item?id=44282143\n",
      "\n",
      "vote?id=44285392&how=up&goto=news\n",
      "Real-time CO2 monitoring without batteries or external power\n",
      "https://news.kaist.ac.kr/newsen/html/news/?mode=V&mng_no=47450\n",
      "kaist.ac.kr\n",
      "from?site=kaist.ac.kr\n",
      "gnabgib\n",
      "user?id=gnabgib\n",
      "14 hours ago\n",
      "item?id=44285392\n",
      "hide\n",
      "hide?id=44285392&goto=news\n",
      "11 comments\n",
      "item?id=44285392\n",
      "\n",
      "vote?id=44284657&how=up&goto=news\n",
      "Twin – A Textmode WINdow Environment\n",
      "https://github.com/cosmos72/twin\n",
      "github.com/cosmos72\n",
      "from?site=github.com/cosmos72\n",
      "kim_rutherford\n",
      "user?id=kim_rutherford\n",
      "17 hours ago\n",
      "item?id=44284657\n",
      "hide\n",
      "hide?id=44284657&goto=news\n",
      "17 comments\n",
      "item?id=44284657\n",
      "\n",
      "vote?id=44281727&how=up&goto=news\n",
      "Datalog in Rust\n",
      "https://github.com/frankmcsherry/blog/blob/master/posts/2025-06-03.md\n",
      "github.com/frankmcsherry\n",
      "from?site=github.com/frankmcsherry\n",
      "brson\n",
      "user?id=brson\n",
      "1 day ago\n",
      "item?id=44281727\n",
      "hide\n",
      "hide?id=44281727&goto=news\n",
      "31 comments\n",
      "item?id=44281727\n",
      "\n",
      "vote?id=44275471&how=up&goto=news\n",
      "Chemical knowledge and reasoning of large language models vs. chemist expertise\n",
      "https://www.nature.com/articles/s41557-025-01815-x\n",
      "nature.com\n",
      "from?site=nature.com\n",
      "bookofjoe\n",
      "user?id=bookofjoe\n",
      "14 hours ago\n",
      "item?id=44275471\n",
      "hide\n",
      "hide?id=44275471&goto=news\n",
      "37 comments\n",
      "item?id=44275471\n",
      "\n",
      "vote?id=44261118&how=up&goto=news\n",
      "First 2D, non-silicon computer developed\n",
      "https://www.psu.edu/news/research/story/worlds-first-2d-non-silicon-computer-developed\n",
      "psu.edu\n",
      "from?site=psu.edu\n",
      "giuliomagnifico\n",
      "user?id=giuliomagnifico\n",
      "18 hours ago\n",
      "item?id=44261118\n",
      "hide\n",
      "hide?id=44261118&goto=news\n",
      "23 comments\n",
      "item?id=44261118\n",
      "\n",
      "vote?id=44274582&how=up&goto=news\n",
      "The long afterlife of a literary classic\n",
      "https://thecritic.co.uk/the-long-afterlife-of-a-literary-classic/\n",
      "thecritic.co.uk\n",
      "from?site=thecritic.co.uk\n",
      "pepys\n",
      "user?id=pepys\n",
      "5 hours ago\n",
      "item?id=44274582\n",
      "hide\n",
      "hide?id=44274582&goto=news\n",
      "discuss\n",
      "item?id=44274582\n",
      "\n",
      "vote?id=44282017&how=up&goto=news\n",
      "How to modify Starlink Mini to run without the built-in WiFi router\n",
      "https://olegkutkov.me/2025/06/15/how-to-modify-starlink-mini-to-run-without-the-built-in-wifi-router/\n",
      "olegkutkov.me\n",
      "from?site=olegkutkov.me\n",
      "LorenDB\n",
      "user?id=LorenDB\n",
      "1 day ago\n",
      "item?id=44282017\n",
      "hide\n",
      "hide?id=44282017&goto=news\n",
      "96 comments\n",
      "item?id=44282017\n",
      "\n",
      "vote?id=44259238&how=up&goto=news\n",
      "Hyperspectral scans of historical pigments and painting reconstructions\n",
      "https://github.com/rubenwiersma/painting_tools\n",
      "github.com/rubenwiersma\n",
      "from?site=github.com/rubenwiersma\n",
      "yig\n",
      "user?id=yig\n",
      "6 hours ago\n",
      "item?id=44259238\n",
      "hide\n",
      "hide?id=44259238&goto=news\n",
      "1 comment\n",
      "item?id=44259238\n",
      "\n",
      "vote?id=44286134&how=up&goto=news\n",
      "The Hewlett-Packard Archive\n",
      "https://hparchive.com\n",
      "hparchive.com\n",
      "from?site=hparchive.com\n",
      "joebig\n",
      "user?id=joebig\n",
      "11 hours ago\n",
      "item?id=44286134\n",
      "hide\n",
      "hide?id=44286134&goto=news\n",
      "9 comments\n",
      "item?id=44286134\n",
      "\n",
      "vote?id=44283093&how=up&goto=news\n",
      "Datalog in miniKanren\n",
      "https://deosjr.github.io/dynamicland/datalog.html\n",
      "deosjr.github.io\n",
      "from?site=deosjr.github.io\n",
      "deosjr\n",
      "user?id=deosjr\n",
      "20 hours ago\n",
      "item?id=44283093\n",
      "hide\n",
      "hide?id=44283093&goto=news\n",
      "12 comments\n",
      "item?id=44283093\n",
      "\n",
      "vote?id=44257422&how=up&goto=news\n",
      "Fields where Native Americans farmed a thousand years ago discovered in Michigan\n",
      "https://www.smithsonianmag.com/smart-news/massive-field-where-native-american-farmers-grew-corn-beans-and-squash-1000-years-ago-discovered-in-michigan-180986758/\n",
      "smithsonianmag.com\n",
      "from?site=smithsonianmag.com\n",
      "CoopaTroopa\n",
      "user?id=CoopaTroopa\n",
      "1 day ago\n",
      "item?id=44257422\n",
      "hide\n",
      "hide?id=44257422&goto=news\n",
      "95 comments\n",
      "item?id=44257422\n",
      "\n",
      "vote?id=44285874&how=up&goto=news\n",
      "Is Gravity Just Entropy Rising? Long-Shot Idea Gets Another Look\n",
      "https://www.quantamagazine.org/is-gravity-just-entropy-rising-long-shot-idea-gets-another-look-20250613/\n",
      "quantamagazine.org\n",
      "from?site=quantamagazine.org\n",
      "pseudolus\n",
      "user?id=pseudolus\n",
      "12 hours ago\n",
      "item?id=44285874\n",
      "hide\n",
      "hide?id=44285874&goto=news\n",
      "93 comments\n",
      "item?id=44285874\n",
      "\n",
      "vote?id=44281506&how=up&goto=news\n",
      "Foundations of Computer Vision (2024)\n",
      "https://visionbook.mit.edu\n",
      "visionbook.mit.edu\n",
      "from?site=visionbook.mit.edu\n",
      "tzury\n",
      "user?id=tzury\n",
      "1 day ago\n",
      "item?id=44281506\n",
      "hide\n",
      "hide?id=44281506&goto=news\n",
      "17 comments\n",
      "item?id=44281506\n",
      "\n",
      "vote?id=44283614&how=up&goto=news\n",
      "Simplest C++ Callback, from SumatraPDF\n",
      "https://blog.kowalczyk.info/a-stsj/simplest-c-callback-from-sumatrapdf.html\n",
      "kowalczyk.info\n",
      "from?site=kowalczyk.info\n",
      "jandeboevrie\n",
      "user?id=jandeboevrie\n",
      "19 hours ago\n",
      "item?id=44283614\n",
      "hide\n",
      "hide?id=44283614&goto=news\n",
      "132 comments\n",
      "item?id=44283614\n",
      "\n",
      "vote?id=44284466&how=up&goto=news\n",
      "Telephone Exchanges in the UK\n",
      "https://telephone-exchanges.org.uk/\n",
      "telephone-exchanges.org.uk\n",
      "from?site=telephone-exchanges.org.uk\n",
      "petecooper\n",
      "user?id=petecooper\n",
      "17 hours ago\n",
      "item?id=44284466\n",
      "hide\n",
      "hide?id=44284466&goto=news\n",
      "63 comments\n",
      "item?id=44284466\n",
      "\n",
      "vote?id=44285521&how=up&goto=news\n",
      "Reinventing circuit breakers with supercritical CO2\n",
      "https://spectrum.ieee.org/sf6-gas-replacement\n",
      "ieee.org\n",
      "from?site=ieee.org\n",
      "rbanffy\n",
      "user?id=rbanffy\n",
      "14 hours ago\n",
      "item?id=44285521\n",
      "hide\n",
      "hide?id=44285521&goto=news\n",
      "31 comments\n",
      "item?id=44285521\n",
      "More\n",
      "?p=2\n",
      "Consider applying for YC's Fall 2025 batch! Applications are open till Aug 4\n",
      "https://www.ycombinator.com/apply/\n",
      "Guidelines\n",
      "newsguidelines.html\n",
      "FAQ\n",
      "newsfaq.html\n",
      "Lists\n",
      "lists\n",
      "API\n",
      "https://github.com/HackerNews/API\n",
      "Security\n",
      "security.html\n",
      "Legal\n",
      "https://www.ycombinator.com/legal/\n",
      "Apply to YC\n",
      "https://www.ycombinator.com/apply/\n",
      "Contact\n",
      "mailto:hn@ycombinator.com\n"
     ]
    }
   ],
   "source": [
    "for item in soup.find_all('a'):\n",
    "    href = item.get('href')\n",
    "    if href : \n",
    "        print(item.get_text(strip=True))\n",
    "        print(href)"
   ]
  },
  {
   "cell_type": "code",
   "execution_count": 31,
   "id": "46648972",
   "metadata": {},
   "outputs": [],
   "source": [
    "url = \"https://news.naver.com/main/list.naver?mode=LSD&mid=sec&sid1=105\" "
   ]
  },
  {
   "cell_type": "code",
   "execution_count": null,
   "id": "584b2cca",
   "metadata": {},
   "outputs": [],
   "source": [
    "# 요청 헤더 설정 (크롤링 방지 우회를 위해 User-Agent 추가)\n",
    "# 헤더까지 있어야 우회 가능하다 카더라 입니다\n",
    "headers = {\n",
    "    \"User-Agent\": \"Mozilla/5.0 (Windows NT 10.0; Win64; x64) AppleWebKit/537.36 (KHTML, like Gecko) Chrome/114.0.0.0 Safari/537.36\"\n",
    "}"
   ]
  },
  {
   "cell_type": "code",
   "execution_count": 33,
   "id": "6910b93b",
   "metadata": {},
   "outputs": [],
   "source": [
    "response = requests.get(url, headers=headers)"
   ]
  },
  {
   "cell_type": "code",
   "execution_count": 34,
   "id": "00d7f003",
   "metadata": {},
   "outputs": [],
   "source": [
    "soup = BeautifulSoup(response.text, 'html.parser')"
   ]
  },
  {
   "cell_type": "code",
   "execution_count": 35,
   "id": "c6f43781",
   "metadata": {},
   "outputs": [],
   "source": [
    "news_items = soup.select(\"ul.type06_headline li dt:not(.photo) a\")"
   ]
  },
  {
   "cell_type": "code",
   "execution_count": 36,
   "id": "181f9aff",
   "metadata": {},
   "outputs": [
    {
     "name": "stdout",
     "output_type": "stream",
     "text": [
      "title: S2W, 인터폴 연례 컨퍼런스 연사 초청···AI 기반 수사 지원 기술 소개\n",
      "href: https://n.news.naver.com/mnews/article/144/0001046773?sid=105\n",
      "title: 컴투스, ‘더 스타라이트’ 쇼케이스 영상 공개\n",
      "href: https://n.news.naver.com/mnews/article/117/0003954341?sid=105\n",
      "title: 코빗, 16일 오후부터 전면 서비스 점검…\"자산 및 데이터 이상 없어”\n",
      "href: https://n.news.naver.com/mnews/article/092/0002378392?sid=105\n",
      "title: 정부, 황우석 상금 3억 못 돌려받는다…4년 만에 소송 취하\n",
      "href: https://n.news.naver.com/mnews/article/008/0005208291?sid=105\n",
      "title: Study finds mobile game-based therapy improves social skills in adolescents with ASD disorders\n",
      "href: https://n.news.naver.com/mnews/article/640/0000071959?sid=105\n",
      "title: Kakao's latest policy update draws flack over censorship concerns\n",
      "href: https://n.news.naver.com/mnews/article/640/0000071958?sid=105\n",
      "title: “이러면 3억 주고 포르쉐 누가 사?” 1억원짜리 차 성능에 ‘발칵’…포르쉐 ‘망연자실’\n",
      "href: https://n.news.naver.com/mnews/article/016/0002485652?sid=105\n",
      "title: 울산에 국내 최대 데이터센터…“신산업으로”\n",
      "href: https://n.news.naver.com/mnews/article/056/0011970997?sid=105\n",
      "title: 김두겸 울산시장 \"인공지능(AI) 전용 데이터센터 건립 최대한 지원할터\"\n",
      "href: https://n.news.naver.com/mnews/article/658/0000110562?sid=105\n",
      "title: “아이폰으로 갈아타도 될까”…애플페이로 버스·지하철 탑승 가능해진다\n",
      "href: https://n.news.naver.com/mnews/article/009/0005509798?sid=105\n"
     ]
    }
   ],
   "source": [
    "for item in news_items:\n",
    "    title = item.get_text(strip=True)\n",
    "    link = item['href']\n",
    "    print('title:', title)\n",
    "    print('href:', link)"
   ]
  },
  {
   "cell_type": "code",
   "execution_count": null,
   "id": "dbd21b4d",
   "metadata": {},
   "outputs": [
    {
     "name": "stdout",
     "output_type": "stream",
     "text": [
      "Requirement already satisfied: selenium in c:\\project\\py_project\\.venv\\lib\\site-packages (4.33.0)\n",
      "Requirement already satisfied: urllib3~=2.4.0 in c:\\project\\py_project\\.venv\\lib\\site-packages (from urllib3[socks]~=2.4.0->selenium) (2.4.0)\n",
      "Requirement already satisfied: trio~=0.30.0 in c:\\project\\py_project\\.venv\\lib\\site-packages (from selenium) (0.30.0)\n",
      "Requirement already satisfied: trio-websocket~=0.12.2 in c:\\project\\py_project\\.venv\\lib\\site-packages (from selenium) (0.12.2)\n",
      "Requirement already satisfied: certifi>=2025.4.26 in c:\\project\\py_project\\.venv\\lib\\site-packages (from selenium) (2025.6.15)\n",
      "Requirement already satisfied: typing_extensions~=4.13.2 in c:\\project\\py_project\\.venv\\lib\\site-packages (from selenium) (4.13.2)\n",
      "Requirement already satisfied: websocket-client~=1.8.0 in c:\\project\\py_project\\.venv\\lib\\site-packages (from selenium) (1.8.0)\n",
      "Requirement already satisfied: attrs>=23.2.0 in c:\\project\\py_project\\.venv\\lib\\site-packages (from trio~=0.30.0->selenium) (25.3.0)\n",
      "Requirement already satisfied: sortedcontainers in c:\\project\\py_project\\.venv\\lib\\site-packages (from trio~=0.30.0->selenium) (2.4.0)\n",
      "Requirement already satisfied: idna in c:\\project\\py_project\\.venv\\lib\\site-packages (from trio~=0.30.0->selenium) (3.10)\n",
      "Requirement already satisfied: outcome in c:\\project\\py_project\\.venv\\lib\\site-packages (from trio~=0.30.0->selenium) (1.3.0.post0)\n",
      "Requirement already satisfied: sniffio>=1.3.0 in c:\\project\\py_project\\.venv\\lib\\site-packages (from trio~=0.30.0->selenium) (1.3.1)\n",
      "Requirement already satisfied: cffi>=1.14 in c:\\project\\py_project\\.venv\\lib\\site-packages (from trio~=0.30.0->selenium) (1.17.1)\n",
      "Requirement already satisfied: wsproto>=0.14 in c:\\project\\py_project\\.venv\\lib\\site-packages (from trio-websocket~=0.12.2->selenium) (1.2.0)\n",
      "Requirement already satisfied: pysocks!=1.5.7,<2.0,>=1.5.6 in c:\\project\\py_project\\.venv\\lib\\site-packages (from urllib3[socks]~=2.4.0->selenium) (1.7.1)\n",
      "Requirement already satisfied: pycparser in c:\\project\\py_project\\.venv\\lib\\site-packages (from cffi>=1.14->trio~=0.30.0->selenium) (2.22)\n",
      "Requirement already satisfied: h11<1,>=0.9.0 in c:\\project\\py_project\\.venv\\lib\\site-packages (from wsproto>=0.14->trio-websocket~=0.12.2->selenium) (0.16.0)\n",
      "Note: you may need to restart the kernel to use updated packages.\n"
     ]
    }
   ],
   "source": [
    "pip install selenium\n",
    "# 브라우저 조작 라이브러리. 다른 언어들도 처리 가능하지만 데이터 처리와 연계하여 파이썬에서 가장 많이 사용된다."
   ]
  },
  {
   "cell_type": "code",
   "execution_count": 38,
   "id": "de1dfd6e",
   "metadata": {},
   "outputs": [],
   "source": [
    "from selenium import webdriver"
   ]
  },
  {
   "cell_type": "code",
   "execution_count": 39,
   "id": "52c451b9",
   "metadata": {},
   "outputs": [],
   "source": [
    "# 브라우저 실행\n",
    "driver = webdriver.Chrome()\n",
    "\n",
    "# url\n",
    "driver.get('https://www.google.com')\n",
    "\n",
    "# 브라우저 종료\n",
    "#driver.quit()"
   ]
  },
  {
   "cell_type": "code",
   "execution_count": 40,
   "id": "de9f5c9c",
   "metadata": {},
   "outputs": [],
   "source": [
    "from selenium import webdriver\n",
    "from selenium.webdriver.common.by import By\n",
    "from selenium.webdriver.common.keys import Keys\n",
    "import time"
   ]
  },
  {
   "cell_type": "code",
   "execution_count": 68,
   "id": "7f89563c",
   "metadata": {},
   "outputs": [
    {
     "name": "stdout",
     "output_type": "stream",
     "text": [
      "[<selenium.webdriver.remote.webelement.WebElement (session=\"823b0ab070d76e1b4b0207e886c67820\", element=\"f.88D3BD9055DD2DFCBF3952C55E413482.d.EF612379A3953133247C9B6C3B23DA8C.e.165\")>, <selenium.webdriver.remote.webelement.WebElement (session=\"823b0ab070d76e1b4b0207e886c67820\", element=\"f.88D3BD9055DD2DFCBF3952C55E413482.d.EF612379A3953133247C9B6C3B23DA8C.e.166\")>, <selenium.webdriver.remote.webelement.WebElement (session=\"823b0ab070d76e1b4b0207e886c67820\", element=\"f.88D3BD9055DD2DFCBF3952C55E413482.d.EF612379A3953133247C9B6C3B23DA8C.e.167\")>, <selenium.webdriver.remote.webelement.WebElement (session=\"823b0ab070d76e1b4b0207e886c67820\", element=\"f.88D3BD9055DD2DFCBF3952C55E413482.d.EF612379A3953133247C9B6C3B23DA8C.e.168\")>, <selenium.webdriver.remote.webelement.WebElement (session=\"823b0ab070d76e1b4b0207e886c67820\", element=\"f.88D3BD9055DD2DFCBF3952C55E413482.d.EF612379A3953133247C9B6C3B23DA8C.e.169\")>, <selenium.webdriver.remote.webelement.WebElement (session=\"823b0ab070d76e1b4b0207e886c67820\", element=\"f.88D3BD9055DD2DFCBF3952C55E413482.d.EF612379A3953133247C9B6C3B23DA8C.e.170\")>]\n",
      "Welcome to Python.org\n",
      "Python - 파이썬\n",
      "파이썬 - 위키백과, 우리 모두의 백과사전\n",
      "1. 파이썬 시작하기 - 왕초보를 위한 Python\n",
      "Learn Python\n",
      "Python란 무엇인가요? - Python 언어 설명\n"
     ]
    }
   ],
   "source": [
    "driver = webdriver.Chrome()\n",
    "\n",
    "driver.get('https://www.google.com')\n",
    "\n",
    "# 검색창 찾기\n",
    "search_box = driver.find_element(By.NAME, 'q')\n",
    "# 검색어\n",
    "search_box.send_keys('python')\n",
    "# 엔터\n",
    "search_box.send_keys(Keys.RETURN)\n",
    "\n",
    "# 결과가 나올때까지 멈춤\n",
    "time.sleep(30)\n",
    "\n",
    "results = driver.find_elements(By.XPATH, '//a/h3')\n",
    "print(results)\n",
    "for item in results:\n",
    "    print(item.text)\n",
    "\n",
    "driver.quit()"
   ]
  },
  {
   "cell_type": "code",
   "execution_count": 43,
   "id": "272ecfcb",
   "metadata": {},
   "outputs": [
    {
     "name": "stdout",
     "output_type": "stream",
     "text": [
      "[<selenium.webdriver.remote.webelement.WebElement (session=\"7341509ada30eabcf2925ba3bb9f7cee\", element=\"f.012CEB7F24C62B7513776A71B4E39A96.d.F176FDB69FDBA0A360AEE436949ECD51.e.94\")>, <selenium.webdriver.remote.webelement.WebElement (session=\"7341509ada30eabcf2925ba3bb9f7cee\", element=\"f.012CEB7F24C62B7513776A71B4E39A96.d.F176FDB69FDBA0A360AEE436949ECD51.e.95\")>, <selenium.webdriver.remote.webelement.WebElement (session=\"7341509ada30eabcf2925ba3bb9f7cee\", element=\"f.012CEB7F24C62B7513776A71B4E39A96.d.F176FDB69FDBA0A360AEE436949ECD51.e.96\")>, <selenium.webdriver.remote.webelement.WebElement (session=\"7341509ada30eabcf2925ba3bb9f7cee\", element=\"f.012CEB7F24C62B7513776A71B4E39A96.d.F176FDB69FDBA0A360AEE436949ECD51.e.97\")>, <selenium.webdriver.remote.webelement.WebElement (session=\"7341509ada30eabcf2925ba3bb9f7cee\", element=\"f.012CEB7F24C62B7513776A71B4E39A96.d.F176FDB69FDBA0A360AEE436949ECD51.e.98\")>, <selenium.webdriver.remote.webelement.WebElement (session=\"7341509ada30eabcf2925ba3bb9f7cee\", element=\"f.012CEB7F24C62B7513776A71B4E39A96.d.F176FDB69FDBA0A360AEE436949ECD51.e.99\")>, <selenium.webdriver.remote.webelement.WebElement (session=\"7341509ada30eabcf2925ba3bb9f7cee\", element=\"f.012CEB7F24C62B7513776A71B4E39A96.d.F176FDB69FDBA0A360AEE436949ECD51.e.100\")>, <selenium.webdriver.remote.webelement.WebElement (session=\"7341509ada30eabcf2925ba3bb9f7cee\", element=\"f.012CEB7F24C62B7513776A71B4E39A96.d.F176FDB69FDBA0A360AEE436949ECD51.e.101\")>, <selenium.webdriver.remote.webelement.WebElement (session=\"7341509ada30eabcf2925ba3bb9f7cee\", element=\"f.012CEB7F24C62B7513776A71B4E39A96.d.F176FDB69FDBA0A360AEE436949ECD51.e.102\")>, <selenium.webdriver.remote.webelement.WebElement (session=\"7341509ada30eabcf2925ba3bb9f7cee\", element=\"f.012CEB7F24C62B7513776A71B4E39A96.d.F176FDB69FDBA0A360AEE436949ECD51.e.103\")>]\n",
      "S2W, 인터폴 연례 컨퍼런스 연사 초청···AI 기반 수사 지원 기술 소개\n",
      "https://n.news.naver.com/mnews/article/144/0001046773?sid=105\n",
      "컴투스, ‘더 스타라이트’ 쇼케이스 영상 공개\n",
      "https://n.news.naver.com/mnews/article/117/0003954341?sid=105\n",
      "코빗, 16일 오후부터 전면 서비스 점검…\"자산 및 데이터 이상 없어”\n",
      "https://n.news.naver.com/mnews/article/092/0002378392?sid=105\n",
      "정부, 황우석 상금 3억 못 돌려받는다…4년 만에 소송 취하\n",
      "https://n.news.naver.com/mnews/article/008/0005208291?sid=105\n",
      "Study finds mobile game-based therapy improves social skills in adolescents with ASD disorders\n",
      "https://n.news.naver.com/mnews/article/640/0000071959?sid=105\n",
      "Kakao's latest policy update draws flack over censorship concerns\n",
      "https://n.news.naver.com/mnews/article/640/0000071958?sid=105\n",
      "“이러면 3억 주고 포르쉐 누가 사?” 1억원짜리 차 성능에 ‘발칵’…포르쉐 ‘망연자실’\n",
      "https://n.news.naver.com/mnews/article/016/0002485652?sid=105\n",
      "울산에 국내 최대 데이터센터…“신산업으로”\n",
      "https://n.news.naver.com/mnews/article/056/0011970997?sid=105\n",
      "김두겸 울산시장 \"인공지능(AI) 전용 데이터센터 건립 최대한 지원할터\"\n",
      "https://n.news.naver.com/mnews/article/658/0000110562?sid=105\n",
      "“아이폰으로 갈아타도 될까”…애플페이로 버스·지하철 탑승 가능해진다\n",
      "https://n.news.naver.com/mnews/article/009/0005509798?sid=105\n"
     ]
    }
   ],
   "source": [
    "driver = webdriver.Chrome()\n",
    "\n",
    "url = 'https://news.naver.com/main/list.naver?mode=LSD&mid=sec&sid1=105'\n",
    "\n",
    "driver.get(url)\n",
    "\n",
    "# 결과가 나올때까지 멈춤\n",
    "time.sleep(3)\n",
    "\n",
    "results = driver.find_elements(By.CSS_SELECTOR, 'ul.type06_headline li dt:not(.photo) a')\n",
    "print(results)\n",
    "for item in results:\n",
    "    print(item.text)\n",
    "    print(item.get_attribute('href'))\n",
    "\n",
    "driver.quit()"
   ]
  },
  {
   "cell_type": "markdown",
   "id": "5a752393",
   "metadata": {},
   "source": [
    "### 데이터의 저장"
   ]
  },
  {
   "cell_type": "code",
   "execution_count": null,
   "id": "26d01b06",
   "metadata": {},
   "outputs": [],
   "source": [
    "import csv\n",
    "# data 수집 : 크롤링, 파일(csv xls text...)등. file input, read\n",
    "# data 가공 : 데이터 타입별 처리\n",
    "# 결과 data 저장: file output, write\n",
    "# pandas의 dataframe 형태로 저장해 놓으면 데이터의 가공이 매우 쉬워진다."
   ]
  },
  {
   "cell_type": "code",
   "execution_count": 46,
   "id": "cb359344",
   "metadata": {},
   "outputs": [],
   "source": [
    "# 데이터 준비\n",
    "data = [\n",
    "    ['Name', 'Age', 'City'],\n",
    "    ['Alice', 30, 'New York'],\n",
    "    ['Bob', 25, 'Los Angeles'],\n",
    "    ['Charlie', 35, 'Chicago']\n",
    "]"
   ]
  },
  {
   "cell_type": "code",
   "execution_count": 47,
   "id": "4676c0aa",
   "metadata": {},
   "outputs": [
    {
     "name": "stdout",
     "output_type": "stream",
     "text": [
      "ok!\n"
     ]
    }
   ],
   "source": [
    "with open('data1.csv', mode='w', encoding='utf-8', newline='') as file :\n",
    "    writer = csv.writer(file)\n",
    "    writer.writerows(data)\n",
    "\n",
    "print('ok!')"
   ]
  },
  {
   "cell_type": "code",
   "execution_count": null,
   "id": "c4c399df",
   "metadata": {},
   "outputs": [],
   "source": [
    "# pandas\n",
    "# 엑셀이나 csv파일을 쉽게 다룰수 있다\n",
    "import pandas as pd"
   ]
  },
  {
   "cell_type": "code",
   "execution_count": 49,
   "id": "41cfc56a",
   "metadata": {},
   "outputs": [
    {
     "name": "stdout",
     "output_type": "stream",
     "text": [
      "      Name  Age         City\n",
      "0    Alice   30     New York\n",
      "1      Bob   25  Los Angeles\n",
      "2  Charlie   35      Chicago\n"
     ]
    }
   ],
   "source": [
    "data = pd.read_csv('data1.csv')\n",
    "print(data)"
   ]
  },
  {
   "cell_type": "code",
   "execution_count": 50,
   "id": "2dd5fce4",
   "metadata": {},
   "outputs": [
    {
     "name": "stdout",
     "output_type": "stream",
     "text": [
      "Requirement already satisfied: openpyxl in c:\\project\\py_project\\.venv\\lib\\site-packages (3.1.5)\n",
      "Requirement already satisfied: et-xmlfile in c:\\project\\py_project\\.venv\\lib\\site-packages (from openpyxl) (2.0.0)\n",
      "Note: you may need to restart the kernel to use updated packages.\n"
     ]
    }
   ],
   "source": [
    "pip install openpyxl"
   ]
  },
  {
   "cell_type": "code",
   "execution_count": 51,
   "id": "10aab739",
   "metadata": {},
   "outputs": [
    {
     "name": "stdout",
     "output_type": "stream",
     "text": [
      "      Name  Age         City\n",
      "0    Alice   30     New York\n",
      "1      Bob   25  Los Angeles\n",
      "2  Charlie   35      Chicago\n"
     ]
    }
   ],
   "source": [
    "# 데이터 준비\n",
    "data = {\n",
    "    'Name': ['Alice', 'Bob', 'Charlie'],\n",
    "    'Age': [30, 25, 35],\n",
    "    'City': ['New York', 'Los Angeles', 'Chicago']\n",
    "}\n",
    "df = pd.DataFrame(data)\n",
    "print(df)"
   ]
  },
  {
   "cell_type": "code",
   "execution_count": 52,
   "id": "3ae5fefd",
   "metadata": {},
   "outputs": [
    {
     "name": "stdout",
     "output_type": "stream",
     "text": [
      "OK!\n"
     ]
    }
   ],
   "source": [
    "df.to_excel('data1.xlsx', index=False)\n",
    "print('OK!')"
   ]
  },
  {
   "cell_type": "code",
   "execution_count": 53,
   "id": "dd28bd16",
   "metadata": {},
   "outputs": [],
   "source": [
    "data2 = pd.read_excel('data1.xlsx')"
   ]
  },
  {
   "cell_type": "code",
   "execution_count": 54,
   "id": "6cb974b8",
   "metadata": {},
   "outputs": [
    {
     "data": {
      "text/html": [
       "<div>\n",
       "<style scoped>\n",
       "    .dataframe tbody tr th:only-of-type {\n",
       "        vertical-align: middle;\n",
       "    }\n",
       "\n",
       "    .dataframe tbody tr th {\n",
       "        vertical-align: top;\n",
       "    }\n",
       "\n",
       "    .dataframe thead th {\n",
       "        text-align: right;\n",
       "    }\n",
       "</style>\n",
       "<table border=\"1\" class=\"dataframe\">\n",
       "  <thead>\n",
       "    <tr style=\"text-align: right;\">\n",
       "      <th></th>\n",
       "      <th>Name</th>\n",
       "      <th>Age</th>\n",
       "      <th>City</th>\n",
       "    </tr>\n",
       "  </thead>\n",
       "  <tbody>\n",
       "    <tr>\n",
       "      <th>0</th>\n",
       "      <td>Alice</td>\n",
       "      <td>30</td>\n",
       "      <td>New York</td>\n",
       "    </tr>\n",
       "    <tr>\n",
       "      <th>1</th>\n",
       "      <td>Bob</td>\n",
       "      <td>25</td>\n",
       "      <td>Los Angeles</td>\n",
       "    </tr>\n",
       "    <tr>\n",
       "      <th>2</th>\n",
       "      <td>Charlie</td>\n",
       "      <td>35</td>\n",
       "      <td>Chicago</td>\n",
       "    </tr>\n",
       "  </tbody>\n",
       "</table>\n",
       "</div>"
      ],
      "text/plain": [
       "      Name  Age         City\n",
       "0    Alice   30     New York\n",
       "1      Bob   25  Los Angeles\n",
       "2  Charlie   35      Chicago"
      ]
     },
     "execution_count": 54,
     "metadata": {},
     "output_type": "execute_result"
    }
   ],
   "source": [
    "data2"
   ]
  },
  {
   "cell_type": "code",
   "execution_count": null,
   "id": "0f6a103d",
   "metadata": {},
   "outputs": [],
   "source": [
    "import json\n",
    "# 제이슨은 표준 모듈이다.\n",
    "# 제이슨은 웹기반 통신 \n",
    "# 클라이언트가 서버에 요청할 떄는 url, 서버가 클에 응답할 떄는 json, html 형태로 이루어진다.\n",
    "# dict와 json의 형태는 유사하다."
   ]
  },
  {
   "cell_type": "code",
   "execution_count": 56,
   "id": "6d8ec79e",
   "metadata": {},
   "outputs": [],
   "source": [
    "# 데이터 준비\n",
    "data = {\n",
    "    'people': [\n",
    "        {'name': 'Alice', 'age': 30, 'city': 'New York'},\n",
    "        {'name': 'Bob', 'age': 25, 'city': 'Los Angeles'},\n",
    "        {'name': 'Charlie', 'age': 35, 'city': 'Chicago'}\n",
    "    ]\n",
    "}"
   ]
  },
  {
   "cell_type": "code",
   "execution_count": 57,
   "id": "908d3c5a",
   "metadata": {},
   "outputs": [
    {
     "name": "stdout",
     "output_type": "stream",
     "text": [
      "ok!\n"
     ]
    }
   ],
   "source": [
    "with open('data1.json', mode='w', encoding='utf-8') as file:\n",
    "    json.dump(data, file, indent=2)\n",
    "\n",
    "print('ok!')"
   ]
  },
  {
   "cell_type": "code",
   "execution_count": 58,
   "id": "1541ddfc",
   "metadata": {},
   "outputs": [
    {
     "name": "stdout",
     "output_type": "stream",
     "text": [
      "{'people': [{'name': 'Alice', 'age': 30, 'city': 'New York'}, {'name': 'Bob', 'age': 25, 'city': 'Los Angeles'}, {'name': 'Charlie', 'age': 35, 'city': 'Chicago'}]}\n",
      "<class 'dict'>\n"
     ]
    }
   ],
   "source": [
    "with open('data1.json', mode='r') as file :\n",
    "    data_result = json.load(file)\n",
    "    print(data_result)\n",
    "    print(type(data_result))"
   ]
  },
  {
   "cell_type": "markdown",
   "id": "2819ec8d",
   "metadata": {},
   "source": [
    "### SQLite : 관계형데이터베이스"
   ]
  },
  {
   "cell_type": "code",
   "execution_count": null,
   "id": "ffe7b6cc",
   "metadata": {},
   "outputs": [],
   "source": [
    "import sqlite3\n",
    "# Table과 row가 가장 핵심.\n",
    "# 테이블은 저장 형태다. 표 형식으로 저장.\n",
    "# sql은 로우(행) 단위 데이터를 다루는 언어다. SELECT, INSERT, DELETE 등 다 행 단위로 가공이 이루어진다.\n",
    "# sqlite는 굉장히 작게 처리가 되어 모바일 용으로 쓰기 용이하다.\n"
   ]
  },
  {
   "cell_type": "code",
   "execution_count": 60,
   "id": "7f32898e",
   "metadata": {},
   "outputs": [
    {
     "name": "stdout",
     "output_type": "stream",
     "text": [
      "데이터베이스 연결!!!\n"
     ]
    }
   ],
   "source": [
    "conn = sqlite3.connect('first.db')\n",
    "print('데이터베이스 연결!!!')\n",
    "conn.close()"
   ]
  },
  {
   "cell_type": "code",
   "execution_count": 69,
   "id": "25ab844c",
   "metadata": {},
   "outputs": [
    {
     "ename": "OperationalError",
     "evalue": "table user already exists",
     "output_type": "error",
     "traceback": [
      "\u001b[31m---------------------------------------------------------------------------\u001b[39m",
      "\u001b[31mOperationalError\u001b[39m                          Traceback (most recent call last)",
      "\u001b[36mCell\u001b[39m\u001b[36m \u001b[39m\u001b[32mIn[69]\u001b[39m\u001b[32m, line 20\u001b[39m\n\u001b[32m     17\u001b[39m cursor = conn.cursor()\n\u001b[32m     19\u001b[39m \u001b[38;5;66;03m# 3. sql 실행\u001b[39;00m\n\u001b[32m---> \u001b[39m\u001b[32m20\u001b[39m \u001b[43mcursor\u001b[49m\u001b[43m.\u001b[49m\u001b[43mexecute\u001b[49m\u001b[43m(\u001b[49m\u001b[43msql_create\u001b[49m\u001b[43m)\u001b[49m\n\u001b[32m     22\u001b[39m \u001b[38;5;28mprint\u001b[39m(\u001b[33m'\u001b[39m\u001b[33mok!\u001b[39m\u001b[33m'\u001b[39m)\n\u001b[32m     24\u001b[39m \u001b[38;5;66;03m# 4. 연결 종료\u001b[39;00m\n",
      "\u001b[31mOperationalError\u001b[39m: table user already exists"
     ]
    }
   ],
   "source": [
    "# 관계형데이터베이스 : 테이블 구조로 데이터를 저장\n",
    "# 저장할수 있는 공간 생성 => table 생성\n",
    "# sql : create table 테이블이름(컬럼이름 데이터타입 제약조건, 커럼 타입 제약, 컬럼 타입 제약, ...)\n",
    "sql_create = '''\n",
    "create table user (\n",
    "    id integer primary key autoincrement,\n",
    "    name text not null,\n",
    "    age integer,\n",
    "    city text\n",
    ")\n",
    "'''\n",
    "# 테이블 생성\n",
    "# 1. 데이터베이스 연결\n",
    "conn = sqlite3.connect('first.db')\n",
    "\n",
    "# 2. sql 실행할 수 있는 객체 필요\n",
    "cursor = conn.cursor()\n",
    "\n",
    "# 3. sql 실행\n",
    "cursor.execute(sql_create)\n",
    "\n",
    "print('ok!')\n",
    "\n",
    "# 4. 연결 종료\n",
    "conn.close()"
   ]
  },
  {
   "cell_type": "code",
   "execution_count": 63,
   "id": "f51644a7",
   "metadata": {},
   "outputs": [
    {
     "ename": "OperationalError",
     "evalue": "table user has no column named city",
     "output_type": "error",
     "traceback": [
      "\u001b[31m---------------------------------------------------------------------------\u001b[39m",
      "\u001b[31mOperationalError\u001b[39m                          Traceback (most recent call last)",
      "\u001b[36mCell\u001b[39m\u001b[36m \u001b[39m\u001b[32mIn[63]\u001b[39m\u001b[32m, line 10\u001b[39m\n\u001b[32m      8\u001b[39m cursor = conn.cursor()\n\u001b[32m      9\u001b[39m sql_insert = \u001b[33m'\u001b[39m\u001b[33minsert into user (name, age, city) values (?, ?, ?)\u001b[39m\u001b[33m'\u001b[39m\n\u001b[32m---> \u001b[39m\u001b[32m10\u001b[39m \u001b[43mcursor\u001b[49m\u001b[43m.\u001b[49m\u001b[43mexecute\u001b[49m\u001b[43m(\u001b[49m\u001b[43msql_insert\u001b[49m\u001b[43m,\u001b[49m\u001b[43m \u001b[49m\u001b[43m(\u001b[49m\u001b[33;43m'\u001b[39;49m\u001b[33;43mcott\u001b[39;49m\u001b[33;43m'\u001b[39;49m\u001b[43m,\u001b[49m\u001b[43m \u001b[49m\u001b[32;43m25\u001b[39;49m\u001b[43m,\u001b[49m\u001b[43m \u001b[49m\u001b[33;43m'\u001b[39;49m\u001b[33;43mLondon\u001b[39;49m\u001b[33;43m'\u001b[39;49m\u001b[43m)\u001b[49m\u001b[43m)\u001b[49m\n\u001b[32m     11\u001b[39m \u001b[38;5;66;03m# data = [\u001b[39;00m\n\u001b[32m     12\u001b[39m \u001b[38;5;66;03m#     ('cool', 20, 'London'),\u001b[39;00m\n\u001b[32m     13\u001b[39m \u001b[38;5;66;03m#     ('hot', 30, 'SEOUL'),\u001b[39;00m\n\u001b[32m   (...)\u001b[39m\u001b[32m     18\u001b[39m \u001b[38;5;66;03m# 입력, 수정, 삭제 => DML\u001b[39;00m\n\u001b[32m     19\u001b[39m \u001b[38;5;66;03m# 완료 여부 코드로 지정 => 물리적인 저장\u001b[39;00m\n\u001b[32m     20\u001b[39m conn.commit() \u001b[38;5;66;03m# 작업이 끄났으니 파일에 저장해!!!!\u001b[39;00m\n",
      "\u001b[31mOperationalError\u001b[39m: table user has no column named city"
     ]
    }
   ],
   "source": [
    "# 데이터 입력 : 행단위 입력 => (이름, 나이, 거주지)\n",
    "# sql = insert into user (name, age, city) values (?, ?, ?)\n",
    "\n",
    "# 1. 데이터베이스 연결\n",
    "conn = sqlite3.connect('first.db')\n",
    "\n",
    "# 2. 데이터 처리\n",
    "cursor = conn.cursor()\n",
    "sql_insert = 'insert into user (name, age, city) values (?, ?, ?)'\n",
    "cursor.execute(sql_insert, ('cott', 25, 'London'))\n",
    "# data = [\n",
    "#     ('cool', 20, 'London'),\n",
    "#     ('hot', 30, 'SEOUL'),\n",
    "#     ('king', 40, 'PUSAN')\n",
    "# ]\n",
    "# cursor.executemany(sql_insert, data)\n",
    "\n",
    "# 입력, 수정, 삭제 => DML\n",
    "# 완료 여부 코드로 지정 => 물리적인 저장\n",
    "conn.commit() # 작업이 끄났으니 파일에 저장해!!!!\n",
    "\n",
    "conn.close()\n"
   ]
  },
  {
   "cell_type": "code",
   "execution_count": 64,
   "id": "564df191",
   "metadata": {},
   "outputs": [
    {
     "name": "stdout",
     "output_type": "stream",
     "text": [
      "[]\n"
     ]
    }
   ],
   "source": [
    "# 질의 ( 검색 ) : 데이터 검색 => 행단위 검색\n",
    "# sql = select 컬럼이름들 ,... from 테이블 이름 [where 컬럼이름기준으로 비교 연산]\n",
    "# 1. 연결\n",
    "conn = sqlite3.connect('first.db')\n",
    "\n",
    "# 2. 데이터 처리\n",
    "cursor = conn.cursor()\n",
    "\n",
    "sql_select = 'select * from user'\n",
    "#sql_select = 'select * from user where id>2'\n",
    "#sql_select = 'select age, name from user where id>2'\n",
    "\n",
    "cursor.execute(sql_select)\n",
    "\n",
    "# select 결과 => fetchall(), fetchone()\n",
    "rows = cursor.fetchall()\n",
    "print(rows)\n",
    "\n",
    "for row in rows:\n",
    "    print(row) # tuple 형식의 데이터\n",
    "\n",
    "conn.close()\n"
   ]
  },
  {
   "cell_type": "code",
   "execution_count": 65,
   "id": "456158bc",
   "metadata": {},
   "outputs": [
    {
     "name": "stdout",
     "output_type": "stream",
     "text": [
      "update ok\n"
     ]
    }
   ],
   "source": [
    "# 데이터 수정 : 행단위 데이터 수정 \n",
    "# 행을 찾고->행의 컬럼의 값을 변경(삭제, 입력, 치환)\n",
    "# sql = update 테이블이름 set 컬럼이름=값, 컬럼이름=값, ... [where 조건식]\n",
    "\n",
    "# 1. 연결\n",
    "conn = sqlite3.connect('first.db')\n",
    "\n",
    "# 2. 데이터 처리\n",
    "cursor = conn.cursor()\n",
    "sql_update = 'update user set age=? where id=?'\n",
    "\n",
    "cursor.execute(sql_update, (60, 4))\n",
    "\n",
    "conn.commit()\n",
    "print('update ok')\n",
    "\n",
    "conn.close()"
   ]
  },
  {
   "cell_type": "code",
   "execution_count": 66,
   "id": "dada643a",
   "metadata": {},
   "outputs": [
    {
     "name": "stdout",
     "output_type": "stream",
     "text": [
      "delete 4 ok!\n"
     ]
    }
   ],
   "source": [
    "# 데이터의 삭제 : 행단위 삭제\n",
    "# sql = delete from 테이블이름 where 조건식\n",
    "\n",
    "conn = sqlite3.connect('first.db')\n",
    "cursor = conn.cursor()\n",
    "sql_delete = 'delete from user where id=?'\n",
    "cursor.execute(sql_delete, (4,))\n",
    "conn.commit()\n",
    "print('delete 4 ok!')\n",
    "conn.close()\n"
   ]
  }
 ],
 "metadata": {
  "kernelspec": {
   "display_name": ".venv",
   "language": "python",
   "name": "python3"
  },
  "language_info": {
   "codemirror_mode": {
    "name": "ipython",
    "version": 3
   },
   "file_extension": ".py",
   "mimetype": "text/x-python",
   "name": "python",
   "nbconvert_exporter": "python",
   "pygments_lexer": "ipython3",
   "version": "3.13.4"
  }
 },
 "nbformat": 4,
 "nbformat_minor": 5
}
